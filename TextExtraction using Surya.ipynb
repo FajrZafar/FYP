{
 "cells": [
  {
   "cell_type": "markdown",
   "id": "d238e155-70bf-4e63-ba2f-ad19ff42158e",
   "metadata": {},
   "source": [
    "### Text Extraction code for a single textbook page (a png)"
   ]
  },
  {
   "cell_type": "code",
   "execution_count": null,
   "id": "d1b75ae5-0878-4023-80c0-59ab4cacd7c4",
   "metadata": {},
   "outputs": [],
   "source": [
    "\n",
    "import surya\n",
    "import argparse\n",
    "import json\n",
    "from collections import defaultdict\n",
    "\n",
    "from surya.input.langs import replace_lang_with_code, get_unique_langs\n",
    "from surya.input.load import load_from_folder, load_from_file, load_lang_file\n",
    "from surya.model.detection.segformer import load_model as load_detection_model, load_processor as load_detection_processor\n",
    "from surya.model.recognition.model import load_model as load_recognition_model\n",
    "from surya.model.recognition.processor import load_processor as load_recognition_processor\n",
    "from surya.model.recognition.tokenizer import _tokenize\n",
    "from surya.ocr import run_ocr\n",
    "from surya.postprocessing.text import draw_text_on_image\n",
    "from surya.settings import settings\n",
    "import os\n",
    "\n",
    "def main(input_path,\n",
    "    results_dir,\n",
    "    lang_file=None,\n",
    "    langs='hi,en',\n",
    "    max=None,\n",
    "    start_page=None,\n",
    "    images=False):\n",
    "\n",
    "    if os.path.isdir(input_path):\n",
    "        images, names = load_from_folder(input_path, max, start_page)\n",
    "        folder_name = os.path.basename(input_path)\n",
    "    else:\n",
    "        images, names = load_from_file(input_path, max, start_page)\n",
    "        folder_name = os.path.basename(input_path).split(\".\")[0]\n",
    "\n",
    "    if lang_file:\n",
    "        # We got all of our language settings from a file\n",
    "        langs = load_lang_file(lang_file, names) \n",
    "        for lang in langs:\n",
    "            replace_lang_with_code(lang)\n",
    "        image_langs = langs\n",
    "    else:\n",
    "        # We got our language settings from the input\n",
    "        langs = langs.split(\",\")\n",
    "        replace_lang_with_code(langs)\n",
    "        image_langs = [langs] * len(images)\n",
    "\n",
    "    det_processor = load_detection_processor()\n",
    "    det_model = load_detection_model()\n",
    "\n",
    "    _, lang_tokens = _tokenize(\"\", get_unique_langs(image_langs))\n",
    "    rec_model = load_recognition_model(langs=lang_tokens) # Prune model moe layer to only include languages we need\n",
    "    rec_processor = load_recognition_processor()\n",
    "\n",
    "    result_path = os.path.join(results_dir, folder_name)\n",
    "    os.makedirs(result_path, exist_ok=True)\n",
    "\n",
    "    predictions_by_image = run_ocr(images, image_langs, det_model, det_processor, rec_model, rec_processor)\n",
    "\n",
    "    if images:\n",
    "        for idx, (name, image, pred, langs) in enumerate(zip(names, images, predictions_by_image, image_langs)):\n",
    "            bboxes = [l.bbox for l in pred.text_lines]\n",
    "            pred_text = [l.text for l in pred.text_lines]\n",
    "            page_image = draw_text_on_image(bboxes, pred_text, image.size, langs, has_math=\"_math\" in langs)\n",
    "            page_image.save(f'./temp{idx}.jpg')\n",
    "            page_image.save(os.path.join(result_path, f\"{name}_{idx}_text.png\"))\n",
    "\n",
    "        out_preds = defaultdict(list)\n",
    "        for name, pred, image in zip(names, predictions_by_image, images):\n",
    "            out_pred = pred.model_dump()\n",
    "            out_pred[\"page\"] = len(out_preds[name]) + 1\n",
    "            out_preds[name].append(out_pred)\n",
    "\n",
    "        with open(os.path.join(result_path, \"results.json\"), \"w+\", encoding=\"utf-8\") as f:\n",
    "            json.dump(out_preds, f, ensure_ascii=False)\n",
    "\n",
    "        print(f\"Wrote results to {result_path}\")\n",
    "\n",
    "        # from PIL import Image, ImageDraw\n",
    "        # indices = []\n",
    "        # prev = -1\n",
    "        # for idx in range(0, len(out_preds['img6'][0]['text_lines'])):\n",
    "        #     x_axis = out_preds['img6'][0]['text_lines'][idx]['polygon'][0][0]\n",
    "            \n",
    "        #     if prev != -1:\n",
    "        #         if x_axis > (prev + 5):\n",
    "        #             indices.append(idx)\n",
    "            \n",
    "        #     prev = x_axis\n",
    "            \n",
    "        # str = ''\n",
    "        # for idx in range(0, len(out_preds['img6'][0]['text_lines'])):\n",
    "        #     if idx not in indices:\n",
    "        #         str = str + out_preds['img6'][0]['text_lines'][idx]['text'] + ' '\n",
    "        # print(str)\n",
    "        \n",
    "\n",
    "\n",
    "if __name__ == \"__main__\":\n",
    "    input_path = '/Users/fajrzafar/Documents/Semester 8 /FYP 1/Books PNGS/FED2/page_4.png'\n",
    "    results_dir = '/Users/fajrzafar/Documents/Semester 8 /FYP 1'\n",
    "    main(input_path, results_dir)"
   ]
  },
  {
   "cell_type": "markdown",
   "id": "a0ff116f-50bd-4cd4-a503-5c01b21eea0e",
   "metadata": {},
   "source": [
    "### Text Extraction code for Grade 1 federal book (all pages)"
   ]
  },
  {
   "cell_type": "code",
   "execution_count": 1,
   "id": "d529801c-351a-46ff-8456-c0f992033cbe",
   "metadata": {},
   "outputs": [
    {
     "name": "stdout",
     "output_type": "stream",
     "text": [
      "Loading detection model vikp/surya_det2 on device cpu with dtype torch.float32\n",
      "Loading recognition model vikp/surya_rec on device mps with dtype torch.float16\n"
     ]
    },
    {
     "name": "stderr",
     "output_type": "stream",
     "text": [
      "Detecting bboxes: 100%|███████████████████████████| 1/1 [00:24<00:00, 24.96s/it]\n",
      "Recognizing Text:   0%|                                   | 0/1 [00:00<?, ?it/s]/Library/Frameworks/Python.framework/Versions/3.11/lib/python3.11/site-packages/transformers/generation/utils.py:1518: UserWarning: You have modified the pretrained model configuration to control generation. This is a deprecated strategy to control generation and will be removed soon, in a future version. Please use and modify the model generation configuration (see https://huggingface.co/docs/transformers/generation_strategies#default-text-generation-configuration )\n",
      "  warnings.warn(\n",
      "Recognizing Text: 100%|███████████████████████████| 1/1 [00:16<00:00, 16.05s/it]\n"
     ]
    },
    {
     "name": "stdout",
     "output_type": "stream",
     "text": [
      "Wrote results to /Users/fajrzafar/Documents/Semester 8 /FYP 1/Extracted_Text/FED1/page_2\n",
      "Loading detection model vikp/surya_det2 on device cpu with dtype torch.float32\n",
      "Loading recognition model vikp/surya_rec on device mps with dtype torch.float16\n"
     ]
    },
    {
     "name": "stderr",
     "output_type": "stream",
     "text": [
      "Detecting bboxes: 100%|███████████████████████████| 1/1 [00:29<00:00, 29.82s/it]\n",
      "Recognizing Text: 100%|███████████████████████████| 1/1 [00:25<00:00, 25.23s/it]\n"
     ]
    },
    {
     "name": "stdout",
     "output_type": "stream",
     "text": [
      "Wrote results to /Users/fajrzafar/Documents/Semester 8 /FYP 1/Extracted_Text/FED1/page_3\n",
      "Loading detection model vikp/surya_det2 on device cpu with dtype torch.float32\n",
      "Loading recognition model vikp/surya_rec on device mps with dtype torch.float16\n"
     ]
    },
    {
     "name": "stderr",
     "output_type": "stream",
     "text": [
      "Detecting bboxes: 100%|███████████████████████████| 1/1 [00:27<00:00, 27.70s/it]\n",
      "Recognizing Text: 100%|███████████████████████████| 1/1 [00:33<00:00, 33.85s/it]\n"
     ]
    },
    {
     "name": "stdout",
     "output_type": "stream",
     "text": [
      "Wrote results to /Users/fajrzafar/Documents/Semester 8 /FYP 1/Extracted_Text/FED1/page_1\n",
      "Loading detection model vikp/surya_det2 on device cpu with dtype torch.float32\n",
      "Loading recognition model vikp/surya_rec on device mps with dtype torch.float16\n"
     ]
    },
    {
     "name": "stderr",
     "output_type": "stream",
     "text": [
      "Detecting bboxes: 100%|███████████████████████████| 1/1 [00:27<00:00, 27.42s/it]\n",
      "Recognizing Text: 100%|███████████████████████████| 1/1 [00:31<00:00, 31.87s/it]\n"
     ]
    },
    {
     "name": "stdout",
     "output_type": "stream",
     "text": [
      "Wrote results to /Users/fajrzafar/Documents/Semester 8 /FYP 1/Extracted_Text/FED1/page_4\n",
      "Loading detection model vikp/surya_det2 on device cpu with dtype torch.float32\n",
      "Loading recognition model vikp/surya_rec on device mps with dtype torch.float16\n"
     ]
    },
    {
     "name": "stderr",
     "output_type": "stream",
     "text": [
      "Detecting bboxes: 100%|███████████████████████████| 1/1 [00:27<00:00, 27.73s/it]\n",
      "Recognizing Text: 100%|███████████████████████████| 1/1 [00:47<00:00, 47.25s/it]\n"
     ]
    },
    {
     "name": "stdout",
     "output_type": "stream",
     "text": [
      "Wrote results to /Users/fajrzafar/Documents/Semester 8 /FYP 1/Extracted_Text/FED1/page_5\n",
      "Loading detection model vikp/surya_det2 on device cpu with dtype torch.float32\n",
      "Loading recognition model vikp/surya_rec on device mps with dtype torch.float16\n"
     ]
    },
    {
     "name": "stderr",
     "output_type": "stream",
     "text": [
      "Detecting bboxes: 100%|███████████████████████████| 1/1 [00:26<00:00, 26.77s/it]\n",
      "Recognizing Text: 100%|██████████████████████████| 1/1 [01:59<00:00, 119.20s/it]\n"
     ]
    },
    {
     "name": "stdout",
     "output_type": "stream",
     "text": [
      "Wrote results to /Users/fajrzafar/Documents/Semester 8 /FYP 1/Extracted_Text/FED1/page_7\n",
      "Loading detection model vikp/surya_det2 on device cpu with dtype torch.float32\n",
      "Loading recognition model vikp/surya_rec on device mps with dtype torch.float16\n"
     ]
    },
    {
     "name": "stderr",
     "output_type": "stream",
     "text": [
      "Detecting bboxes: 100%|███████████████████████████| 1/1 [00:28<00:00, 28.41s/it]\n",
      "Recognizing Text: 100%|███████████████████████████| 1/1 [01:03<00:00, 63.21s/it]\n"
     ]
    },
    {
     "name": "stdout",
     "output_type": "stream",
     "text": [
      "Wrote results to /Users/fajrzafar/Documents/Semester 8 /FYP 1/Extracted_Text/FED1/page_6\n",
      "Loading detection model vikp/surya_det2 on device cpu with dtype torch.float32\n",
      "Loading recognition model vikp/surya_rec on device mps with dtype torch.float16\n"
     ]
    },
    {
     "name": "stderr",
     "output_type": "stream",
     "text": [
      "Detecting bboxes: 100%|███████████████████████████| 1/1 [00:26<00:00, 26.92s/it]\n",
      "Recognizing Text: 100%|██████████████████████████| 1/1 [04:09<00:00, 249.33s/it]\n"
     ]
    },
    {
     "name": "stdout",
     "output_type": "stream",
     "text": [
      "Wrote results to /Users/fajrzafar/Documents/Semester 8 /FYP 1/Extracted_Text/FED1/page_10\n",
      "Loading detection model vikp/surya_det2 on device cpu with dtype torch.float32\n",
      "Loading recognition model vikp/surya_rec on device mps with dtype torch.float16\n"
     ]
    },
    {
     "name": "stderr",
     "output_type": "stream",
     "text": [
      "Detecting bboxes: 100%|███████████████████████████| 1/1 [00:26<00:00, 26.14s/it]\n",
      "Recognizing Text: 100%|██████████████████████████| 1/1 [02:08<00:00, 128.23s/it]\n"
     ]
    },
    {
     "name": "stdout",
     "output_type": "stream",
     "text": [
      "Wrote results to /Users/fajrzafar/Documents/Semester 8 /FYP 1/Extracted_Text/FED1/page_11\n",
      "Loading detection model vikp/surya_det2 on device cpu with dtype torch.float32\n",
      "Loading recognition model vikp/surya_rec on device mps with dtype torch.float16\n"
     ]
    },
    {
     "name": "stderr",
     "output_type": "stream",
     "text": [
      "Detecting bboxes: 100%|███████████████████████████| 1/1 [00:25<00:00, 25.99s/it]\n",
      "Recognizing Text: 100%|███████████████████████████| 1/1 [01:19<00:00, 79.10s/it]\n"
     ]
    },
    {
     "name": "stdout",
     "output_type": "stream",
     "text": [
      "Wrote results to /Users/fajrzafar/Documents/Semester 8 /FYP 1/Extracted_Text/FED1/page_13\n",
      "Loading detection model vikp/surya_det2 on device cpu with dtype torch.float32\n",
      "Loading recognition model vikp/surya_rec on device mps with dtype torch.float16\n"
     ]
    },
    {
     "name": "stderr",
     "output_type": "stream",
     "text": [
      "Detecting bboxes: 100%|███████████████████████████| 1/1 [00:26<00:00, 26.92s/it]\n",
      "Recognizing Text: 100%|███████████████████████████| 1/1 [01:33<00:00, 93.82s/it]\n"
     ]
    },
    {
     "name": "stdout",
     "output_type": "stream",
     "text": [
      "Wrote results to /Users/fajrzafar/Documents/Semester 8 /FYP 1/Extracted_Text/FED1/page_12\n",
      "Loading detection model vikp/surya_det2 on device cpu with dtype torch.float32\n",
      "Loading recognition model vikp/surya_rec on device mps with dtype torch.float16\n"
     ]
    },
    {
     "name": "stderr",
     "output_type": "stream",
     "text": [
      "Detecting bboxes: 100%|███████████████████████████| 1/1 [00:26<00:00, 26.67s/it]\n",
      "Recognizing Text: 100%|███████████████████████████| 1/1 [01:33<00:00, 93.34s/it]\n"
     ]
    },
    {
     "name": "stdout",
     "output_type": "stream",
     "text": [
      "Wrote results to /Users/fajrzafar/Documents/Semester 8 /FYP 1/Extracted_Text/FED1/page_14\n",
      "Loading detection model vikp/surya_det2 on device cpu with dtype torch.float32\n",
      "Loading recognition model vikp/surya_rec on device mps with dtype torch.float16\n"
     ]
    },
    {
     "name": "stderr",
     "output_type": "stream",
     "text": [
      "Detecting bboxes: 100%|███████████████████████████| 1/1 [00:26<00:00, 26.55s/it]\n",
      "Recognizing Text: 100%|███████████████████████████| 1/1 [00:54<00:00, 54.29s/it]\n"
     ]
    },
    {
     "name": "stdout",
     "output_type": "stream",
     "text": [
      "Wrote results to /Users/fajrzafar/Documents/Semester 8 /FYP 1/Extracted_Text/FED1/page_8\n",
      "Loading detection model vikp/surya_det2 on device cpu with dtype torch.float32\n",
      "Loading recognition model vikp/surya_rec on device mps with dtype torch.float16\n"
     ]
    },
    {
     "name": "stderr",
     "output_type": "stream",
     "text": [
      "Detecting bboxes: 100%|███████████████████████████| 1/1 [00:27<00:00, 27.59s/it]\n",
      "Recognizing Text: 100%|██████████████████████████| 1/1 [02:07<00:00, 127.54s/it]\n"
     ]
    },
    {
     "name": "stdout",
     "output_type": "stream",
     "text": [
      "Wrote results to /Users/fajrzafar/Documents/Semester 8 /FYP 1/Extracted_Text/FED1/page_9\n"
     ]
    }
   ],
   "source": [
    "import argparse\n",
    "import json\n",
    "from collections import defaultdict\n",
    "\n",
    "from surya.input.langs import replace_lang_with_code, get_unique_langs\n",
    "from surya.input.load import load_from_folder, load_from_file, load_lang_file\n",
    "from surya.model.detection.segformer import load_model as load_detection_model, load_processor as load_detection_processor\n",
    "from surya.model.recognition.model import load_model as load_recognition_model\n",
    "from surya.model.recognition.processor import load_processor as load_recognition_processor\n",
    "from surya.model.recognition.tokenizer import _tokenize\n",
    "from surya.ocr import run_ocr\n",
    "from surya.postprocessing.text import draw_text_on_image\n",
    "from surya.settings import settings\n",
    "import os\n",
    "import csv \n",
    "\n",
    "\n",
    "\n",
    "def process_folder(input_folder, results_dir):\n",
    "    # Get a list of all PNG files in the folder\n",
    "    png_files = [f for f in os.listdir(input_folder) if f.endswith('.png')]\n",
    "\n",
    "    for png_file in png_files:\n",
    "        # Construct the full path to the PNG file\n",
    "        png_path = os.path.join(input_folder, png_file)\n",
    "\n",
    "        # Call the main function for each PNG file\n",
    "        main(png_path, results_dir)\n",
    "\n",
    "\n",
    "def main(input_path,\n",
    "    results_dir,\n",
    "    lang_file=None,\n",
    "    langs='hi,en',\n",
    "    max=None,\n",
    "    start_page=None,\n",
    "    images=False):\n",
    "\n",
    "    if os.path.isdir(input_path):\n",
    "        images, names = load_from_folder(input_path, max, start_page)\n",
    "        folder_name = os.path.basename(input_path)\n",
    "    else:\n",
    "        images, names = load_from_file(input_path, max, start_page)\n",
    "        folder_name = os.path.basename(input_path).split(\".\")[0]\n",
    "\n",
    "    if lang_file:\n",
    "        # We got all of our language settings from a file\n",
    "        langs = load_lang_file(lang_file, names) \n",
    "        for lang in langs:\n",
    "            replace_lang_with_code(lang)\n",
    "        image_langs = langs\n",
    "    else:\n",
    "        # We got our language settings from the input\n",
    "        langs = langs.split(\",\")\n",
    "        replace_lang_with_code(langs)\n",
    "        image_langs = [langs] * len(images)\n",
    "\n",
    "    det_processor = load_detection_processor()\n",
    "    det_model = load_detection_model()\n",
    "\n",
    "    _, lang_tokens = _tokenize(\"\", get_unique_langs(image_langs))\n",
    "    rec_model = load_recognition_model(langs=lang_tokens) # Prune model moe layer to only include languages we need\n",
    "    rec_processor = load_recognition_processor()\n",
    "\n",
    "    result_path = os.path.join(results_dir, folder_name)\n",
    "    os.makedirs(result_path, exist_ok=True)\n",
    "\n",
    "    predictions_by_image = run_ocr(images, image_langs, det_model, det_processor, rec_model, rec_processor)\n",
    "\n",
    "    if images:\n",
    "        for idx, (name, image, pred, langs) in enumerate(zip(names, images, predictions_by_image, image_langs)):\n",
    "            bboxes = [l.bbox for l in pred.text_lines]\n",
    "            pred_text = [l.text for l in pred.text_lines]\n",
    "            page_image = draw_text_on_image(bboxes, pred_text, image.size, langs, has_math=\"_math\" in langs)\n",
    "            page_image.save(f'./temp{idx}.jpg')\n",
    "            page_image.save(os.path.join(result_path, f\"{name}_{idx}_text.png\"))\n",
    "\n",
    "             # Save text to CSV file\n",
    "            csv_file_path = os.path.join(result_path, f\"{name}_{idx}_text.csv\")\n",
    "            with open(csv_file_path, 'w', newline='', encoding='utf-8') as csv_file:\n",
    "                writer = csv.writer(csv_file)\n",
    "                writer.writerow(['Text'])\n",
    "                for line in pred_text:\n",
    "                    writer.writerow([line])\n",
    "\n",
    "\n",
    "        out_preds = defaultdict(list)\n",
    "        for name, pred, image in zip(names, predictions_by_image, images):\n",
    "            out_pred = pred.model_dump()\n",
    "            out_pred[\"page\"] = len(out_preds[name]) + 1\n",
    "            out_preds[name].append(out_pred)\n",
    "\n",
    "        with open(os.path.join(result_path, \"results.json\"), \"w+\", encoding=\"utf-8\") as f:\n",
    "            json.dump(out_preds, f, ensure_ascii=False)\n",
    "\n",
    "        print(f\"Wrote results to {result_path}\")\n",
    "\n",
    "        # from PIL import Image, ImageDraw\n",
    "        # indices = []\n",
    "        # prev = -1\n",
    "        # for idx in range(len(preds['text_lines'])):\n",
    "        #     x_axis = preds['text_lines'][idx]['polygon'][0][0]\n",
    "        #     if prev != -1 and x_axis > (prev + 5):\n",
    "        #         indices.append(idx)\n",
    "        #     prev = x_axis\n",
    "            \n",
    "        # text = ''\n",
    "        # for idx in range(len(preds['text_lines'])):\n",
    "        #     if idx not in indices:\n",
    "        #         text += preds['text_lines'][idx]['text'] + ' '\n",
    "\n",
    "        # print(f\"Text for page {page_idx + 1}: {text}\")\n",
    "        \n",
    "\n",
    "\n",
    "if __name__ == \"__main__\":\n",
    "     input_folder = '/Users/fajrzafar/Documents/Semester 8 /FYP 1/Books PNGS/FED1'\n",
    "     results_dir = '/Users/fajrzafar/Documents/Semester 8 /FYP 1/Extracted_Text/FED1'\n",
    "     process_folder(input_folder, results_dir)"
   ]
  },
  {
   "cell_type": "markdown",
   "id": "dd368ab9-c499-47f0-bd5a-cd18f30b6782",
   "metadata": {},
   "source": [
    "### Text Extraction code for Grade 2 federal book (all pages)"
   ]
  },
  {
   "cell_type": "code",
   "execution_count": 2,
   "id": "676ed1a6-9c87-40f3-a425-b94a13a2000f",
   "metadata": {},
   "outputs": [
    {
     "name": "stdout",
     "output_type": "stream",
     "text": [
      "Loading detection model vikp/surya_det2 on device cpu with dtype torch.float32\n",
      "Loading recognition model vikp/surya_rec on device mps with dtype torch.float16\n"
     ]
    },
    {
     "name": "stderr",
     "output_type": "stream",
     "text": [
      "Detecting bboxes: 100%|███████████████████████████| 1/1 [00:24<00:00, 24.60s/it]\n",
      "Recognizing Text: 100%|███████████████████████████| 1/1 [00:33<00:00, 33.62s/it]\n"
     ]
    },
    {
     "name": "stdout",
     "output_type": "stream",
     "text": [
      "Wrote results to /Users/fajrzafar/Documents/Semester 8 /FYP 1/Extracted_Text/FED2/page_2\n",
      "Loading detection model vikp/surya_det2 on device cpu with dtype torch.float32\n",
      "Loading recognition model vikp/surya_rec on device mps with dtype torch.float16\n"
     ]
    },
    {
     "name": "stderr",
     "output_type": "stream",
     "text": [
      "Detecting bboxes: 100%|███████████████████████████| 1/1 [00:25<00:00, 25.49s/it]\n",
      "Recognizing Text: 100%|███████████████████████████| 1/1 [00:43<00:00, 43.33s/it]\n"
     ]
    },
    {
     "name": "stdout",
     "output_type": "stream",
     "text": [
      "Wrote results to /Users/fajrzafar/Documents/Semester 8 /FYP 1/Extracted_Text/FED2/page_3\n",
      "Loading detection model vikp/surya_det2 on device cpu with dtype torch.float32\n",
      "Loading recognition model vikp/surya_rec on device mps with dtype torch.float16\n"
     ]
    },
    {
     "name": "stderr",
     "output_type": "stream",
     "text": [
      "Detecting bboxes: 100%|███████████████████████████| 1/1 [00:25<00:00, 25.70s/it]\n",
      "Recognizing Text: 100%|██████████████████████████| 1/1 [01:41<00:00, 101.68s/it]\n"
     ]
    },
    {
     "name": "stdout",
     "output_type": "stream",
     "text": [
      "Wrote results to /Users/fajrzafar/Documents/Semester 8 /FYP 1/Extracted_Text/FED2/page_1\n",
      "Loading detection model vikp/surya_det2 on device cpu with dtype torch.float32\n",
      "Loading recognition model vikp/surya_rec on device mps with dtype torch.float16\n"
     ]
    },
    {
     "name": "stderr",
     "output_type": "stream",
     "text": [
      "Detecting bboxes: 100%|███████████████████████████| 1/1 [00:25<00:00, 25.83s/it]\n",
      "Recognizing Text: 100%|██████████████████████████| 1/1 [02:50<00:00, 170.65s/it]\n"
     ]
    },
    {
     "name": "stdout",
     "output_type": "stream",
     "text": [
      "Wrote results to /Users/fajrzafar/Documents/Semester 8 /FYP 1/Extracted_Text/FED2/page_4\n",
      "Loading detection model vikp/surya_det2 on device cpu with dtype torch.float32\n",
      "Loading recognition model vikp/surya_rec on device mps with dtype torch.float16\n"
     ]
    },
    {
     "name": "stderr",
     "output_type": "stream",
     "text": [
      "Detecting bboxes: 100%|███████████████████████████| 1/1 [00:25<00:00, 25.84s/it]\n",
      "Recognizing Text: 100%|██████████████████████████| 1/1 [05:03<00:00, 303.55s/it]\n"
     ]
    },
    {
     "name": "stdout",
     "output_type": "stream",
     "text": [
      "Wrote results to /Users/fajrzafar/Documents/Semester 8 /FYP 1/Extracted_Text/FED2/page_5\n",
      "Loading detection model vikp/surya_det2 on device cpu with dtype torch.float32\n",
      "Loading recognition model vikp/surya_rec on device mps with dtype torch.float16\n"
     ]
    },
    {
     "name": "stderr",
     "output_type": "stream",
     "text": [
      "Detecting bboxes: 100%|███████████████████████████| 1/1 [00:27<00:00, 27.05s/it]\n",
      "Recognizing Text: 100%|███████████████████████████| 1/1 [01:10<00:00, 70.93s/it]\n"
     ]
    },
    {
     "name": "stdout",
     "output_type": "stream",
     "text": [
      "Wrote results to /Users/fajrzafar/Documents/Semester 8 /FYP 1/Extracted_Text/FED2/page_7\n",
      "Loading detection model vikp/surya_det2 on device cpu with dtype torch.float32\n",
      "Loading recognition model vikp/surya_rec on device mps with dtype torch.float16\n"
     ]
    },
    {
     "name": "stderr",
     "output_type": "stream",
     "text": [
      "Detecting bboxes: 100%|███████████████████████████| 1/1 [00:26<00:00, 26.44s/it]\n",
      "Recognizing Text: 100%|███████████████████████████| 1/1 [00:53<00:00, 53.20s/it]\n"
     ]
    },
    {
     "name": "stdout",
     "output_type": "stream",
     "text": [
      "Wrote results to /Users/fajrzafar/Documents/Semester 8 /FYP 1/Extracted_Text/FED2/page_6\n",
      "Loading detection model vikp/surya_det2 on device cpu with dtype torch.float32\n",
      "Loading recognition model vikp/surya_rec on device mps with dtype torch.float16\n"
     ]
    },
    {
     "name": "stderr",
     "output_type": "stream",
     "text": [
      "Detecting bboxes: 100%|███████████████████████████| 1/1 [00:26<00:00, 26.80s/it]\n",
      "Recognizing Text: 100%|███████████████████████████| 1/1 [00:29<00:00, 29.61s/it]\n"
     ]
    },
    {
     "name": "stdout",
     "output_type": "stream",
     "text": [
      "Wrote results to /Users/fajrzafar/Documents/Semester 8 /FYP 1/Extracted_Text/FED2/page_10\n",
      "Loading detection model vikp/surya_det2 on device cpu with dtype torch.float32\n",
      "Loading recognition model vikp/surya_rec on device mps with dtype torch.float16\n"
     ]
    },
    {
     "name": "stderr",
     "output_type": "stream",
     "text": [
      "Detecting bboxes: 100%|███████████████████████████| 1/1 [00:26<00:00, 26.74s/it]\n",
      "Recognizing Text: 100%|██████████████████████████| 1/1 [02:26<00:00, 146.48s/it]\n"
     ]
    },
    {
     "name": "stdout",
     "output_type": "stream",
     "text": [
      "Wrote results to /Users/fajrzafar/Documents/Semester 8 /FYP 1/Extracted_Text/FED2/page_11\n",
      "Loading detection model vikp/surya_det2 on device cpu with dtype torch.float32\n",
      "Loading recognition model vikp/surya_rec on device mps with dtype torch.float16\n"
     ]
    },
    {
     "name": "stderr",
     "output_type": "stream",
     "text": [
      "Detecting bboxes: 100%|███████████████████████████| 1/1 [00:26<00:00, 26.43s/it]\n",
      "Recognizing Text: 100%|███████████████████████████| 1/1 [01:27<00:00, 87.83s/it]\n"
     ]
    },
    {
     "name": "stdout",
     "output_type": "stream",
     "text": [
      "Wrote results to /Users/fajrzafar/Documents/Semester 8 /FYP 1/Extracted_Text/FED2/page_13\n",
      "Loading detection model vikp/surya_det2 on device cpu with dtype torch.float32\n",
      "Loading recognition model vikp/surya_rec on device mps with dtype torch.float16\n"
     ]
    },
    {
     "name": "stderr",
     "output_type": "stream",
     "text": [
      "Detecting bboxes: 100%|███████████████████████████| 1/1 [00:26<00:00, 26.31s/it]\n",
      "Recognizing Text: 100%|██████████████████████████| 1/1 [02:36<00:00, 156.24s/it]\n"
     ]
    },
    {
     "name": "stdout",
     "output_type": "stream",
     "text": [
      "Wrote results to /Users/fajrzafar/Documents/Semester 8 /FYP 1/Extracted_Text/FED2/page_12\n",
      "Loading detection model vikp/surya_det2 on device cpu with dtype torch.float32\n",
      "Loading recognition model vikp/surya_rec on device mps with dtype torch.float16\n"
     ]
    },
    {
     "name": "stderr",
     "output_type": "stream",
     "text": [
      "Detecting bboxes: 100%|███████████████████████████| 1/1 [00:27<00:00, 27.38s/it]\n",
      "Recognizing Text: 100%|███████████████████████████| 1/1 [00:44<00:00, 44.55s/it]\n"
     ]
    },
    {
     "name": "stdout",
     "output_type": "stream",
     "text": [
      "Wrote results to /Users/fajrzafar/Documents/Semester 8 /FYP 1/Extracted_Text/FED2/page_8\n",
      "Loading detection model vikp/surya_det2 on device cpu with dtype torch.float32\n",
      "Loading recognition model vikp/surya_rec on device mps with dtype torch.float16\n"
     ]
    },
    {
     "name": "stderr",
     "output_type": "stream",
     "text": [
      "Detecting bboxes: 100%|███████████████████████████| 1/1 [00:29<00:00, 29.90s/it]\n",
      "Recognizing Text: 100%|███████████████████████████| 1/1 [00:24<00:00, 24.35s/it]\n"
     ]
    },
    {
     "name": "stdout",
     "output_type": "stream",
     "text": [
      "Wrote results to /Users/fajrzafar/Documents/Semester 8 /FYP 1/Extracted_Text/FED2/page_9\n"
     ]
    }
   ],
   "source": [
    "import argparse\n",
    "import json\n",
    "from collections import defaultdict\n",
    "\n",
    "from surya.input.langs import replace_lang_with_code, get_unique_langs\n",
    "from surya.input.load import load_from_folder, load_from_file, load_lang_file\n",
    "from surya.model.detection.segformer import load_model as load_detection_model, load_processor as load_detection_processor\n",
    "from surya.model.recognition.model import load_model as load_recognition_model\n",
    "from surya.model.recognition.processor import load_processor as load_recognition_processor\n",
    "from surya.model.recognition.tokenizer import _tokenize\n",
    "from surya.ocr import run_ocr\n",
    "from surya.postprocessing.text import draw_text_on_image\n",
    "from surya.settings import settings\n",
    "import os\n",
    "import csv \n",
    "\n",
    "\n",
    "\n",
    "def process_folder(input_folder, results_dir):\n",
    "    # Get a list of all PNG files in the folder\n",
    "    png_files = [f for f in os.listdir(input_folder) if f.endswith('.png')]\n",
    "\n",
    "    for png_file in png_files:\n",
    "        # Construct the full path to the PNG file\n",
    "        png_path = os.path.join(input_folder, png_file)\n",
    "\n",
    "        # Call the main function for each PNG file\n",
    "        main(png_path, results_dir)\n",
    "\n",
    "\n",
    "def main(input_path,\n",
    "    results_dir,\n",
    "    lang_file=None,\n",
    "    langs='hi,en',\n",
    "    max=None,\n",
    "    start_page=None,\n",
    "    images=False):\n",
    "\n",
    "    if os.path.isdir(input_path):\n",
    "        images, names = load_from_folder(input_path, max, start_page)\n",
    "        folder_name = os.path.basename(input_path)\n",
    "    else:\n",
    "        images, names = load_from_file(input_path, max, start_page)\n",
    "        folder_name = os.path.basename(input_path).split(\".\")[0]\n",
    "\n",
    "    if lang_file:\n",
    "        # We got all of our language settings from a file\n",
    "        langs = load_lang_file(lang_file, names) \n",
    "        for lang in langs:\n",
    "            replace_lang_with_code(lang)\n",
    "        image_langs = langs\n",
    "    else:\n",
    "        # We got our language settings from the input\n",
    "        langs = langs.split(\",\")\n",
    "        replace_lang_with_code(langs)\n",
    "        image_langs = [langs] * len(images)\n",
    "\n",
    "    det_processor = load_detection_processor()\n",
    "    det_model = load_detection_model()\n",
    "\n",
    "    _, lang_tokens = _tokenize(\"\", get_unique_langs(image_langs))\n",
    "    rec_model = load_recognition_model(langs=lang_tokens) # Prune model moe layer to only include languages we need\n",
    "    rec_processor = load_recognition_processor()\n",
    "\n",
    "    result_path = os.path.join(results_dir, folder_name)\n",
    "    os.makedirs(result_path, exist_ok=True)\n",
    "\n",
    "    predictions_by_image = run_ocr(images, image_langs, det_model, det_processor, rec_model, rec_processor)\n",
    "\n",
    "    if images:\n",
    "        for idx, (name, image, pred, langs) in enumerate(zip(names, images, predictions_by_image, image_langs)):\n",
    "            bboxes = [l.bbox for l in pred.text_lines]\n",
    "            pred_text = [l.text for l in pred.text_lines]\n",
    "            page_image = draw_text_on_image(bboxes, pred_text, image.size, langs, has_math=\"_math\" in langs)\n",
    "            page_image.save(f'./temp{idx}.jpg')\n",
    "            page_image.save(os.path.join(result_path, f\"{name}_{idx}_text.png\"))\n",
    "\n",
    "             # Save text to CSV file\n",
    "            csv_file_path = os.path.join(result_path, f\"{name}_{idx}_text.csv\")\n",
    "            with open(csv_file_path, 'w', newline='', encoding='utf-8') as csv_file:\n",
    "                writer = csv.writer(csv_file)\n",
    "                writer.writerow(['Text'])\n",
    "                for line in pred_text:\n",
    "                    writer.writerow([line])\n",
    "\n",
    "\n",
    "        out_preds = defaultdict(list)\n",
    "        for name, pred, image in zip(names, predictions_by_image, images):\n",
    "            out_pred = pred.model_dump()\n",
    "            out_pred[\"page\"] = len(out_preds[name]) + 1\n",
    "            out_preds[name].append(out_pred)\n",
    "\n",
    "        with open(os.path.join(result_path, \"results.json\"), \"w+\", encoding=\"utf-8\") as f:\n",
    "            json.dump(out_preds, f, ensure_ascii=False)\n",
    "\n",
    "        print(f\"Wrote results to {result_path}\")\n",
    "\n",
    "        # from PIL import Image, ImageDraw\n",
    "        # indices = []\n",
    "        # prev = -1\n",
    "        # for idx in range(len(preds['text_lines'])):\n",
    "        #     x_axis = preds['text_lines'][idx]['polygon'][0][0]\n",
    "        #     if prev != -1 and x_axis > (prev + 5):\n",
    "        #         indices.append(idx)\n",
    "        #     prev = x_axis\n",
    "            \n",
    "        # text = ''\n",
    "        # for idx in range(len(preds['text_lines'])):\n",
    "        #     if idx not in indices:\n",
    "        #         text += preds['text_lines'][idx]['text'] + ' '\n",
    "\n",
    "        # print(f\"Text for page {page_idx + 1}: {text}\")\n",
    "        \n",
    "\n",
    "\n",
    "if __name__ == \"__main__\":\n",
    "     input_folder = '/Users/fajrzafar/Documents/Semester 8 /FYP 1/Books PNGS/FED2'\n",
    "     results_dir = '/Users/fajrzafar/Documents/Semester 8 /FYP 1/Extracted_Text/FED2'\n",
    "     process_folder(input_folder, results_dir)"
   ]
  },
  {
   "cell_type": "markdown",
   "id": "c8f5126c-01dd-4e69-9907-bd0f4e7c736b",
   "metadata": {},
   "source": [
    "### Text Extraction code for Grade 3 federal book (all pages)"
   ]
  },
  {
   "cell_type": "code",
   "execution_count": 3,
   "id": "a00f7e40-16e8-4937-8e51-38ea72042fe7",
   "metadata": {},
   "outputs": [
    {
     "name": "stdout",
     "output_type": "stream",
     "text": [
      "Loading detection model vikp/surya_det2 on device cpu with dtype torch.float32\n",
      "Loading recognition model vikp/surya_rec on device mps with dtype torch.float16\n"
     ]
    },
    {
     "name": "stderr",
     "output_type": "stream",
     "text": [
      "Detecting bboxes: 100%|███████████████████████████| 1/1 [00:28<00:00, 28.23s/it]\n",
      "Recognizing Text: 100%|██████████████████████████| 1/1 [03:46<00:00, 226.78s/it]\n"
     ]
    },
    {
     "name": "stdout",
     "output_type": "stream",
     "text": [
      "Wrote results to /Users/fajrzafar/Documents/Semester 8 /FYP 1/Extracted_Text/FED3/page_2\n",
      "Loading detection model vikp/surya_det2 on device cpu with dtype torch.float32\n",
      "Loading recognition model vikp/surya_rec on device mps with dtype torch.float16\n"
     ]
    },
    {
     "name": "stderr",
     "output_type": "stream",
     "text": [
      "Detecting bboxes: 100%|███████████████████████████| 1/1 [00:25<00:00, 25.65s/it]\n",
      "Recognizing Text: 100%|███████████████████████████| 1/1 [01:17<00:00, 77.31s/it]\n"
     ]
    },
    {
     "name": "stdout",
     "output_type": "stream",
     "text": [
      "Wrote results to /Users/fajrzafar/Documents/Semester 8 /FYP 1/Extracted_Text/FED3/page_3\n",
      "Loading detection model vikp/surya_det2 on device cpu with dtype torch.float32\n",
      "Loading recognition model vikp/surya_rec on device mps with dtype torch.float16\n"
     ]
    },
    {
     "name": "stderr",
     "output_type": "stream",
     "text": [
      "Detecting bboxes: 100%|███████████████████████████| 1/1 [00:26<00:00, 26.24s/it]\n",
      "Recognizing Text: 100%|███████████████████████████| 1/1 [00:41<00:00, 41.54s/it]\n"
     ]
    },
    {
     "name": "stdout",
     "output_type": "stream",
     "text": [
      "Wrote results to /Users/fajrzafar/Documents/Semester 8 /FYP 1/Extracted_Text/FED3/page_1\n",
      "Loading detection model vikp/surya_det2 on device cpu with dtype torch.float32\n",
      "Loading recognition model vikp/surya_rec on device mps with dtype torch.float16\n"
     ]
    },
    {
     "name": "stderr",
     "output_type": "stream",
     "text": [
      "Detecting bboxes: 100%|███████████████████████████| 1/1 [00:26<00:00, 26.90s/it]\n",
      "Recognizing Text: 100%|██████████████████████████| 1/1 [02:54<00:00, 174.03s/it]\n"
     ]
    },
    {
     "name": "stdout",
     "output_type": "stream",
     "text": [
      "Wrote results to /Users/fajrzafar/Documents/Semester 8 /FYP 1/Extracted_Text/FED3/page_4\n",
      "Loading detection model vikp/surya_det2 on device cpu with dtype torch.float32\n",
      "Loading recognition model vikp/surya_rec on device mps with dtype torch.float16\n"
     ]
    },
    {
     "name": "stderr",
     "output_type": "stream",
     "text": [
      "Detecting bboxes: 100%|███████████████████████████| 1/1 [00:26<00:00, 26.43s/it]\n",
      "Recognizing Text: 100%|███████████████████████████| 1/1 [00:36<00:00, 36.96s/it]\n"
     ]
    },
    {
     "name": "stdout",
     "output_type": "stream",
     "text": [
      "Wrote results to /Users/fajrzafar/Documents/Semester 8 /FYP 1/Extracted_Text/FED3/page_5\n",
      "Loading detection model vikp/surya_det2 on device cpu with dtype torch.float32\n",
      "Loading recognition model vikp/surya_rec on device mps with dtype torch.float16\n"
     ]
    },
    {
     "name": "stderr",
     "output_type": "stream",
     "text": [
      "Detecting bboxes: 100%|███████████████████████████| 1/1 [00:26<00:00, 26.19s/it]\n",
      "Recognizing Text: 100%|█████████████████████████| 1/1 [35:27<00:00, 2127.24s/it]\n"
     ]
    },
    {
     "name": "stdout",
     "output_type": "stream",
     "text": [
      "Wrote results to /Users/fajrzafar/Documents/Semester 8 /FYP 1/Extracted_Text/FED3/page_7\n",
      "Loading detection model vikp/surya_det2 on device cpu with dtype torch.float32\n",
      "Loading recognition model vikp/surya_rec on device mps with dtype torch.float16\n"
     ]
    },
    {
     "name": "stderr",
     "output_type": "stream",
     "text": [
      "Detecting bboxes: 100%|███████████████████████████| 1/1 [00:26<00:00, 26.82s/it]\n",
      "Recognizing Text: 100%|██████████████████████████| 1/1 [04:23<00:00, 263.42s/it]\n"
     ]
    },
    {
     "name": "stdout",
     "output_type": "stream",
     "text": [
      "Wrote results to /Users/fajrzafar/Documents/Semester 8 /FYP 1/Extracted_Text/FED3/page_6\n",
      "Loading detection model vikp/surya_det2 on device cpu with dtype torch.float32\n",
      "Loading recognition model vikp/surya_rec on device mps with dtype torch.float16\n"
     ]
    },
    {
     "name": "stderr",
     "output_type": "stream",
     "text": [
      "Detecting bboxes: 100%|███████████████████████████| 1/1 [00:26<00:00, 26.51s/it]\n",
      "Recognizing Text: 100%|███████████████████████████| 1/1 [01:04<00:00, 64.74s/it]\n"
     ]
    },
    {
     "name": "stdout",
     "output_type": "stream",
     "text": [
      "Wrote results to /Users/fajrzafar/Documents/Semester 8 /FYP 1/Extracted_Text/FED3/page_10\n",
      "Loading detection model vikp/surya_det2 on device cpu with dtype torch.float32\n",
      "Loading recognition model vikp/surya_rec on device mps with dtype torch.float16\n"
     ]
    },
    {
     "name": "stderr",
     "output_type": "stream",
     "text": [
      "Detecting bboxes: 100%|███████████████████████████| 1/1 [00:26<00:00, 26.49s/it]\n",
      "Recognizing Text: 100%|███████████████████████████| 1/1 [00:34<00:00, 34.82s/it]\n"
     ]
    },
    {
     "name": "stdout",
     "output_type": "stream",
     "text": [
      "Wrote results to /Users/fajrzafar/Documents/Semester 8 /FYP 1/Extracted_Text/FED3/page_11\n",
      "Loading detection model vikp/surya_det2 on device cpu with dtype torch.float32\n",
      "Loading recognition model vikp/surya_rec on device mps with dtype torch.float16\n"
     ]
    },
    {
     "name": "stderr",
     "output_type": "stream",
     "text": [
      "Detecting bboxes: 100%|███████████████████████████| 1/1 [00:26<00:00, 26.76s/it]\n",
      "Recognizing Text: 100%|██████████████████████████| 1/1 [10:17<00:00, 617.91s/it]\n"
     ]
    },
    {
     "name": "stdout",
     "output_type": "stream",
     "text": [
      "Wrote results to /Users/fajrzafar/Documents/Semester 8 /FYP 1/Extracted_Text/FED3/page_12\n",
      "Loading detection model vikp/surya_det2 on device cpu with dtype torch.float32\n",
      "Loading recognition model vikp/surya_rec on device mps with dtype torch.float16\n"
     ]
    },
    {
     "name": "stderr",
     "output_type": "stream",
     "text": [
      "Detecting bboxes: 100%|███████████████████████████| 1/1 [00:25<00:00, 25.77s/it]\n",
      "Recognizing Text: 100%|██████████████████████████| 1/1 [09:53<00:00, 593.01s/it]\n"
     ]
    },
    {
     "name": "stdout",
     "output_type": "stream",
     "text": [
      "Wrote results to /Users/fajrzafar/Documents/Semester 8 /FYP 1/Extracted_Text/FED3/page_8\n",
      "Loading detection model vikp/surya_det2 on device cpu with dtype torch.float32\n",
      "Loading recognition model vikp/surya_rec on device mps with dtype torch.float16\n"
     ]
    },
    {
     "name": "stderr",
     "output_type": "stream",
     "text": [
      "Detecting bboxes: 100%|███████████████████████████| 1/1 [00:26<00:00, 26.39s/it]\n",
      "Recognizing Text: 100%|███████████████████████████| 1/1 [01:07<00:00, 67.18s/it]\n"
     ]
    },
    {
     "name": "stdout",
     "output_type": "stream",
     "text": [
      "Wrote results to /Users/fajrzafar/Documents/Semester 8 /FYP 1/Extracted_Text/FED3/page_9\n"
     ]
    }
   ],
   "source": [
    "import argparse\n",
    "import json\n",
    "from collections import defaultdict\n",
    "\n",
    "from surya.input.langs import replace_lang_with_code, get_unique_langs\n",
    "from surya.input.load import load_from_folder, load_from_file, load_lang_file\n",
    "from surya.model.detection.segformer import load_model as load_detection_model, load_processor as load_detection_processor\n",
    "from surya.model.recognition.model import load_model as load_recognition_model\n",
    "from surya.model.recognition.processor import load_processor as load_recognition_processor\n",
    "from surya.model.recognition.tokenizer import _tokenize\n",
    "from surya.ocr import run_ocr\n",
    "from surya.postprocessing.text import draw_text_on_image\n",
    "from surya.settings import settings\n",
    "import os\n",
    "import csv \n",
    "\n",
    "\n",
    "\n",
    "def process_folder(input_folder, results_dir):\n",
    "    # Get a list of all PNG files in the folder\n",
    "    png_files = [f for f in os.listdir(input_folder) if f.endswith('.png')]\n",
    "\n",
    "    for png_file in png_files:\n",
    "        # Construct the full path to the PNG file\n",
    "        png_path = os.path.join(input_folder, png_file)\n",
    "\n",
    "        # Call the main function for each PNG file\n",
    "        main(png_path, results_dir)\n",
    "\n",
    "\n",
    "def main(input_path,\n",
    "    results_dir,\n",
    "    lang_file=None,\n",
    "    langs='hi,en',\n",
    "    max=None,\n",
    "    start_page=None,\n",
    "    images=False):\n",
    "\n",
    "    if os.path.isdir(input_path):\n",
    "        images, names = load_from_folder(input_path, max, start_page)\n",
    "        folder_name = os.path.basename(input_path)\n",
    "    else:\n",
    "        images, names = load_from_file(input_path, max, start_page)\n",
    "        folder_name = os.path.basename(input_path).split(\".\")[0]\n",
    "\n",
    "    if lang_file:\n",
    "        # We got all of our language settings from a file\n",
    "        langs = load_lang_file(lang_file, names) \n",
    "        for lang in langs:\n",
    "            replace_lang_with_code(lang)\n",
    "        image_langs = langs\n",
    "    else:\n",
    "        # We got our language settings from the input\n",
    "        langs = langs.split(\",\")\n",
    "        replace_lang_with_code(langs)\n",
    "        image_langs = [langs] * len(images)\n",
    "\n",
    "    det_processor = load_detection_processor()\n",
    "    det_model = load_detection_model()\n",
    "\n",
    "    _, lang_tokens = _tokenize(\"\", get_unique_langs(image_langs))\n",
    "    rec_model = load_recognition_model(langs=lang_tokens) # Prune model moe layer to only include languages we need\n",
    "    rec_processor = load_recognition_processor()\n",
    "\n",
    "    result_path = os.path.join(results_dir, folder_name)\n",
    "    os.makedirs(result_path, exist_ok=True)\n",
    "\n",
    "    predictions_by_image = run_ocr(images, image_langs, det_model, det_processor, rec_model, rec_processor)\n",
    "\n",
    "    if images:\n",
    "        for idx, (name, image, pred, langs) in enumerate(zip(names, images, predictions_by_image, image_langs)):\n",
    "            bboxes = [l.bbox for l in pred.text_lines]\n",
    "            pred_text = [l.text for l in pred.text_lines]\n",
    "            page_image = draw_text_on_image(bboxes, pred_text, image.size, langs, has_math=\"_math\" in langs)\n",
    "            page_image.save(f'./temp{idx}.jpg')\n",
    "            page_image.save(os.path.join(result_path, f\"{name}_{idx}_text.png\"))\n",
    "\n",
    "             # Save text to CSV file\n",
    "            csv_file_path = os.path.join(result_path, f\"{name}_{idx}_text.csv\")\n",
    "            with open(csv_file_path, 'w', newline='', encoding='utf-8') as csv_file:\n",
    "                writer = csv.writer(csv_file)\n",
    "                writer.writerow(['Text'])\n",
    "                for line in pred_text:\n",
    "                    writer.writerow([line])\n",
    "\n",
    "\n",
    "        out_preds = defaultdict(list)\n",
    "        for name, pred, image in zip(names, predictions_by_image, images):\n",
    "            out_pred = pred.model_dump()\n",
    "            out_pred[\"page\"] = len(out_preds[name]) + 1\n",
    "            out_preds[name].append(out_pred)\n",
    "\n",
    "        with open(os.path.join(result_path, \"results.json\"), \"w+\", encoding=\"utf-8\") as f:\n",
    "            json.dump(out_preds, f, ensure_ascii=False)\n",
    "\n",
    "        print(f\"Wrote results to {result_path}\")\n",
    "\n",
    "        # from PIL import Image, ImageDraw\n",
    "        # indices = []\n",
    "        # prev = -1\n",
    "        # for idx in range(len(preds['text_lines'])):\n",
    "        #     x_axis = preds['text_lines'][idx]['polygon'][0][0]\n",
    "        #     if prev != -1 and x_axis > (prev + 5):\n",
    "        #         indices.append(idx)\n",
    "        #     prev = x_axis\n",
    "            \n",
    "        # text = ''\n",
    "        # for idx in range(len(preds['text_lines'])):\n",
    "        #     if idx not in indices:\n",
    "        #         text += preds['text_lines'][idx]['text'] + ' '\n",
    "\n",
    "        # print(f\"Text for page {page_idx + 1}: {text}\")\n",
    "        \n",
    "\n",
    "\n",
    "if __name__ == \"__main__\":\n",
    "     input_folder = '/Users/fajrzafar/Documents/Semester 8 /FYP 1/Books PNGS/FED3'\n",
    "     results_dir = '/Users/fajrzafar/Documents/Semester 8 /FYP 1/Extracted_Text/FED3'\n",
    "     process_folder(input_folder, results_dir)"
   ]
  },
  {
   "cell_type": "markdown",
   "id": "48ba4180-3d2c-405d-a363-4d5e81f76977",
   "metadata": {},
   "source": [
    "### Text Extraction code for Grade1 PTB book (all pages)"
   ]
  },
  {
   "cell_type": "code",
   "execution_count": 4,
   "id": "62fc54ed-e2cc-4a95-a21b-569c8905f933",
   "metadata": {},
   "outputs": [
    {
     "name": "stdout",
     "output_type": "stream",
     "text": [
      "Loading detection model vikp/surya_det2 on device cpu with dtype torch.float32\n",
      "Loading recognition model vikp/surya_rec on device mps with dtype torch.float16\n"
     ]
    },
    {
     "name": "stderr",
     "output_type": "stream",
     "text": [
      "Detecting bboxes: 100%|███████████████████████████| 1/1 [00:27<00:00, 27.18s/it]\n",
      "Recognizing Text: 100%|███████████████████████████| 1/1 [01:38<00:00, 98.61s/it]\n"
     ]
    },
    {
     "name": "stdout",
     "output_type": "stream",
     "text": [
      "Wrote results to /Users/fajrzafar/Documents/Semester 8 /FYP 1/Extracted_Text/PTB1/page_2\n",
      "Loading detection model vikp/surya_det2 on device cpu with dtype torch.float32\n",
      "Loading recognition model vikp/surya_rec on device mps with dtype torch.float16\n"
     ]
    },
    {
     "name": "stderr",
     "output_type": "stream",
     "text": [
      "Detecting bboxes: 100%|███████████████████████████| 1/1 [00:26<00:00, 26.12s/it]\n",
      "Recognizing Text: 100%|███████████████████████████| 1/1 [01:28<00:00, 88.93s/it]\n"
     ]
    },
    {
     "name": "stdout",
     "output_type": "stream",
     "text": [
      "Wrote results to /Users/fajrzafar/Documents/Semester 8 /FYP 1/Extracted_Text/PTB1/page_3\n",
      "Loading detection model vikp/surya_det2 on device cpu with dtype torch.float32\n",
      "Loading recognition model vikp/surya_rec on device mps with dtype torch.float16\n"
     ]
    },
    {
     "name": "stderr",
     "output_type": "stream",
     "text": [
      "Detecting bboxes: 100%|███████████████████████████| 1/1 [00:26<00:00, 26.71s/it]\n",
      "Recognizing Text: 100%|███████████████████████████| 1/1 [00:28<00:00, 28.72s/it]\n"
     ]
    },
    {
     "name": "stdout",
     "output_type": "stream",
     "text": [
      "Wrote results to /Users/fajrzafar/Documents/Semester 8 /FYP 1/Extracted_Text/PTB1/page_1\n",
      "Loading detection model vikp/surya_det2 on device cpu with dtype torch.float32\n",
      "Loading recognition model vikp/surya_rec on device mps with dtype torch.float16\n"
     ]
    },
    {
     "name": "stderr",
     "output_type": "stream",
     "text": [
      "Detecting bboxes: 100%|███████████████████████████| 1/1 [00:27<00:00, 27.03s/it]\n",
      "Recognizing Text: 100%|██████████████████████████| 1/1 [02:32<00:00, 152.13s/it]\n"
     ]
    },
    {
     "name": "stdout",
     "output_type": "stream",
     "text": [
      "Wrote results to /Users/fajrzafar/Documents/Semester 8 /FYP 1/Extracted_Text/PTB1/page_4\n",
      "Loading detection model vikp/surya_det2 on device cpu with dtype torch.float32\n",
      "Loading recognition model vikp/surya_rec on device mps with dtype torch.float16\n"
     ]
    },
    {
     "name": "stderr",
     "output_type": "stream",
     "text": [
      "Detecting bboxes: 100%|███████████████████████████| 1/1 [00:26<00:00, 26.35s/it]\n",
      "Recognizing Text: 100%|███████████████████████████| 1/1 [00:15<00:00, 15.49s/it]\n"
     ]
    },
    {
     "name": "stdout",
     "output_type": "stream",
     "text": [
      "Wrote results to /Users/fajrzafar/Documents/Semester 8 /FYP 1/Extracted_Text/PTB1/page_5\n",
      "Loading detection model vikp/surya_det2 on device cpu with dtype torch.float32\n",
      "Loading recognition model vikp/surya_rec on device mps with dtype torch.float16\n"
     ]
    },
    {
     "name": "stderr",
     "output_type": "stream",
     "text": [
      "Detecting bboxes: 100%|███████████████████████████| 1/1 [00:27<00:00, 27.05s/it]\n",
      "Recognizing Text: 100%|███████████████████████████| 1/1 [00:50<00:00, 50.57s/it]\n"
     ]
    },
    {
     "name": "stdout",
     "output_type": "stream",
     "text": [
      "Wrote results to /Users/fajrzafar/Documents/Semester 8 /FYP 1/Extracted_Text/PTB1/page_7\n",
      "Loading detection model vikp/surya_det2 on device cpu with dtype torch.float32\n",
      "Loading recognition model vikp/surya_rec on device mps with dtype torch.float16\n"
     ]
    },
    {
     "name": "stderr",
     "output_type": "stream",
     "text": [
      "Detecting bboxes: 100%|███████████████████████████| 1/1 [00:27<00:00, 27.11s/it]\n",
      "Recognizing Text: 100%|███████████████████████████| 1/1 [01:04<00:00, 64.74s/it]\n"
     ]
    },
    {
     "name": "stdout",
     "output_type": "stream",
     "text": [
      "Wrote results to /Users/fajrzafar/Documents/Semester 8 /FYP 1/Extracted_Text/PTB1/page_6\n",
      "Loading detection model vikp/surya_det2 on device cpu with dtype torch.float32\n",
      "Loading recognition model vikp/surya_rec on device mps with dtype torch.float16\n"
     ]
    },
    {
     "name": "stderr",
     "output_type": "stream",
     "text": [
      "Detecting bboxes: 100%|███████████████████████████| 1/1 [00:26<00:00, 26.76s/it]\n",
      "Recognizing Text: 100%|███████████████████████████| 1/1 [00:44<00:00, 44.84s/it]\n"
     ]
    },
    {
     "name": "stdout",
     "output_type": "stream",
     "text": [
      "Wrote results to /Users/fajrzafar/Documents/Semester 8 /FYP 1/Extracted_Text/PTB1/page_19\n",
      "Loading detection model vikp/surya_det2 on device cpu with dtype torch.float32\n",
      "Loading recognition model vikp/surya_rec on device mps with dtype torch.float16\n"
     ]
    },
    {
     "name": "stderr",
     "output_type": "stream",
     "text": [
      "Detecting bboxes: 100%|███████████████████████████| 1/1 [00:27<00:00, 27.73s/it]\n",
      "Recognizing Text: 100%|██████████████████████████| 1/1 [02:07<00:00, 127.43s/it]\n"
     ]
    },
    {
     "name": "stdout",
     "output_type": "stream",
     "text": [
      "Wrote results to /Users/fajrzafar/Documents/Semester 8 /FYP 1/Extracted_Text/PTB1/page_25\n",
      "Loading detection model vikp/surya_det2 on device cpu with dtype torch.float32\n",
      "Loading recognition model vikp/surya_rec on device mps with dtype torch.float16\n"
     ]
    },
    {
     "name": "stderr",
     "output_type": "stream",
     "text": [
      "Detecting bboxes: 100%|███████████████████████████| 1/1 [00:26<00:00, 26.54s/it]\n",
      "Recognizing Text: 100%|██████████████████████████| 1/1 [04:28<00:00, 268.38s/it]\n"
     ]
    },
    {
     "name": "stdout",
     "output_type": "stream",
     "text": [
      "Wrote results to /Users/fajrzafar/Documents/Semester 8 /FYP 1/Extracted_Text/PTB1/page_31\n",
      "Loading detection model vikp/surya_det2 on device cpu with dtype torch.float32\n",
      "Loading recognition model vikp/surya_rec on device mps with dtype torch.float16\n"
     ]
    },
    {
     "name": "stderr",
     "output_type": "stream",
     "text": [
      "Detecting bboxes: 100%|███████████████████████████| 1/1 [00:27<00:00, 27.98s/it]\n",
      "Recognizing Text: 100%|██████████████████████████| 1/1 [03:38<00:00, 218.10s/it]\n"
     ]
    },
    {
     "name": "stdout",
     "output_type": "stream",
     "text": [
      "Wrote results to /Users/fajrzafar/Documents/Semester 8 /FYP 1/Extracted_Text/PTB1/page_30\n",
      "Loading detection model vikp/surya_det2 on device cpu with dtype torch.float32\n",
      "Loading recognition model vikp/surya_rec on device mps with dtype torch.float16\n"
     ]
    },
    {
     "name": "stderr",
     "output_type": "stream",
     "text": [
      "Detecting bboxes: 100%|███████████████████████████| 1/1 [00:25<00:00, 25.89s/it]\n",
      "Recognizing Text: 100%|██████████████████████████| 1/1 [02:00<00:00, 120.65s/it]\n"
     ]
    },
    {
     "name": "stdout",
     "output_type": "stream",
     "text": [
      "Wrote results to /Users/fajrzafar/Documents/Semester 8 /FYP 1/Extracted_Text/PTB1/page_24\n",
      "Loading detection model vikp/surya_det2 on device cpu with dtype torch.float32\n",
      "Loading recognition model vikp/surya_rec on device mps with dtype torch.float16\n"
     ]
    },
    {
     "name": "stderr",
     "output_type": "stream",
     "text": [
      "Detecting bboxes: 100%|███████████████████████████| 1/1 [00:27<00:00, 27.74s/it]\n",
      "Recognizing Text: 100%|███████████████████████████| 1/1 [00:55<00:00, 55.42s/it]\n"
     ]
    },
    {
     "name": "stdout",
     "output_type": "stream",
     "text": [
      "Wrote results to /Users/fajrzafar/Documents/Semester 8 /FYP 1/Extracted_Text/PTB1/page_18\n",
      "Loading detection model vikp/surya_det2 on device cpu with dtype torch.float32\n",
      "Loading recognition model vikp/surya_rec on device mps with dtype torch.float16\n"
     ]
    },
    {
     "name": "stderr",
     "output_type": "stream",
     "text": [
      "Detecting bboxes: 100%|███████████████████████████| 1/1 [00:28<00:00, 28.62s/it]\n",
      "Recognizing Text: 100%|███████████████████████████| 1/1 [01:18<00:00, 78.54s/it]\n"
     ]
    },
    {
     "name": "stdout",
     "output_type": "stream",
     "text": [
      "Wrote results to /Users/fajrzafar/Documents/Semester 8 /FYP 1/Extracted_Text/PTB1/page_32\n",
      "Loading detection model vikp/surya_det2 on device cpu with dtype torch.float32\n",
      "Loading recognition model vikp/surya_rec on device mps with dtype torch.float16\n"
     ]
    },
    {
     "name": "stderr",
     "output_type": "stream",
     "text": [
      "Detecting bboxes: 100%|███████████████████████████| 1/1 [00:28<00:00, 28.35s/it]\n",
      "Recognizing Text: 100%|███████████████████████████| 1/1 [00:26<00:00, 26.81s/it]\n"
     ]
    },
    {
     "name": "stdout",
     "output_type": "stream",
     "text": [
      "Wrote results to /Users/fajrzafar/Documents/Semester 8 /FYP 1/Extracted_Text/PTB1/page_26\n",
      "Loading detection model vikp/surya_det2 on device cpu with dtype torch.float32\n",
      "Loading recognition model vikp/surya_rec on device mps with dtype torch.float16\n"
     ]
    },
    {
     "name": "stderr",
     "output_type": "stream",
     "text": [
      "Detecting bboxes: 100%|███████████████████████████| 1/1 [00:30<00:00, 30.41s/it]\n",
      "Recognizing Text: 100%|██████████████████████████| 1/1 [02:23<00:00, 144.00s/it]\n"
     ]
    },
    {
     "name": "stdout",
     "output_type": "stream",
     "text": [
      "Wrote results to /Users/fajrzafar/Documents/Semester 8 /FYP 1/Extracted_Text/PTB1/page_27\n",
      "Loading detection model vikp/surya_det2 on device cpu with dtype torch.float32\n",
      "Loading recognition model vikp/surya_rec on device mps with dtype torch.float16\n"
     ]
    },
    {
     "name": "stderr",
     "output_type": "stream",
     "text": [
      "Detecting bboxes: 100%|███████████████████████████| 1/1 [00:30<00:00, 30.22s/it]\n",
      "Recognizing Text: 100%|██████████████████████████| 1/1 [02:30<00:00, 150.87s/it]\n"
     ]
    },
    {
     "name": "stdout",
     "output_type": "stream",
     "text": [
      "Wrote results to /Users/fajrzafar/Documents/Semester 8 /FYP 1/Extracted_Text/PTB1/page_33\n",
      "Loading detection model vikp/surya_det2 on device cpu with dtype torch.float32\n",
      "Loading recognition model vikp/surya_rec on device mps with dtype torch.float16\n"
     ]
    },
    {
     "name": "stderr",
     "output_type": "stream",
     "text": [
      "Detecting bboxes: 100%|███████████████████████████| 1/1 [00:29<00:00, 29.20s/it]\n",
      "Recognizing Text: 100%|███████████████████████████| 1/1 [00:54<00:00, 54.74s/it]\n"
     ]
    },
    {
     "name": "stdout",
     "output_type": "stream",
     "text": [
      "Wrote results to /Users/fajrzafar/Documents/Semester 8 /FYP 1/Extracted_Text/PTB1/page_23\n",
      "Loading detection model vikp/surya_det2 on device cpu with dtype torch.float32\n",
      "Loading recognition model vikp/surya_rec on device mps with dtype torch.float16\n"
     ]
    },
    {
     "name": "stderr",
     "output_type": "stream",
     "text": [
      "Detecting bboxes: 100%|███████████████████████████| 1/1 [00:30<00:00, 30.84s/it]\n",
      "Recognizing Text: 100%|██████████████████████████| 1/1 [03:31<00:00, 211.16s/it]\n"
     ]
    },
    {
     "name": "stdout",
     "output_type": "stream",
     "text": [
      "Wrote results to /Users/fajrzafar/Documents/Semester 8 /FYP 1/Extracted_Text/PTB1/page_22\n",
      "Loading detection model vikp/surya_det2 on device cpu with dtype torch.float32\n",
      "Loading recognition model vikp/surya_rec on device mps with dtype torch.float16\n"
     ]
    },
    {
     "name": "stderr",
     "output_type": "stream",
     "text": [
      "Detecting bboxes: 100%|███████████████████████████| 1/1 [00:29<00:00, 29.90s/it]\n",
      "Recognizing Text: 100%|███████████████████████████| 1/1 [00:28<00:00, 28.07s/it]\n"
     ]
    },
    {
     "name": "stdout",
     "output_type": "stream",
     "text": [
      "Wrote results to /Users/fajrzafar/Documents/Semester 8 /FYP 1/Extracted_Text/PTB1/page_20\n",
      "Loading detection model vikp/surya_det2 on device cpu with dtype torch.float32\n",
      "Loading recognition model vikp/surya_rec on device mps with dtype torch.float16\n"
     ]
    },
    {
     "name": "stderr",
     "output_type": "stream",
     "text": [
      "Detecting bboxes: 100%|███████████████████████████| 1/1 [00:36<00:00, 36.45s/it]\n",
      "Recognizing Text: 100%|███████████████████████████| 1/1 [00:39<00:00, 39.72s/it]\n"
     ]
    },
    {
     "name": "stdout",
     "output_type": "stream",
     "text": [
      "Wrote results to /Users/fajrzafar/Documents/Semester 8 /FYP 1/Extracted_Text/PTB1/page_34\n",
      "Loading detection model vikp/surya_det2 on device cpu with dtype torch.float32\n",
      "Loading recognition model vikp/surya_rec on device mps with dtype torch.float16\n"
     ]
    },
    {
     "name": "stderr",
     "output_type": "stream",
     "text": [
      "Detecting bboxes: 100%|███████████████████████████| 1/1 [00:39<00:00, 39.21s/it]\n",
      "Recognizing Text: 100%|██████████████████████████| 1/1 [02:58<00:00, 178.42s/it]\n"
     ]
    },
    {
     "name": "stdout",
     "output_type": "stream",
     "text": [
      "Wrote results to /Users/fajrzafar/Documents/Semester 8 /FYP 1/Extracted_Text/PTB1/page_21\n",
      "Loading detection model vikp/surya_det2 on device cpu with dtype torch.float32\n",
      "Loading recognition model vikp/surya_rec on device mps with dtype torch.float16\n"
     ]
    },
    {
     "name": "stderr",
     "output_type": "stream",
     "text": [
      "Detecting bboxes: 100%|███████████████████████████| 1/1 [00:36<00:00, 36.06s/it]\n",
      "Recognizing Text: 100%|███████████████████████████| 1/1 [00:38<00:00, 38.83s/it]\n"
     ]
    },
    {
     "name": "stdout",
     "output_type": "stream",
     "text": [
      "Wrote results to /Users/fajrzafar/Documents/Semester 8 /FYP 1/Extracted_Text/PTB1/page_10\n",
      "Loading detection model vikp/surya_det2 on device cpu with dtype torch.float32\n",
      "Loading recognition model vikp/surya_rec on device mps with dtype torch.float16\n"
     ]
    },
    {
     "name": "stderr",
     "output_type": "stream",
     "text": [
      "Detecting bboxes: 100%|███████████████████████████| 1/1 [00:39<00:00, 39.42s/it]\n",
      "Recognizing Text: 100%|███████████████████████████| 1/1 [00:20<00:00, 20.46s/it]\n"
     ]
    },
    {
     "name": "stdout",
     "output_type": "stream",
     "text": [
      "Wrote results to /Users/fajrzafar/Documents/Semester 8 /FYP 1/Extracted_Text/PTB1/page_11\n",
      "Loading detection model vikp/surya_det2 on device cpu with dtype torch.float32\n",
      "Loading recognition model vikp/surya_rec on device mps with dtype torch.float16\n"
     ]
    },
    {
     "name": "stderr",
     "output_type": "stream",
     "text": [
      "Detecting bboxes: 100%|███████████████████████████| 1/1 [00:43<00:00, 43.41s/it]\n",
      "Recognizing Text: 100%|███████████████████████████| 1/1 [01:29<00:00, 89.30s/it]\n"
     ]
    },
    {
     "name": "stdout",
     "output_type": "stream",
     "text": [
      "Wrote results to /Users/fajrzafar/Documents/Semester 8 /FYP 1/Extracted_Text/PTB1/page_13\n",
      "Loading detection model vikp/surya_det2 on device cpu with dtype torch.float32\n",
      "Loading recognition model vikp/surya_rec on device mps with dtype torch.float16\n"
     ]
    },
    {
     "name": "stderr",
     "output_type": "stream",
     "text": [
      "Detecting bboxes: 100%|███████████████████████████| 1/1 [00:33<00:00, 33.60s/it]\n",
      "Recognizing Text: 100%|███████████████████████████| 1/1 [00:39<00:00, 39.30s/it]\n"
     ]
    },
    {
     "name": "stdout",
     "output_type": "stream",
     "text": [
      "Wrote results to /Users/fajrzafar/Documents/Semester 8 /FYP 1/Extracted_Text/PTB1/page_12\n",
      "Loading detection model vikp/surya_det2 on device cpu with dtype torch.float32\n",
      "Loading recognition model vikp/surya_rec on device mps with dtype torch.float16\n"
     ]
    },
    {
     "name": "stderr",
     "output_type": "stream",
     "text": [
      "Detecting bboxes: 100%|███████████████████████████| 1/1 [00:31<00:00, 31.54s/it]\n",
      "Recognizing Text: 100%|███████████████████████████| 1/1 [01:29<00:00, 89.94s/it]\n"
     ]
    },
    {
     "name": "stdout",
     "output_type": "stream",
     "text": [
      "Wrote results to /Users/fajrzafar/Documents/Semester 8 /FYP 1/Extracted_Text/PTB1/page_16\n",
      "Loading detection model vikp/surya_det2 on device cpu with dtype torch.float32\n",
      "Loading recognition model vikp/surya_rec on device mps with dtype torch.float16\n"
     ]
    },
    {
     "name": "stderr",
     "output_type": "stream",
     "text": [
      "Detecting bboxes: 100%|███████████████████████████| 1/1 [00:30<00:00, 30.58s/it]\n",
      "Recognizing Text: 100%|███████████████████████████| 1/1 [00:59<00:00, 59.71s/it]\n"
     ]
    },
    {
     "name": "stdout",
     "output_type": "stream",
     "text": [
      "Wrote results to /Users/fajrzafar/Documents/Semester 8 /FYP 1/Extracted_Text/PTB1/page_17\n",
      "Loading detection model vikp/surya_det2 on device cpu with dtype torch.float32\n",
      "Loading recognition model vikp/surya_rec on device mps with dtype torch.float16\n"
     ]
    },
    {
     "name": "stderr",
     "output_type": "stream",
     "text": [
      "Detecting bboxes: 100%|███████████████████████████| 1/1 [00:29<00:00, 29.53s/it]\n",
      "Recognizing Text: 100%|███████████████████████████| 1/1 [00:14<00:00, 14.42s/it]\n"
     ]
    },
    {
     "name": "stdout",
     "output_type": "stream",
     "text": [
      "Wrote results to /Users/fajrzafar/Documents/Semester 8 /FYP 1/Extracted_Text/PTB1/page_15\n",
      "Loading detection model vikp/surya_det2 on device cpu with dtype torch.float32\n",
      "Loading recognition model vikp/surya_rec on device mps with dtype torch.float16\n"
     ]
    },
    {
     "name": "stderr",
     "output_type": "stream",
     "text": [
      "Detecting bboxes: 100%|███████████████████████████| 1/1 [00:30<00:00, 30.55s/it]\n",
      "Recognizing Text: 100%|███████████████████████████| 1/1 [00:24<00:00, 24.85s/it]\n"
     ]
    },
    {
     "name": "stdout",
     "output_type": "stream",
     "text": [
      "Wrote results to /Users/fajrzafar/Documents/Semester 8 /FYP 1/Extracted_Text/PTB1/page_29\n",
      "Loading detection model vikp/surya_det2 on device cpu with dtype torch.float32\n",
      "Loading recognition model vikp/surya_rec on device mps with dtype torch.float16\n"
     ]
    },
    {
     "name": "stderr",
     "output_type": "stream",
     "text": [
      "Detecting bboxes: 100%|███████████████████████████| 1/1 [00:31<00:00, 32.00s/it]\n",
      "Recognizing Text: 100%|██████████████████████████| 1/1 [02:50<00:00, 170.88s/it]\n"
     ]
    },
    {
     "name": "stdout",
     "output_type": "stream",
     "text": [
      "Wrote results to /Users/fajrzafar/Documents/Semester 8 /FYP 1/Extracted_Text/PTB1/page_28\n",
      "Loading detection model vikp/surya_det2 on device cpu with dtype torch.float32\n",
      "Loading recognition model vikp/surya_rec on device mps with dtype torch.float16\n"
     ]
    },
    {
     "name": "stderr",
     "output_type": "stream",
     "text": [
      "Detecting bboxes: 100%|███████████████████████████| 1/1 [00:27<00:00, 27.07s/it]\n",
      "Recognizing Text: 100%|███████████████████████████| 1/1 [01:08<00:00, 68.35s/it]\n"
     ]
    },
    {
     "name": "stdout",
     "output_type": "stream",
     "text": [
      "Wrote results to /Users/fajrzafar/Documents/Semester 8 /FYP 1/Extracted_Text/PTB1/page_14\n",
      "Loading detection model vikp/surya_det2 on device cpu with dtype torch.float32\n",
      "Loading recognition model vikp/surya_rec on device mps with dtype torch.float16\n"
     ]
    },
    {
     "name": "stderr",
     "output_type": "stream",
     "text": [
      "Detecting bboxes: 100%|███████████████████████████| 1/1 [00:27<00:00, 27.67s/it]\n",
      "Recognizing Text: 100%|██████████████████████████| 1/1 [03:14<00:00, 194.15s/it]\n"
     ]
    },
    {
     "name": "stdout",
     "output_type": "stream",
     "text": [
      "Wrote results to /Users/fajrzafar/Documents/Semester 8 /FYP 1/Extracted_Text/PTB1/page_8\n",
      "Loading detection model vikp/surya_det2 on device cpu with dtype torch.float32\n",
      "Loading recognition model vikp/surya_rec on device mps with dtype torch.float16\n"
     ]
    },
    {
     "name": "stderr",
     "output_type": "stream",
     "text": [
      "Detecting bboxes: 100%|███████████████████████████| 1/1 [00:30<00:00, 30.58s/it]\n",
      "Recognizing Text: 100%|███████████████████████████| 1/1 [00:47<00:00, 47.48s/it]\n"
     ]
    },
    {
     "name": "stdout",
     "output_type": "stream",
     "text": [
      "Wrote results to /Users/fajrzafar/Documents/Semester 8 /FYP 1/Extracted_Text/PTB1/page_9\n"
     ]
    }
   ],
   "source": [
    "import argparse\n",
    "import json\n",
    "from collections import defaultdict\n",
    "\n",
    "from surya.input.langs import replace_lang_with_code, get_unique_langs\n",
    "from surya.input.load import load_from_folder, load_from_file, load_lang_file\n",
    "from surya.model.detection.segformer import load_model as load_detection_model, load_processor as load_detection_processor\n",
    "from surya.model.recognition.model import load_model as load_recognition_model\n",
    "from surya.model.recognition.processor import load_processor as load_recognition_processor\n",
    "from surya.model.recognition.tokenizer import _tokenize\n",
    "from surya.ocr import run_ocr\n",
    "from surya.postprocessing.text import draw_text_on_image\n",
    "from surya.settings import settings\n",
    "import os\n",
    "import csv \n",
    "\n",
    "\n",
    "\n",
    "def process_folder(input_folder, results_dir):\n",
    "    # Get a list of all PNG files in the folder\n",
    "    png_files = [f for f in os.listdir(input_folder) if f.endswith('.png')]\n",
    "\n",
    "    for png_file in png_files:\n",
    "        # Construct the full path to the PNG file\n",
    "        png_path = os.path.join(input_folder, png_file)\n",
    "\n",
    "        # Call the main function for each PNG file\n",
    "        main(png_path, results_dir)\n",
    "\n",
    "\n",
    "def main(input_path,\n",
    "    results_dir,\n",
    "    lang_file=None,\n",
    "    langs='hi,en',\n",
    "    max=None,\n",
    "    start_page=None,\n",
    "    images=False):\n",
    "\n",
    "    if os.path.isdir(input_path):\n",
    "        images, names = load_from_folder(input_path, max, start_page)\n",
    "        folder_name = os.path.basename(input_path)\n",
    "    else:\n",
    "        images, names = load_from_file(input_path, max, start_page)\n",
    "        folder_name = os.path.basename(input_path).split(\".\")[0]\n",
    "\n",
    "    if lang_file:\n",
    "        # We got all of our language settings from a file\n",
    "        langs = load_lang_file(lang_file, names) \n",
    "        for lang in langs:\n",
    "            replace_lang_with_code(lang)\n",
    "        image_langs = langs\n",
    "    else:\n",
    "        # We got our language settings from the input\n",
    "        langs = langs.split(\",\")\n",
    "        replace_lang_with_code(langs)\n",
    "        image_langs = [langs] * len(images)\n",
    "\n",
    "    det_processor = load_detection_processor()\n",
    "    det_model = load_detection_model()\n",
    "\n",
    "    _, lang_tokens = _tokenize(\"\", get_unique_langs(image_langs))\n",
    "    rec_model = load_recognition_model(langs=lang_tokens) # Prune model moe layer to only include languages we need\n",
    "    rec_processor = load_recognition_processor()\n",
    "\n",
    "    result_path = os.path.join(results_dir, folder_name)\n",
    "    os.makedirs(result_path, exist_ok=True)\n",
    "\n",
    "    predictions_by_image = run_ocr(images, image_langs, det_model, det_processor, rec_model, rec_processor)\n",
    "\n",
    "    if images:\n",
    "        for idx, (name, image, pred, langs) in enumerate(zip(names, images, predictions_by_image, image_langs)):\n",
    "            bboxes = [l.bbox for l in pred.text_lines]\n",
    "            pred_text = [l.text for l in pred.text_lines]\n",
    "            page_image = draw_text_on_image(bboxes, pred_text, image.size, langs, has_math=\"_math\" in langs)\n",
    "            page_image.save(f'./temp{idx}.jpg')\n",
    "            page_image.save(os.path.join(result_path, f\"{name}_{idx}_text.png\"))\n",
    "\n",
    "             # Save text to CSV file\n",
    "            csv_file_path = os.path.join(result_path, f\"{name}_{idx}_text.csv\")\n",
    "            with open(csv_file_path, 'w', newline='', encoding='utf-8') as csv_file:\n",
    "                writer = csv.writer(csv_file)\n",
    "                writer.writerow(['Text'])\n",
    "                for line in pred_text:\n",
    "                    writer.writerow([line])\n",
    "\n",
    "\n",
    "        out_preds = defaultdict(list)\n",
    "        for name, pred, image in zip(names, predictions_by_image, images):\n",
    "            out_pred = pred.model_dump()\n",
    "            out_pred[\"page\"] = len(out_preds[name]) + 1\n",
    "            out_preds[name].append(out_pred)\n",
    "\n",
    "        with open(os.path.join(result_path, \"results.json\"), \"w+\", encoding=\"utf-8\") as f:\n",
    "            json.dump(out_preds, f, ensure_ascii=False)\n",
    "\n",
    "        print(f\"Wrote results to {result_path}\")\n",
    "\n",
    "        # from PIL import Image, ImageDraw\n",
    "        # indices = []\n",
    "        # prev = -1\n",
    "        # for idx in range(len(preds['text_lines'])):\n",
    "        #     x_axis = preds['text_lines'][idx]['polygon'][0][0]\n",
    "        #     if prev != -1 and x_axis > (prev + 5):\n",
    "        #         indices.append(idx)\n",
    "        #     prev = x_axis\n",
    "            \n",
    "        # text = ''\n",
    "        # for idx in range(len(preds['text_lines'])):\n",
    "        #     if idx not in indices:\n",
    "        #         text += preds['text_lines'][idx]['text'] + ' '\n",
    "\n",
    "        # print(f\"Text for page {page_idx + 1}: {text}\")\n",
    "        \n",
    "\n",
    "\n",
    "if __name__ == \"__main__\":\n",
    "     input_folder = '/Users/fajrzafar/Documents/Semester 8 /FYP 1/Books PNGS/PTB1'\n",
    "     results_dir = '/Users/fajrzafar/Documents/Semester 8 /FYP 1/Extracted_Text/PTB1'\n",
    "     process_folder(input_folder, results_dir)"
   ]
  },
  {
   "cell_type": "code",
   "execution_count": null,
   "id": "e13b4127-b722-4c02-86dc-63a605a39484",
   "metadata": {},
   "outputs": [],
   "source": []
  },
  {
   "cell_type": "code",
   "execution_count": 2,
   "id": "bfa14e0b-e7fd-43e6-b4bd-d1f6d739446f",
   "metadata": {},
   "outputs": [
    {
     "name": "stdout",
     "output_type": "stream",
     "text": [
      "Loading detection model vikp/surya_det2 on device cpu with dtype torch.float32\n",
      "Loading recognition model vikp/surya_rec on device mps with dtype torch.float16\n"
     ]
    },
    {
     "name": "stderr",
     "output_type": "stream",
     "text": [
      "Detecting bboxes: 100%|███████████████████████████| 1/1 [00:25<00:00, 25.55s/it]\n",
      "Recognizing Text:   0%|                                   | 0/1 [00:00<?, ?it/s]/Library/Frameworks/Python.framework/Versions/3.11/lib/python3.11/site-packages/transformers/generation/utils.py:1518: UserWarning: You have modified the pretrained model configuration to control generation. This is a deprecated strategy to control generation and will be removed soon, in a future version. Please use and modify the model generation configuration (see https://huggingface.co/docs/transformers/generation_strategies#default-text-generation-configuration )\n",
      "  warnings.warn(\n",
      "Recognizing Text: 100%|███████████████████████████| 1/1 [00:13<00:00, 13.07s/it]\n"
     ]
    },
    {
     "name": "stdout",
     "output_type": "stream",
     "text": [
      "Wrote results to /Users/fajrzafar/Documents/Semester 8 /FYP 1/Extracted_Text/PTB2/page_2\n",
      "Loading detection model vikp/surya_det2 on device cpu with dtype torch.float32\n",
      "Loading recognition model vikp/surya_rec on device mps with dtype torch.float16\n"
     ]
    },
    {
     "name": "stderr",
     "output_type": "stream",
     "text": [
      "Detecting bboxes: 100%|███████████████████████████| 1/1 [00:25<00:00, 25.73s/it]\n",
      "Recognizing Text: 100%|███████████████████████████| 1/1 [00:29<00:00, 29.88s/it]\n"
     ]
    },
    {
     "name": "stdout",
     "output_type": "stream",
     "text": [
      "Wrote results to /Users/fajrzafar/Documents/Semester 8 /FYP 1/Extracted_Text/PTB2/page_3\n",
      "Loading detection model vikp/surya_det2 on device cpu with dtype torch.float32\n",
      "Loading recognition model vikp/surya_rec on device mps with dtype torch.float16\n"
     ]
    },
    {
     "name": "stderr",
     "output_type": "stream",
     "text": [
      "Detecting bboxes: 100%|███████████████████████████| 1/1 [00:26<00:00, 26.48s/it]\n",
      "Recognizing Text: 100%|███████████████████████████| 1/1 [01:13<00:00, 73.25s/it]\n"
     ]
    },
    {
     "name": "stdout",
     "output_type": "stream",
     "text": [
      "Wrote results to /Users/fajrzafar/Documents/Semester 8 /FYP 1/Extracted_Text/PTB2/page_1\n",
      "Loading detection model vikp/surya_det2 on device cpu with dtype torch.float32\n",
      "Loading recognition model vikp/surya_rec on device mps with dtype torch.float16\n"
     ]
    },
    {
     "name": "stderr",
     "output_type": "stream",
     "text": [
      "Detecting bboxes: 100%|███████████████████████████| 1/1 [00:26<00:00, 26.40s/it]\n",
      "Recognizing Text: 100%|███████████████████████████| 1/1 [01:36<00:00, 96.19s/it]\n"
     ]
    },
    {
     "name": "stdout",
     "output_type": "stream",
     "text": [
      "Wrote results to /Users/fajrzafar/Documents/Semester 8 /FYP 1/Extracted_Text/PTB2/page_4\n",
      "Loading detection model vikp/surya_det2 on device cpu with dtype torch.float32\n",
      "Loading recognition model vikp/surya_rec on device mps with dtype torch.float16\n"
     ]
    },
    {
     "name": "stderr",
     "output_type": "stream",
     "text": [
      "Detecting bboxes: 100%|███████████████████████████| 1/1 [00:26<00:00, 26.57s/it]\n",
      "Recognizing Text: 100%|███████████████████████████| 1/1 [00:46<00:00, 46.45s/it]\n"
     ]
    },
    {
     "name": "stdout",
     "output_type": "stream",
     "text": [
      "Wrote results to /Users/fajrzafar/Documents/Semester 8 /FYP 1/Extracted_Text/PTB2/page_5\n",
      "Loading detection model vikp/surya_det2 on device cpu with dtype torch.float32\n",
      "Loading recognition model vikp/surya_rec on device mps with dtype torch.float16\n"
     ]
    },
    {
     "name": "stderr",
     "output_type": "stream",
     "text": [
      "Detecting bboxes: 100%|███████████████████████████| 1/1 [00:26<00:00, 26.63s/it]\n",
      "Recognizing Text: 100%|███████████████████████████| 1/1 [01:04<00:00, 64.51s/it]\n"
     ]
    },
    {
     "name": "stdout",
     "output_type": "stream",
     "text": [
      "Wrote results to /Users/fajrzafar/Documents/Semester 8 /FYP 1/Extracted_Text/PTB2/page_7\n",
      "Loading detection model vikp/surya_det2 on device cpu with dtype torch.float32\n",
      "Loading recognition model vikp/surya_rec on device mps with dtype torch.float16\n"
     ]
    },
    {
     "name": "stderr",
     "output_type": "stream",
     "text": [
      "Detecting bboxes: 100%|███████████████████████████| 1/1 [00:28<00:00, 28.05s/it]\n",
      "Recognizing Text: 100%|███████████████████████████| 1/1 [01:29<00:00, 89.51s/it]\n"
     ]
    },
    {
     "name": "stdout",
     "output_type": "stream",
     "text": [
      "Wrote results to /Users/fajrzafar/Documents/Semester 8 /FYP 1/Extracted_Text/PTB2/page_6\n",
      "Loading detection model vikp/surya_det2 on device cpu with dtype torch.float32\n",
      "Loading recognition model vikp/surya_rec on device mps with dtype torch.float16\n"
     ]
    },
    {
     "name": "stderr",
     "output_type": "stream",
     "text": [
      "Detecting bboxes: 100%|███████████████████████████| 1/1 [00:27<00:00, 27.15s/it]\n",
      "Recognizing Text: 100%|███████████████████████████| 1/1 [01:24<00:00, 84.26s/it]\n"
     ]
    },
    {
     "name": "stdout",
     "output_type": "stream",
     "text": [
      "Wrote results to /Users/fajrzafar/Documents/Semester 8 /FYP 1/Extracted_Text/PTB2/page_19\n",
      "Loading detection model vikp/surya_det2 on device cpu with dtype torch.float32\n",
      "Loading recognition model vikp/surya_rec on device mps with dtype torch.float16\n"
     ]
    },
    {
     "name": "stderr",
     "output_type": "stream",
     "text": [
      "Detecting bboxes: 100%|███████████████████████████| 1/1 [00:27<00:00, 27.26s/it]\n",
      "Recognizing Text: 100%|██████████████████████████| 1/1 [03:07<00:00, 187.97s/it]\n"
     ]
    },
    {
     "name": "stdout",
     "output_type": "stream",
     "text": [
      "Wrote results to /Users/fajrzafar/Documents/Semester 8 /FYP 1/Extracted_Text/PTB2/page_25\n",
      "Loading detection model vikp/surya_det2 on device cpu with dtype torch.float32\n",
      "Loading recognition model vikp/surya_rec on device mps with dtype torch.float16\n"
     ]
    },
    {
     "name": "stderr",
     "output_type": "stream",
     "text": [
      "Detecting bboxes: 100%|███████████████████████████| 1/1 [00:27<00:00, 27.96s/it]\n",
      "Recognizing Text: 100%|██████████████████████████| 1/1 [01:46<00:00, 106.65s/it]\n"
     ]
    },
    {
     "name": "stdout",
     "output_type": "stream",
     "text": [
      "Wrote results to /Users/fajrzafar/Documents/Semester 8 /FYP 1/Extracted_Text/PTB2/page_31\n",
      "Loading detection model vikp/surya_det2 on device cpu with dtype torch.float32\n",
      "Loading recognition model vikp/surya_rec on device mps with dtype torch.float16\n"
     ]
    },
    {
     "name": "stderr",
     "output_type": "stream",
     "text": [
      "Detecting bboxes: 100%|███████████████████████████| 1/1 [00:29<00:00, 29.08s/it]\n",
      "Recognizing Text: 100%|███████████████████████████| 1/1 [01:02<00:00, 62.35s/it]\n"
     ]
    },
    {
     "name": "stdout",
     "output_type": "stream",
     "text": [
      "Wrote results to /Users/fajrzafar/Documents/Semester 8 /FYP 1/Extracted_Text/PTB2/page_30\n",
      "Loading detection model vikp/surya_det2 on device cpu with dtype torch.float32\n",
      "Loading recognition model vikp/surya_rec on device mps with dtype torch.float16\n"
     ]
    },
    {
     "name": "stderr",
     "output_type": "stream",
     "text": [
      "Detecting bboxes: 100%|███████████████████████████| 1/1 [00:28<00:00, 28.35s/it]\n",
      "Recognizing Text: 100%|███████████████████████████| 1/1 [01:24<00:00, 84.22s/it]\n"
     ]
    },
    {
     "name": "stdout",
     "output_type": "stream",
     "text": [
      "Wrote results to /Users/fajrzafar/Documents/Semester 8 /FYP 1/Extracted_Text/PTB2/page_24\n",
      "Loading detection model vikp/surya_det2 on device cpu with dtype torch.float32\n",
      "Loading recognition model vikp/surya_rec on device mps with dtype torch.float16\n"
     ]
    },
    {
     "name": "stderr",
     "output_type": "stream",
     "text": [
      "Detecting bboxes: 100%|███████████████████████████| 1/1 [00:30<00:00, 30.11s/it]\n",
      "Recognizing Text: 100%|██████████████████████████| 1/1 [03:34<00:00, 214.96s/it]\n"
     ]
    },
    {
     "name": "stdout",
     "output_type": "stream",
     "text": [
      "Wrote results to /Users/fajrzafar/Documents/Semester 8 /FYP 1/Extracted_Text/PTB2/page_18\n",
      "Loading detection model vikp/surya_det2 on device cpu with dtype torch.float32\n",
      "Loading recognition model vikp/surya_rec on device mps with dtype torch.float16\n"
     ]
    },
    {
     "name": "stderr",
     "output_type": "stream",
     "text": [
      "Detecting bboxes: 100%|███████████████████████████| 1/1 [00:33<00:00, 33.57s/it]\n",
      "Recognizing Text: 100%|██████████████████████████| 1/1 [01:59<00:00, 119.21s/it]\n"
     ]
    },
    {
     "name": "stdout",
     "output_type": "stream",
     "text": [
      "Wrote results to /Users/fajrzafar/Documents/Semester 8 /FYP 1/Extracted_Text/PTB2/page_32\n",
      "Loading detection model vikp/surya_det2 on device cpu with dtype torch.float32\n",
      "Loading recognition model vikp/surya_rec on device mps with dtype torch.float16\n"
     ]
    },
    {
     "name": "stderr",
     "output_type": "stream",
     "text": [
      "Detecting bboxes: 100%|███████████████████████████| 1/1 [00:29<00:00, 29.06s/it]\n",
      "Recognizing Text: 100%|███████████████████████████| 1/1 [01:20<00:00, 80.82s/it]\n"
     ]
    },
    {
     "name": "stdout",
     "output_type": "stream",
     "text": [
      "Wrote results to /Users/fajrzafar/Documents/Semester 8 /FYP 1/Extracted_Text/PTB2/page_26\n",
      "Loading detection model vikp/surya_det2 on device cpu with dtype torch.float32\n",
      "Loading recognition model vikp/surya_rec on device mps with dtype torch.float16\n"
     ]
    },
    {
     "name": "stderr",
     "output_type": "stream",
     "text": [
      "Detecting bboxes: 100%|███████████████████████████| 1/1 [00:31<00:00, 31.34s/it]\n",
      "Recognizing Text: 100%|███████████████████████████| 1/1 [00:43<00:00, 43.10s/it]\n"
     ]
    },
    {
     "name": "stdout",
     "output_type": "stream",
     "text": [
      "Wrote results to /Users/fajrzafar/Documents/Semester 8 /FYP 1/Extracted_Text/PTB2/page_27\n",
      "Loading detection model vikp/surya_det2 on device cpu with dtype torch.float32\n",
      "Loading recognition model vikp/surya_rec on device mps with dtype torch.float16\n"
     ]
    },
    {
     "name": "stderr",
     "output_type": "stream",
     "text": [
      "Detecting bboxes: 100%|███████████████████████████| 1/1 [00:33<00:00, 33.78s/it]\n",
      "Recognizing Text: 100%|███████████████████████████| 1/1 [01:35<00:00, 95.24s/it]\n"
     ]
    },
    {
     "name": "stdout",
     "output_type": "stream",
     "text": [
      "Wrote results to /Users/fajrzafar/Documents/Semester 8 /FYP 1/Extracted_Text/PTB2/page_33\n",
      "Loading detection model vikp/surya_det2 on device cpu with dtype torch.float32\n",
      "Loading recognition model vikp/surya_rec on device mps with dtype torch.float16\n"
     ]
    },
    {
     "name": "stderr",
     "output_type": "stream",
     "text": [
      "Detecting bboxes: 100%|███████████████████████████| 1/1 [00:33<00:00, 33.15s/it]\n",
      "Recognizing Text: 100%|█████████████████████████| 1/1 [17:01<00:00, 1021.14s/it]\n"
     ]
    },
    {
     "name": "stdout",
     "output_type": "stream",
     "text": [
      "Wrote results to /Users/fajrzafar/Documents/Semester 8 /FYP 1/Extracted_Text/PTB2/page_37\n",
      "Loading detection model vikp/surya_det2 on device cpu with dtype torch.float32\n",
      "Loading recognition model vikp/surya_rec on device mps with dtype torch.float16\n"
     ]
    },
    {
     "name": "stderr",
     "output_type": "stream",
     "text": [
      "Detecting bboxes: 100%|███████████████████████████| 1/1 [00:25<00:00, 25.96s/it]\n",
      "Recognizing Text: 100%|██████████████████████████| 1/1 [02:53<00:00, 173.09s/it]\n"
     ]
    },
    {
     "name": "stdout",
     "output_type": "stream",
     "text": [
      "Wrote results to /Users/fajrzafar/Documents/Semester 8 /FYP 1/Extracted_Text/PTB2/page_23\n",
      "Loading detection model vikp/surya_det2 on device cpu with dtype torch.float32\n",
      "Loading recognition model vikp/surya_rec on device mps with dtype torch.float16\n"
     ]
    },
    {
     "name": "stderr",
     "output_type": "stream",
     "text": [
      "Detecting bboxes: 100%|███████████████████████████| 1/1 [00:27<00:00, 27.75s/it]\n",
      "Recognizing Text: 100%|██████████████████████████| 1/1 [02:14<00:00, 134.24s/it]\n"
     ]
    },
    {
     "name": "stdout",
     "output_type": "stream",
     "text": [
      "Wrote results to /Users/fajrzafar/Documents/Semester 8 /FYP 1/Extracted_Text/PTB2/page_22\n",
      "Loading detection model vikp/surya_det2 on device cpu with dtype torch.float32\n",
      "Loading recognition model vikp/surya_rec on device mps with dtype torch.float16\n"
     ]
    },
    {
     "name": "stderr",
     "output_type": "stream",
     "text": [
      "Detecting bboxes: 100%|███████████████████████████| 1/1 [00:26<00:00, 26.54s/it]\n",
      "Recognizing Text: 100%|██████████████████████████| 1/1 [02:08<00:00, 128.59s/it]\n"
     ]
    },
    {
     "name": "stdout",
     "output_type": "stream",
     "text": [
      "Wrote results to /Users/fajrzafar/Documents/Semester 8 /FYP 1/Extracted_Text/PTB2/page_36\n",
      "Loading detection model vikp/surya_det2 on device cpu with dtype torch.float32\n",
      "Loading recognition model vikp/surya_rec on device mps with dtype torch.float16\n"
     ]
    },
    {
     "name": "stderr",
     "output_type": "stream",
     "text": [
      "Detecting bboxes: 100%|███████████████████████████| 1/1 [00:29<00:00, 29.83s/it]\n",
      "Recognizing Text: 100%|███████████████████████████| 1/1 [00:59<00:00, 59.05s/it]\n"
     ]
    },
    {
     "name": "stdout",
     "output_type": "stream",
     "text": [
      "Wrote results to /Users/fajrzafar/Documents/Semester 8 /FYP 1/Extracted_Text/PTB2/page_20\n",
      "Loading detection model vikp/surya_det2 on device cpu with dtype torch.float32\n",
      "Loading recognition model vikp/surya_rec on device mps with dtype torch.float16\n"
     ]
    },
    {
     "name": "stderr",
     "output_type": "stream",
     "text": [
      "Detecting bboxes: 100%|███████████████████████████| 1/1 [00:31<00:00, 31.31s/it]\n",
      "Recognizing Text: 100%|███████████████████████████| 1/1 [00:53<00:00, 53.14s/it]\n"
     ]
    },
    {
     "name": "stdout",
     "output_type": "stream",
     "text": [
      "Wrote results to /Users/fajrzafar/Documents/Semester 8 /FYP 1/Extracted_Text/PTB2/page_34\n",
      "Loading detection model vikp/surya_det2 on device cpu with dtype torch.float32\n",
      "Loading recognition model vikp/surya_rec on device mps with dtype torch.float16\n"
     ]
    },
    {
     "name": "stderr",
     "output_type": "stream",
     "text": [
      "Detecting bboxes: 100%|███████████████████████████| 1/1 [00:34<00:00, 34.54s/it]\n",
      "Recognizing Text: 100%|███████████████████████████| 1/1 [00:44<00:00, 44.24s/it]\n"
     ]
    },
    {
     "name": "stdout",
     "output_type": "stream",
     "text": [
      "Wrote results to /Users/fajrzafar/Documents/Semester 8 /FYP 1/Extracted_Text/PTB2/page_35\n",
      "Loading detection model vikp/surya_det2 on device cpu with dtype torch.float32\n",
      "Loading recognition model vikp/surya_rec on device mps with dtype torch.float16\n"
     ]
    },
    {
     "name": "stderr",
     "output_type": "stream",
     "text": [
      "Detecting bboxes: 100%|███████████████████████████| 1/1 [00:36<00:00, 36.43s/it]\n",
      "Recognizing Text: 100%|██████████████████████████| 1/1 [01:47<00:00, 107.25s/it]\n"
     ]
    },
    {
     "name": "stdout",
     "output_type": "stream",
     "text": [
      "Wrote results to /Users/fajrzafar/Documents/Semester 8 /FYP 1/Extracted_Text/PTB2/page_21\n",
      "Loading detection model vikp/surya_det2 on device cpu with dtype torch.float32\n",
      "Loading recognition model vikp/surya_rec on device mps with dtype torch.float16\n"
     ]
    },
    {
     "name": "stderr",
     "output_type": "stream",
     "text": [
      "Detecting bboxes: 100%|███████████████████████████| 1/1 [00:39<00:00, 39.69s/it]\n",
      "Recognizing Text: 100%|███████████████████████████| 1/1 [00:51<00:00, 51.64s/it]\n"
     ]
    },
    {
     "name": "stdout",
     "output_type": "stream",
     "text": [
      "Wrote results to /Users/fajrzafar/Documents/Semester 8 /FYP 1/Extracted_Text/PTB2/page_10\n",
      "Loading detection model vikp/surya_det2 on device cpu with dtype torch.float32\n",
      "Loading recognition model vikp/surya_rec on device mps with dtype torch.float16\n"
     ]
    },
    {
     "name": "stderr",
     "output_type": "stream",
     "text": [
      "Detecting bboxes: 100%|███████████████████████████| 1/1 [00:44<00:00, 44.50s/it]\n",
      "Recognizing Text: 100%|██████████████████████████| 1/1 [02:01<00:00, 121.59s/it]\n"
     ]
    },
    {
     "name": "stdout",
     "output_type": "stream",
     "text": [
      "Wrote results to /Users/fajrzafar/Documents/Semester 8 /FYP 1/Extracted_Text/PTB2/page_11\n",
      "Loading detection model vikp/surya_det2 on device cpu with dtype torch.float32\n",
      "Loading recognition model vikp/surya_rec on device mps with dtype torch.float16\n"
     ]
    },
    {
     "name": "stderr",
     "output_type": "stream",
     "text": [
      "Detecting bboxes: 100%|███████████████████████████| 1/1 [00:42<00:00, 42.84s/it]\n",
      "Recognizing Text: 100%|███████████████████████████| 1/1 [00:41<00:00, 41.02s/it]\n"
     ]
    },
    {
     "name": "stdout",
     "output_type": "stream",
     "text": [
      "Wrote results to /Users/fajrzafar/Documents/Semester 8 /FYP 1/Extracted_Text/PTB2/page_13\n",
      "Loading detection model vikp/surya_det2 on device cpu with dtype torch.float32\n",
      "Loading recognition model vikp/surya_rec on device mps with dtype torch.float16\n"
     ]
    },
    {
     "name": "stderr",
     "output_type": "stream",
     "text": [
      "Detecting bboxes: 100%|███████████████████████████| 1/1 [00:46<00:00, 46.28s/it]\n",
      "Recognizing Text: 100%|██████████████████████████| 1/1 [02:56<00:00, 176.84s/it]\n"
     ]
    },
    {
     "name": "stdout",
     "output_type": "stream",
     "text": [
      "Wrote results to /Users/fajrzafar/Documents/Semester 8 /FYP 1/Extracted_Text/PTB2/page_12\n",
      "Loading detection model vikp/surya_det2 on device cpu with dtype torch.float32\n",
      "Loading recognition model vikp/surya_rec on device mps with dtype torch.float16\n"
     ]
    },
    {
     "name": "stderr",
     "output_type": "stream",
     "text": [
      "Detecting bboxes: 100%|███████████████████████████| 1/1 [00:38<00:00, 38.78s/it]\n",
      "Recognizing Text: 100%|███████████████████████████| 1/1 [00:30<00:00, 30.28s/it]\n"
     ]
    },
    {
     "name": "stdout",
     "output_type": "stream",
     "text": [
      "Wrote results to /Users/fajrzafar/Documents/Semester 8 /FYP 1/Extracted_Text/PTB2/page_16\n",
      "Loading detection model vikp/surya_det2 on device cpu with dtype torch.float32\n",
      "Loading recognition model vikp/surya_rec on device mps with dtype torch.float16\n"
     ]
    },
    {
     "name": "stderr",
     "output_type": "stream",
     "text": [
      "Detecting bboxes: 100%|███████████████████████████| 1/1 [00:40<00:00, 40.21s/it]\n",
      "Recognizing Text: 100%|█████████████████████████| 1/1 [51:52<00:00, 3112.91s/it]\n"
     ]
    },
    {
     "name": "stdout",
     "output_type": "stream",
     "text": [
      "Wrote results to /Users/fajrzafar/Documents/Semester 8 /FYP 1/Extracted_Text/PTB2/page_17\n",
      "Loading detection model vikp/surya_det2 on device cpu with dtype torch.float32\n",
      "Loading recognition model vikp/surya_rec on device mps with dtype torch.float16\n"
     ]
    },
    {
     "name": "stderr",
     "output_type": "stream",
     "text": [
      "Detecting bboxes: 100%|███████████████████████████| 1/1 [00:27<00:00, 27.45s/it]\n",
      "Recognizing Text: 100%|██████████████████████████| 1/1 [03:53<00:00, 233.35s/it]\n"
     ]
    },
    {
     "name": "stdout",
     "output_type": "stream",
     "text": [
      "Wrote results to /Users/fajrzafar/Documents/Semester 8 /FYP 1/Extracted_Text/PTB2/page_15\n",
      "Loading detection model vikp/surya_det2 on device cpu with dtype torch.float32\n",
      "Loading recognition model vikp/surya_rec on device mps with dtype torch.float16\n"
     ]
    },
    {
     "name": "stderr",
     "output_type": "stream",
     "text": [
      "Detecting bboxes: 100%|███████████████████████████| 1/1 [00:27<00:00, 27.93s/it]\n",
      "Recognizing Text: 100%|███████████████████████████| 1/1 [00:37<00:00, 37.70s/it]\n"
     ]
    },
    {
     "name": "stdout",
     "output_type": "stream",
     "text": [
      "Wrote results to /Users/fajrzafar/Documents/Semester 8 /FYP 1/Extracted_Text/PTB2/page_29\n",
      "Loading detection model vikp/surya_det2 on device cpu with dtype torch.float32\n",
      "Loading recognition model vikp/surya_rec on device mps with dtype torch.float16\n"
     ]
    },
    {
     "name": "stderr",
     "output_type": "stream",
     "text": [
      "Detecting bboxes: 100%|███████████████████████████| 1/1 [00:27<00:00, 27.70s/it]\n",
      "Recognizing Text: 100%|███████████████████████████| 1/1 [00:35<00:00, 35.78s/it]\n"
     ]
    },
    {
     "name": "stdout",
     "output_type": "stream",
     "text": [
      "Wrote results to /Users/fajrzafar/Documents/Semester 8 /FYP 1/Extracted_Text/PTB2/page_28\n",
      "Loading detection model vikp/surya_det2 on device cpu with dtype torch.float32\n",
      "Loading recognition model vikp/surya_rec on device mps with dtype torch.float16\n"
     ]
    },
    {
     "name": "stderr",
     "output_type": "stream",
     "text": [
      "Detecting bboxes: 100%|███████████████████████████| 1/1 [00:28<00:00, 28.65s/it]\n",
      "Recognizing Text: 100%|███████████████████████████| 1/1 [00:12<00:00, 12.71s/it]\n"
     ]
    },
    {
     "name": "stdout",
     "output_type": "stream",
     "text": [
      "Wrote results to /Users/fajrzafar/Documents/Semester 8 /FYP 1/Extracted_Text/PTB2/page_14\n",
      "Loading detection model vikp/surya_det2 on device cpu with dtype torch.float32\n",
      "Loading recognition model vikp/surya_rec on device mps with dtype torch.float16\n"
     ]
    },
    {
     "name": "stderr",
     "output_type": "stream",
     "text": [
      "Detecting bboxes: 100%|███████████████████████████| 1/1 [00:29<00:00, 29.28s/it]\n",
      "Recognizing Text: 100%|███████████████████████████| 1/1 [00:19<00:00, 19.05s/it]\n"
     ]
    },
    {
     "name": "stdout",
     "output_type": "stream",
     "text": [
      "Wrote results to /Users/fajrzafar/Documents/Semester 8 /FYP 1/Extracted_Text/PTB2/page_8\n",
      "Loading detection model vikp/surya_det2 on device cpu with dtype torch.float32\n",
      "Loading recognition model vikp/surya_rec on device mps with dtype torch.float16\n"
     ]
    },
    {
     "name": "stderr",
     "output_type": "stream",
     "text": [
      "Detecting bboxes: 100%|███████████████████████████| 1/1 [00:29<00:00, 29.75s/it]\n",
      "Recognizing Text: 100%|██████████████████████████| 1/1 [12:44<00:00, 764.34s/it]\n"
     ]
    },
    {
     "name": "stdout",
     "output_type": "stream",
     "text": [
      "Wrote results to /Users/fajrzafar/Documents/Semester 8 /FYP 1/Extracted_Text/PTB2/page_9\n"
     ]
    }
   ],
   "source": [
    "import argparse\n",
    "import json\n",
    "from collections import defaultdict\n",
    "\n",
    "from surya.input.langs import replace_lang_with_code, get_unique_langs\n",
    "from surya.input.load import load_from_folder, load_from_file, load_lang_file\n",
    "from surya.model.detection.segformer import load_model as load_detection_model, load_processor as load_detection_processor\n",
    "from surya.model.recognition.model import load_model as load_recognition_model\n",
    "from surya.model.recognition.processor import load_processor as load_recognition_processor\n",
    "from surya.model.recognition.tokenizer import _tokenize\n",
    "from surya.ocr import run_ocr\n",
    "from surya.postprocessing.text import draw_text_on_image\n",
    "from surya.settings import settings\n",
    "import os\n",
    "import csv \n",
    "\n",
    "\n",
    "\n",
    "def process_folder(input_folder, results_dir):\n",
    "    # Get a list of all PNG files in the folder\n",
    "    png_files = [f for f in os.listdir(input_folder) if f.endswith('.png')]\n",
    "\n",
    "    for png_file in png_files:\n",
    "        # Construct the full path to the PNG file\n",
    "        png_path = os.path.join(input_folder, png_file)\n",
    "\n",
    "        # Call the main function for each PNG file\n",
    "        main(png_path, results_dir)\n",
    "\n",
    "\n",
    "def main(input_path,\n",
    "    results_dir,\n",
    "    lang_file=None,\n",
    "    langs='hi,en',\n",
    "    max=None,\n",
    "    start_page=None,\n",
    "    images=False):\n",
    "\n",
    "    if os.path.isdir(input_path):\n",
    "        images, names = load_from_folder(input_path, max, start_page)\n",
    "        folder_name = os.path.basename(input_path)\n",
    "    else:\n",
    "        images, names = load_from_file(input_path, max, start_page)\n",
    "        folder_name = os.path.basename(input_path).split(\".\")[0]\n",
    "\n",
    "    if lang_file:\n",
    "        # We got all of our language settings from a file\n",
    "        langs = load_lang_file(lang_file, names) \n",
    "        for lang in langs:\n",
    "            replace_lang_with_code(lang)\n",
    "        image_langs = langs\n",
    "    else:\n",
    "        # We got our language settings from the input\n",
    "        langs = langs.split(\",\")\n",
    "        replace_lang_with_code(langs)\n",
    "        image_langs = [langs] * len(images)\n",
    "\n",
    "    det_processor = load_detection_processor()\n",
    "    det_model = load_detection_model()\n",
    "\n",
    "    _, lang_tokens = _tokenize(\"\", get_unique_langs(image_langs))\n",
    "    rec_model = load_recognition_model(langs=lang_tokens) # Prune model moe layer to only include languages we need\n",
    "    rec_processor = load_recognition_processor()\n",
    "\n",
    "    result_path = os.path.join(results_dir, folder_name)\n",
    "    os.makedirs(result_path, exist_ok=True)\n",
    "\n",
    "    predictions_by_image = run_ocr(images, image_langs, det_model, det_processor, rec_model, rec_processor)\n",
    "\n",
    "    if images:\n",
    "        for idx, (name, image, pred, langs) in enumerate(zip(names, images, predictions_by_image, image_langs)):\n",
    "            bboxes = [l.bbox for l in pred.text_lines]\n",
    "            pred_text = [l.text for l in pred.text_lines]\n",
    "            page_image = draw_text_on_image(bboxes, pred_text, image.size, langs, has_math=\"_math\" in langs)\n",
    "            page_image.save(f'./temp{idx}.jpg')\n",
    "            page_image.save(os.path.join(result_path, f\"{name}_{idx}_text.png\"))\n",
    "\n",
    "             # Save text to CSV file\n",
    "            csv_file_path = os.path.join(result_path, f\"{name}_{idx}_text.csv\")\n",
    "            with open(csv_file_path, 'w', newline='', encoding='utf-8') as csv_file:\n",
    "                writer = csv.writer(csv_file)\n",
    "                writer.writerow(['Text'])\n",
    "                for line in pred_text:\n",
    "                    writer.writerow([line])\n",
    "\n",
    "\n",
    "        out_preds = defaultdict(list)\n",
    "        for name, pred, image in zip(names, predictions_by_image, images):\n",
    "            out_pred = pred.model_dump()\n",
    "            out_pred[\"page\"] = len(out_preds[name]) + 1\n",
    "            out_preds[name].append(out_pred)\n",
    "\n",
    "        with open(os.path.join(result_path, \"results.json\"), \"w+\", encoding=\"utf-8\") as f:\n",
    "            json.dump(out_preds, f, ensure_ascii=False)\n",
    "\n",
    "        print(f\"Wrote results to {result_path}\")\n",
    "\n",
    "        # from PIL import Image, ImageDraw\n",
    "        # indices = []\n",
    "        # prev = -1\n",
    "        # for idx in range(len(preds['text_lines'])):\n",
    "        #     x_axis = preds['text_lines'][idx]['polygon'][0][0]\n",
    "        #     if prev != -1 and x_axis > (prev + 5):\n",
    "        #         indices.append(idx)\n",
    "        #     prev = x_axis\n",
    "            \n",
    "        # text = ''\n",
    "        # for idx in range(len(preds['text_lines'])):\n",
    "        #     if idx not in indices:\n",
    "        #         text += preds['text_lines'][idx]['text'] + ' '\n",
    "\n",
    "        # print(f\"Text for page {page_idx + 1}: {text}\")\n",
    "        \n",
    "\n",
    "\n",
    "if __name__ == \"__main__\":\n",
    "     input_folder = '/Users/fajrzafar/Documents/Semester 8 /FYP 1/Books PNGS/PTB2'\n",
    "     results_dir = '/Users/fajrzafar/Documents/Semester 8 /FYP 1/Extracted_Text/PTB2'\n",
    "     process_folder(input_folder, results_dir)"
   ]
  },
  {
   "cell_type": "code",
   "execution_count": null,
   "id": "619a6298-dad8-4f19-912a-b75446ff364b",
   "metadata": {},
   "outputs": [],
   "source": []
  },
  {
   "cell_type": "code",
   "execution_count": 1,
   "id": "95f877bf-f995-4f18-9ecc-bf70133ee56c",
   "metadata": {},
   "outputs": [
    {
     "name": "stdout",
     "output_type": "stream",
     "text": [
      "Loading detection model vikp/surya_det2 on device cpu with dtype torch.float32\n",
      "Loading recognition model vikp/surya_rec on device mps with dtype torch.float16\n"
     ]
    },
    {
     "name": "stderr",
     "output_type": "stream",
     "text": [
      "Detecting bboxes: 100%|███████████████████████████| 1/1 [00:27<00:00, 27.14s/it]\n",
      "Recognizing Text:   0%|                                   | 0/1 [00:00<?, ?it/s]/Library/Frameworks/Python.framework/Versions/3.11/lib/python3.11/site-packages/transformers/generation/utils.py:1518: UserWarning: You have modified the pretrained model configuration to control generation. This is a deprecated strategy to control generation and will be removed soon, in a future version. Please use and modify the model generation configuration (see https://huggingface.co/docs/transformers/generation_strategies#default-text-generation-configuration )\n",
      "  warnings.warn(\n",
      "Recognizing Text: 100%|███████████████████████████| 1/1 [00:14<00:00, 14.73s/it]\n"
     ]
    },
    {
     "name": "stdout",
     "output_type": "stream",
     "text": [
      "Wrote results to /Users/fajrzafar/Documents/Semester 8 /FYP 1/Extracted_Text/PTB3/page_2\n",
      "Loading detection model vikp/surya_det2 on device cpu with dtype torch.float32\n",
      "Loading recognition model vikp/surya_rec on device mps with dtype torch.float16\n"
     ]
    },
    {
     "name": "stderr",
     "output_type": "stream",
     "text": [
      "Detecting bboxes: 100%|███████████████████████████| 1/1 [00:26<00:00, 26.53s/it]\n",
      "Recognizing Text: 100%|███████████████████████████| 1/1 [00:38<00:00, 38.67s/it]\n"
     ]
    },
    {
     "name": "stdout",
     "output_type": "stream",
     "text": [
      "Wrote results to /Users/fajrzafar/Documents/Semester 8 /FYP 1/Extracted_Text/PTB3/page_3\n",
      "Loading detection model vikp/surya_det2 on device cpu with dtype torch.float32\n",
      "Loading recognition model vikp/surya_rec on device mps with dtype torch.float16\n"
     ]
    },
    {
     "name": "stderr",
     "output_type": "stream",
     "text": [
      "Detecting bboxes: 100%|███████████████████████████| 1/1 [00:27<00:00, 27.10s/it]\n",
      "Recognizing Text: 100%|██████████████████████████| 1/1 [02:37<00:00, 157.76s/it]\n"
     ]
    },
    {
     "name": "stdout",
     "output_type": "stream",
     "text": [
      "Wrote results to /Users/fajrzafar/Documents/Semester 8 /FYP 1/Extracted_Text/PTB3/page_1\n",
      "Loading detection model vikp/surya_det2 on device cpu with dtype torch.float32\n",
      "Loading recognition model vikp/surya_rec on device mps with dtype torch.float16\n"
     ]
    },
    {
     "name": "stderr",
     "output_type": "stream",
     "text": [
      "Detecting bboxes: 100%|███████████████████████████| 1/1 [00:25<00:00, 25.59s/it]\n",
      "Recognizing Text: 100%|██████████████████████████| 1/1 [01:54<00:00, 114.05s/it]\n"
     ]
    },
    {
     "name": "stdout",
     "output_type": "stream",
     "text": [
      "Wrote results to /Users/fajrzafar/Documents/Semester 8 /FYP 1/Extracted_Text/PTB3/page_4\n",
      "Loading detection model vikp/surya_det2 on device cpu with dtype torch.float32\n",
      "Loading recognition model vikp/surya_rec on device mps with dtype torch.float16\n"
     ]
    },
    {
     "name": "stderr",
     "output_type": "stream",
     "text": [
      "Detecting bboxes: 100%|███████████████████████████| 1/1 [00:26<00:00, 26.23s/it]\n",
      "Recognizing Text: 100%|███████████████████████████| 1/1 [00:46<00:00, 46.15s/it]\n"
     ]
    },
    {
     "name": "stdout",
     "output_type": "stream",
     "text": [
      "Wrote results to /Users/fajrzafar/Documents/Semester 8 /FYP 1/Extracted_Text/PTB3/page_5\n",
      "Loading detection model vikp/surya_det2 on device cpu with dtype torch.float32\n",
      "Loading recognition model vikp/surya_rec on device mps with dtype torch.float16\n"
     ]
    },
    {
     "name": "stderr",
     "output_type": "stream",
     "text": [
      "Detecting bboxes: 100%|███████████████████████████| 1/1 [00:26<00:00, 26.95s/it]\n",
      "Recognizing Text: 100%|███████████████████████████| 1/1 [01:35<00:00, 95.66s/it]\n"
     ]
    },
    {
     "name": "stdout",
     "output_type": "stream",
     "text": [
      "Wrote results to /Users/fajrzafar/Documents/Semester 8 /FYP 1/Extracted_Text/PTB3/page_7\n",
      "Loading detection model vikp/surya_det2 on device cpu with dtype torch.float32\n",
      "Loading recognition model vikp/surya_rec on device mps with dtype torch.float16\n"
     ]
    },
    {
     "name": "stderr",
     "output_type": "stream",
     "text": [
      "Detecting bboxes: 100%|███████████████████████████| 1/1 [00:27<00:00, 27.30s/it]\n",
      "Recognizing Text: 100%|██████████████████████████| 1/1 [02:22<00:00, 142.94s/it]\n"
     ]
    },
    {
     "name": "stdout",
     "output_type": "stream",
     "text": [
      "Wrote results to /Users/fajrzafar/Documents/Semester 8 /FYP 1/Extracted_Text/PTB3/page_6\n",
      "Loading detection model vikp/surya_det2 on device cpu with dtype torch.float32\n",
      "Loading recognition model vikp/surya_rec on device mps with dtype torch.float16\n"
     ]
    },
    {
     "name": "stderr",
     "output_type": "stream",
     "text": [
      "Detecting bboxes: 100%|███████████████████████████| 1/1 [00:27<00:00, 27.91s/it]\n",
      "Recognizing Text: 100%|██████████████████████████| 1/1 [02:53<00:00, 173.19s/it]\n"
     ]
    },
    {
     "name": "stdout",
     "output_type": "stream",
     "text": [
      "Wrote results to /Users/fajrzafar/Documents/Semester 8 /FYP 1/Extracted_Text/PTB3/page_19\n",
      "Loading detection model vikp/surya_det2 on device cpu with dtype torch.float32\n",
      "Loading recognition model vikp/surya_rec on device mps with dtype torch.float16\n"
     ]
    },
    {
     "name": "stderr",
     "output_type": "stream",
     "text": [
      "Detecting bboxes: 100%|███████████████████████████| 1/1 [00:27<00:00, 27.46s/it]\n",
      "Recognizing Text: 100%|██████████████████████████| 1/1 [02:48<00:00, 168.17s/it]\n"
     ]
    },
    {
     "name": "stdout",
     "output_type": "stream",
     "text": [
      "Wrote results to /Users/fajrzafar/Documents/Semester 8 /FYP 1/Extracted_Text/PTB3/page_25\n",
      "Loading detection model vikp/surya_det2 on device cpu with dtype torch.float32\n",
      "Loading recognition model vikp/surya_rec on device mps with dtype torch.float16\n"
     ]
    },
    {
     "name": "stderr",
     "output_type": "stream",
     "text": [
      "Detecting bboxes: 100%|███████████████████████████| 1/1 [00:28<00:00, 28.90s/it]\n",
      "Recognizing Text: 100%|███████████████████████████| 1/1 [01:37<00:00, 97.01s/it]\n"
     ]
    },
    {
     "name": "stdout",
     "output_type": "stream",
     "text": [
      "Wrote results to /Users/fajrzafar/Documents/Semester 8 /FYP 1/Extracted_Text/PTB3/page_31\n",
      "Loading detection model vikp/surya_det2 on device cpu with dtype torch.float32\n",
      "Loading recognition model vikp/surya_rec on device mps with dtype torch.float16\n"
     ]
    },
    {
     "name": "stderr",
     "output_type": "stream",
     "text": [
      "Detecting bboxes: 100%|███████████████████████████| 1/1 [00:28<00:00, 28.19s/it]\n",
      "Recognizing Text: 100%|██████████████████████████| 1/1 [01:43<00:00, 103.65s/it]\n"
     ]
    },
    {
     "name": "stdout",
     "output_type": "stream",
     "text": [
      "Wrote results to /Users/fajrzafar/Documents/Semester 8 /FYP 1/Extracted_Text/PTB3/page_30\n",
      "Loading detection model vikp/surya_det2 on device cpu with dtype torch.float32\n",
      "Loading recognition model vikp/surya_rec on device mps with dtype torch.float16\n"
     ]
    },
    {
     "name": "stderr",
     "output_type": "stream",
     "text": [
      "Detecting bboxes: 100%|███████████████████████████| 1/1 [00:28<00:00, 28.29s/it]\n",
      "Recognizing Text:   0%|                                   | 0/1 [00:09<?, ?it/s]\n"
     ]
    },
    {
     "ename": "RuntimeError",
     "evalue": "MPS backend out of memory (MPS allocated: 7.18 GB, other allocations: 1.58 GB, max allowed: 9.07 GB). Tried to allocate 332.28 MB on private pool. Use PYTORCH_MPS_HIGH_WATERMARK_RATIO=0.0 to disable upper limit for memory allocations (may cause system failure).",
     "output_type": "error",
     "traceback": [
      "\u001b[0;31m---------------------------------------------------------------------------\u001b[0m",
      "\u001b[0;31mRuntimeError\u001b[0m                              Traceback (most recent call last)",
      "Cell \u001b[0;32mIn[1], line 119\u001b[0m\n\u001b[1;32m    117\u001b[0m input_folder \u001b[38;5;241m=\u001b[39m \u001b[38;5;124m'\u001b[39m\u001b[38;5;124m/Users/fajrzafar/Documents/Semester 8 /FYP 1/Books PNGS/PTB3\u001b[39m\u001b[38;5;124m'\u001b[39m\n\u001b[1;32m    118\u001b[0m results_dir \u001b[38;5;241m=\u001b[39m \u001b[38;5;124m'\u001b[39m\u001b[38;5;124m/Users/fajrzafar/Documents/Semester 8 /FYP 1/Extracted_Text/PTB3\u001b[39m\u001b[38;5;124m'\u001b[39m\n\u001b[0;32m--> 119\u001b[0m \u001b[43mprocess_folder\u001b[49m\u001b[43m(\u001b[49m\u001b[43minput_folder\u001b[49m\u001b[43m,\u001b[49m\u001b[43m \u001b[49m\u001b[43mresults_dir\u001b[49m\u001b[43m)\u001b[49m\n",
      "Cell \u001b[0;32mIn[1], line 28\u001b[0m, in \u001b[0;36mprocess_folder\u001b[0;34m(input_folder, results_dir)\u001b[0m\n\u001b[1;32m     25\u001b[0m png_path \u001b[38;5;241m=\u001b[39m os\u001b[38;5;241m.\u001b[39mpath\u001b[38;5;241m.\u001b[39mjoin(input_folder, png_file)\n\u001b[1;32m     27\u001b[0m \u001b[38;5;66;03m# Call the main function for each PNG file\u001b[39;00m\n\u001b[0;32m---> 28\u001b[0m \u001b[43mmain\u001b[49m\u001b[43m(\u001b[49m\u001b[43mpng_path\u001b[49m\u001b[43m,\u001b[49m\u001b[43m \u001b[49m\u001b[43mresults_dir\u001b[49m\u001b[43m)\u001b[49m\n",
      "Cell \u001b[0;32mIn[1], line 68\u001b[0m, in \u001b[0;36mmain\u001b[0;34m(input_path, results_dir, lang_file, langs, max, start_page, images)\u001b[0m\n\u001b[1;32m     65\u001b[0m result_path \u001b[38;5;241m=\u001b[39m os\u001b[38;5;241m.\u001b[39mpath\u001b[38;5;241m.\u001b[39mjoin(results_dir, folder_name)\n\u001b[1;32m     66\u001b[0m os\u001b[38;5;241m.\u001b[39mmakedirs(result_path, exist_ok\u001b[38;5;241m=\u001b[39m\u001b[38;5;28;01mTrue\u001b[39;00m)\n\u001b[0;32m---> 68\u001b[0m predictions_by_image \u001b[38;5;241m=\u001b[39m \u001b[43mrun_ocr\u001b[49m\u001b[43m(\u001b[49m\u001b[43mimages\u001b[49m\u001b[43m,\u001b[49m\u001b[43m \u001b[49m\u001b[43mimage_langs\u001b[49m\u001b[43m,\u001b[49m\u001b[43m \u001b[49m\u001b[43mdet_model\u001b[49m\u001b[43m,\u001b[49m\u001b[43m \u001b[49m\u001b[43mdet_processor\u001b[49m\u001b[43m,\u001b[49m\u001b[43m \u001b[49m\u001b[43mrec_model\u001b[49m\u001b[43m,\u001b[49m\u001b[43m \u001b[49m\u001b[43mrec_processor\u001b[49m\u001b[43m)\u001b[49m\n\u001b[1;32m     70\u001b[0m \u001b[38;5;28;01mif\u001b[39;00m images:\n\u001b[1;32m     71\u001b[0m     \u001b[38;5;28;01mfor\u001b[39;00m idx, (name, image, pred, langs) \u001b[38;5;129;01min\u001b[39;00m \u001b[38;5;28menumerate\u001b[39m(\u001b[38;5;28mzip\u001b[39m(names, images, predictions_by_image, image_langs)):\n",
      "File \u001b[0;32m/Library/Frameworks/Python.framework/Versions/3.11/lib/python3.11/site-packages/surya/ocr.py:77\u001b[0m, in \u001b[0;36mrun_ocr\u001b[0;34m(images, langs, det_model, det_processor, rec_model, rec_processor)\u001b[0m\n\u001b[1;32m     74\u001b[0m     all_slices\u001b[38;5;241m.\u001b[39mextend(slices)\n\u001b[1;32m     75\u001b[0m     all_langs\u001b[38;5;241m.\u001b[39mextend([lang] \u001b[38;5;241m*\u001b[39m \u001b[38;5;28mlen\u001b[39m(slices))\n\u001b[0;32m---> 77\u001b[0m rec_predictions, confidence_scores \u001b[38;5;241m=\u001b[39m \u001b[43mbatch_recognition\u001b[49m\u001b[43m(\u001b[49m\u001b[43mall_slices\u001b[49m\u001b[43m,\u001b[49m\u001b[43m \u001b[49m\u001b[43mall_langs\u001b[49m\u001b[43m,\u001b[49m\u001b[43m \u001b[49m\u001b[43mrec_model\u001b[49m\u001b[43m,\u001b[49m\u001b[43m \u001b[49m\u001b[43mrec_processor\u001b[49m\u001b[43m)\u001b[49m\n\u001b[1;32m     79\u001b[0m predictions_by_image \u001b[38;5;241m=\u001b[39m []\n\u001b[1;32m     80\u001b[0m slice_start \u001b[38;5;241m=\u001b[39m \u001b[38;5;241m0\u001b[39m\n",
      "File \u001b[0;32m/Library/Frameworks/Python.framework/Versions/3.11/lib/python3.11/site-packages/surya/recognition.py:48\u001b[0m, in \u001b[0;36mbatch_recognition\u001b[0;34m(images, languages, model, processor)\u001b[0m\n\u001b[1;32m     45\u001b[0m batch_decoder_input \u001b[38;5;241m=\u001b[39m torch\u001b[38;5;241m.\u001b[39mfrom_numpy(np\u001b[38;5;241m.\u001b[39marray(batch_decoder_input, dtype\u001b[38;5;241m=\u001b[39mnp\u001b[38;5;241m.\u001b[39mint64))\u001b[38;5;241m.\u001b[39mto(model\u001b[38;5;241m.\u001b[39mdevice)\n\u001b[1;32m     47\u001b[0m \u001b[38;5;28;01mwith\u001b[39;00m torch\u001b[38;5;241m.\u001b[39minference_mode():\n\u001b[0;32m---> 48\u001b[0m     return_dict \u001b[38;5;241m=\u001b[39m \u001b[43mmodel\u001b[49m\u001b[38;5;241;43m.\u001b[39;49m\u001b[43mgenerate\u001b[49m\u001b[43m(\u001b[49m\n\u001b[1;32m     49\u001b[0m \u001b[43m        \u001b[49m\u001b[43mpixel_values\u001b[49m\u001b[38;5;241;43m=\u001b[39;49m\u001b[43mbatch_pixel_values\u001b[49m\u001b[43m,\u001b[49m\n\u001b[1;32m     50\u001b[0m \u001b[43m        \u001b[49m\u001b[43mdecoder_input_ids\u001b[49m\u001b[38;5;241;43m=\u001b[39;49m\u001b[43mbatch_decoder_input\u001b[49m\u001b[43m,\u001b[49m\n\u001b[1;32m     51\u001b[0m \u001b[43m        \u001b[49m\u001b[43mdecoder_langs\u001b[49m\u001b[38;5;241;43m=\u001b[39;49m\u001b[43mbatch_langs\u001b[49m\u001b[43m,\u001b[49m\n\u001b[1;32m     52\u001b[0m \u001b[43m        \u001b[49m\u001b[43meos_token_id\u001b[49m\u001b[38;5;241;43m=\u001b[39;49m\u001b[43mprocessor\u001b[49m\u001b[38;5;241;43m.\u001b[39;49m\u001b[43mtokenizer\u001b[49m\u001b[38;5;241;43m.\u001b[39;49m\u001b[43meos_id\u001b[49m\u001b[43m,\u001b[49m\n\u001b[1;32m     53\u001b[0m \u001b[43m        \u001b[49m\u001b[43mmax_new_tokens\u001b[49m\u001b[38;5;241;43m=\u001b[39;49m\u001b[43msettings\u001b[49m\u001b[38;5;241;43m.\u001b[39;49m\u001b[43mRECOGNITION_MAX_TOKENS\u001b[49m\u001b[43m,\u001b[49m\n\u001b[1;32m     54\u001b[0m \u001b[43m        \u001b[49m\u001b[43moutput_scores\u001b[49m\u001b[38;5;241;43m=\u001b[39;49m\u001b[38;5;28;43;01mTrue\u001b[39;49;00m\u001b[43m,\u001b[49m\n\u001b[1;32m     55\u001b[0m \u001b[43m        \u001b[49m\u001b[43mreturn_dict_in_generate\u001b[49m\u001b[38;5;241;43m=\u001b[39;49m\u001b[38;5;28;43;01mTrue\u001b[39;49;00m\n\u001b[1;32m     56\u001b[0m \u001b[43m    \u001b[49m\u001b[43m)\u001b[49m\n\u001b[1;32m     57\u001b[0m     generated_ids \u001b[38;5;241m=\u001b[39m return_dict[\u001b[38;5;124m\"\u001b[39m\u001b[38;5;124msequences\u001b[39m\u001b[38;5;124m\"\u001b[39m]\n\u001b[1;32m     59\u001b[0m     \u001b[38;5;66;03m# Find confidence scores\u001b[39;00m\n",
      "File \u001b[0;32m/Library/Frameworks/Python.framework/Versions/3.11/lib/python3.11/site-packages/torch/utils/_contextlib.py:115\u001b[0m, in \u001b[0;36mcontext_decorator.<locals>.decorate_context\u001b[0;34m(*args, **kwargs)\u001b[0m\n\u001b[1;32m    112\u001b[0m \u001b[38;5;129m@functools\u001b[39m\u001b[38;5;241m.\u001b[39mwraps(func)\n\u001b[1;32m    113\u001b[0m \u001b[38;5;28;01mdef\u001b[39;00m \u001b[38;5;21mdecorate_context\u001b[39m(\u001b[38;5;241m*\u001b[39margs, \u001b[38;5;241m*\u001b[39m\u001b[38;5;241m*\u001b[39mkwargs):\n\u001b[1;32m    114\u001b[0m     \u001b[38;5;28;01mwith\u001b[39;00m ctx_factory():\n\u001b[0;32m--> 115\u001b[0m         \u001b[38;5;28;01mreturn\u001b[39;00m \u001b[43mfunc\u001b[49m\u001b[43m(\u001b[49m\u001b[38;5;241;43m*\u001b[39;49m\u001b[43margs\u001b[49m\u001b[43m,\u001b[49m\u001b[43m \u001b[49m\u001b[38;5;241;43m*\u001b[39;49m\u001b[38;5;241;43m*\u001b[39;49m\u001b[43mkwargs\u001b[49m\u001b[43m)\u001b[49m\n",
      "File \u001b[0;32m/Library/Frameworks/Python.framework/Versions/3.11/lib/python3.11/site-packages/transformers/generation/utils.py:1593\u001b[0m, in \u001b[0;36mGenerationMixin.generate\u001b[0;34m(self, inputs, generation_config, logits_processor, stopping_criteria, prefix_allowed_tokens_fn, synced_gpus, assistant_model, streamer, negative_prompt_ids, negative_prompt_attention_mask, **kwargs)\u001b[0m\n\u001b[1;32m   1585\u001b[0m         logger\u001b[38;5;241m.\u001b[39mwarning(\n\u001b[1;32m   1586\u001b[0m             \u001b[38;5;124m\"\u001b[39m\u001b[38;5;124mA decoder-only architecture is being used, but right-padding was detected! For correct \u001b[39m\u001b[38;5;124m\"\u001b[39m\n\u001b[1;32m   1587\u001b[0m             \u001b[38;5;124m\"\u001b[39m\u001b[38;5;124mgeneration results, please set `padding_side=\u001b[39m\u001b[38;5;124m'\u001b[39m\u001b[38;5;124mleft\u001b[39m\u001b[38;5;124m'\u001b[39m\u001b[38;5;124m` when initializing the tokenizer.\u001b[39m\u001b[38;5;124m\"\u001b[39m\n\u001b[1;32m   1588\u001b[0m         )\n\u001b[1;32m   1590\u001b[0m \u001b[38;5;28;01mif\u001b[39;00m \u001b[38;5;28mself\u001b[39m\u001b[38;5;241m.\u001b[39mconfig\u001b[38;5;241m.\u001b[39mis_encoder_decoder \u001b[38;5;129;01mand\u001b[39;00m \u001b[38;5;124m\"\u001b[39m\u001b[38;5;124mencoder_outputs\u001b[39m\u001b[38;5;124m\"\u001b[39m \u001b[38;5;129;01mnot\u001b[39;00m \u001b[38;5;129;01min\u001b[39;00m model_kwargs:\n\u001b[1;32m   1591\u001b[0m     \u001b[38;5;66;03m# if model is encoder decoder encoder_outputs are created\u001b[39;00m\n\u001b[1;32m   1592\u001b[0m     \u001b[38;5;66;03m# and added to `model_kwargs`\u001b[39;00m\n\u001b[0;32m-> 1593\u001b[0m     model_kwargs \u001b[38;5;241m=\u001b[39m \u001b[38;5;28;43mself\u001b[39;49m\u001b[38;5;241;43m.\u001b[39;49m\u001b[43m_prepare_encoder_decoder_kwargs_for_generation\u001b[49m\u001b[43m(\u001b[49m\n\u001b[1;32m   1594\u001b[0m \u001b[43m        \u001b[49m\u001b[43minputs_tensor\u001b[49m\u001b[43m,\u001b[49m\u001b[43m \u001b[49m\u001b[43mmodel_kwargs\u001b[49m\u001b[43m,\u001b[49m\u001b[43m \u001b[49m\u001b[43mmodel_input_name\u001b[49m\n\u001b[1;32m   1595\u001b[0m \u001b[43m    \u001b[49m\u001b[43m)\u001b[49m\n\u001b[1;32m   1597\u001b[0m \u001b[38;5;66;03m# 5. Prepare `input_ids` which will be used for auto-regressive generation\u001b[39;00m\n\u001b[1;32m   1598\u001b[0m \u001b[38;5;28;01mif\u001b[39;00m \u001b[38;5;28mself\u001b[39m\u001b[38;5;241m.\u001b[39mconfig\u001b[38;5;241m.\u001b[39mis_encoder_decoder:\n",
      "File \u001b[0;32m/Library/Frameworks/Python.framework/Versions/3.11/lib/python3.11/site-packages/transformers/generation/utils.py:742\u001b[0m, in \u001b[0;36mGenerationMixin._prepare_encoder_decoder_kwargs_for_generation\u001b[0;34m(self, inputs_tensor, model_kwargs, model_input_name)\u001b[0m\n\u001b[1;32m    740\u001b[0m encoder_kwargs[\u001b[38;5;124m\"\u001b[39m\u001b[38;5;124mreturn_dict\u001b[39m\u001b[38;5;124m\"\u001b[39m] \u001b[38;5;241m=\u001b[39m \u001b[38;5;28;01mTrue\u001b[39;00m\n\u001b[1;32m    741\u001b[0m encoder_kwargs[model_input_name] \u001b[38;5;241m=\u001b[39m inputs_tensor\n\u001b[0;32m--> 742\u001b[0m model_kwargs[\u001b[38;5;124m\"\u001b[39m\u001b[38;5;124mencoder_outputs\u001b[39m\u001b[38;5;124m\"\u001b[39m]: ModelOutput \u001b[38;5;241m=\u001b[39m \u001b[43mencoder\u001b[49m\u001b[43m(\u001b[49m\u001b[38;5;241;43m*\u001b[39;49m\u001b[38;5;241;43m*\u001b[39;49m\u001b[43mencoder_kwargs\u001b[49m\u001b[43m)\u001b[49m\n\u001b[1;32m    744\u001b[0m \u001b[38;5;28;01mreturn\u001b[39;00m model_kwargs\n",
      "File \u001b[0;32m/Library/Frameworks/Python.framework/Versions/3.11/lib/python3.11/site-packages/torch/nn/modules/module.py:1532\u001b[0m, in \u001b[0;36mModule._wrapped_call_impl\u001b[0;34m(self, *args, **kwargs)\u001b[0m\n\u001b[1;32m   1530\u001b[0m     \u001b[38;5;28;01mreturn\u001b[39;00m \u001b[38;5;28mself\u001b[39m\u001b[38;5;241m.\u001b[39m_compiled_call_impl(\u001b[38;5;241m*\u001b[39margs, \u001b[38;5;241m*\u001b[39m\u001b[38;5;241m*\u001b[39mkwargs)  \u001b[38;5;66;03m# type: ignore[misc]\u001b[39;00m\n\u001b[1;32m   1531\u001b[0m \u001b[38;5;28;01melse\u001b[39;00m:\n\u001b[0;32m-> 1532\u001b[0m     \u001b[38;5;28;01mreturn\u001b[39;00m \u001b[38;5;28;43mself\u001b[39;49m\u001b[38;5;241;43m.\u001b[39;49m\u001b[43m_call_impl\u001b[49m\u001b[43m(\u001b[49m\u001b[38;5;241;43m*\u001b[39;49m\u001b[43margs\u001b[49m\u001b[43m,\u001b[49m\u001b[43m \u001b[49m\u001b[38;5;241;43m*\u001b[39;49m\u001b[38;5;241;43m*\u001b[39;49m\u001b[43mkwargs\u001b[49m\u001b[43m)\u001b[49m\n",
      "File \u001b[0;32m/Library/Frameworks/Python.framework/Versions/3.11/lib/python3.11/site-packages/torch/nn/modules/module.py:1541\u001b[0m, in \u001b[0;36mModule._call_impl\u001b[0;34m(self, *args, **kwargs)\u001b[0m\n\u001b[1;32m   1536\u001b[0m \u001b[38;5;66;03m# If we don't have any hooks, we want to skip the rest of the logic in\u001b[39;00m\n\u001b[1;32m   1537\u001b[0m \u001b[38;5;66;03m# this function, and just call forward.\u001b[39;00m\n\u001b[1;32m   1538\u001b[0m \u001b[38;5;28;01mif\u001b[39;00m \u001b[38;5;129;01mnot\u001b[39;00m (\u001b[38;5;28mself\u001b[39m\u001b[38;5;241m.\u001b[39m_backward_hooks \u001b[38;5;129;01mor\u001b[39;00m \u001b[38;5;28mself\u001b[39m\u001b[38;5;241m.\u001b[39m_backward_pre_hooks \u001b[38;5;129;01mor\u001b[39;00m \u001b[38;5;28mself\u001b[39m\u001b[38;5;241m.\u001b[39m_forward_hooks \u001b[38;5;129;01mor\u001b[39;00m \u001b[38;5;28mself\u001b[39m\u001b[38;5;241m.\u001b[39m_forward_pre_hooks\n\u001b[1;32m   1539\u001b[0m         \u001b[38;5;129;01mor\u001b[39;00m _global_backward_pre_hooks \u001b[38;5;129;01mor\u001b[39;00m _global_backward_hooks\n\u001b[1;32m   1540\u001b[0m         \u001b[38;5;129;01mor\u001b[39;00m _global_forward_hooks \u001b[38;5;129;01mor\u001b[39;00m _global_forward_pre_hooks):\n\u001b[0;32m-> 1541\u001b[0m     \u001b[38;5;28;01mreturn\u001b[39;00m \u001b[43mforward_call\u001b[49m\u001b[43m(\u001b[49m\u001b[38;5;241;43m*\u001b[39;49m\u001b[43margs\u001b[49m\u001b[43m,\u001b[49m\u001b[43m \u001b[49m\u001b[38;5;241;43m*\u001b[39;49m\u001b[38;5;241;43m*\u001b[39;49m\u001b[43mkwargs\u001b[49m\u001b[43m)\u001b[49m\n\u001b[1;32m   1543\u001b[0m \u001b[38;5;28;01mtry\u001b[39;00m:\n\u001b[1;32m   1544\u001b[0m     result \u001b[38;5;241m=\u001b[39m \u001b[38;5;28;01mNone\u001b[39;00m\n",
      "File \u001b[0;32m/Library/Frameworks/Python.framework/Versions/3.11/lib/python3.11/site-packages/transformers/models/donut/modeling_donut_swin.py:925\u001b[0m, in \u001b[0;36mDonutSwinModel.forward\u001b[0;34m(self, pixel_values, bool_masked_pos, head_mask, output_attentions, output_hidden_states, return_dict)\u001b[0m\n\u001b[1;32m    921\u001b[0m head_mask \u001b[38;5;241m=\u001b[39m \u001b[38;5;28mself\u001b[39m\u001b[38;5;241m.\u001b[39mget_head_mask(head_mask, \u001b[38;5;28mlen\u001b[39m(\u001b[38;5;28mself\u001b[39m\u001b[38;5;241m.\u001b[39mconfig\u001b[38;5;241m.\u001b[39mdepths))\n\u001b[1;32m    923\u001b[0m embedding_output, input_dimensions \u001b[38;5;241m=\u001b[39m \u001b[38;5;28mself\u001b[39m\u001b[38;5;241m.\u001b[39membeddings(pixel_values, bool_masked_pos\u001b[38;5;241m=\u001b[39mbool_masked_pos)\n\u001b[0;32m--> 925\u001b[0m encoder_outputs \u001b[38;5;241m=\u001b[39m \u001b[38;5;28;43mself\u001b[39;49m\u001b[38;5;241;43m.\u001b[39;49m\u001b[43mencoder\u001b[49m\u001b[43m(\u001b[49m\n\u001b[1;32m    926\u001b[0m \u001b[43m    \u001b[49m\u001b[43membedding_output\u001b[49m\u001b[43m,\u001b[49m\n\u001b[1;32m    927\u001b[0m \u001b[43m    \u001b[49m\u001b[43minput_dimensions\u001b[49m\u001b[43m,\u001b[49m\n\u001b[1;32m    928\u001b[0m \u001b[43m    \u001b[49m\u001b[43mhead_mask\u001b[49m\u001b[38;5;241;43m=\u001b[39;49m\u001b[43mhead_mask\u001b[49m\u001b[43m,\u001b[49m\n\u001b[1;32m    929\u001b[0m \u001b[43m    \u001b[49m\u001b[43moutput_attentions\u001b[49m\u001b[38;5;241;43m=\u001b[39;49m\u001b[43moutput_attentions\u001b[49m\u001b[43m,\u001b[49m\n\u001b[1;32m    930\u001b[0m \u001b[43m    \u001b[49m\u001b[43moutput_hidden_states\u001b[49m\u001b[38;5;241;43m=\u001b[39;49m\u001b[43moutput_hidden_states\u001b[49m\u001b[43m,\u001b[49m\n\u001b[1;32m    931\u001b[0m \u001b[43m    \u001b[49m\u001b[43mreturn_dict\u001b[49m\u001b[38;5;241;43m=\u001b[39;49m\u001b[43mreturn_dict\u001b[49m\u001b[43m,\u001b[49m\n\u001b[1;32m    932\u001b[0m \u001b[43m\u001b[49m\u001b[43m)\u001b[49m\n\u001b[1;32m    934\u001b[0m sequence_output \u001b[38;5;241m=\u001b[39m encoder_outputs[\u001b[38;5;241m0\u001b[39m]\n\u001b[1;32m    936\u001b[0m pooled_output \u001b[38;5;241m=\u001b[39m \u001b[38;5;28;01mNone\u001b[39;00m\n",
      "File \u001b[0;32m/Library/Frameworks/Python.framework/Versions/3.11/lib/python3.11/site-packages/torch/nn/modules/module.py:1532\u001b[0m, in \u001b[0;36mModule._wrapped_call_impl\u001b[0;34m(self, *args, **kwargs)\u001b[0m\n\u001b[1;32m   1530\u001b[0m     \u001b[38;5;28;01mreturn\u001b[39;00m \u001b[38;5;28mself\u001b[39m\u001b[38;5;241m.\u001b[39m_compiled_call_impl(\u001b[38;5;241m*\u001b[39margs, \u001b[38;5;241m*\u001b[39m\u001b[38;5;241m*\u001b[39mkwargs)  \u001b[38;5;66;03m# type: ignore[misc]\u001b[39;00m\n\u001b[1;32m   1531\u001b[0m \u001b[38;5;28;01melse\u001b[39;00m:\n\u001b[0;32m-> 1532\u001b[0m     \u001b[38;5;28;01mreturn\u001b[39;00m \u001b[38;5;28;43mself\u001b[39;49m\u001b[38;5;241;43m.\u001b[39;49m\u001b[43m_call_impl\u001b[49m\u001b[43m(\u001b[49m\u001b[38;5;241;43m*\u001b[39;49m\u001b[43margs\u001b[49m\u001b[43m,\u001b[49m\u001b[43m \u001b[49m\u001b[38;5;241;43m*\u001b[39;49m\u001b[38;5;241;43m*\u001b[39;49m\u001b[43mkwargs\u001b[49m\u001b[43m)\u001b[49m\n",
      "File \u001b[0;32m/Library/Frameworks/Python.framework/Versions/3.11/lib/python3.11/site-packages/torch/nn/modules/module.py:1541\u001b[0m, in \u001b[0;36mModule._call_impl\u001b[0;34m(self, *args, **kwargs)\u001b[0m\n\u001b[1;32m   1536\u001b[0m \u001b[38;5;66;03m# If we don't have any hooks, we want to skip the rest of the logic in\u001b[39;00m\n\u001b[1;32m   1537\u001b[0m \u001b[38;5;66;03m# this function, and just call forward.\u001b[39;00m\n\u001b[1;32m   1538\u001b[0m \u001b[38;5;28;01mif\u001b[39;00m \u001b[38;5;129;01mnot\u001b[39;00m (\u001b[38;5;28mself\u001b[39m\u001b[38;5;241m.\u001b[39m_backward_hooks \u001b[38;5;129;01mor\u001b[39;00m \u001b[38;5;28mself\u001b[39m\u001b[38;5;241m.\u001b[39m_backward_pre_hooks \u001b[38;5;129;01mor\u001b[39;00m \u001b[38;5;28mself\u001b[39m\u001b[38;5;241m.\u001b[39m_forward_hooks \u001b[38;5;129;01mor\u001b[39;00m \u001b[38;5;28mself\u001b[39m\u001b[38;5;241m.\u001b[39m_forward_pre_hooks\n\u001b[1;32m   1539\u001b[0m         \u001b[38;5;129;01mor\u001b[39;00m _global_backward_pre_hooks \u001b[38;5;129;01mor\u001b[39;00m _global_backward_hooks\n\u001b[1;32m   1540\u001b[0m         \u001b[38;5;129;01mor\u001b[39;00m _global_forward_hooks \u001b[38;5;129;01mor\u001b[39;00m _global_forward_pre_hooks):\n\u001b[0;32m-> 1541\u001b[0m     \u001b[38;5;28;01mreturn\u001b[39;00m \u001b[43mforward_call\u001b[49m\u001b[43m(\u001b[49m\u001b[38;5;241;43m*\u001b[39;49m\u001b[43margs\u001b[49m\u001b[43m,\u001b[49m\u001b[43m \u001b[49m\u001b[38;5;241;43m*\u001b[39;49m\u001b[38;5;241;43m*\u001b[39;49m\u001b[43mkwargs\u001b[49m\u001b[43m)\u001b[49m\n\u001b[1;32m   1543\u001b[0m \u001b[38;5;28;01mtry\u001b[39;00m:\n\u001b[1;32m   1544\u001b[0m     result \u001b[38;5;241m=\u001b[39m \u001b[38;5;28;01mNone\u001b[39;00m\n",
      "File \u001b[0;32m/Library/Frameworks/Python.framework/Versions/3.11/lib/python3.11/site-packages/transformers/models/donut/modeling_donut_swin.py:756\u001b[0m, in \u001b[0;36mDonutSwinEncoder.forward\u001b[0;34m(self, hidden_states, input_dimensions, head_mask, output_attentions, output_hidden_states, output_hidden_states_before_downsampling, always_partition, return_dict)\u001b[0m\n\u001b[1;32m    752\u001b[0m     layer_outputs \u001b[38;5;241m=\u001b[39m \u001b[38;5;28mself\u001b[39m\u001b[38;5;241m.\u001b[39m_gradient_checkpointing_func(\n\u001b[1;32m    753\u001b[0m         layer_module\u001b[38;5;241m.\u001b[39m\u001b[38;5;21m__call__\u001b[39m, hidden_states, input_dimensions, layer_head_mask, output_attentions\n\u001b[1;32m    754\u001b[0m     )\n\u001b[1;32m    755\u001b[0m \u001b[38;5;28;01melse\u001b[39;00m:\n\u001b[0;32m--> 756\u001b[0m     layer_outputs \u001b[38;5;241m=\u001b[39m \u001b[43mlayer_module\u001b[49m\u001b[43m(\u001b[49m\n\u001b[1;32m    757\u001b[0m \u001b[43m        \u001b[49m\u001b[43mhidden_states\u001b[49m\u001b[43m,\u001b[49m\u001b[43m \u001b[49m\u001b[43minput_dimensions\u001b[49m\u001b[43m,\u001b[49m\u001b[43m \u001b[49m\u001b[43mlayer_head_mask\u001b[49m\u001b[43m,\u001b[49m\u001b[43m \u001b[49m\u001b[43moutput_attentions\u001b[49m\u001b[43m,\u001b[49m\u001b[43m \u001b[49m\u001b[43malways_partition\u001b[49m\n\u001b[1;32m    758\u001b[0m \u001b[43m    \u001b[49m\u001b[43m)\u001b[49m\n\u001b[1;32m    760\u001b[0m hidden_states \u001b[38;5;241m=\u001b[39m layer_outputs[\u001b[38;5;241m0\u001b[39m]\n\u001b[1;32m    761\u001b[0m hidden_states_before_downsampling \u001b[38;5;241m=\u001b[39m layer_outputs[\u001b[38;5;241m1\u001b[39m]\n",
      "File \u001b[0;32m/Library/Frameworks/Python.framework/Versions/3.11/lib/python3.11/site-packages/torch/nn/modules/module.py:1532\u001b[0m, in \u001b[0;36mModule._wrapped_call_impl\u001b[0;34m(self, *args, **kwargs)\u001b[0m\n\u001b[1;32m   1530\u001b[0m     \u001b[38;5;28;01mreturn\u001b[39;00m \u001b[38;5;28mself\u001b[39m\u001b[38;5;241m.\u001b[39m_compiled_call_impl(\u001b[38;5;241m*\u001b[39margs, \u001b[38;5;241m*\u001b[39m\u001b[38;5;241m*\u001b[39mkwargs)  \u001b[38;5;66;03m# type: ignore[misc]\u001b[39;00m\n\u001b[1;32m   1531\u001b[0m \u001b[38;5;28;01melse\u001b[39;00m:\n\u001b[0;32m-> 1532\u001b[0m     \u001b[38;5;28;01mreturn\u001b[39;00m \u001b[38;5;28;43mself\u001b[39;49m\u001b[38;5;241;43m.\u001b[39;49m\u001b[43m_call_impl\u001b[49m\u001b[43m(\u001b[49m\u001b[38;5;241;43m*\u001b[39;49m\u001b[43margs\u001b[49m\u001b[43m,\u001b[49m\u001b[43m \u001b[49m\u001b[38;5;241;43m*\u001b[39;49m\u001b[38;5;241;43m*\u001b[39;49m\u001b[43mkwargs\u001b[49m\u001b[43m)\u001b[49m\n",
      "File \u001b[0;32m/Library/Frameworks/Python.framework/Versions/3.11/lib/python3.11/site-packages/torch/nn/modules/module.py:1541\u001b[0m, in \u001b[0;36mModule._call_impl\u001b[0;34m(self, *args, **kwargs)\u001b[0m\n\u001b[1;32m   1536\u001b[0m \u001b[38;5;66;03m# If we don't have any hooks, we want to skip the rest of the logic in\u001b[39;00m\n\u001b[1;32m   1537\u001b[0m \u001b[38;5;66;03m# this function, and just call forward.\u001b[39;00m\n\u001b[1;32m   1538\u001b[0m \u001b[38;5;28;01mif\u001b[39;00m \u001b[38;5;129;01mnot\u001b[39;00m (\u001b[38;5;28mself\u001b[39m\u001b[38;5;241m.\u001b[39m_backward_hooks \u001b[38;5;129;01mor\u001b[39;00m \u001b[38;5;28mself\u001b[39m\u001b[38;5;241m.\u001b[39m_backward_pre_hooks \u001b[38;5;129;01mor\u001b[39;00m \u001b[38;5;28mself\u001b[39m\u001b[38;5;241m.\u001b[39m_forward_hooks \u001b[38;5;129;01mor\u001b[39;00m \u001b[38;5;28mself\u001b[39m\u001b[38;5;241m.\u001b[39m_forward_pre_hooks\n\u001b[1;32m   1539\u001b[0m         \u001b[38;5;129;01mor\u001b[39;00m _global_backward_pre_hooks \u001b[38;5;129;01mor\u001b[39;00m _global_backward_hooks\n\u001b[1;32m   1540\u001b[0m         \u001b[38;5;129;01mor\u001b[39;00m _global_forward_hooks \u001b[38;5;129;01mor\u001b[39;00m _global_forward_pre_hooks):\n\u001b[0;32m-> 1541\u001b[0m     \u001b[38;5;28;01mreturn\u001b[39;00m \u001b[43mforward_call\u001b[49m\u001b[43m(\u001b[49m\u001b[38;5;241;43m*\u001b[39;49m\u001b[43margs\u001b[49m\u001b[43m,\u001b[49m\u001b[43m \u001b[49m\u001b[38;5;241;43m*\u001b[39;49m\u001b[38;5;241;43m*\u001b[39;49m\u001b[43mkwargs\u001b[49m\u001b[43m)\u001b[49m\n\u001b[1;32m   1543\u001b[0m \u001b[38;5;28;01mtry\u001b[39;00m:\n\u001b[1;32m   1544\u001b[0m     result \u001b[38;5;241m=\u001b[39m \u001b[38;5;28;01mNone\u001b[39;00m\n",
      "File \u001b[0;32m/Library/Frameworks/Python.framework/Versions/3.11/lib/python3.11/site-packages/transformers/models/donut/modeling_donut_swin.py:680\u001b[0m, in \u001b[0;36mDonutSwinStage.forward\u001b[0;34m(self, hidden_states, input_dimensions, head_mask, output_attentions, always_partition)\u001b[0m\n\u001b[1;32m    677\u001b[0m \u001b[38;5;28;01mfor\u001b[39;00m i, layer_module \u001b[38;5;129;01min\u001b[39;00m \u001b[38;5;28menumerate\u001b[39m(\u001b[38;5;28mself\u001b[39m\u001b[38;5;241m.\u001b[39mblocks):\n\u001b[1;32m    678\u001b[0m     layer_head_mask \u001b[38;5;241m=\u001b[39m head_mask[i] \u001b[38;5;28;01mif\u001b[39;00m head_mask \u001b[38;5;129;01mis\u001b[39;00m \u001b[38;5;129;01mnot\u001b[39;00m \u001b[38;5;28;01mNone\u001b[39;00m \u001b[38;5;28;01melse\u001b[39;00m \u001b[38;5;28;01mNone\u001b[39;00m\n\u001b[0;32m--> 680\u001b[0m     layer_outputs \u001b[38;5;241m=\u001b[39m \u001b[43mlayer_module\u001b[49m\u001b[43m(\u001b[49m\n\u001b[1;32m    681\u001b[0m \u001b[43m        \u001b[49m\u001b[43mhidden_states\u001b[49m\u001b[43m,\u001b[49m\u001b[43m \u001b[49m\u001b[43minput_dimensions\u001b[49m\u001b[43m,\u001b[49m\u001b[43m \u001b[49m\u001b[43mlayer_head_mask\u001b[49m\u001b[43m,\u001b[49m\u001b[43m \u001b[49m\u001b[43moutput_attentions\u001b[49m\u001b[43m,\u001b[49m\u001b[43m \u001b[49m\u001b[43malways_partition\u001b[49m\n\u001b[1;32m    682\u001b[0m \u001b[43m    \u001b[49m\u001b[43m)\u001b[49m\n\u001b[1;32m    684\u001b[0m     hidden_states \u001b[38;5;241m=\u001b[39m layer_outputs[\u001b[38;5;241m0\u001b[39m]\n\u001b[1;32m    686\u001b[0m hidden_states_before_downsampling \u001b[38;5;241m=\u001b[39m hidden_states\n",
      "File \u001b[0;32m/Library/Frameworks/Python.framework/Versions/3.11/lib/python3.11/site-packages/torch/nn/modules/module.py:1532\u001b[0m, in \u001b[0;36mModule._wrapped_call_impl\u001b[0;34m(self, *args, **kwargs)\u001b[0m\n\u001b[1;32m   1530\u001b[0m     \u001b[38;5;28;01mreturn\u001b[39;00m \u001b[38;5;28mself\u001b[39m\u001b[38;5;241m.\u001b[39m_compiled_call_impl(\u001b[38;5;241m*\u001b[39margs, \u001b[38;5;241m*\u001b[39m\u001b[38;5;241m*\u001b[39mkwargs)  \u001b[38;5;66;03m# type: ignore[misc]\u001b[39;00m\n\u001b[1;32m   1531\u001b[0m \u001b[38;5;28;01melse\u001b[39;00m:\n\u001b[0;32m-> 1532\u001b[0m     \u001b[38;5;28;01mreturn\u001b[39;00m \u001b[38;5;28;43mself\u001b[39;49m\u001b[38;5;241;43m.\u001b[39;49m\u001b[43m_call_impl\u001b[49m\u001b[43m(\u001b[49m\u001b[38;5;241;43m*\u001b[39;49m\u001b[43margs\u001b[49m\u001b[43m,\u001b[49m\u001b[43m \u001b[49m\u001b[38;5;241;43m*\u001b[39;49m\u001b[38;5;241;43m*\u001b[39;49m\u001b[43mkwargs\u001b[49m\u001b[43m)\u001b[49m\n",
      "File \u001b[0;32m/Library/Frameworks/Python.framework/Versions/3.11/lib/python3.11/site-packages/torch/nn/modules/module.py:1541\u001b[0m, in \u001b[0;36mModule._call_impl\u001b[0;34m(self, *args, **kwargs)\u001b[0m\n\u001b[1;32m   1536\u001b[0m \u001b[38;5;66;03m# If we don't have any hooks, we want to skip the rest of the logic in\u001b[39;00m\n\u001b[1;32m   1537\u001b[0m \u001b[38;5;66;03m# this function, and just call forward.\u001b[39;00m\n\u001b[1;32m   1538\u001b[0m \u001b[38;5;28;01mif\u001b[39;00m \u001b[38;5;129;01mnot\u001b[39;00m (\u001b[38;5;28mself\u001b[39m\u001b[38;5;241m.\u001b[39m_backward_hooks \u001b[38;5;129;01mor\u001b[39;00m \u001b[38;5;28mself\u001b[39m\u001b[38;5;241m.\u001b[39m_backward_pre_hooks \u001b[38;5;129;01mor\u001b[39;00m \u001b[38;5;28mself\u001b[39m\u001b[38;5;241m.\u001b[39m_forward_hooks \u001b[38;5;129;01mor\u001b[39;00m \u001b[38;5;28mself\u001b[39m\u001b[38;5;241m.\u001b[39m_forward_pre_hooks\n\u001b[1;32m   1539\u001b[0m         \u001b[38;5;129;01mor\u001b[39;00m _global_backward_pre_hooks \u001b[38;5;129;01mor\u001b[39;00m _global_backward_hooks\n\u001b[1;32m   1540\u001b[0m         \u001b[38;5;129;01mor\u001b[39;00m _global_forward_hooks \u001b[38;5;129;01mor\u001b[39;00m _global_forward_pre_hooks):\n\u001b[0;32m-> 1541\u001b[0m     \u001b[38;5;28;01mreturn\u001b[39;00m \u001b[43mforward_call\u001b[49m\u001b[43m(\u001b[49m\u001b[38;5;241;43m*\u001b[39;49m\u001b[43margs\u001b[49m\u001b[43m,\u001b[49m\u001b[43m \u001b[49m\u001b[38;5;241;43m*\u001b[39;49m\u001b[38;5;241;43m*\u001b[39;49m\u001b[43mkwargs\u001b[49m\u001b[43m)\u001b[49m\n\u001b[1;32m   1543\u001b[0m \u001b[38;5;28;01mtry\u001b[39;00m:\n\u001b[1;32m   1544\u001b[0m     result \u001b[38;5;241m=\u001b[39m \u001b[38;5;28;01mNone\u001b[39;00m\n",
      "File \u001b[0;32m/Library/Frameworks/Python.framework/Versions/3.11/lib/python3.11/site-packages/transformers/models/donut/modeling_donut_swin.py:634\u001b[0m, in \u001b[0;36mDonutSwinLayer.forward\u001b[0;34m(self, hidden_states, input_dimensions, head_mask, output_attentions, always_partition)\u001b[0m\n\u001b[1;32m    631\u001b[0m hidden_states \u001b[38;5;241m=\u001b[39m shortcut \u001b[38;5;241m+\u001b[39m \u001b[38;5;28mself\u001b[39m\u001b[38;5;241m.\u001b[39mdrop_path(attention_windows)\n\u001b[1;32m    633\u001b[0m layer_output \u001b[38;5;241m=\u001b[39m \u001b[38;5;28mself\u001b[39m\u001b[38;5;241m.\u001b[39mlayernorm_after(hidden_states)\n\u001b[0;32m--> 634\u001b[0m layer_output \u001b[38;5;241m=\u001b[39m \u001b[38;5;28;43mself\u001b[39;49m\u001b[38;5;241;43m.\u001b[39;49m\u001b[43mintermediate\u001b[49m\u001b[43m(\u001b[49m\u001b[43mlayer_output\u001b[49m\u001b[43m)\u001b[49m\n\u001b[1;32m    635\u001b[0m layer_output \u001b[38;5;241m=\u001b[39m hidden_states \u001b[38;5;241m+\u001b[39m \u001b[38;5;28mself\u001b[39m\u001b[38;5;241m.\u001b[39moutput(layer_output)\n\u001b[1;32m    637\u001b[0m layer_outputs \u001b[38;5;241m=\u001b[39m (layer_output, attention_outputs[\u001b[38;5;241m1\u001b[39m]) \u001b[38;5;28;01mif\u001b[39;00m output_attentions \u001b[38;5;28;01melse\u001b[39;00m (layer_output,)\n",
      "File \u001b[0;32m/Library/Frameworks/Python.framework/Versions/3.11/lib/python3.11/site-packages/torch/nn/modules/module.py:1532\u001b[0m, in \u001b[0;36mModule._wrapped_call_impl\u001b[0;34m(self, *args, **kwargs)\u001b[0m\n\u001b[1;32m   1530\u001b[0m     \u001b[38;5;28;01mreturn\u001b[39;00m \u001b[38;5;28mself\u001b[39m\u001b[38;5;241m.\u001b[39m_compiled_call_impl(\u001b[38;5;241m*\u001b[39margs, \u001b[38;5;241m*\u001b[39m\u001b[38;5;241m*\u001b[39mkwargs)  \u001b[38;5;66;03m# type: ignore[misc]\u001b[39;00m\n\u001b[1;32m   1531\u001b[0m \u001b[38;5;28;01melse\u001b[39;00m:\n\u001b[0;32m-> 1532\u001b[0m     \u001b[38;5;28;01mreturn\u001b[39;00m \u001b[38;5;28;43mself\u001b[39;49m\u001b[38;5;241;43m.\u001b[39;49m\u001b[43m_call_impl\u001b[49m\u001b[43m(\u001b[49m\u001b[38;5;241;43m*\u001b[39;49m\u001b[43margs\u001b[49m\u001b[43m,\u001b[49m\u001b[43m \u001b[49m\u001b[38;5;241;43m*\u001b[39;49m\u001b[38;5;241;43m*\u001b[39;49m\u001b[43mkwargs\u001b[49m\u001b[43m)\u001b[49m\n",
      "File \u001b[0;32m/Library/Frameworks/Python.framework/Versions/3.11/lib/python3.11/site-packages/torch/nn/modules/module.py:1541\u001b[0m, in \u001b[0;36mModule._call_impl\u001b[0;34m(self, *args, **kwargs)\u001b[0m\n\u001b[1;32m   1536\u001b[0m \u001b[38;5;66;03m# If we don't have any hooks, we want to skip the rest of the logic in\u001b[39;00m\n\u001b[1;32m   1537\u001b[0m \u001b[38;5;66;03m# this function, and just call forward.\u001b[39;00m\n\u001b[1;32m   1538\u001b[0m \u001b[38;5;28;01mif\u001b[39;00m \u001b[38;5;129;01mnot\u001b[39;00m (\u001b[38;5;28mself\u001b[39m\u001b[38;5;241m.\u001b[39m_backward_hooks \u001b[38;5;129;01mor\u001b[39;00m \u001b[38;5;28mself\u001b[39m\u001b[38;5;241m.\u001b[39m_backward_pre_hooks \u001b[38;5;129;01mor\u001b[39;00m \u001b[38;5;28mself\u001b[39m\u001b[38;5;241m.\u001b[39m_forward_hooks \u001b[38;5;129;01mor\u001b[39;00m \u001b[38;5;28mself\u001b[39m\u001b[38;5;241m.\u001b[39m_forward_pre_hooks\n\u001b[1;32m   1539\u001b[0m         \u001b[38;5;129;01mor\u001b[39;00m _global_backward_pre_hooks \u001b[38;5;129;01mor\u001b[39;00m _global_backward_hooks\n\u001b[1;32m   1540\u001b[0m         \u001b[38;5;129;01mor\u001b[39;00m _global_forward_hooks \u001b[38;5;129;01mor\u001b[39;00m _global_forward_pre_hooks):\n\u001b[0;32m-> 1541\u001b[0m     \u001b[38;5;28;01mreturn\u001b[39;00m \u001b[43mforward_call\u001b[49m\u001b[43m(\u001b[49m\u001b[38;5;241;43m*\u001b[39;49m\u001b[43margs\u001b[49m\u001b[43m,\u001b[49m\u001b[43m \u001b[49m\u001b[38;5;241;43m*\u001b[39;49m\u001b[38;5;241;43m*\u001b[39;49m\u001b[43mkwargs\u001b[49m\u001b[43m)\u001b[49m\n\u001b[1;32m   1543\u001b[0m \u001b[38;5;28;01mtry\u001b[39;00m:\n\u001b[1;32m   1544\u001b[0m     result \u001b[38;5;241m=\u001b[39m \u001b[38;5;28;01mNone\u001b[39;00m\n",
      "File \u001b[0;32m/Library/Frameworks/Python.framework/Versions/3.11/lib/python3.11/site-packages/transformers/models/donut/modeling_donut_swin.py:499\u001b[0m, in \u001b[0;36mDonutSwinIntermediate.forward\u001b[0;34m(self, hidden_states)\u001b[0m\n\u001b[1;32m    498\u001b[0m \u001b[38;5;28;01mdef\u001b[39;00m \u001b[38;5;21mforward\u001b[39m(\u001b[38;5;28mself\u001b[39m, hidden_states: torch\u001b[38;5;241m.\u001b[39mTensor) \u001b[38;5;241m-\u001b[39m\u001b[38;5;241m>\u001b[39m torch\u001b[38;5;241m.\u001b[39mTensor:\n\u001b[0;32m--> 499\u001b[0m     hidden_states \u001b[38;5;241m=\u001b[39m \u001b[38;5;28;43mself\u001b[39;49m\u001b[38;5;241;43m.\u001b[39;49m\u001b[43mdense\u001b[49m\u001b[43m(\u001b[49m\u001b[43mhidden_states\u001b[49m\u001b[43m)\u001b[49m\n\u001b[1;32m    500\u001b[0m     hidden_states \u001b[38;5;241m=\u001b[39m \u001b[38;5;28mself\u001b[39m\u001b[38;5;241m.\u001b[39mintermediate_act_fn(hidden_states)\n\u001b[1;32m    501\u001b[0m     \u001b[38;5;28;01mreturn\u001b[39;00m hidden_states\n",
      "File \u001b[0;32m/Library/Frameworks/Python.framework/Versions/3.11/lib/python3.11/site-packages/torch/nn/modules/module.py:1532\u001b[0m, in \u001b[0;36mModule._wrapped_call_impl\u001b[0;34m(self, *args, **kwargs)\u001b[0m\n\u001b[1;32m   1530\u001b[0m     \u001b[38;5;28;01mreturn\u001b[39;00m \u001b[38;5;28mself\u001b[39m\u001b[38;5;241m.\u001b[39m_compiled_call_impl(\u001b[38;5;241m*\u001b[39margs, \u001b[38;5;241m*\u001b[39m\u001b[38;5;241m*\u001b[39mkwargs)  \u001b[38;5;66;03m# type: ignore[misc]\u001b[39;00m\n\u001b[1;32m   1531\u001b[0m \u001b[38;5;28;01melse\u001b[39;00m:\n\u001b[0;32m-> 1532\u001b[0m     \u001b[38;5;28;01mreturn\u001b[39;00m \u001b[38;5;28;43mself\u001b[39;49m\u001b[38;5;241;43m.\u001b[39;49m\u001b[43m_call_impl\u001b[49m\u001b[43m(\u001b[49m\u001b[38;5;241;43m*\u001b[39;49m\u001b[43margs\u001b[49m\u001b[43m,\u001b[49m\u001b[43m \u001b[49m\u001b[38;5;241;43m*\u001b[39;49m\u001b[38;5;241;43m*\u001b[39;49m\u001b[43mkwargs\u001b[49m\u001b[43m)\u001b[49m\n",
      "File \u001b[0;32m/Library/Frameworks/Python.framework/Versions/3.11/lib/python3.11/site-packages/torch/nn/modules/module.py:1541\u001b[0m, in \u001b[0;36mModule._call_impl\u001b[0;34m(self, *args, **kwargs)\u001b[0m\n\u001b[1;32m   1536\u001b[0m \u001b[38;5;66;03m# If we don't have any hooks, we want to skip the rest of the logic in\u001b[39;00m\n\u001b[1;32m   1537\u001b[0m \u001b[38;5;66;03m# this function, and just call forward.\u001b[39;00m\n\u001b[1;32m   1538\u001b[0m \u001b[38;5;28;01mif\u001b[39;00m \u001b[38;5;129;01mnot\u001b[39;00m (\u001b[38;5;28mself\u001b[39m\u001b[38;5;241m.\u001b[39m_backward_hooks \u001b[38;5;129;01mor\u001b[39;00m \u001b[38;5;28mself\u001b[39m\u001b[38;5;241m.\u001b[39m_backward_pre_hooks \u001b[38;5;129;01mor\u001b[39;00m \u001b[38;5;28mself\u001b[39m\u001b[38;5;241m.\u001b[39m_forward_hooks \u001b[38;5;129;01mor\u001b[39;00m \u001b[38;5;28mself\u001b[39m\u001b[38;5;241m.\u001b[39m_forward_pre_hooks\n\u001b[1;32m   1539\u001b[0m         \u001b[38;5;129;01mor\u001b[39;00m _global_backward_pre_hooks \u001b[38;5;129;01mor\u001b[39;00m _global_backward_hooks\n\u001b[1;32m   1540\u001b[0m         \u001b[38;5;129;01mor\u001b[39;00m _global_forward_hooks \u001b[38;5;129;01mor\u001b[39;00m _global_forward_pre_hooks):\n\u001b[0;32m-> 1541\u001b[0m     \u001b[38;5;28;01mreturn\u001b[39;00m \u001b[43mforward_call\u001b[49m\u001b[43m(\u001b[49m\u001b[38;5;241;43m*\u001b[39;49m\u001b[43margs\u001b[49m\u001b[43m,\u001b[49m\u001b[43m \u001b[49m\u001b[38;5;241;43m*\u001b[39;49m\u001b[38;5;241;43m*\u001b[39;49m\u001b[43mkwargs\u001b[49m\u001b[43m)\u001b[49m\n\u001b[1;32m   1543\u001b[0m \u001b[38;5;28;01mtry\u001b[39;00m:\n\u001b[1;32m   1544\u001b[0m     result \u001b[38;5;241m=\u001b[39m \u001b[38;5;28;01mNone\u001b[39;00m\n",
      "File \u001b[0;32m/Library/Frameworks/Python.framework/Versions/3.11/lib/python3.11/site-packages/torch/nn/modules/linear.py:116\u001b[0m, in \u001b[0;36mLinear.forward\u001b[0;34m(self, input)\u001b[0m\n\u001b[1;32m    115\u001b[0m \u001b[38;5;28;01mdef\u001b[39;00m \u001b[38;5;21mforward\u001b[39m(\u001b[38;5;28mself\u001b[39m, \u001b[38;5;28minput\u001b[39m: Tensor) \u001b[38;5;241m-\u001b[39m\u001b[38;5;241m>\u001b[39m Tensor:\n\u001b[0;32m--> 116\u001b[0m     \u001b[38;5;28;01mreturn\u001b[39;00m \u001b[43mF\u001b[49m\u001b[38;5;241;43m.\u001b[39;49m\u001b[43mlinear\u001b[49m\u001b[43m(\u001b[49m\u001b[38;5;28;43minput\u001b[39;49m\u001b[43m,\u001b[49m\u001b[43m \u001b[49m\u001b[38;5;28;43mself\u001b[39;49m\u001b[38;5;241;43m.\u001b[39;49m\u001b[43mweight\u001b[49m\u001b[43m,\u001b[49m\u001b[43m \u001b[49m\u001b[38;5;28;43mself\u001b[39;49m\u001b[38;5;241;43m.\u001b[39;49m\u001b[43mbias\u001b[49m\u001b[43m)\u001b[49m\n",
      "\u001b[0;31mRuntimeError\u001b[0m: MPS backend out of memory (MPS allocated: 7.18 GB, other allocations: 1.58 GB, max allowed: 9.07 GB). Tried to allocate 332.28 MB on private pool. Use PYTORCH_MPS_HIGH_WATERMARK_RATIO=0.0 to disable upper limit for memory allocations (may cause system failure)."
     ]
    }
   ],
   "source": [
    "import argparse\n",
    "import json\n",
    "from collections import defaultdict\n",
    "\n",
    "from surya.input.langs import replace_lang_with_code, get_unique_langs\n",
    "from surya.input.load import load_from_folder, load_from_file, load_lang_file\n",
    "from surya.model.detection.segformer import load_model as load_detection_model, load_processor as load_detection_processor\n",
    "from surya.model.recognition.model import load_model as load_recognition_model\n",
    "from surya.model.recognition.processor import load_processor as load_recognition_processor\n",
    "from surya.model.recognition.tokenizer import _tokenize\n",
    "from surya.ocr import run_ocr\n",
    "from surya.postprocessing.text import draw_text_on_image\n",
    "from surya.settings import settings\n",
    "import os\n",
    "import csv \n",
    "\n",
    "\n",
    "\n",
    "def process_folder(input_folder, results_dir):\n",
    "    # Get a list of all PNG files in the folder\n",
    "    png_files = [f for f in os.listdir(input_folder) if f.endswith('.png')]\n",
    "\n",
    "    for png_file in png_files:\n",
    "        # Construct the full path to the PNG file\n",
    "        png_path = os.path.join(input_folder, png_file)\n",
    "\n",
    "        # Call the main function for each PNG file\n",
    "        main(png_path, results_dir)\n",
    "\n",
    "\n",
    "def main(input_path,\n",
    "    results_dir,\n",
    "    lang_file=None,\n",
    "    langs='hi,en',\n",
    "    max=None,\n",
    "    start_page=None,\n",
    "    images=False):\n",
    "\n",
    "    if os.path.isdir(input_path):\n",
    "        images, names = load_from_folder(input_path, max, start_page)\n",
    "        folder_name = os.path.basename(input_path)\n",
    "    else:\n",
    "        images, names = load_from_file(input_path, max, start_page)\n",
    "        folder_name = os.path.basename(input_path).split(\".\")[0]\n",
    "\n",
    "    if lang_file:\n",
    "        # We got all of our language settings from a file\n",
    "        langs = load_lang_file(lang_file, names) \n",
    "        for lang in langs:\n",
    "            replace_lang_with_code(lang)\n",
    "        image_langs = langs\n",
    "    else:\n",
    "        # We got our language settings from the input\n",
    "        langs = langs.split(\",\")\n",
    "        replace_lang_with_code(langs)\n",
    "        image_langs = [langs] * len(images)\n",
    "\n",
    "    det_processor = load_detection_processor()\n",
    "    det_model = load_detection_model()\n",
    "\n",
    "    _, lang_tokens = _tokenize(\"\", get_unique_langs(image_langs))\n",
    "    rec_model = load_recognition_model(langs=lang_tokens) # Prune model moe layer to only include languages we need\n",
    "    rec_processor = load_recognition_processor()\n",
    "\n",
    "    result_path = os.path.join(results_dir, folder_name)\n",
    "    os.makedirs(result_path, exist_ok=True)\n",
    "\n",
    "    predictions_by_image = run_ocr(images, image_langs, det_model, det_processor, rec_model, rec_processor)\n",
    "\n",
    "    if images:\n",
    "        for idx, (name, image, pred, langs) in enumerate(zip(names, images, predictions_by_image, image_langs)):\n",
    "            bboxes = [l.bbox for l in pred.text_lines]\n",
    "            pred_text = [l.text for l in pred.text_lines]\n",
    "            page_image = draw_text_on_image(bboxes, pred_text, image.size, langs, has_math=\"_math\" in langs)\n",
    "            page_image.save(f'./temp{idx}.jpg')\n",
    "            page_image.save(os.path.join(result_path, f\"{name}_{idx}_text.png\"))\n",
    "\n",
    "             # Save text to CSV file\n",
    "            csv_file_path = os.path.join(result_path, f\"{name}_{idx}_text.csv\")\n",
    "            with open(csv_file_path, 'w', newline='', encoding='utf-8') as csv_file:\n",
    "                writer = csv.writer(csv_file)\n",
    "                writer.writerow(['Text'])\n",
    "                for line in pred_text:\n",
    "                    writer.writerow([line])\n",
    "\n",
    "\n",
    "        out_preds = defaultdict(list)\n",
    "        for name, pred, image in zip(names, predictions_by_image, images):\n",
    "            out_pred = pred.model_dump()\n",
    "            out_pred[\"page\"] = len(out_preds[name]) + 1\n",
    "            out_preds[name].append(out_pred)\n",
    "\n",
    "        with open(os.path.join(result_path, \"results.json\"), \"w+\", encoding=\"utf-8\") as f:\n",
    "            json.dump(out_preds, f, ensure_ascii=False)\n",
    "\n",
    "        print(f\"Wrote results to {result_path}\")\n",
    "\n",
    "        # from PIL import Image, ImageDraw\n",
    "        # indices = []\n",
    "        # prev = -1\n",
    "        # for idx in range(len(preds['text_lines'])):\n",
    "        #     x_axis = preds['text_lines'][idx]['polygon'][0][0]\n",
    "        #     if prev != -1 and x_axis > (prev + 5):\n",
    "        #         indices.append(idx)\n",
    "        #     prev = x_axis\n",
    "            \n",
    "        # text = ''\n",
    "        # for idx in range(len(preds['text_lines'])):\n",
    "        #     if idx not in indices:\n",
    "        #         text += preds['text_lines'][idx]['text'] + ' '\n",
    "\n",
    "        # print(f\"Text for page {page_idx + 1}: {text}\")\n",
    "        \n",
    "\n",
    "\n",
    "if __name__ == \"__main__\":\n",
    "     input_folder = '/Users/fajrzafar/Documents/Semester 8 /FYP 1/Books PNGS/PTB3'\n",
    "     results_dir = '/Users/fajrzafar/Documents/Semester 8 /FYP 1/Extracted_Text/PTB3'\n",
    "     process_folder(input_folder, results_dir)"
   ]
  },
  {
   "cell_type": "code",
   "execution_count": 2,
   "id": "c1e5430e-b882-470e-9f38-d02ecb8c2115",
   "metadata": {},
   "outputs": [
    {
     "name": "stdout",
     "output_type": "stream",
     "text": [
      "Loading detection model vikp/surya_det2 on device cpu with dtype torch.float32\n",
      "Loading recognition model vikp/surya_rec on device mps with dtype torch.float16\n"
     ]
    },
    {
     "name": "stderr",
     "output_type": "stream",
     "text": [
      "Detecting bboxes: 100%|███████████████████████████| 1/1 [00:25<00:00, 25.53s/it]\n",
      "Recognizing Text: 100%|███████████████████████████| 1/1 [01:15<00:00, 75.00s/it]\n"
     ]
    },
    {
     "name": "stdout",
     "output_type": "stream",
     "text": [
      "Wrote results to /Users/fajrzafar/Documents/Semester 8 /FYP 1/Extracted_Text/SINDH1/page_2\n",
      "Loading detection model vikp/surya_det2 on device cpu with dtype torch.float32\n",
      "Loading recognition model vikp/surya_rec on device mps with dtype torch.float16\n"
     ]
    },
    {
     "name": "stderr",
     "output_type": "stream",
     "text": [
      "Detecting bboxes: 100%|███████████████████████████| 1/1 [00:26<00:00, 26.23s/it]\n",
      "Recognizing Text: 100%|███████████████████████████| 1/1 [00:58<00:00, 58.96s/it]\n"
     ]
    },
    {
     "name": "stdout",
     "output_type": "stream",
     "text": [
      "Wrote results to /Users/fajrzafar/Documents/Semester 8 /FYP 1/Extracted_Text/SINDH1/page_3\n",
      "Loading detection model vikp/surya_det2 on device cpu with dtype torch.float32\n",
      "Loading recognition model vikp/surya_rec on device mps with dtype torch.float16\n"
     ]
    },
    {
     "name": "stderr",
     "output_type": "stream",
     "text": [
      "Detecting bboxes: 100%|███████████████████████████| 1/1 [00:26<00:00, 26.51s/it]\n",
      "Recognizing Text: 100%|███████████████████████████| 1/1 [00:44<00:00, 44.09s/it]\n"
     ]
    },
    {
     "name": "stdout",
     "output_type": "stream",
     "text": [
      "Wrote results to /Users/fajrzafar/Documents/Semester 8 /FYP 1/Extracted_Text/SINDH1/page_1\n",
      "Loading detection model vikp/surya_det2 on device cpu with dtype torch.float32\n",
      "Loading recognition model vikp/surya_rec on device mps with dtype torch.float16\n"
     ]
    },
    {
     "name": "stderr",
     "output_type": "stream",
     "text": [
      "Detecting bboxes: 100%|███████████████████████████| 1/1 [00:27<00:00, 27.10s/it]\n",
      "Recognizing Text: 100%|███████████████████████████| 1/1 [01:34<00:00, 94.44s/it]\n"
     ]
    },
    {
     "name": "stdout",
     "output_type": "stream",
     "text": [
      "Wrote results to /Users/fajrzafar/Documents/Semester 8 /FYP 1/Extracted_Text/SINDH1/page_4\n",
      "Loading detection model vikp/surya_det2 on device cpu with dtype torch.float32\n",
      "Loading recognition model vikp/surya_rec on device mps with dtype torch.float16\n"
     ]
    },
    {
     "name": "stderr",
     "output_type": "stream",
     "text": [
      "Detecting bboxes: 100%|███████████████████████████| 1/1 [00:28<00:00, 28.36s/it]\n",
      "Recognizing Text:   0%|                                   | 0/1 [00:08<?, ?it/s]\n"
     ]
    },
    {
     "ename": "RuntimeError",
     "evalue": "MPS backend out of memory (MPS allocated: 7.22 GB, other allocations: 1.58 GB, max allowed: 9.07 GB). Tried to allocate 332.28 MB on private pool. Use PYTORCH_MPS_HIGH_WATERMARK_RATIO=0.0 to disable upper limit for memory allocations (may cause system failure).",
     "output_type": "error",
     "traceback": [
      "\u001b[0;31m---------------------------------------------------------------------------\u001b[0m",
      "\u001b[0;31mRuntimeError\u001b[0m                              Traceback (most recent call last)",
      "Cell \u001b[0;32mIn[2], line 119\u001b[0m\n\u001b[1;32m    117\u001b[0m input_folder \u001b[38;5;241m=\u001b[39m \u001b[38;5;124m'\u001b[39m\u001b[38;5;124m/Users/fajrzafar/Documents/Semester 8 /FYP 1/Books PNGS/SINDH1\u001b[39m\u001b[38;5;124m'\u001b[39m\n\u001b[1;32m    118\u001b[0m results_dir \u001b[38;5;241m=\u001b[39m \u001b[38;5;124m'\u001b[39m\u001b[38;5;124m/Users/fajrzafar/Documents/Semester 8 /FYP 1/Extracted_Text/SINDH1\u001b[39m\u001b[38;5;124m'\u001b[39m\n\u001b[0;32m--> 119\u001b[0m \u001b[43mprocess_folder\u001b[49m\u001b[43m(\u001b[49m\u001b[43minput_folder\u001b[49m\u001b[43m,\u001b[49m\u001b[43m \u001b[49m\u001b[43mresults_dir\u001b[49m\u001b[43m)\u001b[49m\n",
      "Cell \u001b[0;32mIn[2], line 28\u001b[0m, in \u001b[0;36mprocess_folder\u001b[0;34m(input_folder, results_dir)\u001b[0m\n\u001b[1;32m     25\u001b[0m png_path \u001b[38;5;241m=\u001b[39m os\u001b[38;5;241m.\u001b[39mpath\u001b[38;5;241m.\u001b[39mjoin(input_folder, png_file)\n\u001b[1;32m     27\u001b[0m \u001b[38;5;66;03m# Call the main function for each PNG file\u001b[39;00m\n\u001b[0;32m---> 28\u001b[0m \u001b[43mmain\u001b[49m\u001b[43m(\u001b[49m\u001b[43mpng_path\u001b[49m\u001b[43m,\u001b[49m\u001b[43m \u001b[49m\u001b[43mresults_dir\u001b[49m\u001b[43m)\u001b[49m\n",
      "Cell \u001b[0;32mIn[2], line 68\u001b[0m, in \u001b[0;36mmain\u001b[0;34m(input_path, results_dir, lang_file, langs, max, start_page, images)\u001b[0m\n\u001b[1;32m     65\u001b[0m result_path \u001b[38;5;241m=\u001b[39m os\u001b[38;5;241m.\u001b[39mpath\u001b[38;5;241m.\u001b[39mjoin(results_dir, folder_name)\n\u001b[1;32m     66\u001b[0m os\u001b[38;5;241m.\u001b[39mmakedirs(result_path, exist_ok\u001b[38;5;241m=\u001b[39m\u001b[38;5;28;01mTrue\u001b[39;00m)\n\u001b[0;32m---> 68\u001b[0m predictions_by_image \u001b[38;5;241m=\u001b[39m \u001b[43mrun_ocr\u001b[49m\u001b[43m(\u001b[49m\u001b[43mimages\u001b[49m\u001b[43m,\u001b[49m\u001b[43m \u001b[49m\u001b[43mimage_langs\u001b[49m\u001b[43m,\u001b[49m\u001b[43m \u001b[49m\u001b[43mdet_model\u001b[49m\u001b[43m,\u001b[49m\u001b[43m \u001b[49m\u001b[43mdet_processor\u001b[49m\u001b[43m,\u001b[49m\u001b[43m \u001b[49m\u001b[43mrec_model\u001b[49m\u001b[43m,\u001b[49m\u001b[43m \u001b[49m\u001b[43mrec_processor\u001b[49m\u001b[43m)\u001b[49m\n\u001b[1;32m     70\u001b[0m \u001b[38;5;28;01mif\u001b[39;00m images:\n\u001b[1;32m     71\u001b[0m     \u001b[38;5;28;01mfor\u001b[39;00m idx, (name, image, pred, langs) \u001b[38;5;129;01min\u001b[39;00m \u001b[38;5;28menumerate\u001b[39m(\u001b[38;5;28mzip\u001b[39m(names, images, predictions_by_image, image_langs)):\n",
      "File \u001b[0;32m/Library/Frameworks/Python.framework/Versions/3.11/lib/python3.11/site-packages/surya/ocr.py:77\u001b[0m, in \u001b[0;36mrun_ocr\u001b[0;34m(images, langs, det_model, det_processor, rec_model, rec_processor)\u001b[0m\n\u001b[1;32m     74\u001b[0m     all_slices\u001b[38;5;241m.\u001b[39mextend(slices)\n\u001b[1;32m     75\u001b[0m     all_langs\u001b[38;5;241m.\u001b[39mextend([lang] \u001b[38;5;241m*\u001b[39m \u001b[38;5;28mlen\u001b[39m(slices))\n\u001b[0;32m---> 77\u001b[0m rec_predictions, confidence_scores \u001b[38;5;241m=\u001b[39m \u001b[43mbatch_recognition\u001b[49m\u001b[43m(\u001b[49m\u001b[43mall_slices\u001b[49m\u001b[43m,\u001b[49m\u001b[43m \u001b[49m\u001b[43mall_langs\u001b[49m\u001b[43m,\u001b[49m\u001b[43m \u001b[49m\u001b[43mrec_model\u001b[49m\u001b[43m,\u001b[49m\u001b[43m \u001b[49m\u001b[43mrec_processor\u001b[49m\u001b[43m)\u001b[49m\n\u001b[1;32m     79\u001b[0m predictions_by_image \u001b[38;5;241m=\u001b[39m []\n\u001b[1;32m     80\u001b[0m slice_start \u001b[38;5;241m=\u001b[39m \u001b[38;5;241m0\u001b[39m\n",
      "File \u001b[0;32m/Library/Frameworks/Python.framework/Versions/3.11/lib/python3.11/site-packages/surya/recognition.py:48\u001b[0m, in \u001b[0;36mbatch_recognition\u001b[0;34m(images, languages, model, processor)\u001b[0m\n\u001b[1;32m     45\u001b[0m batch_decoder_input \u001b[38;5;241m=\u001b[39m torch\u001b[38;5;241m.\u001b[39mfrom_numpy(np\u001b[38;5;241m.\u001b[39marray(batch_decoder_input, dtype\u001b[38;5;241m=\u001b[39mnp\u001b[38;5;241m.\u001b[39mint64))\u001b[38;5;241m.\u001b[39mto(model\u001b[38;5;241m.\u001b[39mdevice)\n\u001b[1;32m     47\u001b[0m \u001b[38;5;28;01mwith\u001b[39;00m torch\u001b[38;5;241m.\u001b[39minference_mode():\n\u001b[0;32m---> 48\u001b[0m     return_dict \u001b[38;5;241m=\u001b[39m \u001b[43mmodel\u001b[49m\u001b[38;5;241;43m.\u001b[39;49m\u001b[43mgenerate\u001b[49m\u001b[43m(\u001b[49m\n\u001b[1;32m     49\u001b[0m \u001b[43m        \u001b[49m\u001b[43mpixel_values\u001b[49m\u001b[38;5;241;43m=\u001b[39;49m\u001b[43mbatch_pixel_values\u001b[49m\u001b[43m,\u001b[49m\n\u001b[1;32m     50\u001b[0m \u001b[43m        \u001b[49m\u001b[43mdecoder_input_ids\u001b[49m\u001b[38;5;241;43m=\u001b[39;49m\u001b[43mbatch_decoder_input\u001b[49m\u001b[43m,\u001b[49m\n\u001b[1;32m     51\u001b[0m \u001b[43m        \u001b[49m\u001b[43mdecoder_langs\u001b[49m\u001b[38;5;241;43m=\u001b[39;49m\u001b[43mbatch_langs\u001b[49m\u001b[43m,\u001b[49m\n\u001b[1;32m     52\u001b[0m \u001b[43m        \u001b[49m\u001b[43meos_token_id\u001b[49m\u001b[38;5;241;43m=\u001b[39;49m\u001b[43mprocessor\u001b[49m\u001b[38;5;241;43m.\u001b[39;49m\u001b[43mtokenizer\u001b[49m\u001b[38;5;241;43m.\u001b[39;49m\u001b[43meos_id\u001b[49m\u001b[43m,\u001b[49m\n\u001b[1;32m     53\u001b[0m \u001b[43m        \u001b[49m\u001b[43mmax_new_tokens\u001b[49m\u001b[38;5;241;43m=\u001b[39;49m\u001b[43msettings\u001b[49m\u001b[38;5;241;43m.\u001b[39;49m\u001b[43mRECOGNITION_MAX_TOKENS\u001b[49m\u001b[43m,\u001b[49m\n\u001b[1;32m     54\u001b[0m \u001b[43m        \u001b[49m\u001b[43moutput_scores\u001b[49m\u001b[38;5;241;43m=\u001b[39;49m\u001b[38;5;28;43;01mTrue\u001b[39;49;00m\u001b[43m,\u001b[49m\n\u001b[1;32m     55\u001b[0m \u001b[43m        \u001b[49m\u001b[43mreturn_dict_in_generate\u001b[49m\u001b[38;5;241;43m=\u001b[39;49m\u001b[38;5;28;43;01mTrue\u001b[39;49;00m\n\u001b[1;32m     56\u001b[0m \u001b[43m    \u001b[49m\u001b[43m)\u001b[49m\n\u001b[1;32m     57\u001b[0m     generated_ids \u001b[38;5;241m=\u001b[39m return_dict[\u001b[38;5;124m\"\u001b[39m\u001b[38;5;124msequences\u001b[39m\u001b[38;5;124m\"\u001b[39m]\n\u001b[1;32m     59\u001b[0m     \u001b[38;5;66;03m# Find confidence scores\u001b[39;00m\n",
      "File \u001b[0;32m/Library/Frameworks/Python.framework/Versions/3.11/lib/python3.11/site-packages/torch/utils/_contextlib.py:115\u001b[0m, in \u001b[0;36mcontext_decorator.<locals>.decorate_context\u001b[0;34m(*args, **kwargs)\u001b[0m\n\u001b[1;32m    112\u001b[0m \u001b[38;5;129m@functools\u001b[39m\u001b[38;5;241m.\u001b[39mwraps(func)\n\u001b[1;32m    113\u001b[0m \u001b[38;5;28;01mdef\u001b[39;00m \u001b[38;5;21mdecorate_context\u001b[39m(\u001b[38;5;241m*\u001b[39margs, \u001b[38;5;241m*\u001b[39m\u001b[38;5;241m*\u001b[39mkwargs):\n\u001b[1;32m    114\u001b[0m     \u001b[38;5;28;01mwith\u001b[39;00m ctx_factory():\n\u001b[0;32m--> 115\u001b[0m         \u001b[38;5;28;01mreturn\u001b[39;00m \u001b[43mfunc\u001b[49m\u001b[43m(\u001b[49m\u001b[38;5;241;43m*\u001b[39;49m\u001b[43margs\u001b[49m\u001b[43m,\u001b[49m\u001b[43m \u001b[49m\u001b[38;5;241;43m*\u001b[39;49m\u001b[38;5;241;43m*\u001b[39;49m\u001b[43mkwargs\u001b[49m\u001b[43m)\u001b[49m\n",
      "File \u001b[0;32m/Library/Frameworks/Python.framework/Versions/3.11/lib/python3.11/site-packages/transformers/generation/utils.py:1593\u001b[0m, in \u001b[0;36mGenerationMixin.generate\u001b[0;34m(self, inputs, generation_config, logits_processor, stopping_criteria, prefix_allowed_tokens_fn, synced_gpus, assistant_model, streamer, negative_prompt_ids, negative_prompt_attention_mask, **kwargs)\u001b[0m\n\u001b[1;32m   1585\u001b[0m         logger\u001b[38;5;241m.\u001b[39mwarning(\n\u001b[1;32m   1586\u001b[0m             \u001b[38;5;124m\"\u001b[39m\u001b[38;5;124mA decoder-only architecture is being used, but right-padding was detected! For correct \u001b[39m\u001b[38;5;124m\"\u001b[39m\n\u001b[1;32m   1587\u001b[0m             \u001b[38;5;124m\"\u001b[39m\u001b[38;5;124mgeneration results, please set `padding_side=\u001b[39m\u001b[38;5;124m'\u001b[39m\u001b[38;5;124mleft\u001b[39m\u001b[38;5;124m'\u001b[39m\u001b[38;5;124m` when initializing the tokenizer.\u001b[39m\u001b[38;5;124m\"\u001b[39m\n\u001b[1;32m   1588\u001b[0m         )\n\u001b[1;32m   1590\u001b[0m \u001b[38;5;28;01mif\u001b[39;00m \u001b[38;5;28mself\u001b[39m\u001b[38;5;241m.\u001b[39mconfig\u001b[38;5;241m.\u001b[39mis_encoder_decoder \u001b[38;5;129;01mand\u001b[39;00m \u001b[38;5;124m\"\u001b[39m\u001b[38;5;124mencoder_outputs\u001b[39m\u001b[38;5;124m\"\u001b[39m \u001b[38;5;129;01mnot\u001b[39;00m \u001b[38;5;129;01min\u001b[39;00m model_kwargs:\n\u001b[1;32m   1591\u001b[0m     \u001b[38;5;66;03m# if model is encoder decoder encoder_outputs are created\u001b[39;00m\n\u001b[1;32m   1592\u001b[0m     \u001b[38;5;66;03m# and added to `model_kwargs`\u001b[39;00m\n\u001b[0;32m-> 1593\u001b[0m     model_kwargs \u001b[38;5;241m=\u001b[39m \u001b[38;5;28;43mself\u001b[39;49m\u001b[38;5;241;43m.\u001b[39;49m\u001b[43m_prepare_encoder_decoder_kwargs_for_generation\u001b[49m\u001b[43m(\u001b[49m\n\u001b[1;32m   1594\u001b[0m \u001b[43m        \u001b[49m\u001b[43minputs_tensor\u001b[49m\u001b[43m,\u001b[49m\u001b[43m \u001b[49m\u001b[43mmodel_kwargs\u001b[49m\u001b[43m,\u001b[49m\u001b[43m \u001b[49m\u001b[43mmodel_input_name\u001b[49m\n\u001b[1;32m   1595\u001b[0m \u001b[43m    \u001b[49m\u001b[43m)\u001b[49m\n\u001b[1;32m   1597\u001b[0m \u001b[38;5;66;03m# 5. Prepare `input_ids` which will be used for auto-regressive generation\u001b[39;00m\n\u001b[1;32m   1598\u001b[0m \u001b[38;5;28;01mif\u001b[39;00m \u001b[38;5;28mself\u001b[39m\u001b[38;5;241m.\u001b[39mconfig\u001b[38;5;241m.\u001b[39mis_encoder_decoder:\n",
      "File \u001b[0;32m/Library/Frameworks/Python.framework/Versions/3.11/lib/python3.11/site-packages/transformers/generation/utils.py:742\u001b[0m, in \u001b[0;36mGenerationMixin._prepare_encoder_decoder_kwargs_for_generation\u001b[0;34m(self, inputs_tensor, model_kwargs, model_input_name)\u001b[0m\n\u001b[1;32m    740\u001b[0m encoder_kwargs[\u001b[38;5;124m\"\u001b[39m\u001b[38;5;124mreturn_dict\u001b[39m\u001b[38;5;124m\"\u001b[39m] \u001b[38;5;241m=\u001b[39m \u001b[38;5;28;01mTrue\u001b[39;00m\n\u001b[1;32m    741\u001b[0m encoder_kwargs[model_input_name] \u001b[38;5;241m=\u001b[39m inputs_tensor\n\u001b[0;32m--> 742\u001b[0m model_kwargs[\u001b[38;5;124m\"\u001b[39m\u001b[38;5;124mencoder_outputs\u001b[39m\u001b[38;5;124m\"\u001b[39m]: ModelOutput \u001b[38;5;241m=\u001b[39m \u001b[43mencoder\u001b[49m\u001b[43m(\u001b[49m\u001b[38;5;241;43m*\u001b[39;49m\u001b[38;5;241;43m*\u001b[39;49m\u001b[43mencoder_kwargs\u001b[49m\u001b[43m)\u001b[49m\n\u001b[1;32m    744\u001b[0m \u001b[38;5;28;01mreturn\u001b[39;00m model_kwargs\n",
      "File \u001b[0;32m/Library/Frameworks/Python.framework/Versions/3.11/lib/python3.11/site-packages/torch/nn/modules/module.py:1532\u001b[0m, in \u001b[0;36mModule._wrapped_call_impl\u001b[0;34m(self, *args, **kwargs)\u001b[0m\n\u001b[1;32m   1530\u001b[0m     \u001b[38;5;28;01mreturn\u001b[39;00m \u001b[38;5;28mself\u001b[39m\u001b[38;5;241m.\u001b[39m_compiled_call_impl(\u001b[38;5;241m*\u001b[39margs, \u001b[38;5;241m*\u001b[39m\u001b[38;5;241m*\u001b[39mkwargs)  \u001b[38;5;66;03m# type: ignore[misc]\u001b[39;00m\n\u001b[1;32m   1531\u001b[0m \u001b[38;5;28;01melse\u001b[39;00m:\n\u001b[0;32m-> 1532\u001b[0m     \u001b[38;5;28;01mreturn\u001b[39;00m \u001b[38;5;28;43mself\u001b[39;49m\u001b[38;5;241;43m.\u001b[39;49m\u001b[43m_call_impl\u001b[49m\u001b[43m(\u001b[49m\u001b[38;5;241;43m*\u001b[39;49m\u001b[43margs\u001b[49m\u001b[43m,\u001b[49m\u001b[43m \u001b[49m\u001b[38;5;241;43m*\u001b[39;49m\u001b[38;5;241;43m*\u001b[39;49m\u001b[43mkwargs\u001b[49m\u001b[43m)\u001b[49m\n",
      "File \u001b[0;32m/Library/Frameworks/Python.framework/Versions/3.11/lib/python3.11/site-packages/torch/nn/modules/module.py:1541\u001b[0m, in \u001b[0;36mModule._call_impl\u001b[0;34m(self, *args, **kwargs)\u001b[0m\n\u001b[1;32m   1536\u001b[0m \u001b[38;5;66;03m# If we don't have any hooks, we want to skip the rest of the logic in\u001b[39;00m\n\u001b[1;32m   1537\u001b[0m \u001b[38;5;66;03m# this function, and just call forward.\u001b[39;00m\n\u001b[1;32m   1538\u001b[0m \u001b[38;5;28;01mif\u001b[39;00m \u001b[38;5;129;01mnot\u001b[39;00m (\u001b[38;5;28mself\u001b[39m\u001b[38;5;241m.\u001b[39m_backward_hooks \u001b[38;5;129;01mor\u001b[39;00m \u001b[38;5;28mself\u001b[39m\u001b[38;5;241m.\u001b[39m_backward_pre_hooks \u001b[38;5;129;01mor\u001b[39;00m \u001b[38;5;28mself\u001b[39m\u001b[38;5;241m.\u001b[39m_forward_hooks \u001b[38;5;129;01mor\u001b[39;00m \u001b[38;5;28mself\u001b[39m\u001b[38;5;241m.\u001b[39m_forward_pre_hooks\n\u001b[1;32m   1539\u001b[0m         \u001b[38;5;129;01mor\u001b[39;00m _global_backward_pre_hooks \u001b[38;5;129;01mor\u001b[39;00m _global_backward_hooks\n\u001b[1;32m   1540\u001b[0m         \u001b[38;5;129;01mor\u001b[39;00m _global_forward_hooks \u001b[38;5;129;01mor\u001b[39;00m _global_forward_pre_hooks):\n\u001b[0;32m-> 1541\u001b[0m     \u001b[38;5;28;01mreturn\u001b[39;00m \u001b[43mforward_call\u001b[49m\u001b[43m(\u001b[49m\u001b[38;5;241;43m*\u001b[39;49m\u001b[43margs\u001b[49m\u001b[43m,\u001b[49m\u001b[43m \u001b[49m\u001b[38;5;241;43m*\u001b[39;49m\u001b[38;5;241;43m*\u001b[39;49m\u001b[43mkwargs\u001b[49m\u001b[43m)\u001b[49m\n\u001b[1;32m   1543\u001b[0m \u001b[38;5;28;01mtry\u001b[39;00m:\n\u001b[1;32m   1544\u001b[0m     result \u001b[38;5;241m=\u001b[39m \u001b[38;5;28;01mNone\u001b[39;00m\n",
      "File \u001b[0;32m/Library/Frameworks/Python.framework/Versions/3.11/lib/python3.11/site-packages/transformers/models/donut/modeling_donut_swin.py:925\u001b[0m, in \u001b[0;36mDonutSwinModel.forward\u001b[0;34m(self, pixel_values, bool_masked_pos, head_mask, output_attentions, output_hidden_states, return_dict)\u001b[0m\n\u001b[1;32m    921\u001b[0m head_mask \u001b[38;5;241m=\u001b[39m \u001b[38;5;28mself\u001b[39m\u001b[38;5;241m.\u001b[39mget_head_mask(head_mask, \u001b[38;5;28mlen\u001b[39m(\u001b[38;5;28mself\u001b[39m\u001b[38;5;241m.\u001b[39mconfig\u001b[38;5;241m.\u001b[39mdepths))\n\u001b[1;32m    923\u001b[0m embedding_output, input_dimensions \u001b[38;5;241m=\u001b[39m \u001b[38;5;28mself\u001b[39m\u001b[38;5;241m.\u001b[39membeddings(pixel_values, bool_masked_pos\u001b[38;5;241m=\u001b[39mbool_masked_pos)\n\u001b[0;32m--> 925\u001b[0m encoder_outputs \u001b[38;5;241m=\u001b[39m \u001b[38;5;28;43mself\u001b[39;49m\u001b[38;5;241;43m.\u001b[39;49m\u001b[43mencoder\u001b[49m\u001b[43m(\u001b[49m\n\u001b[1;32m    926\u001b[0m \u001b[43m    \u001b[49m\u001b[43membedding_output\u001b[49m\u001b[43m,\u001b[49m\n\u001b[1;32m    927\u001b[0m \u001b[43m    \u001b[49m\u001b[43minput_dimensions\u001b[49m\u001b[43m,\u001b[49m\n\u001b[1;32m    928\u001b[0m \u001b[43m    \u001b[49m\u001b[43mhead_mask\u001b[49m\u001b[38;5;241;43m=\u001b[39;49m\u001b[43mhead_mask\u001b[49m\u001b[43m,\u001b[49m\n\u001b[1;32m    929\u001b[0m \u001b[43m    \u001b[49m\u001b[43moutput_attentions\u001b[49m\u001b[38;5;241;43m=\u001b[39;49m\u001b[43moutput_attentions\u001b[49m\u001b[43m,\u001b[49m\n\u001b[1;32m    930\u001b[0m \u001b[43m    \u001b[49m\u001b[43moutput_hidden_states\u001b[49m\u001b[38;5;241;43m=\u001b[39;49m\u001b[43moutput_hidden_states\u001b[49m\u001b[43m,\u001b[49m\n\u001b[1;32m    931\u001b[0m \u001b[43m    \u001b[49m\u001b[43mreturn_dict\u001b[49m\u001b[38;5;241;43m=\u001b[39;49m\u001b[43mreturn_dict\u001b[49m\u001b[43m,\u001b[49m\n\u001b[1;32m    932\u001b[0m \u001b[43m\u001b[49m\u001b[43m)\u001b[49m\n\u001b[1;32m    934\u001b[0m sequence_output \u001b[38;5;241m=\u001b[39m encoder_outputs[\u001b[38;5;241m0\u001b[39m]\n\u001b[1;32m    936\u001b[0m pooled_output \u001b[38;5;241m=\u001b[39m \u001b[38;5;28;01mNone\u001b[39;00m\n",
      "File \u001b[0;32m/Library/Frameworks/Python.framework/Versions/3.11/lib/python3.11/site-packages/torch/nn/modules/module.py:1532\u001b[0m, in \u001b[0;36mModule._wrapped_call_impl\u001b[0;34m(self, *args, **kwargs)\u001b[0m\n\u001b[1;32m   1530\u001b[0m     \u001b[38;5;28;01mreturn\u001b[39;00m \u001b[38;5;28mself\u001b[39m\u001b[38;5;241m.\u001b[39m_compiled_call_impl(\u001b[38;5;241m*\u001b[39margs, \u001b[38;5;241m*\u001b[39m\u001b[38;5;241m*\u001b[39mkwargs)  \u001b[38;5;66;03m# type: ignore[misc]\u001b[39;00m\n\u001b[1;32m   1531\u001b[0m \u001b[38;5;28;01melse\u001b[39;00m:\n\u001b[0;32m-> 1532\u001b[0m     \u001b[38;5;28;01mreturn\u001b[39;00m \u001b[38;5;28;43mself\u001b[39;49m\u001b[38;5;241;43m.\u001b[39;49m\u001b[43m_call_impl\u001b[49m\u001b[43m(\u001b[49m\u001b[38;5;241;43m*\u001b[39;49m\u001b[43margs\u001b[49m\u001b[43m,\u001b[49m\u001b[43m \u001b[49m\u001b[38;5;241;43m*\u001b[39;49m\u001b[38;5;241;43m*\u001b[39;49m\u001b[43mkwargs\u001b[49m\u001b[43m)\u001b[49m\n",
      "File \u001b[0;32m/Library/Frameworks/Python.framework/Versions/3.11/lib/python3.11/site-packages/torch/nn/modules/module.py:1541\u001b[0m, in \u001b[0;36mModule._call_impl\u001b[0;34m(self, *args, **kwargs)\u001b[0m\n\u001b[1;32m   1536\u001b[0m \u001b[38;5;66;03m# If we don't have any hooks, we want to skip the rest of the logic in\u001b[39;00m\n\u001b[1;32m   1537\u001b[0m \u001b[38;5;66;03m# this function, and just call forward.\u001b[39;00m\n\u001b[1;32m   1538\u001b[0m \u001b[38;5;28;01mif\u001b[39;00m \u001b[38;5;129;01mnot\u001b[39;00m (\u001b[38;5;28mself\u001b[39m\u001b[38;5;241m.\u001b[39m_backward_hooks \u001b[38;5;129;01mor\u001b[39;00m \u001b[38;5;28mself\u001b[39m\u001b[38;5;241m.\u001b[39m_backward_pre_hooks \u001b[38;5;129;01mor\u001b[39;00m \u001b[38;5;28mself\u001b[39m\u001b[38;5;241m.\u001b[39m_forward_hooks \u001b[38;5;129;01mor\u001b[39;00m \u001b[38;5;28mself\u001b[39m\u001b[38;5;241m.\u001b[39m_forward_pre_hooks\n\u001b[1;32m   1539\u001b[0m         \u001b[38;5;129;01mor\u001b[39;00m _global_backward_pre_hooks \u001b[38;5;129;01mor\u001b[39;00m _global_backward_hooks\n\u001b[1;32m   1540\u001b[0m         \u001b[38;5;129;01mor\u001b[39;00m _global_forward_hooks \u001b[38;5;129;01mor\u001b[39;00m _global_forward_pre_hooks):\n\u001b[0;32m-> 1541\u001b[0m     \u001b[38;5;28;01mreturn\u001b[39;00m \u001b[43mforward_call\u001b[49m\u001b[43m(\u001b[49m\u001b[38;5;241;43m*\u001b[39;49m\u001b[43margs\u001b[49m\u001b[43m,\u001b[49m\u001b[43m \u001b[49m\u001b[38;5;241;43m*\u001b[39;49m\u001b[38;5;241;43m*\u001b[39;49m\u001b[43mkwargs\u001b[49m\u001b[43m)\u001b[49m\n\u001b[1;32m   1543\u001b[0m \u001b[38;5;28;01mtry\u001b[39;00m:\n\u001b[1;32m   1544\u001b[0m     result \u001b[38;5;241m=\u001b[39m \u001b[38;5;28;01mNone\u001b[39;00m\n",
      "File \u001b[0;32m/Library/Frameworks/Python.framework/Versions/3.11/lib/python3.11/site-packages/transformers/models/donut/modeling_donut_swin.py:756\u001b[0m, in \u001b[0;36mDonutSwinEncoder.forward\u001b[0;34m(self, hidden_states, input_dimensions, head_mask, output_attentions, output_hidden_states, output_hidden_states_before_downsampling, always_partition, return_dict)\u001b[0m\n\u001b[1;32m    752\u001b[0m     layer_outputs \u001b[38;5;241m=\u001b[39m \u001b[38;5;28mself\u001b[39m\u001b[38;5;241m.\u001b[39m_gradient_checkpointing_func(\n\u001b[1;32m    753\u001b[0m         layer_module\u001b[38;5;241m.\u001b[39m\u001b[38;5;21m__call__\u001b[39m, hidden_states, input_dimensions, layer_head_mask, output_attentions\n\u001b[1;32m    754\u001b[0m     )\n\u001b[1;32m    755\u001b[0m \u001b[38;5;28;01melse\u001b[39;00m:\n\u001b[0;32m--> 756\u001b[0m     layer_outputs \u001b[38;5;241m=\u001b[39m \u001b[43mlayer_module\u001b[49m\u001b[43m(\u001b[49m\n\u001b[1;32m    757\u001b[0m \u001b[43m        \u001b[49m\u001b[43mhidden_states\u001b[49m\u001b[43m,\u001b[49m\u001b[43m \u001b[49m\u001b[43minput_dimensions\u001b[49m\u001b[43m,\u001b[49m\u001b[43m \u001b[49m\u001b[43mlayer_head_mask\u001b[49m\u001b[43m,\u001b[49m\u001b[43m \u001b[49m\u001b[43moutput_attentions\u001b[49m\u001b[43m,\u001b[49m\u001b[43m \u001b[49m\u001b[43malways_partition\u001b[49m\n\u001b[1;32m    758\u001b[0m \u001b[43m    \u001b[49m\u001b[43m)\u001b[49m\n\u001b[1;32m    760\u001b[0m hidden_states \u001b[38;5;241m=\u001b[39m layer_outputs[\u001b[38;5;241m0\u001b[39m]\n\u001b[1;32m    761\u001b[0m hidden_states_before_downsampling \u001b[38;5;241m=\u001b[39m layer_outputs[\u001b[38;5;241m1\u001b[39m]\n",
      "File \u001b[0;32m/Library/Frameworks/Python.framework/Versions/3.11/lib/python3.11/site-packages/torch/nn/modules/module.py:1532\u001b[0m, in \u001b[0;36mModule._wrapped_call_impl\u001b[0;34m(self, *args, **kwargs)\u001b[0m\n\u001b[1;32m   1530\u001b[0m     \u001b[38;5;28;01mreturn\u001b[39;00m \u001b[38;5;28mself\u001b[39m\u001b[38;5;241m.\u001b[39m_compiled_call_impl(\u001b[38;5;241m*\u001b[39margs, \u001b[38;5;241m*\u001b[39m\u001b[38;5;241m*\u001b[39mkwargs)  \u001b[38;5;66;03m# type: ignore[misc]\u001b[39;00m\n\u001b[1;32m   1531\u001b[0m \u001b[38;5;28;01melse\u001b[39;00m:\n\u001b[0;32m-> 1532\u001b[0m     \u001b[38;5;28;01mreturn\u001b[39;00m \u001b[38;5;28;43mself\u001b[39;49m\u001b[38;5;241;43m.\u001b[39;49m\u001b[43m_call_impl\u001b[49m\u001b[43m(\u001b[49m\u001b[38;5;241;43m*\u001b[39;49m\u001b[43margs\u001b[49m\u001b[43m,\u001b[49m\u001b[43m \u001b[49m\u001b[38;5;241;43m*\u001b[39;49m\u001b[38;5;241;43m*\u001b[39;49m\u001b[43mkwargs\u001b[49m\u001b[43m)\u001b[49m\n",
      "File \u001b[0;32m/Library/Frameworks/Python.framework/Versions/3.11/lib/python3.11/site-packages/torch/nn/modules/module.py:1541\u001b[0m, in \u001b[0;36mModule._call_impl\u001b[0;34m(self, *args, **kwargs)\u001b[0m\n\u001b[1;32m   1536\u001b[0m \u001b[38;5;66;03m# If we don't have any hooks, we want to skip the rest of the logic in\u001b[39;00m\n\u001b[1;32m   1537\u001b[0m \u001b[38;5;66;03m# this function, and just call forward.\u001b[39;00m\n\u001b[1;32m   1538\u001b[0m \u001b[38;5;28;01mif\u001b[39;00m \u001b[38;5;129;01mnot\u001b[39;00m (\u001b[38;5;28mself\u001b[39m\u001b[38;5;241m.\u001b[39m_backward_hooks \u001b[38;5;129;01mor\u001b[39;00m \u001b[38;5;28mself\u001b[39m\u001b[38;5;241m.\u001b[39m_backward_pre_hooks \u001b[38;5;129;01mor\u001b[39;00m \u001b[38;5;28mself\u001b[39m\u001b[38;5;241m.\u001b[39m_forward_hooks \u001b[38;5;129;01mor\u001b[39;00m \u001b[38;5;28mself\u001b[39m\u001b[38;5;241m.\u001b[39m_forward_pre_hooks\n\u001b[1;32m   1539\u001b[0m         \u001b[38;5;129;01mor\u001b[39;00m _global_backward_pre_hooks \u001b[38;5;129;01mor\u001b[39;00m _global_backward_hooks\n\u001b[1;32m   1540\u001b[0m         \u001b[38;5;129;01mor\u001b[39;00m _global_forward_hooks \u001b[38;5;129;01mor\u001b[39;00m _global_forward_pre_hooks):\n\u001b[0;32m-> 1541\u001b[0m     \u001b[38;5;28;01mreturn\u001b[39;00m \u001b[43mforward_call\u001b[49m\u001b[43m(\u001b[49m\u001b[38;5;241;43m*\u001b[39;49m\u001b[43margs\u001b[49m\u001b[43m,\u001b[49m\u001b[43m \u001b[49m\u001b[38;5;241;43m*\u001b[39;49m\u001b[38;5;241;43m*\u001b[39;49m\u001b[43mkwargs\u001b[49m\u001b[43m)\u001b[49m\n\u001b[1;32m   1543\u001b[0m \u001b[38;5;28;01mtry\u001b[39;00m:\n\u001b[1;32m   1544\u001b[0m     result \u001b[38;5;241m=\u001b[39m \u001b[38;5;28;01mNone\u001b[39;00m\n",
      "File \u001b[0;32m/Library/Frameworks/Python.framework/Versions/3.11/lib/python3.11/site-packages/transformers/models/donut/modeling_donut_swin.py:680\u001b[0m, in \u001b[0;36mDonutSwinStage.forward\u001b[0;34m(self, hidden_states, input_dimensions, head_mask, output_attentions, always_partition)\u001b[0m\n\u001b[1;32m    677\u001b[0m \u001b[38;5;28;01mfor\u001b[39;00m i, layer_module \u001b[38;5;129;01min\u001b[39;00m \u001b[38;5;28menumerate\u001b[39m(\u001b[38;5;28mself\u001b[39m\u001b[38;5;241m.\u001b[39mblocks):\n\u001b[1;32m    678\u001b[0m     layer_head_mask \u001b[38;5;241m=\u001b[39m head_mask[i] \u001b[38;5;28;01mif\u001b[39;00m head_mask \u001b[38;5;129;01mis\u001b[39;00m \u001b[38;5;129;01mnot\u001b[39;00m \u001b[38;5;28;01mNone\u001b[39;00m \u001b[38;5;28;01melse\u001b[39;00m \u001b[38;5;28;01mNone\u001b[39;00m\n\u001b[0;32m--> 680\u001b[0m     layer_outputs \u001b[38;5;241m=\u001b[39m \u001b[43mlayer_module\u001b[49m\u001b[43m(\u001b[49m\n\u001b[1;32m    681\u001b[0m \u001b[43m        \u001b[49m\u001b[43mhidden_states\u001b[49m\u001b[43m,\u001b[49m\u001b[43m \u001b[49m\u001b[43minput_dimensions\u001b[49m\u001b[43m,\u001b[49m\u001b[43m \u001b[49m\u001b[43mlayer_head_mask\u001b[49m\u001b[43m,\u001b[49m\u001b[43m \u001b[49m\u001b[43moutput_attentions\u001b[49m\u001b[43m,\u001b[49m\u001b[43m \u001b[49m\u001b[43malways_partition\u001b[49m\n\u001b[1;32m    682\u001b[0m \u001b[43m    \u001b[49m\u001b[43m)\u001b[49m\n\u001b[1;32m    684\u001b[0m     hidden_states \u001b[38;5;241m=\u001b[39m layer_outputs[\u001b[38;5;241m0\u001b[39m]\n\u001b[1;32m    686\u001b[0m hidden_states_before_downsampling \u001b[38;5;241m=\u001b[39m hidden_states\n",
      "File \u001b[0;32m/Library/Frameworks/Python.framework/Versions/3.11/lib/python3.11/site-packages/torch/nn/modules/module.py:1532\u001b[0m, in \u001b[0;36mModule._wrapped_call_impl\u001b[0;34m(self, *args, **kwargs)\u001b[0m\n\u001b[1;32m   1530\u001b[0m     \u001b[38;5;28;01mreturn\u001b[39;00m \u001b[38;5;28mself\u001b[39m\u001b[38;5;241m.\u001b[39m_compiled_call_impl(\u001b[38;5;241m*\u001b[39margs, \u001b[38;5;241m*\u001b[39m\u001b[38;5;241m*\u001b[39mkwargs)  \u001b[38;5;66;03m# type: ignore[misc]\u001b[39;00m\n\u001b[1;32m   1531\u001b[0m \u001b[38;5;28;01melse\u001b[39;00m:\n\u001b[0;32m-> 1532\u001b[0m     \u001b[38;5;28;01mreturn\u001b[39;00m \u001b[38;5;28;43mself\u001b[39;49m\u001b[38;5;241;43m.\u001b[39;49m\u001b[43m_call_impl\u001b[49m\u001b[43m(\u001b[49m\u001b[38;5;241;43m*\u001b[39;49m\u001b[43margs\u001b[49m\u001b[43m,\u001b[49m\u001b[43m \u001b[49m\u001b[38;5;241;43m*\u001b[39;49m\u001b[38;5;241;43m*\u001b[39;49m\u001b[43mkwargs\u001b[49m\u001b[43m)\u001b[49m\n",
      "File \u001b[0;32m/Library/Frameworks/Python.framework/Versions/3.11/lib/python3.11/site-packages/torch/nn/modules/module.py:1541\u001b[0m, in \u001b[0;36mModule._call_impl\u001b[0;34m(self, *args, **kwargs)\u001b[0m\n\u001b[1;32m   1536\u001b[0m \u001b[38;5;66;03m# If we don't have any hooks, we want to skip the rest of the logic in\u001b[39;00m\n\u001b[1;32m   1537\u001b[0m \u001b[38;5;66;03m# this function, and just call forward.\u001b[39;00m\n\u001b[1;32m   1538\u001b[0m \u001b[38;5;28;01mif\u001b[39;00m \u001b[38;5;129;01mnot\u001b[39;00m (\u001b[38;5;28mself\u001b[39m\u001b[38;5;241m.\u001b[39m_backward_hooks \u001b[38;5;129;01mor\u001b[39;00m \u001b[38;5;28mself\u001b[39m\u001b[38;5;241m.\u001b[39m_backward_pre_hooks \u001b[38;5;129;01mor\u001b[39;00m \u001b[38;5;28mself\u001b[39m\u001b[38;5;241m.\u001b[39m_forward_hooks \u001b[38;5;129;01mor\u001b[39;00m \u001b[38;5;28mself\u001b[39m\u001b[38;5;241m.\u001b[39m_forward_pre_hooks\n\u001b[1;32m   1539\u001b[0m         \u001b[38;5;129;01mor\u001b[39;00m _global_backward_pre_hooks \u001b[38;5;129;01mor\u001b[39;00m _global_backward_hooks\n\u001b[1;32m   1540\u001b[0m         \u001b[38;5;129;01mor\u001b[39;00m _global_forward_hooks \u001b[38;5;129;01mor\u001b[39;00m _global_forward_pre_hooks):\n\u001b[0;32m-> 1541\u001b[0m     \u001b[38;5;28;01mreturn\u001b[39;00m \u001b[43mforward_call\u001b[49m\u001b[43m(\u001b[49m\u001b[38;5;241;43m*\u001b[39;49m\u001b[43margs\u001b[49m\u001b[43m,\u001b[49m\u001b[43m \u001b[49m\u001b[38;5;241;43m*\u001b[39;49m\u001b[38;5;241;43m*\u001b[39;49m\u001b[43mkwargs\u001b[49m\u001b[43m)\u001b[49m\n\u001b[1;32m   1543\u001b[0m \u001b[38;5;28;01mtry\u001b[39;00m:\n\u001b[1;32m   1544\u001b[0m     result \u001b[38;5;241m=\u001b[39m \u001b[38;5;28;01mNone\u001b[39;00m\n",
      "File \u001b[0;32m/Library/Frameworks/Python.framework/Versions/3.11/lib/python3.11/site-packages/transformers/models/donut/modeling_donut_swin.py:634\u001b[0m, in \u001b[0;36mDonutSwinLayer.forward\u001b[0;34m(self, hidden_states, input_dimensions, head_mask, output_attentions, always_partition)\u001b[0m\n\u001b[1;32m    631\u001b[0m hidden_states \u001b[38;5;241m=\u001b[39m shortcut \u001b[38;5;241m+\u001b[39m \u001b[38;5;28mself\u001b[39m\u001b[38;5;241m.\u001b[39mdrop_path(attention_windows)\n\u001b[1;32m    633\u001b[0m layer_output \u001b[38;5;241m=\u001b[39m \u001b[38;5;28mself\u001b[39m\u001b[38;5;241m.\u001b[39mlayernorm_after(hidden_states)\n\u001b[0;32m--> 634\u001b[0m layer_output \u001b[38;5;241m=\u001b[39m \u001b[38;5;28;43mself\u001b[39;49m\u001b[38;5;241;43m.\u001b[39;49m\u001b[43mintermediate\u001b[49m\u001b[43m(\u001b[49m\u001b[43mlayer_output\u001b[49m\u001b[43m)\u001b[49m\n\u001b[1;32m    635\u001b[0m layer_output \u001b[38;5;241m=\u001b[39m hidden_states \u001b[38;5;241m+\u001b[39m \u001b[38;5;28mself\u001b[39m\u001b[38;5;241m.\u001b[39moutput(layer_output)\n\u001b[1;32m    637\u001b[0m layer_outputs \u001b[38;5;241m=\u001b[39m (layer_output, attention_outputs[\u001b[38;5;241m1\u001b[39m]) \u001b[38;5;28;01mif\u001b[39;00m output_attentions \u001b[38;5;28;01melse\u001b[39;00m (layer_output,)\n",
      "File \u001b[0;32m/Library/Frameworks/Python.framework/Versions/3.11/lib/python3.11/site-packages/torch/nn/modules/module.py:1532\u001b[0m, in \u001b[0;36mModule._wrapped_call_impl\u001b[0;34m(self, *args, **kwargs)\u001b[0m\n\u001b[1;32m   1530\u001b[0m     \u001b[38;5;28;01mreturn\u001b[39;00m \u001b[38;5;28mself\u001b[39m\u001b[38;5;241m.\u001b[39m_compiled_call_impl(\u001b[38;5;241m*\u001b[39margs, \u001b[38;5;241m*\u001b[39m\u001b[38;5;241m*\u001b[39mkwargs)  \u001b[38;5;66;03m# type: ignore[misc]\u001b[39;00m\n\u001b[1;32m   1531\u001b[0m \u001b[38;5;28;01melse\u001b[39;00m:\n\u001b[0;32m-> 1532\u001b[0m     \u001b[38;5;28;01mreturn\u001b[39;00m \u001b[38;5;28;43mself\u001b[39;49m\u001b[38;5;241;43m.\u001b[39;49m\u001b[43m_call_impl\u001b[49m\u001b[43m(\u001b[49m\u001b[38;5;241;43m*\u001b[39;49m\u001b[43margs\u001b[49m\u001b[43m,\u001b[49m\u001b[43m \u001b[49m\u001b[38;5;241;43m*\u001b[39;49m\u001b[38;5;241;43m*\u001b[39;49m\u001b[43mkwargs\u001b[49m\u001b[43m)\u001b[49m\n",
      "File \u001b[0;32m/Library/Frameworks/Python.framework/Versions/3.11/lib/python3.11/site-packages/torch/nn/modules/module.py:1541\u001b[0m, in \u001b[0;36mModule._call_impl\u001b[0;34m(self, *args, **kwargs)\u001b[0m\n\u001b[1;32m   1536\u001b[0m \u001b[38;5;66;03m# If we don't have any hooks, we want to skip the rest of the logic in\u001b[39;00m\n\u001b[1;32m   1537\u001b[0m \u001b[38;5;66;03m# this function, and just call forward.\u001b[39;00m\n\u001b[1;32m   1538\u001b[0m \u001b[38;5;28;01mif\u001b[39;00m \u001b[38;5;129;01mnot\u001b[39;00m (\u001b[38;5;28mself\u001b[39m\u001b[38;5;241m.\u001b[39m_backward_hooks \u001b[38;5;129;01mor\u001b[39;00m \u001b[38;5;28mself\u001b[39m\u001b[38;5;241m.\u001b[39m_backward_pre_hooks \u001b[38;5;129;01mor\u001b[39;00m \u001b[38;5;28mself\u001b[39m\u001b[38;5;241m.\u001b[39m_forward_hooks \u001b[38;5;129;01mor\u001b[39;00m \u001b[38;5;28mself\u001b[39m\u001b[38;5;241m.\u001b[39m_forward_pre_hooks\n\u001b[1;32m   1539\u001b[0m         \u001b[38;5;129;01mor\u001b[39;00m _global_backward_pre_hooks \u001b[38;5;129;01mor\u001b[39;00m _global_backward_hooks\n\u001b[1;32m   1540\u001b[0m         \u001b[38;5;129;01mor\u001b[39;00m _global_forward_hooks \u001b[38;5;129;01mor\u001b[39;00m _global_forward_pre_hooks):\n\u001b[0;32m-> 1541\u001b[0m     \u001b[38;5;28;01mreturn\u001b[39;00m \u001b[43mforward_call\u001b[49m\u001b[43m(\u001b[49m\u001b[38;5;241;43m*\u001b[39;49m\u001b[43margs\u001b[49m\u001b[43m,\u001b[49m\u001b[43m \u001b[49m\u001b[38;5;241;43m*\u001b[39;49m\u001b[38;5;241;43m*\u001b[39;49m\u001b[43mkwargs\u001b[49m\u001b[43m)\u001b[49m\n\u001b[1;32m   1543\u001b[0m \u001b[38;5;28;01mtry\u001b[39;00m:\n\u001b[1;32m   1544\u001b[0m     result \u001b[38;5;241m=\u001b[39m \u001b[38;5;28;01mNone\u001b[39;00m\n",
      "File \u001b[0;32m/Library/Frameworks/Python.framework/Versions/3.11/lib/python3.11/site-packages/transformers/models/donut/modeling_donut_swin.py:499\u001b[0m, in \u001b[0;36mDonutSwinIntermediate.forward\u001b[0;34m(self, hidden_states)\u001b[0m\n\u001b[1;32m    498\u001b[0m \u001b[38;5;28;01mdef\u001b[39;00m \u001b[38;5;21mforward\u001b[39m(\u001b[38;5;28mself\u001b[39m, hidden_states: torch\u001b[38;5;241m.\u001b[39mTensor) \u001b[38;5;241m-\u001b[39m\u001b[38;5;241m>\u001b[39m torch\u001b[38;5;241m.\u001b[39mTensor:\n\u001b[0;32m--> 499\u001b[0m     hidden_states \u001b[38;5;241m=\u001b[39m \u001b[38;5;28;43mself\u001b[39;49m\u001b[38;5;241;43m.\u001b[39;49m\u001b[43mdense\u001b[49m\u001b[43m(\u001b[49m\u001b[43mhidden_states\u001b[49m\u001b[43m)\u001b[49m\n\u001b[1;32m    500\u001b[0m     hidden_states \u001b[38;5;241m=\u001b[39m \u001b[38;5;28mself\u001b[39m\u001b[38;5;241m.\u001b[39mintermediate_act_fn(hidden_states)\n\u001b[1;32m    501\u001b[0m     \u001b[38;5;28;01mreturn\u001b[39;00m hidden_states\n",
      "File \u001b[0;32m/Library/Frameworks/Python.framework/Versions/3.11/lib/python3.11/site-packages/torch/nn/modules/module.py:1532\u001b[0m, in \u001b[0;36mModule._wrapped_call_impl\u001b[0;34m(self, *args, **kwargs)\u001b[0m\n\u001b[1;32m   1530\u001b[0m     \u001b[38;5;28;01mreturn\u001b[39;00m \u001b[38;5;28mself\u001b[39m\u001b[38;5;241m.\u001b[39m_compiled_call_impl(\u001b[38;5;241m*\u001b[39margs, \u001b[38;5;241m*\u001b[39m\u001b[38;5;241m*\u001b[39mkwargs)  \u001b[38;5;66;03m# type: ignore[misc]\u001b[39;00m\n\u001b[1;32m   1531\u001b[0m \u001b[38;5;28;01melse\u001b[39;00m:\n\u001b[0;32m-> 1532\u001b[0m     \u001b[38;5;28;01mreturn\u001b[39;00m \u001b[38;5;28;43mself\u001b[39;49m\u001b[38;5;241;43m.\u001b[39;49m\u001b[43m_call_impl\u001b[49m\u001b[43m(\u001b[49m\u001b[38;5;241;43m*\u001b[39;49m\u001b[43margs\u001b[49m\u001b[43m,\u001b[49m\u001b[43m \u001b[49m\u001b[38;5;241;43m*\u001b[39;49m\u001b[38;5;241;43m*\u001b[39;49m\u001b[43mkwargs\u001b[49m\u001b[43m)\u001b[49m\n",
      "File \u001b[0;32m/Library/Frameworks/Python.framework/Versions/3.11/lib/python3.11/site-packages/torch/nn/modules/module.py:1541\u001b[0m, in \u001b[0;36mModule._call_impl\u001b[0;34m(self, *args, **kwargs)\u001b[0m\n\u001b[1;32m   1536\u001b[0m \u001b[38;5;66;03m# If we don't have any hooks, we want to skip the rest of the logic in\u001b[39;00m\n\u001b[1;32m   1537\u001b[0m \u001b[38;5;66;03m# this function, and just call forward.\u001b[39;00m\n\u001b[1;32m   1538\u001b[0m \u001b[38;5;28;01mif\u001b[39;00m \u001b[38;5;129;01mnot\u001b[39;00m (\u001b[38;5;28mself\u001b[39m\u001b[38;5;241m.\u001b[39m_backward_hooks \u001b[38;5;129;01mor\u001b[39;00m \u001b[38;5;28mself\u001b[39m\u001b[38;5;241m.\u001b[39m_backward_pre_hooks \u001b[38;5;129;01mor\u001b[39;00m \u001b[38;5;28mself\u001b[39m\u001b[38;5;241m.\u001b[39m_forward_hooks \u001b[38;5;129;01mor\u001b[39;00m \u001b[38;5;28mself\u001b[39m\u001b[38;5;241m.\u001b[39m_forward_pre_hooks\n\u001b[1;32m   1539\u001b[0m         \u001b[38;5;129;01mor\u001b[39;00m _global_backward_pre_hooks \u001b[38;5;129;01mor\u001b[39;00m _global_backward_hooks\n\u001b[1;32m   1540\u001b[0m         \u001b[38;5;129;01mor\u001b[39;00m _global_forward_hooks \u001b[38;5;129;01mor\u001b[39;00m _global_forward_pre_hooks):\n\u001b[0;32m-> 1541\u001b[0m     \u001b[38;5;28;01mreturn\u001b[39;00m \u001b[43mforward_call\u001b[49m\u001b[43m(\u001b[49m\u001b[38;5;241;43m*\u001b[39;49m\u001b[43margs\u001b[49m\u001b[43m,\u001b[49m\u001b[43m \u001b[49m\u001b[38;5;241;43m*\u001b[39;49m\u001b[38;5;241;43m*\u001b[39;49m\u001b[43mkwargs\u001b[49m\u001b[43m)\u001b[49m\n\u001b[1;32m   1543\u001b[0m \u001b[38;5;28;01mtry\u001b[39;00m:\n\u001b[1;32m   1544\u001b[0m     result \u001b[38;5;241m=\u001b[39m \u001b[38;5;28;01mNone\u001b[39;00m\n",
      "File \u001b[0;32m/Library/Frameworks/Python.framework/Versions/3.11/lib/python3.11/site-packages/torch/nn/modules/linear.py:116\u001b[0m, in \u001b[0;36mLinear.forward\u001b[0;34m(self, input)\u001b[0m\n\u001b[1;32m    115\u001b[0m \u001b[38;5;28;01mdef\u001b[39;00m \u001b[38;5;21mforward\u001b[39m(\u001b[38;5;28mself\u001b[39m, \u001b[38;5;28minput\u001b[39m: Tensor) \u001b[38;5;241m-\u001b[39m\u001b[38;5;241m>\u001b[39m Tensor:\n\u001b[0;32m--> 116\u001b[0m     \u001b[38;5;28;01mreturn\u001b[39;00m \u001b[43mF\u001b[49m\u001b[38;5;241;43m.\u001b[39;49m\u001b[43mlinear\u001b[49m\u001b[43m(\u001b[49m\u001b[38;5;28;43minput\u001b[39;49m\u001b[43m,\u001b[49m\u001b[43m \u001b[49m\u001b[38;5;28;43mself\u001b[39;49m\u001b[38;5;241;43m.\u001b[39;49m\u001b[43mweight\u001b[49m\u001b[43m,\u001b[49m\u001b[43m \u001b[49m\u001b[38;5;28;43mself\u001b[39;49m\u001b[38;5;241;43m.\u001b[39;49m\u001b[43mbias\u001b[49m\u001b[43m)\u001b[49m\n",
      "\u001b[0;31mRuntimeError\u001b[0m: MPS backend out of memory (MPS allocated: 7.22 GB, other allocations: 1.58 GB, max allowed: 9.07 GB). Tried to allocate 332.28 MB on private pool. Use PYTORCH_MPS_HIGH_WATERMARK_RATIO=0.0 to disable upper limit for memory allocations (may cause system failure)."
     ]
    }
   ],
   "source": [
    "import argparse\n",
    "import json\n",
    "from collections import defaultdict\n",
    "\n",
    "from surya.input.langs import replace_lang_with_code, get_unique_langs\n",
    "from surya.input.load import load_from_folder, load_from_file, load_lang_file\n",
    "from surya.model.detection.segformer import load_model as load_detection_model, load_processor as load_detection_processor\n",
    "from surya.model.recognition.model import load_model as load_recognition_model\n",
    "from surya.model.recognition.processor import load_processor as load_recognition_processor\n",
    "from surya.model.recognition.tokenizer import _tokenize\n",
    "from surya.ocr import run_ocr\n",
    "from surya.postprocessing.text import draw_text_on_image\n",
    "from surya.settings import settings\n",
    "import os\n",
    "import csv \n",
    "\n",
    "\n",
    "\n",
    "def process_folder(input_folder, results_dir):\n",
    "    # Get a list of all PNG files in the folder\n",
    "    png_files = [f for f in os.listdir(input_folder) if f.endswith('.png')]\n",
    "\n",
    "    for png_file in png_files:\n",
    "        # Construct the full path to the PNG file\n",
    "        png_path = os.path.join(input_folder, png_file)\n",
    "\n",
    "        # Call the main function for each PNG file\n",
    "        main(png_path, results_dir)\n",
    "\n",
    "\n",
    "def main(input_path,\n",
    "    results_dir,\n",
    "    lang_file=None,\n",
    "    langs='hi,en',\n",
    "    max=None,\n",
    "    start_page=None,\n",
    "    images=False):\n",
    "\n",
    "    if os.path.isdir(input_path):\n",
    "        images, names = load_from_folder(input_path, max, start_page)\n",
    "        folder_name = os.path.basename(input_path)\n",
    "    else:\n",
    "        images, names = load_from_file(input_path, max, start_page)\n",
    "        folder_name = os.path.basename(input_path).split(\".\")[0]\n",
    "\n",
    "    if lang_file:\n",
    "        # We got all of our language settings from a file\n",
    "        langs = load_lang_file(lang_file, names) \n",
    "        for lang in langs:\n",
    "            replace_lang_with_code(lang)\n",
    "        image_langs = langs\n",
    "    else:\n",
    "        # We got our language settings from the input\n",
    "        langs = langs.split(\",\")\n",
    "        replace_lang_with_code(langs)\n",
    "        image_langs = [langs] * len(images)\n",
    "\n",
    "    det_processor = load_detection_processor()\n",
    "    det_model = load_detection_model()\n",
    "\n",
    "    _, lang_tokens = _tokenize(\"\", get_unique_langs(image_langs))\n",
    "    rec_model = load_recognition_model(langs=lang_tokens) # Prune model moe layer to only include languages we need\n",
    "    rec_processor = load_recognition_processor()\n",
    "\n",
    "    result_path = os.path.join(results_dir, folder_name)\n",
    "    os.makedirs(result_path, exist_ok=True)\n",
    "\n",
    "    predictions_by_image = run_ocr(images, image_langs, det_model, det_processor, rec_model, rec_processor)\n",
    "\n",
    "    if images:\n",
    "        for idx, (name, image, pred, langs) in enumerate(zip(names, images, predictions_by_image, image_langs)):\n",
    "            bboxes = [l.bbox for l in pred.text_lines]\n",
    "            pred_text = [l.text for l in pred.text_lines]\n",
    "            page_image = draw_text_on_image(bboxes, pred_text, image.size, langs, has_math=\"_math\" in langs)\n",
    "            page_image.save(f'./temp{idx}.jpg')\n",
    "            page_image.save(os.path.join(result_path, f\"{name}_{idx}_text.png\"))\n",
    "\n",
    "             # Save text to CSV file\n",
    "            csv_file_path = os.path.join(result_path, f\"{name}_{idx}_text.csv\")\n",
    "            with open(csv_file_path, 'w', newline='', encoding='utf-8') as csv_file:\n",
    "                writer = csv.writer(csv_file)\n",
    "                writer.writerow(['Text'])\n",
    "                for line in pred_text:\n",
    "                    writer.writerow([line])\n",
    "\n",
    "\n",
    "        out_preds = defaultdict(list)\n",
    "        for name, pred, image in zip(names, predictions_by_image, images):\n",
    "            out_pred = pred.model_dump()\n",
    "            out_pred[\"page\"] = len(out_preds[name]) + 1\n",
    "            out_preds[name].append(out_pred)\n",
    "\n",
    "        with open(os.path.join(result_path, \"results.json\"), \"w+\", encoding=\"utf-8\") as f:\n",
    "            json.dump(out_preds, f, ensure_ascii=False)\n",
    "\n",
    "        print(f\"Wrote results to {result_path}\")\n",
    "\n",
    "        # from PIL import Image, ImageDraw\n",
    "        # indices = []\n",
    "        # prev = -1\n",
    "        # for idx in range(len(preds['text_lines'])):\n",
    "        #     x_axis = preds['text_lines'][idx]['polygon'][0][0]\n",
    "        #     if prev != -1 and x_axis > (prev + 5):\n",
    "        #         indices.append(idx)\n",
    "        #     prev = x_axis\n",
    "            \n",
    "        # text = ''\n",
    "        # for idx in range(len(preds['text_lines'])):\n",
    "        #     if idx not in indices:\n",
    "        #         text += preds['text_lines'][idx]['text'] + ' '\n",
    "\n",
    "        # print(f\"Text for page {page_idx + 1}: {text}\")\n",
    "        \n",
    "\n",
    "\n",
    "if __name__ == \"__main__\":\n",
    "     input_folder = '/Users/fajrzafar/Documents/Semester 8 /FYP 1/Books PNGS/SINDH1'\n",
    "     results_dir = '/Users/fajrzafar/Documents/Semester 8 /FYP 1/Extracted_Text/SINDH1'\n",
    "     process_folder(input_folder, results_dir)"
   ]
  },
  {
   "cell_type": "code",
   "execution_count": 3,
   "id": "0d92e0ae-0295-448f-887f-2a20c3a352cb",
   "metadata": {},
   "outputs": [
    {
     "name": "stdout",
     "output_type": "stream",
     "text": [
      "Loading detection model vikp/surya_det2 on device cpu with dtype torch.float32\n",
      "Loading recognition model vikp/surya_rec on device mps with dtype torch.float16\n"
     ]
    },
    {
     "name": "stderr",
     "output_type": "stream",
     "text": [
      "Detecting bboxes: 100%|███████████████████████████| 1/1 [00:25<00:00, 25.38s/it]\n",
      "Recognizing Text: 100%|███████████████████████████| 1/1 [00:32<00:00, 32.21s/it]\n"
     ]
    },
    {
     "name": "stdout",
     "output_type": "stream",
     "text": [
      "Wrote results to /Users/fajrzafar/Documents/Semester 8 /FYP 1/Extracted_Text/SINDH2/page_2\n",
      "Loading detection model vikp/surya_det2 on device cpu with dtype torch.float32\n",
      "Loading recognition model vikp/surya_rec on device mps with dtype torch.float16\n"
     ]
    },
    {
     "name": "stderr",
     "output_type": "stream",
     "text": [
      "Detecting bboxes: 100%|███████████████████████████| 1/1 [00:25<00:00, 25.82s/it]\n",
      "Recognizing Text: 100%|███████████████████████████| 1/1 [01:10<00:00, 70.22s/it]\n"
     ]
    },
    {
     "name": "stdout",
     "output_type": "stream",
     "text": [
      "Wrote results to /Users/fajrzafar/Documents/Semester 8 /FYP 1/Extracted_Text/SINDH2/page_3\n",
      "Loading detection model vikp/surya_det2 on device cpu with dtype torch.float32\n",
      "Loading recognition model vikp/surya_rec on device mps with dtype torch.float16\n"
     ]
    },
    {
     "name": "stderr",
     "output_type": "stream",
     "text": [
      "Detecting bboxes: 100%|███████████████████████████| 1/1 [00:26<00:00, 26.55s/it]\n",
      "Recognizing Text: 100%|██████████████████████████| 1/1 [03:47<00:00, 227.90s/it]\n"
     ]
    },
    {
     "name": "stdout",
     "output_type": "stream",
     "text": [
      "Wrote results to /Users/fajrzafar/Documents/Semester 8 /FYP 1/Extracted_Text/SINDH2/page_1\n",
      "Loading detection model vikp/surya_det2 on device cpu with dtype torch.float32\n",
      "Loading recognition model vikp/surya_rec on device mps with dtype torch.float16\n"
     ]
    },
    {
     "name": "stderr",
     "output_type": "stream",
     "text": [
      "Detecting bboxes: 100%|███████████████████████████| 1/1 [00:25<00:00, 25.39s/it]\n",
      "Recognizing Text: 100%|██████████████████████████| 1/1 [02:11<00:00, 131.92s/it]\n"
     ]
    },
    {
     "name": "stdout",
     "output_type": "stream",
     "text": [
      "Wrote results to /Users/fajrzafar/Documents/Semester 8 /FYP 1/Extracted_Text/SINDH2/page_4\n",
      "Loading detection model vikp/surya_det2 on device cpu with dtype torch.float32\n",
      "Loading recognition model vikp/surya_rec on device mps with dtype torch.float16\n"
     ]
    },
    {
     "name": "stderr",
     "output_type": "stream",
     "text": [
      "Detecting bboxes: 100%|███████████████████████████| 1/1 [00:25<00:00, 25.58s/it]\n",
      "Recognizing Text: 100%|███████████████████████████| 1/1 [00:42<00:00, 42.87s/it]\n"
     ]
    },
    {
     "name": "stdout",
     "output_type": "stream",
     "text": [
      "Wrote results to /Users/fajrzafar/Documents/Semester 8 /FYP 1/Extracted_Text/SINDH2/page_5\n",
      "Loading detection model vikp/surya_det2 on device cpu with dtype torch.float32\n",
      "Loading recognition model vikp/surya_rec on device mps with dtype torch.float16\n"
     ]
    },
    {
     "name": "stderr",
     "output_type": "stream",
     "text": [
      "Detecting bboxes: 100%|███████████████████████████| 1/1 [00:28<00:00, 28.75s/it]\n",
      "Recognizing Text: 100%|███████████████████████████| 1/1 [01:25<00:00, 85.51s/it]\n"
     ]
    },
    {
     "name": "stdout",
     "output_type": "stream",
     "text": [
      "Wrote results to /Users/fajrzafar/Documents/Semester 8 /FYP 1/Extracted_Text/SINDH2/page_7\n",
      "Loading detection model vikp/surya_det2 on device cpu with dtype torch.float32\n",
      "Loading recognition model vikp/surya_rec on device mps with dtype torch.float16\n"
     ]
    },
    {
     "name": "stderr",
     "output_type": "stream",
     "text": [
      "Detecting bboxes: 100%|███████████████████████████| 1/1 [00:27<00:00, 27.74s/it]\n",
      "Recognizing Text: 100%|██████████████████████████| 1/1 [02:07<00:00, 127.33s/it]\n"
     ]
    },
    {
     "name": "stdout",
     "output_type": "stream",
     "text": [
      "Wrote results to /Users/fajrzafar/Documents/Semester 8 /FYP 1/Extracted_Text/SINDH2/page_6\n",
      "Loading detection model vikp/surya_det2 on device cpu with dtype torch.float32\n",
      "Loading recognition model vikp/surya_rec on device mps with dtype torch.float16\n"
     ]
    },
    {
     "name": "stderr",
     "output_type": "stream",
     "text": [
      "Detecting bboxes: 100%|███████████████████████████| 1/1 [00:27<00:00, 27.71s/it]\n",
      "Recognizing Text: 100%|███████████████████████████| 1/1 [00:11<00:00, 11.19s/it]\n"
     ]
    },
    {
     "name": "stdout",
     "output_type": "stream",
     "text": [
      "Wrote results to /Users/fajrzafar/Documents/Semester 8 /FYP 1/Extracted_Text/SINDH2/page_19\n",
      "Loading detection model vikp/surya_det2 on device cpu with dtype torch.float32\n",
      "Loading recognition model vikp/surya_rec on device mps with dtype torch.float16\n"
     ]
    },
    {
     "name": "stderr",
     "output_type": "stream",
     "text": [
      "Detecting bboxes: 100%|███████████████████████████| 1/1 [00:29<00:00, 29.21s/it]\n",
      "Recognizing Text: 100%|███████████████████████████| 1/1 [00:42<00:00, 42.11s/it]\n"
     ]
    },
    {
     "name": "stdout",
     "output_type": "stream",
     "text": [
      "Wrote results to /Users/fajrzafar/Documents/Semester 8 /FYP 1/Extracted_Text/SINDH2/page_18\n",
      "Loading detection model vikp/surya_det2 on device cpu with dtype torch.float32\n",
      "Loading recognition model vikp/surya_rec on device mps with dtype torch.float16\n"
     ]
    },
    {
     "name": "stderr",
     "output_type": "stream",
     "text": [
      "Detecting bboxes: 100%|███████████████████████████| 1/1 [00:29<00:00, 29.74s/it]\n",
      "Recognizing Text: 100%|███████████████████████████| 1/1 [00:35<00:00, 35.63s/it]\n"
     ]
    },
    {
     "name": "stdout",
     "output_type": "stream",
     "text": [
      "Wrote results to /Users/fajrzafar/Documents/Semester 8 /FYP 1/Extracted_Text/SINDH2/page_20\n",
      "Loading detection model vikp/surya_det2 on device cpu with dtype torch.float32\n",
      "Loading recognition model vikp/surya_rec on device mps with dtype torch.float16\n"
     ]
    },
    {
     "name": "stderr",
     "output_type": "stream",
     "text": [
      "Detecting bboxes: 100%|███████████████████████████| 1/1 [00:30<00:00, 30.59s/it]\n",
      "Recognizing Text: 100%|███████████████████████████| 1/1 [00:23<00:00, 23.31s/it]\n"
     ]
    },
    {
     "name": "stdout",
     "output_type": "stream",
     "text": [
      "Wrote results to /Users/fajrzafar/Documents/Semester 8 /FYP 1/Extracted_Text/SINDH2/page_10\n",
      "Loading detection model vikp/surya_det2 on device cpu with dtype torch.float32\n",
      "Loading recognition model vikp/surya_rec on device mps with dtype torch.float16\n"
     ]
    },
    {
     "name": "stderr",
     "output_type": "stream",
     "text": [
      "Detecting bboxes: 100%|███████████████████████████| 1/1 [00:33<00:00, 33.71s/it]\n",
      "Recognizing Text:   0%|                                   | 0/1 [00:12<?, ?it/s]\n"
     ]
    },
    {
     "ename": "RuntimeError",
     "evalue": "MPS backend out of memory (MPS allocated: 7.27 GB, other allocations: 1.76 GB, max allowed: 9.07 GB). Tried to allocate 58.19 MB on private pool. Use PYTORCH_MPS_HIGH_WATERMARK_RATIO=0.0 to disable upper limit for memory allocations (may cause system failure).",
     "output_type": "error",
     "traceback": [
      "\u001b[0;31m---------------------------------------------------------------------------\u001b[0m",
      "\u001b[0;31mRuntimeError\u001b[0m                              Traceback (most recent call last)",
      "Cell \u001b[0;32mIn[3], line 119\u001b[0m\n\u001b[1;32m    117\u001b[0m input_folder \u001b[38;5;241m=\u001b[39m \u001b[38;5;124m'\u001b[39m\u001b[38;5;124m/Users/fajrzafar/Documents/Semester 8 /FYP 1/Books PNGS/SINDH2\u001b[39m\u001b[38;5;124m'\u001b[39m\n\u001b[1;32m    118\u001b[0m results_dir \u001b[38;5;241m=\u001b[39m \u001b[38;5;124m'\u001b[39m\u001b[38;5;124m/Users/fajrzafar/Documents/Semester 8 /FYP 1/Extracted_Text/SINDH2\u001b[39m\u001b[38;5;124m'\u001b[39m\n\u001b[0;32m--> 119\u001b[0m \u001b[43mprocess_folder\u001b[49m\u001b[43m(\u001b[49m\u001b[43minput_folder\u001b[49m\u001b[43m,\u001b[49m\u001b[43m \u001b[49m\u001b[43mresults_dir\u001b[49m\u001b[43m)\u001b[49m\n",
      "Cell \u001b[0;32mIn[3], line 28\u001b[0m, in \u001b[0;36mprocess_folder\u001b[0;34m(input_folder, results_dir)\u001b[0m\n\u001b[1;32m     25\u001b[0m png_path \u001b[38;5;241m=\u001b[39m os\u001b[38;5;241m.\u001b[39mpath\u001b[38;5;241m.\u001b[39mjoin(input_folder, png_file)\n\u001b[1;32m     27\u001b[0m \u001b[38;5;66;03m# Call the main function for each PNG file\u001b[39;00m\n\u001b[0;32m---> 28\u001b[0m \u001b[43mmain\u001b[49m\u001b[43m(\u001b[49m\u001b[43mpng_path\u001b[49m\u001b[43m,\u001b[49m\u001b[43m \u001b[49m\u001b[43mresults_dir\u001b[49m\u001b[43m)\u001b[49m\n",
      "Cell \u001b[0;32mIn[3], line 68\u001b[0m, in \u001b[0;36mmain\u001b[0;34m(input_path, results_dir, lang_file, langs, max, start_page, images)\u001b[0m\n\u001b[1;32m     65\u001b[0m result_path \u001b[38;5;241m=\u001b[39m os\u001b[38;5;241m.\u001b[39mpath\u001b[38;5;241m.\u001b[39mjoin(results_dir, folder_name)\n\u001b[1;32m     66\u001b[0m os\u001b[38;5;241m.\u001b[39mmakedirs(result_path, exist_ok\u001b[38;5;241m=\u001b[39m\u001b[38;5;28;01mTrue\u001b[39;00m)\n\u001b[0;32m---> 68\u001b[0m predictions_by_image \u001b[38;5;241m=\u001b[39m \u001b[43mrun_ocr\u001b[49m\u001b[43m(\u001b[49m\u001b[43mimages\u001b[49m\u001b[43m,\u001b[49m\u001b[43m \u001b[49m\u001b[43mimage_langs\u001b[49m\u001b[43m,\u001b[49m\u001b[43m \u001b[49m\u001b[43mdet_model\u001b[49m\u001b[43m,\u001b[49m\u001b[43m \u001b[49m\u001b[43mdet_processor\u001b[49m\u001b[43m,\u001b[49m\u001b[43m \u001b[49m\u001b[43mrec_model\u001b[49m\u001b[43m,\u001b[49m\u001b[43m \u001b[49m\u001b[43mrec_processor\u001b[49m\u001b[43m)\u001b[49m\n\u001b[1;32m     70\u001b[0m \u001b[38;5;28;01mif\u001b[39;00m images:\n\u001b[1;32m     71\u001b[0m     \u001b[38;5;28;01mfor\u001b[39;00m idx, (name, image, pred, langs) \u001b[38;5;129;01min\u001b[39;00m \u001b[38;5;28menumerate\u001b[39m(\u001b[38;5;28mzip\u001b[39m(names, images, predictions_by_image, image_langs)):\n",
      "File \u001b[0;32m/Library/Frameworks/Python.framework/Versions/3.11/lib/python3.11/site-packages/surya/ocr.py:77\u001b[0m, in \u001b[0;36mrun_ocr\u001b[0;34m(images, langs, det_model, det_processor, rec_model, rec_processor)\u001b[0m\n\u001b[1;32m     74\u001b[0m     all_slices\u001b[38;5;241m.\u001b[39mextend(slices)\n\u001b[1;32m     75\u001b[0m     all_langs\u001b[38;5;241m.\u001b[39mextend([lang] \u001b[38;5;241m*\u001b[39m \u001b[38;5;28mlen\u001b[39m(slices))\n\u001b[0;32m---> 77\u001b[0m rec_predictions, confidence_scores \u001b[38;5;241m=\u001b[39m \u001b[43mbatch_recognition\u001b[49m\u001b[43m(\u001b[49m\u001b[43mall_slices\u001b[49m\u001b[43m,\u001b[49m\u001b[43m \u001b[49m\u001b[43mall_langs\u001b[49m\u001b[43m,\u001b[49m\u001b[43m \u001b[49m\u001b[43mrec_model\u001b[49m\u001b[43m,\u001b[49m\u001b[43m \u001b[49m\u001b[43mrec_processor\u001b[49m\u001b[43m)\u001b[49m\n\u001b[1;32m     79\u001b[0m predictions_by_image \u001b[38;5;241m=\u001b[39m []\n\u001b[1;32m     80\u001b[0m slice_start \u001b[38;5;241m=\u001b[39m \u001b[38;5;241m0\u001b[39m\n",
      "File \u001b[0;32m/Library/Frameworks/Python.framework/Versions/3.11/lib/python3.11/site-packages/surya/recognition.py:48\u001b[0m, in \u001b[0;36mbatch_recognition\u001b[0;34m(images, languages, model, processor)\u001b[0m\n\u001b[1;32m     45\u001b[0m batch_decoder_input \u001b[38;5;241m=\u001b[39m torch\u001b[38;5;241m.\u001b[39mfrom_numpy(np\u001b[38;5;241m.\u001b[39marray(batch_decoder_input, dtype\u001b[38;5;241m=\u001b[39mnp\u001b[38;5;241m.\u001b[39mint64))\u001b[38;5;241m.\u001b[39mto(model\u001b[38;5;241m.\u001b[39mdevice)\n\u001b[1;32m     47\u001b[0m \u001b[38;5;28;01mwith\u001b[39;00m torch\u001b[38;5;241m.\u001b[39minference_mode():\n\u001b[0;32m---> 48\u001b[0m     return_dict \u001b[38;5;241m=\u001b[39m \u001b[43mmodel\u001b[49m\u001b[38;5;241;43m.\u001b[39;49m\u001b[43mgenerate\u001b[49m\u001b[43m(\u001b[49m\n\u001b[1;32m     49\u001b[0m \u001b[43m        \u001b[49m\u001b[43mpixel_values\u001b[49m\u001b[38;5;241;43m=\u001b[39;49m\u001b[43mbatch_pixel_values\u001b[49m\u001b[43m,\u001b[49m\n\u001b[1;32m     50\u001b[0m \u001b[43m        \u001b[49m\u001b[43mdecoder_input_ids\u001b[49m\u001b[38;5;241;43m=\u001b[39;49m\u001b[43mbatch_decoder_input\u001b[49m\u001b[43m,\u001b[49m\n\u001b[1;32m     51\u001b[0m \u001b[43m        \u001b[49m\u001b[43mdecoder_langs\u001b[49m\u001b[38;5;241;43m=\u001b[39;49m\u001b[43mbatch_langs\u001b[49m\u001b[43m,\u001b[49m\n\u001b[1;32m     52\u001b[0m \u001b[43m        \u001b[49m\u001b[43meos_token_id\u001b[49m\u001b[38;5;241;43m=\u001b[39;49m\u001b[43mprocessor\u001b[49m\u001b[38;5;241;43m.\u001b[39;49m\u001b[43mtokenizer\u001b[49m\u001b[38;5;241;43m.\u001b[39;49m\u001b[43meos_id\u001b[49m\u001b[43m,\u001b[49m\n\u001b[1;32m     53\u001b[0m \u001b[43m        \u001b[49m\u001b[43mmax_new_tokens\u001b[49m\u001b[38;5;241;43m=\u001b[39;49m\u001b[43msettings\u001b[49m\u001b[38;5;241;43m.\u001b[39;49m\u001b[43mRECOGNITION_MAX_TOKENS\u001b[49m\u001b[43m,\u001b[49m\n\u001b[1;32m     54\u001b[0m \u001b[43m        \u001b[49m\u001b[43moutput_scores\u001b[49m\u001b[38;5;241;43m=\u001b[39;49m\u001b[38;5;28;43;01mTrue\u001b[39;49;00m\u001b[43m,\u001b[49m\n\u001b[1;32m     55\u001b[0m \u001b[43m        \u001b[49m\u001b[43mreturn_dict_in_generate\u001b[49m\u001b[38;5;241;43m=\u001b[39;49m\u001b[38;5;28;43;01mTrue\u001b[39;49;00m\n\u001b[1;32m     56\u001b[0m \u001b[43m    \u001b[49m\u001b[43m)\u001b[49m\n\u001b[1;32m     57\u001b[0m     generated_ids \u001b[38;5;241m=\u001b[39m return_dict[\u001b[38;5;124m\"\u001b[39m\u001b[38;5;124msequences\u001b[39m\u001b[38;5;124m\"\u001b[39m]\n\u001b[1;32m     59\u001b[0m     \u001b[38;5;66;03m# Find confidence scores\u001b[39;00m\n",
      "File \u001b[0;32m/Library/Frameworks/Python.framework/Versions/3.11/lib/python3.11/site-packages/torch/utils/_contextlib.py:115\u001b[0m, in \u001b[0;36mcontext_decorator.<locals>.decorate_context\u001b[0;34m(*args, **kwargs)\u001b[0m\n\u001b[1;32m    112\u001b[0m \u001b[38;5;129m@functools\u001b[39m\u001b[38;5;241m.\u001b[39mwraps(func)\n\u001b[1;32m    113\u001b[0m \u001b[38;5;28;01mdef\u001b[39;00m \u001b[38;5;21mdecorate_context\u001b[39m(\u001b[38;5;241m*\u001b[39margs, \u001b[38;5;241m*\u001b[39m\u001b[38;5;241m*\u001b[39mkwargs):\n\u001b[1;32m    114\u001b[0m     \u001b[38;5;28;01mwith\u001b[39;00m ctx_factory():\n\u001b[0;32m--> 115\u001b[0m         \u001b[38;5;28;01mreturn\u001b[39;00m \u001b[43mfunc\u001b[49m\u001b[43m(\u001b[49m\u001b[38;5;241;43m*\u001b[39;49m\u001b[43margs\u001b[49m\u001b[43m,\u001b[49m\u001b[43m \u001b[49m\u001b[38;5;241;43m*\u001b[39;49m\u001b[38;5;241;43m*\u001b[39;49m\u001b[43mkwargs\u001b[49m\u001b[43m)\u001b[49m\n",
      "File \u001b[0;32m/Library/Frameworks/Python.framework/Versions/3.11/lib/python3.11/site-packages/transformers/generation/utils.py:1593\u001b[0m, in \u001b[0;36mGenerationMixin.generate\u001b[0;34m(self, inputs, generation_config, logits_processor, stopping_criteria, prefix_allowed_tokens_fn, synced_gpus, assistant_model, streamer, negative_prompt_ids, negative_prompt_attention_mask, **kwargs)\u001b[0m\n\u001b[1;32m   1585\u001b[0m         logger\u001b[38;5;241m.\u001b[39mwarning(\n\u001b[1;32m   1586\u001b[0m             \u001b[38;5;124m\"\u001b[39m\u001b[38;5;124mA decoder-only architecture is being used, but right-padding was detected! For correct \u001b[39m\u001b[38;5;124m\"\u001b[39m\n\u001b[1;32m   1587\u001b[0m             \u001b[38;5;124m\"\u001b[39m\u001b[38;5;124mgeneration results, please set `padding_side=\u001b[39m\u001b[38;5;124m'\u001b[39m\u001b[38;5;124mleft\u001b[39m\u001b[38;5;124m'\u001b[39m\u001b[38;5;124m` when initializing the tokenizer.\u001b[39m\u001b[38;5;124m\"\u001b[39m\n\u001b[1;32m   1588\u001b[0m         )\n\u001b[1;32m   1590\u001b[0m \u001b[38;5;28;01mif\u001b[39;00m \u001b[38;5;28mself\u001b[39m\u001b[38;5;241m.\u001b[39mconfig\u001b[38;5;241m.\u001b[39mis_encoder_decoder \u001b[38;5;129;01mand\u001b[39;00m \u001b[38;5;124m\"\u001b[39m\u001b[38;5;124mencoder_outputs\u001b[39m\u001b[38;5;124m\"\u001b[39m \u001b[38;5;129;01mnot\u001b[39;00m \u001b[38;5;129;01min\u001b[39;00m model_kwargs:\n\u001b[1;32m   1591\u001b[0m     \u001b[38;5;66;03m# if model is encoder decoder encoder_outputs are created\u001b[39;00m\n\u001b[1;32m   1592\u001b[0m     \u001b[38;5;66;03m# and added to `model_kwargs`\u001b[39;00m\n\u001b[0;32m-> 1593\u001b[0m     model_kwargs \u001b[38;5;241m=\u001b[39m \u001b[38;5;28;43mself\u001b[39;49m\u001b[38;5;241;43m.\u001b[39;49m\u001b[43m_prepare_encoder_decoder_kwargs_for_generation\u001b[49m\u001b[43m(\u001b[49m\n\u001b[1;32m   1594\u001b[0m \u001b[43m        \u001b[49m\u001b[43minputs_tensor\u001b[49m\u001b[43m,\u001b[49m\u001b[43m \u001b[49m\u001b[43mmodel_kwargs\u001b[49m\u001b[43m,\u001b[49m\u001b[43m \u001b[49m\u001b[43mmodel_input_name\u001b[49m\n\u001b[1;32m   1595\u001b[0m \u001b[43m    \u001b[49m\u001b[43m)\u001b[49m\n\u001b[1;32m   1597\u001b[0m \u001b[38;5;66;03m# 5. Prepare `input_ids` which will be used for auto-regressive generation\u001b[39;00m\n\u001b[1;32m   1598\u001b[0m \u001b[38;5;28;01mif\u001b[39;00m \u001b[38;5;28mself\u001b[39m\u001b[38;5;241m.\u001b[39mconfig\u001b[38;5;241m.\u001b[39mis_encoder_decoder:\n",
      "File \u001b[0;32m/Library/Frameworks/Python.framework/Versions/3.11/lib/python3.11/site-packages/transformers/generation/utils.py:742\u001b[0m, in \u001b[0;36mGenerationMixin._prepare_encoder_decoder_kwargs_for_generation\u001b[0;34m(self, inputs_tensor, model_kwargs, model_input_name)\u001b[0m\n\u001b[1;32m    740\u001b[0m encoder_kwargs[\u001b[38;5;124m\"\u001b[39m\u001b[38;5;124mreturn_dict\u001b[39m\u001b[38;5;124m\"\u001b[39m] \u001b[38;5;241m=\u001b[39m \u001b[38;5;28;01mTrue\u001b[39;00m\n\u001b[1;32m    741\u001b[0m encoder_kwargs[model_input_name] \u001b[38;5;241m=\u001b[39m inputs_tensor\n\u001b[0;32m--> 742\u001b[0m model_kwargs[\u001b[38;5;124m\"\u001b[39m\u001b[38;5;124mencoder_outputs\u001b[39m\u001b[38;5;124m\"\u001b[39m]: ModelOutput \u001b[38;5;241m=\u001b[39m \u001b[43mencoder\u001b[49m\u001b[43m(\u001b[49m\u001b[38;5;241;43m*\u001b[39;49m\u001b[38;5;241;43m*\u001b[39;49m\u001b[43mencoder_kwargs\u001b[49m\u001b[43m)\u001b[49m\n\u001b[1;32m    744\u001b[0m \u001b[38;5;28;01mreturn\u001b[39;00m model_kwargs\n",
      "File \u001b[0;32m/Library/Frameworks/Python.framework/Versions/3.11/lib/python3.11/site-packages/torch/nn/modules/module.py:1532\u001b[0m, in \u001b[0;36mModule._wrapped_call_impl\u001b[0;34m(self, *args, **kwargs)\u001b[0m\n\u001b[1;32m   1530\u001b[0m     \u001b[38;5;28;01mreturn\u001b[39;00m \u001b[38;5;28mself\u001b[39m\u001b[38;5;241m.\u001b[39m_compiled_call_impl(\u001b[38;5;241m*\u001b[39margs, \u001b[38;5;241m*\u001b[39m\u001b[38;5;241m*\u001b[39mkwargs)  \u001b[38;5;66;03m# type: ignore[misc]\u001b[39;00m\n\u001b[1;32m   1531\u001b[0m \u001b[38;5;28;01melse\u001b[39;00m:\n\u001b[0;32m-> 1532\u001b[0m     \u001b[38;5;28;01mreturn\u001b[39;00m \u001b[38;5;28;43mself\u001b[39;49m\u001b[38;5;241;43m.\u001b[39;49m\u001b[43m_call_impl\u001b[49m\u001b[43m(\u001b[49m\u001b[38;5;241;43m*\u001b[39;49m\u001b[43margs\u001b[49m\u001b[43m,\u001b[49m\u001b[43m \u001b[49m\u001b[38;5;241;43m*\u001b[39;49m\u001b[38;5;241;43m*\u001b[39;49m\u001b[43mkwargs\u001b[49m\u001b[43m)\u001b[49m\n",
      "File \u001b[0;32m/Library/Frameworks/Python.framework/Versions/3.11/lib/python3.11/site-packages/torch/nn/modules/module.py:1541\u001b[0m, in \u001b[0;36mModule._call_impl\u001b[0;34m(self, *args, **kwargs)\u001b[0m\n\u001b[1;32m   1536\u001b[0m \u001b[38;5;66;03m# If we don't have any hooks, we want to skip the rest of the logic in\u001b[39;00m\n\u001b[1;32m   1537\u001b[0m \u001b[38;5;66;03m# this function, and just call forward.\u001b[39;00m\n\u001b[1;32m   1538\u001b[0m \u001b[38;5;28;01mif\u001b[39;00m \u001b[38;5;129;01mnot\u001b[39;00m (\u001b[38;5;28mself\u001b[39m\u001b[38;5;241m.\u001b[39m_backward_hooks \u001b[38;5;129;01mor\u001b[39;00m \u001b[38;5;28mself\u001b[39m\u001b[38;5;241m.\u001b[39m_backward_pre_hooks \u001b[38;5;129;01mor\u001b[39;00m \u001b[38;5;28mself\u001b[39m\u001b[38;5;241m.\u001b[39m_forward_hooks \u001b[38;5;129;01mor\u001b[39;00m \u001b[38;5;28mself\u001b[39m\u001b[38;5;241m.\u001b[39m_forward_pre_hooks\n\u001b[1;32m   1539\u001b[0m         \u001b[38;5;129;01mor\u001b[39;00m _global_backward_pre_hooks \u001b[38;5;129;01mor\u001b[39;00m _global_backward_hooks\n\u001b[1;32m   1540\u001b[0m         \u001b[38;5;129;01mor\u001b[39;00m _global_forward_hooks \u001b[38;5;129;01mor\u001b[39;00m _global_forward_pre_hooks):\n\u001b[0;32m-> 1541\u001b[0m     \u001b[38;5;28;01mreturn\u001b[39;00m \u001b[43mforward_call\u001b[49m\u001b[43m(\u001b[49m\u001b[38;5;241;43m*\u001b[39;49m\u001b[43margs\u001b[49m\u001b[43m,\u001b[49m\u001b[43m \u001b[49m\u001b[38;5;241;43m*\u001b[39;49m\u001b[38;5;241;43m*\u001b[39;49m\u001b[43mkwargs\u001b[49m\u001b[43m)\u001b[49m\n\u001b[1;32m   1543\u001b[0m \u001b[38;5;28;01mtry\u001b[39;00m:\n\u001b[1;32m   1544\u001b[0m     result \u001b[38;5;241m=\u001b[39m \u001b[38;5;28;01mNone\u001b[39;00m\n",
      "File \u001b[0;32m/Library/Frameworks/Python.framework/Versions/3.11/lib/python3.11/site-packages/transformers/models/donut/modeling_donut_swin.py:925\u001b[0m, in \u001b[0;36mDonutSwinModel.forward\u001b[0;34m(self, pixel_values, bool_masked_pos, head_mask, output_attentions, output_hidden_states, return_dict)\u001b[0m\n\u001b[1;32m    921\u001b[0m head_mask \u001b[38;5;241m=\u001b[39m \u001b[38;5;28mself\u001b[39m\u001b[38;5;241m.\u001b[39mget_head_mask(head_mask, \u001b[38;5;28mlen\u001b[39m(\u001b[38;5;28mself\u001b[39m\u001b[38;5;241m.\u001b[39mconfig\u001b[38;5;241m.\u001b[39mdepths))\n\u001b[1;32m    923\u001b[0m embedding_output, input_dimensions \u001b[38;5;241m=\u001b[39m \u001b[38;5;28mself\u001b[39m\u001b[38;5;241m.\u001b[39membeddings(pixel_values, bool_masked_pos\u001b[38;5;241m=\u001b[39mbool_masked_pos)\n\u001b[0;32m--> 925\u001b[0m encoder_outputs \u001b[38;5;241m=\u001b[39m \u001b[38;5;28;43mself\u001b[39;49m\u001b[38;5;241;43m.\u001b[39;49m\u001b[43mencoder\u001b[49m\u001b[43m(\u001b[49m\n\u001b[1;32m    926\u001b[0m \u001b[43m    \u001b[49m\u001b[43membedding_output\u001b[49m\u001b[43m,\u001b[49m\n\u001b[1;32m    927\u001b[0m \u001b[43m    \u001b[49m\u001b[43minput_dimensions\u001b[49m\u001b[43m,\u001b[49m\n\u001b[1;32m    928\u001b[0m \u001b[43m    \u001b[49m\u001b[43mhead_mask\u001b[49m\u001b[38;5;241;43m=\u001b[39;49m\u001b[43mhead_mask\u001b[49m\u001b[43m,\u001b[49m\n\u001b[1;32m    929\u001b[0m \u001b[43m    \u001b[49m\u001b[43moutput_attentions\u001b[49m\u001b[38;5;241;43m=\u001b[39;49m\u001b[43moutput_attentions\u001b[49m\u001b[43m,\u001b[49m\n\u001b[1;32m    930\u001b[0m \u001b[43m    \u001b[49m\u001b[43moutput_hidden_states\u001b[49m\u001b[38;5;241;43m=\u001b[39;49m\u001b[43moutput_hidden_states\u001b[49m\u001b[43m,\u001b[49m\n\u001b[1;32m    931\u001b[0m \u001b[43m    \u001b[49m\u001b[43mreturn_dict\u001b[49m\u001b[38;5;241;43m=\u001b[39;49m\u001b[43mreturn_dict\u001b[49m\u001b[43m,\u001b[49m\n\u001b[1;32m    932\u001b[0m \u001b[43m\u001b[49m\u001b[43m)\u001b[49m\n\u001b[1;32m    934\u001b[0m sequence_output \u001b[38;5;241m=\u001b[39m encoder_outputs[\u001b[38;5;241m0\u001b[39m]\n\u001b[1;32m    936\u001b[0m pooled_output \u001b[38;5;241m=\u001b[39m \u001b[38;5;28;01mNone\u001b[39;00m\n",
      "File \u001b[0;32m/Library/Frameworks/Python.framework/Versions/3.11/lib/python3.11/site-packages/torch/nn/modules/module.py:1532\u001b[0m, in \u001b[0;36mModule._wrapped_call_impl\u001b[0;34m(self, *args, **kwargs)\u001b[0m\n\u001b[1;32m   1530\u001b[0m     \u001b[38;5;28;01mreturn\u001b[39;00m \u001b[38;5;28mself\u001b[39m\u001b[38;5;241m.\u001b[39m_compiled_call_impl(\u001b[38;5;241m*\u001b[39margs, \u001b[38;5;241m*\u001b[39m\u001b[38;5;241m*\u001b[39mkwargs)  \u001b[38;5;66;03m# type: ignore[misc]\u001b[39;00m\n\u001b[1;32m   1531\u001b[0m \u001b[38;5;28;01melse\u001b[39;00m:\n\u001b[0;32m-> 1532\u001b[0m     \u001b[38;5;28;01mreturn\u001b[39;00m \u001b[38;5;28;43mself\u001b[39;49m\u001b[38;5;241;43m.\u001b[39;49m\u001b[43m_call_impl\u001b[49m\u001b[43m(\u001b[49m\u001b[38;5;241;43m*\u001b[39;49m\u001b[43margs\u001b[49m\u001b[43m,\u001b[49m\u001b[43m \u001b[49m\u001b[38;5;241;43m*\u001b[39;49m\u001b[38;5;241;43m*\u001b[39;49m\u001b[43mkwargs\u001b[49m\u001b[43m)\u001b[49m\n",
      "File \u001b[0;32m/Library/Frameworks/Python.framework/Versions/3.11/lib/python3.11/site-packages/torch/nn/modules/module.py:1541\u001b[0m, in \u001b[0;36mModule._call_impl\u001b[0;34m(self, *args, **kwargs)\u001b[0m\n\u001b[1;32m   1536\u001b[0m \u001b[38;5;66;03m# If we don't have any hooks, we want to skip the rest of the logic in\u001b[39;00m\n\u001b[1;32m   1537\u001b[0m \u001b[38;5;66;03m# this function, and just call forward.\u001b[39;00m\n\u001b[1;32m   1538\u001b[0m \u001b[38;5;28;01mif\u001b[39;00m \u001b[38;5;129;01mnot\u001b[39;00m (\u001b[38;5;28mself\u001b[39m\u001b[38;5;241m.\u001b[39m_backward_hooks \u001b[38;5;129;01mor\u001b[39;00m \u001b[38;5;28mself\u001b[39m\u001b[38;5;241m.\u001b[39m_backward_pre_hooks \u001b[38;5;129;01mor\u001b[39;00m \u001b[38;5;28mself\u001b[39m\u001b[38;5;241m.\u001b[39m_forward_hooks \u001b[38;5;129;01mor\u001b[39;00m \u001b[38;5;28mself\u001b[39m\u001b[38;5;241m.\u001b[39m_forward_pre_hooks\n\u001b[1;32m   1539\u001b[0m         \u001b[38;5;129;01mor\u001b[39;00m _global_backward_pre_hooks \u001b[38;5;129;01mor\u001b[39;00m _global_backward_hooks\n\u001b[1;32m   1540\u001b[0m         \u001b[38;5;129;01mor\u001b[39;00m _global_forward_hooks \u001b[38;5;129;01mor\u001b[39;00m _global_forward_pre_hooks):\n\u001b[0;32m-> 1541\u001b[0m     \u001b[38;5;28;01mreturn\u001b[39;00m \u001b[43mforward_call\u001b[49m\u001b[43m(\u001b[49m\u001b[38;5;241;43m*\u001b[39;49m\u001b[43margs\u001b[49m\u001b[43m,\u001b[49m\u001b[43m \u001b[49m\u001b[38;5;241;43m*\u001b[39;49m\u001b[38;5;241;43m*\u001b[39;49m\u001b[43mkwargs\u001b[49m\u001b[43m)\u001b[49m\n\u001b[1;32m   1543\u001b[0m \u001b[38;5;28;01mtry\u001b[39;00m:\n\u001b[1;32m   1544\u001b[0m     result \u001b[38;5;241m=\u001b[39m \u001b[38;5;28;01mNone\u001b[39;00m\n",
      "File \u001b[0;32m/Library/Frameworks/Python.framework/Versions/3.11/lib/python3.11/site-packages/transformers/models/donut/modeling_donut_swin.py:756\u001b[0m, in \u001b[0;36mDonutSwinEncoder.forward\u001b[0;34m(self, hidden_states, input_dimensions, head_mask, output_attentions, output_hidden_states, output_hidden_states_before_downsampling, always_partition, return_dict)\u001b[0m\n\u001b[1;32m    752\u001b[0m     layer_outputs \u001b[38;5;241m=\u001b[39m \u001b[38;5;28mself\u001b[39m\u001b[38;5;241m.\u001b[39m_gradient_checkpointing_func(\n\u001b[1;32m    753\u001b[0m         layer_module\u001b[38;5;241m.\u001b[39m\u001b[38;5;21m__call__\u001b[39m, hidden_states, input_dimensions, layer_head_mask, output_attentions\n\u001b[1;32m    754\u001b[0m     )\n\u001b[1;32m    755\u001b[0m \u001b[38;5;28;01melse\u001b[39;00m:\n\u001b[0;32m--> 756\u001b[0m     layer_outputs \u001b[38;5;241m=\u001b[39m \u001b[43mlayer_module\u001b[49m\u001b[43m(\u001b[49m\n\u001b[1;32m    757\u001b[0m \u001b[43m        \u001b[49m\u001b[43mhidden_states\u001b[49m\u001b[43m,\u001b[49m\u001b[43m \u001b[49m\u001b[43minput_dimensions\u001b[49m\u001b[43m,\u001b[49m\u001b[43m \u001b[49m\u001b[43mlayer_head_mask\u001b[49m\u001b[43m,\u001b[49m\u001b[43m \u001b[49m\u001b[43moutput_attentions\u001b[49m\u001b[43m,\u001b[49m\u001b[43m \u001b[49m\u001b[43malways_partition\u001b[49m\n\u001b[1;32m    758\u001b[0m \u001b[43m    \u001b[49m\u001b[43m)\u001b[49m\n\u001b[1;32m    760\u001b[0m hidden_states \u001b[38;5;241m=\u001b[39m layer_outputs[\u001b[38;5;241m0\u001b[39m]\n\u001b[1;32m    761\u001b[0m hidden_states_before_downsampling \u001b[38;5;241m=\u001b[39m layer_outputs[\u001b[38;5;241m1\u001b[39m]\n",
      "File \u001b[0;32m/Library/Frameworks/Python.framework/Versions/3.11/lib/python3.11/site-packages/torch/nn/modules/module.py:1532\u001b[0m, in \u001b[0;36mModule._wrapped_call_impl\u001b[0;34m(self, *args, **kwargs)\u001b[0m\n\u001b[1;32m   1530\u001b[0m     \u001b[38;5;28;01mreturn\u001b[39;00m \u001b[38;5;28mself\u001b[39m\u001b[38;5;241m.\u001b[39m_compiled_call_impl(\u001b[38;5;241m*\u001b[39margs, \u001b[38;5;241m*\u001b[39m\u001b[38;5;241m*\u001b[39mkwargs)  \u001b[38;5;66;03m# type: ignore[misc]\u001b[39;00m\n\u001b[1;32m   1531\u001b[0m \u001b[38;5;28;01melse\u001b[39;00m:\n\u001b[0;32m-> 1532\u001b[0m     \u001b[38;5;28;01mreturn\u001b[39;00m \u001b[38;5;28;43mself\u001b[39;49m\u001b[38;5;241;43m.\u001b[39;49m\u001b[43m_call_impl\u001b[49m\u001b[43m(\u001b[49m\u001b[38;5;241;43m*\u001b[39;49m\u001b[43margs\u001b[49m\u001b[43m,\u001b[49m\u001b[43m \u001b[49m\u001b[38;5;241;43m*\u001b[39;49m\u001b[38;5;241;43m*\u001b[39;49m\u001b[43mkwargs\u001b[49m\u001b[43m)\u001b[49m\n",
      "File \u001b[0;32m/Library/Frameworks/Python.framework/Versions/3.11/lib/python3.11/site-packages/torch/nn/modules/module.py:1541\u001b[0m, in \u001b[0;36mModule._call_impl\u001b[0;34m(self, *args, **kwargs)\u001b[0m\n\u001b[1;32m   1536\u001b[0m \u001b[38;5;66;03m# If we don't have any hooks, we want to skip the rest of the logic in\u001b[39;00m\n\u001b[1;32m   1537\u001b[0m \u001b[38;5;66;03m# this function, and just call forward.\u001b[39;00m\n\u001b[1;32m   1538\u001b[0m \u001b[38;5;28;01mif\u001b[39;00m \u001b[38;5;129;01mnot\u001b[39;00m (\u001b[38;5;28mself\u001b[39m\u001b[38;5;241m.\u001b[39m_backward_hooks \u001b[38;5;129;01mor\u001b[39;00m \u001b[38;5;28mself\u001b[39m\u001b[38;5;241m.\u001b[39m_backward_pre_hooks \u001b[38;5;129;01mor\u001b[39;00m \u001b[38;5;28mself\u001b[39m\u001b[38;5;241m.\u001b[39m_forward_hooks \u001b[38;5;129;01mor\u001b[39;00m \u001b[38;5;28mself\u001b[39m\u001b[38;5;241m.\u001b[39m_forward_pre_hooks\n\u001b[1;32m   1539\u001b[0m         \u001b[38;5;129;01mor\u001b[39;00m _global_backward_pre_hooks \u001b[38;5;129;01mor\u001b[39;00m _global_backward_hooks\n\u001b[1;32m   1540\u001b[0m         \u001b[38;5;129;01mor\u001b[39;00m _global_forward_hooks \u001b[38;5;129;01mor\u001b[39;00m _global_forward_pre_hooks):\n\u001b[0;32m-> 1541\u001b[0m     \u001b[38;5;28;01mreturn\u001b[39;00m \u001b[43mforward_call\u001b[49m\u001b[43m(\u001b[49m\u001b[38;5;241;43m*\u001b[39;49m\u001b[43margs\u001b[49m\u001b[43m,\u001b[49m\u001b[43m \u001b[49m\u001b[38;5;241;43m*\u001b[39;49m\u001b[38;5;241;43m*\u001b[39;49m\u001b[43mkwargs\u001b[49m\u001b[43m)\u001b[49m\n\u001b[1;32m   1543\u001b[0m \u001b[38;5;28;01mtry\u001b[39;00m:\n\u001b[1;32m   1544\u001b[0m     result \u001b[38;5;241m=\u001b[39m \u001b[38;5;28;01mNone\u001b[39;00m\n",
      "File \u001b[0;32m/Library/Frameworks/Python.framework/Versions/3.11/lib/python3.11/site-packages/transformers/models/donut/modeling_donut_swin.py:680\u001b[0m, in \u001b[0;36mDonutSwinStage.forward\u001b[0;34m(self, hidden_states, input_dimensions, head_mask, output_attentions, always_partition)\u001b[0m\n\u001b[1;32m    677\u001b[0m \u001b[38;5;28;01mfor\u001b[39;00m i, layer_module \u001b[38;5;129;01min\u001b[39;00m \u001b[38;5;28menumerate\u001b[39m(\u001b[38;5;28mself\u001b[39m\u001b[38;5;241m.\u001b[39mblocks):\n\u001b[1;32m    678\u001b[0m     layer_head_mask \u001b[38;5;241m=\u001b[39m head_mask[i] \u001b[38;5;28;01mif\u001b[39;00m head_mask \u001b[38;5;129;01mis\u001b[39;00m \u001b[38;5;129;01mnot\u001b[39;00m \u001b[38;5;28;01mNone\u001b[39;00m \u001b[38;5;28;01melse\u001b[39;00m \u001b[38;5;28;01mNone\u001b[39;00m\n\u001b[0;32m--> 680\u001b[0m     layer_outputs \u001b[38;5;241m=\u001b[39m \u001b[43mlayer_module\u001b[49m\u001b[43m(\u001b[49m\n\u001b[1;32m    681\u001b[0m \u001b[43m        \u001b[49m\u001b[43mhidden_states\u001b[49m\u001b[43m,\u001b[49m\u001b[43m \u001b[49m\u001b[43minput_dimensions\u001b[49m\u001b[43m,\u001b[49m\u001b[43m \u001b[49m\u001b[43mlayer_head_mask\u001b[49m\u001b[43m,\u001b[49m\u001b[43m \u001b[49m\u001b[43moutput_attentions\u001b[49m\u001b[43m,\u001b[49m\u001b[43m \u001b[49m\u001b[43malways_partition\u001b[49m\n\u001b[1;32m    682\u001b[0m \u001b[43m    \u001b[49m\u001b[43m)\u001b[49m\n\u001b[1;32m    684\u001b[0m     hidden_states \u001b[38;5;241m=\u001b[39m layer_outputs[\u001b[38;5;241m0\u001b[39m]\n\u001b[1;32m    686\u001b[0m hidden_states_before_downsampling \u001b[38;5;241m=\u001b[39m hidden_states\n",
      "File \u001b[0;32m/Library/Frameworks/Python.framework/Versions/3.11/lib/python3.11/site-packages/torch/nn/modules/module.py:1532\u001b[0m, in \u001b[0;36mModule._wrapped_call_impl\u001b[0;34m(self, *args, **kwargs)\u001b[0m\n\u001b[1;32m   1530\u001b[0m     \u001b[38;5;28;01mreturn\u001b[39;00m \u001b[38;5;28mself\u001b[39m\u001b[38;5;241m.\u001b[39m_compiled_call_impl(\u001b[38;5;241m*\u001b[39margs, \u001b[38;5;241m*\u001b[39m\u001b[38;5;241m*\u001b[39mkwargs)  \u001b[38;5;66;03m# type: ignore[misc]\u001b[39;00m\n\u001b[1;32m   1531\u001b[0m \u001b[38;5;28;01melse\u001b[39;00m:\n\u001b[0;32m-> 1532\u001b[0m     \u001b[38;5;28;01mreturn\u001b[39;00m \u001b[38;5;28;43mself\u001b[39;49m\u001b[38;5;241;43m.\u001b[39;49m\u001b[43m_call_impl\u001b[49m\u001b[43m(\u001b[49m\u001b[38;5;241;43m*\u001b[39;49m\u001b[43margs\u001b[49m\u001b[43m,\u001b[49m\u001b[43m \u001b[49m\u001b[38;5;241;43m*\u001b[39;49m\u001b[38;5;241;43m*\u001b[39;49m\u001b[43mkwargs\u001b[49m\u001b[43m)\u001b[49m\n",
      "File \u001b[0;32m/Library/Frameworks/Python.framework/Versions/3.11/lib/python3.11/site-packages/torch/nn/modules/module.py:1541\u001b[0m, in \u001b[0;36mModule._call_impl\u001b[0;34m(self, *args, **kwargs)\u001b[0m\n\u001b[1;32m   1536\u001b[0m \u001b[38;5;66;03m# If we don't have any hooks, we want to skip the rest of the logic in\u001b[39;00m\n\u001b[1;32m   1537\u001b[0m \u001b[38;5;66;03m# this function, and just call forward.\u001b[39;00m\n\u001b[1;32m   1538\u001b[0m \u001b[38;5;28;01mif\u001b[39;00m \u001b[38;5;129;01mnot\u001b[39;00m (\u001b[38;5;28mself\u001b[39m\u001b[38;5;241m.\u001b[39m_backward_hooks \u001b[38;5;129;01mor\u001b[39;00m \u001b[38;5;28mself\u001b[39m\u001b[38;5;241m.\u001b[39m_backward_pre_hooks \u001b[38;5;129;01mor\u001b[39;00m \u001b[38;5;28mself\u001b[39m\u001b[38;5;241m.\u001b[39m_forward_hooks \u001b[38;5;129;01mor\u001b[39;00m \u001b[38;5;28mself\u001b[39m\u001b[38;5;241m.\u001b[39m_forward_pre_hooks\n\u001b[1;32m   1539\u001b[0m         \u001b[38;5;129;01mor\u001b[39;00m _global_backward_pre_hooks \u001b[38;5;129;01mor\u001b[39;00m _global_backward_hooks\n\u001b[1;32m   1540\u001b[0m         \u001b[38;5;129;01mor\u001b[39;00m _global_forward_hooks \u001b[38;5;129;01mor\u001b[39;00m _global_forward_pre_hooks):\n\u001b[0;32m-> 1541\u001b[0m     \u001b[38;5;28;01mreturn\u001b[39;00m \u001b[43mforward_call\u001b[49m\u001b[43m(\u001b[49m\u001b[38;5;241;43m*\u001b[39;49m\u001b[43margs\u001b[49m\u001b[43m,\u001b[49m\u001b[43m \u001b[49m\u001b[38;5;241;43m*\u001b[39;49m\u001b[38;5;241;43m*\u001b[39;49m\u001b[43mkwargs\u001b[49m\u001b[43m)\u001b[49m\n\u001b[1;32m   1543\u001b[0m \u001b[38;5;28;01mtry\u001b[39;00m:\n\u001b[1;32m   1544\u001b[0m     result \u001b[38;5;241m=\u001b[39m \u001b[38;5;28;01mNone\u001b[39;00m\n",
      "File \u001b[0;32m/Library/Frameworks/Python.framework/Versions/3.11/lib/python3.11/site-packages/transformers/models/donut/modeling_donut_swin.py:610\u001b[0m, in \u001b[0;36mDonutSwinLayer.forward\u001b[0;34m(self, hidden_states, input_dimensions, head_mask, output_attentions, always_partition)\u001b[0m\n\u001b[1;32m    607\u001b[0m \u001b[38;5;28;01mif\u001b[39;00m attn_mask \u001b[38;5;129;01mis\u001b[39;00m \u001b[38;5;129;01mnot\u001b[39;00m \u001b[38;5;28;01mNone\u001b[39;00m:\n\u001b[1;32m    608\u001b[0m     attn_mask \u001b[38;5;241m=\u001b[39m attn_mask\u001b[38;5;241m.\u001b[39mto(hidden_states_windows\u001b[38;5;241m.\u001b[39mdevice)\n\u001b[0;32m--> 610\u001b[0m attention_outputs \u001b[38;5;241m=\u001b[39m \u001b[38;5;28;43mself\u001b[39;49m\u001b[38;5;241;43m.\u001b[39;49m\u001b[43mattention\u001b[49m\u001b[43m(\u001b[49m\n\u001b[1;32m    611\u001b[0m \u001b[43m    \u001b[49m\u001b[43mhidden_states_windows\u001b[49m\u001b[43m,\u001b[49m\u001b[43m \u001b[49m\u001b[43mattn_mask\u001b[49m\u001b[43m,\u001b[49m\u001b[43m \u001b[49m\u001b[43mhead_mask\u001b[49m\u001b[43m,\u001b[49m\u001b[43m \u001b[49m\u001b[43moutput_attentions\u001b[49m\u001b[38;5;241;43m=\u001b[39;49m\u001b[43moutput_attentions\u001b[49m\n\u001b[1;32m    612\u001b[0m \u001b[43m\u001b[49m\u001b[43m)\u001b[49m\n\u001b[1;32m    614\u001b[0m attention_output \u001b[38;5;241m=\u001b[39m attention_outputs[\u001b[38;5;241m0\u001b[39m]\n\u001b[1;32m    616\u001b[0m attention_windows \u001b[38;5;241m=\u001b[39m attention_output\u001b[38;5;241m.\u001b[39mview(\u001b[38;5;241m-\u001b[39m\u001b[38;5;241m1\u001b[39m, \u001b[38;5;28mself\u001b[39m\u001b[38;5;241m.\u001b[39mwindow_size, \u001b[38;5;28mself\u001b[39m\u001b[38;5;241m.\u001b[39mwindow_size, channels)\n",
      "File \u001b[0;32m/Library/Frameworks/Python.framework/Versions/3.11/lib/python3.11/site-packages/torch/nn/modules/module.py:1532\u001b[0m, in \u001b[0;36mModule._wrapped_call_impl\u001b[0;34m(self, *args, **kwargs)\u001b[0m\n\u001b[1;32m   1530\u001b[0m     \u001b[38;5;28;01mreturn\u001b[39;00m \u001b[38;5;28mself\u001b[39m\u001b[38;5;241m.\u001b[39m_compiled_call_impl(\u001b[38;5;241m*\u001b[39margs, \u001b[38;5;241m*\u001b[39m\u001b[38;5;241m*\u001b[39mkwargs)  \u001b[38;5;66;03m# type: ignore[misc]\u001b[39;00m\n\u001b[1;32m   1531\u001b[0m \u001b[38;5;28;01melse\u001b[39;00m:\n\u001b[0;32m-> 1532\u001b[0m     \u001b[38;5;28;01mreturn\u001b[39;00m \u001b[38;5;28;43mself\u001b[39;49m\u001b[38;5;241;43m.\u001b[39;49m\u001b[43m_call_impl\u001b[49m\u001b[43m(\u001b[49m\u001b[38;5;241;43m*\u001b[39;49m\u001b[43margs\u001b[49m\u001b[43m,\u001b[49m\u001b[43m \u001b[49m\u001b[38;5;241;43m*\u001b[39;49m\u001b[38;5;241;43m*\u001b[39;49m\u001b[43mkwargs\u001b[49m\u001b[43m)\u001b[49m\n",
      "File \u001b[0;32m/Library/Frameworks/Python.framework/Versions/3.11/lib/python3.11/site-packages/torch/nn/modules/module.py:1541\u001b[0m, in \u001b[0;36mModule._call_impl\u001b[0;34m(self, *args, **kwargs)\u001b[0m\n\u001b[1;32m   1536\u001b[0m \u001b[38;5;66;03m# If we don't have any hooks, we want to skip the rest of the logic in\u001b[39;00m\n\u001b[1;32m   1537\u001b[0m \u001b[38;5;66;03m# this function, and just call forward.\u001b[39;00m\n\u001b[1;32m   1538\u001b[0m \u001b[38;5;28;01mif\u001b[39;00m \u001b[38;5;129;01mnot\u001b[39;00m (\u001b[38;5;28mself\u001b[39m\u001b[38;5;241m.\u001b[39m_backward_hooks \u001b[38;5;129;01mor\u001b[39;00m \u001b[38;5;28mself\u001b[39m\u001b[38;5;241m.\u001b[39m_backward_pre_hooks \u001b[38;5;129;01mor\u001b[39;00m \u001b[38;5;28mself\u001b[39m\u001b[38;5;241m.\u001b[39m_forward_hooks \u001b[38;5;129;01mor\u001b[39;00m \u001b[38;5;28mself\u001b[39m\u001b[38;5;241m.\u001b[39m_forward_pre_hooks\n\u001b[1;32m   1539\u001b[0m         \u001b[38;5;129;01mor\u001b[39;00m _global_backward_pre_hooks \u001b[38;5;129;01mor\u001b[39;00m _global_backward_hooks\n\u001b[1;32m   1540\u001b[0m         \u001b[38;5;129;01mor\u001b[39;00m _global_forward_hooks \u001b[38;5;129;01mor\u001b[39;00m _global_forward_pre_hooks):\n\u001b[0;32m-> 1541\u001b[0m     \u001b[38;5;28;01mreturn\u001b[39;00m \u001b[43mforward_call\u001b[49m\u001b[43m(\u001b[49m\u001b[38;5;241;43m*\u001b[39;49m\u001b[43margs\u001b[49m\u001b[43m,\u001b[49m\u001b[43m \u001b[49m\u001b[38;5;241;43m*\u001b[39;49m\u001b[38;5;241;43m*\u001b[39;49m\u001b[43mkwargs\u001b[49m\u001b[43m)\u001b[49m\n\u001b[1;32m   1543\u001b[0m \u001b[38;5;28;01mtry\u001b[39;00m:\n\u001b[1;32m   1544\u001b[0m     result \u001b[38;5;241m=\u001b[39m \u001b[38;5;28;01mNone\u001b[39;00m\n",
      "File \u001b[0;32m/Library/Frameworks/Python.framework/Versions/3.11/lib/python3.11/site-packages/transformers/models/donut/modeling_donut_swin.py:482\u001b[0m, in \u001b[0;36mDonutSwinAttention.forward\u001b[0;34m(self, hidden_states, attention_mask, head_mask, output_attentions)\u001b[0m\n\u001b[1;32m    475\u001b[0m \u001b[38;5;28;01mdef\u001b[39;00m \u001b[38;5;21mforward\u001b[39m(\n\u001b[1;32m    476\u001b[0m     \u001b[38;5;28mself\u001b[39m,\n\u001b[1;32m    477\u001b[0m     hidden_states: torch\u001b[38;5;241m.\u001b[39mTensor,\n\u001b[0;32m   (...)\u001b[0m\n\u001b[1;32m    480\u001b[0m     output_attentions: Optional[\u001b[38;5;28mbool\u001b[39m] \u001b[38;5;241m=\u001b[39m \u001b[38;5;28;01mFalse\u001b[39;00m,\n\u001b[1;32m    481\u001b[0m ) \u001b[38;5;241m-\u001b[39m\u001b[38;5;241m>\u001b[39m Tuple[torch\u001b[38;5;241m.\u001b[39mTensor]:\n\u001b[0;32m--> 482\u001b[0m     self_outputs \u001b[38;5;241m=\u001b[39m \u001b[38;5;28;43mself\u001b[39;49m\u001b[38;5;241;43m.\u001b[39;49m\u001b[43mself\u001b[49m\u001b[43m(\u001b[49m\u001b[43mhidden_states\u001b[49m\u001b[43m,\u001b[49m\u001b[43m \u001b[49m\u001b[43mattention_mask\u001b[49m\u001b[43m,\u001b[49m\u001b[43m \u001b[49m\u001b[43mhead_mask\u001b[49m\u001b[43m,\u001b[49m\u001b[43m \u001b[49m\u001b[43moutput_attentions\u001b[49m\u001b[43m)\u001b[49m\n\u001b[1;32m    483\u001b[0m     attention_output \u001b[38;5;241m=\u001b[39m \u001b[38;5;28mself\u001b[39m\u001b[38;5;241m.\u001b[39moutput(self_outputs[\u001b[38;5;241m0\u001b[39m], hidden_states)\n\u001b[1;32m    484\u001b[0m     outputs \u001b[38;5;241m=\u001b[39m (attention_output,) \u001b[38;5;241m+\u001b[39m self_outputs[\u001b[38;5;241m1\u001b[39m:]  \u001b[38;5;66;03m# add attentions if we output them\u001b[39;00m\n",
      "File \u001b[0;32m/Library/Frameworks/Python.framework/Versions/3.11/lib/python3.11/site-packages/torch/nn/modules/module.py:1532\u001b[0m, in \u001b[0;36mModule._wrapped_call_impl\u001b[0;34m(self, *args, **kwargs)\u001b[0m\n\u001b[1;32m   1530\u001b[0m     \u001b[38;5;28;01mreturn\u001b[39;00m \u001b[38;5;28mself\u001b[39m\u001b[38;5;241m.\u001b[39m_compiled_call_impl(\u001b[38;5;241m*\u001b[39margs, \u001b[38;5;241m*\u001b[39m\u001b[38;5;241m*\u001b[39mkwargs)  \u001b[38;5;66;03m# type: ignore[misc]\u001b[39;00m\n\u001b[1;32m   1531\u001b[0m \u001b[38;5;28;01melse\u001b[39;00m:\n\u001b[0;32m-> 1532\u001b[0m     \u001b[38;5;28;01mreturn\u001b[39;00m \u001b[38;5;28;43mself\u001b[39;49m\u001b[38;5;241;43m.\u001b[39;49m\u001b[43m_call_impl\u001b[49m\u001b[43m(\u001b[49m\u001b[38;5;241;43m*\u001b[39;49m\u001b[43margs\u001b[49m\u001b[43m,\u001b[49m\u001b[43m \u001b[49m\u001b[38;5;241;43m*\u001b[39;49m\u001b[38;5;241;43m*\u001b[39;49m\u001b[43mkwargs\u001b[49m\u001b[43m)\u001b[49m\n",
      "File \u001b[0;32m/Library/Frameworks/Python.framework/Versions/3.11/lib/python3.11/site-packages/torch/nn/modules/module.py:1541\u001b[0m, in \u001b[0;36mModule._call_impl\u001b[0;34m(self, *args, **kwargs)\u001b[0m\n\u001b[1;32m   1536\u001b[0m \u001b[38;5;66;03m# If we don't have any hooks, we want to skip the rest of the logic in\u001b[39;00m\n\u001b[1;32m   1537\u001b[0m \u001b[38;5;66;03m# this function, and just call forward.\u001b[39;00m\n\u001b[1;32m   1538\u001b[0m \u001b[38;5;28;01mif\u001b[39;00m \u001b[38;5;129;01mnot\u001b[39;00m (\u001b[38;5;28mself\u001b[39m\u001b[38;5;241m.\u001b[39m_backward_hooks \u001b[38;5;129;01mor\u001b[39;00m \u001b[38;5;28mself\u001b[39m\u001b[38;5;241m.\u001b[39m_backward_pre_hooks \u001b[38;5;129;01mor\u001b[39;00m \u001b[38;5;28mself\u001b[39m\u001b[38;5;241m.\u001b[39m_forward_hooks \u001b[38;5;129;01mor\u001b[39;00m \u001b[38;5;28mself\u001b[39m\u001b[38;5;241m.\u001b[39m_forward_pre_hooks\n\u001b[1;32m   1539\u001b[0m         \u001b[38;5;129;01mor\u001b[39;00m _global_backward_pre_hooks \u001b[38;5;129;01mor\u001b[39;00m _global_backward_hooks\n\u001b[1;32m   1540\u001b[0m         \u001b[38;5;129;01mor\u001b[39;00m _global_forward_hooks \u001b[38;5;129;01mor\u001b[39;00m _global_forward_pre_hooks):\n\u001b[0;32m-> 1541\u001b[0m     \u001b[38;5;28;01mreturn\u001b[39;00m \u001b[43mforward_call\u001b[49m\u001b[43m(\u001b[49m\u001b[38;5;241;43m*\u001b[39;49m\u001b[43margs\u001b[49m\u001b[43m,\u001b[49m\u001b[43m \u001b[49m\u001b[38;5;241;43m*\u001b[39;49m\u001b[38;5;241;43m*\u001b[39;49m\u001b[43mkwargs\u001b[49m\u001b[43m)\u001b[49m\n\u001b[1;32m   1543\u001b[0m \u001b[38;5;28;01mtry\u001b[39;00m:\n\u001b[1;32m   1544\u001b[0m     result \u001b[38;5;241m=\u001b[39m \u001b[38;5;28;01mNone\u001b[39;00m\n",
      "File \u001b[0;32m/Library/Frameworks/Python.framework/Versions/3.11/lib/python3.11/site-packages/transformers/models/donut/modeling_donut_swin.py:386\u001b[0m, in \u001b[0;36mDonutSwinSelfAttention.forward\u001b[0;34m(self, hidden_states, attention_mask, head_mask, output_attentions)\u001b[0m\n\u001b[1;32m    378\u001b[0m \u001b[38;5;28;01mdef\u001b[39;00m \u001b[38;5;21mforward\u001b[39m(\n\u001b[1;32m    379\u001b[0m     \u001b[38;5;28mself\u001b[39m,\n\u001b[1;32m    380\u001b[0m     hidden_states: torch\u001b[38;5;241m.\u001b[39mTensor,\n\u001b[0;32m   (...)\u001b[0m\n\u001b[1;32m    383\u001b[0m     output_attentions: Optional[\u001b[38;5;28mbool\u001b[39m] \u001b[38;5;241m=\u001b[39m \u001b[38;5;28;01mFalse\u001b[39;00m,\n\u001b[1;32m    384\u001b[0m ) \u001b[38;5;241m-\u001b[39m\u001b[38;5;241m>\u001b[39m Tuple[torch\u001b[38;5;241m.\u001b[39mTensor]:\n\u001b[1;32m    385\u001b[0m     batch_size, dim, num_channels \u001b[38;5;241m=\u001b[39m hidden_states\u001b[38;5;241m.\u001b[39mshape\n\u001b[0;32m--> 386\u001b[0m     mixed_query_layer \u001b[38;5;241m=\u001b[39m \u001b[38;5;28;43mself\u001b[39;49m\u001b[38;5;241;43m.\u001b[39;49m\u001b[43mquery\u001b[49m\u001b[43m(\u001b[49m\u001b[43mhidden_states\u001b[49m\u001b[43m)\u001b[49m\n\u001b[1;32m    388\u001b[0m     key_layer \u001b[38;5;241m=\u001b[39m \u001b[38;5;28mself\u001b[39m\u001b[38;5;241m.\u001b[39mtranspose_for_scores(\u001b[38;5;28mself\u001b[39m\u001b[38;5;241m.\u001b[39mkey(hidden_states))\n\u001b[1;32m    389\u001b[0m     value_layer \u001b[38;5;241m=\u001b[39m \u001b[38;5;28mself\u001b[39m\u001b[38;5;241m.\u001b[39mtranspose_for_scores(\u001b[38;5;28mself\u001b[39m\u001b[38;5;241m.\u001b[39mvalue(hidden_states))\n",
      "File \u001b[0;32m/Library/Frameworks/Python.framework/Versions/3.11/lib/python3.11/site-packages/torch/nn/modules/module.py:1532\u001b[0m, in \u001b[0;36mModule._wrapped_call_impl\u001b[0;34m(self, *args, **kwargs)\u001b[0m\n\u001b[1;32m   1530\u001b[0m     \u001b[38;5;28;01mreturn\u001b[39;00m \u001b[38;5;28mself\u001b[39m\u001b[38;5;241m.\u001b[39m_compiled_call_impl(\u001b[38;5;241m*\u001b[39margs, \u001b[38;5;241m*\u001b[39m\u001b[38;5;241m*\u001b[39mkwargs)  \u001b[38;5;66;03m# type: ignore[misc]\u001b[39;00m\n\u001b[1;32m   1531\u001b[0m \u001b[38;5;28;01melse\u001b[39;00m:\n\u001b[0;32m-> 1532\u001b[0m     \u001b[38;5;28;01mreturn\u001b[39;00m \u001b[38;5;28;43mself\u001b[39;49m\u001b[38;5;241;43m.\u001b[39;49m\u001b[43m_call_impl\u001b[49m\u001b[43m(\u001b[49m\u001b[38;5;241;43m*\u001b[39;49m\u001b[43margs\u001b[49m\u001b[43m,\u001b[49m\u001b[43m \u001b[49m\u001b[38;5;241;43m*\u001b[39;49m\u001b[38;5;241;43m*\u001b[39;49m\u001b[43mkwargs\u001b[49m\u001b[43m)\u001b[49m\n",
      "File \u001b[0;32m/Library/Frameworks/Python.framework/Versions/3.11/lib/python3.11/site-packages/torch/nn/modules/module.py:1541\u001b[0m, in \u001b[0;36mModule._call_impl\u001b[0;34m(self, *args, **kwargs)\u001b[0m\n\u001b[1;32m   1536\u001b[0m \u001b[38;5;66;03m# If we don't have any hooks, we want to skip the rest of the logic in\u001b[39;00m\n\u001b[1;32m   1537\u001b[0m \u001b[38;5;66;03m# this function, and just call forward.\u001b[39;00m\n\u001b[1;32m   1538\u001b[0m \u001b[38;5;28;01mif\u001b[39;00m \u001b[38;5;129;01mnot\u001b[39;00m (\u001b[38;5;28mself\u001b[39m\u001b[38;5;241m.\u001b[39m_backward_hooks \u001b[38;5;129;01mor\u001b[39;00m \u001b[38;5;28mself\u001b[39m\u001b[38;5;241m.\u001b[39m_backward_pre_hooks \u001b[38;5;129;01mor\u001b[39;00m \u001b[38;5;28mself\u001b[39m\u001b[38;5;241m.\u001b[39m_forward_hooks \u001b[38;5;129;01mor\u001b[39;00m \u001b[38;5;28mself\u001b[39m\u001b[38;5;241m.\u001b[39m_forward_pre_hooks\n\u001b[1;32m   1539\u001b[0m         \u001b[38;5;129;01mor\u001b[39;00m _global_backward_pre_hooks \u001b[38;5;129;01mor\u001b[39;00m _global_backward_hooks\n\u001b[1;32m   1540\u001b[0m         \u001b[38;5;129;01mor\u001b[39;00m _global_forward_hooks \u001b[38;5;129;01mor\u001b[39;00m _global_forward_pre_hooks):\n\u001b[0;32m-> 1541\u001b[0m     \u001b[38;5;28;01mreturn\u001b[39;00m \u001b[43mforward_call\u001b[49m\u001b[43m(\u001b[49m\u001b[38;5;241;43m*\u001b[39;49m\u001b[43margs\u001b[49m\u001b[43m,\u001b[49m\u001b[43m \u001b[49m\u001b[38;5;241;43m*\u001b[39;49m\u001b[38;5;241;43m*\u001b[39;49m\u001b[43mkwargs\u001b[49m\u001b[43m)\u001b[49m\n\u001b[1;32m   1543\u001b[0m \u001b[38;5;28;01mtry\u001b[39;00m:\n\u001b[1;32m   1544\u001b[0m     result \u001b[38;5;241m=\u001b[39m \u001b[38;5;28;01mNone\u001b[39;00m\n",
      "File \u001b[0;32m/Library/Frameworks/Python.framework/Versions/3.11/lib/python3.11/site-packages/torch/nn/modules/linear.py:116\u001b[0m, in \u001b[0;36mLinear.forward\u001b[0;34m(self, input)\u001b[0m\n\u001b[1;32m    115\u001b[0m \u001b[38;5;28;01mdef\u001b[39;00m \u001b[38;5;21mforward\u001b[39m(\u001b[38;5;28mself\u001b[39m, \u001b[38;5;28minput\u001b[39m: Tensor) \u001b[38;5;241m-\u001b[39m\u001b[38;5;241m>\u001b[39m Tensor:\n\u001b[0;32m--> 116\u001b[0m     \u001b[38;5;28;01mreturn\u001b[39;00m \u001b[43mF\u001b[49m\u001b[38;5;241;43m.\u001b[39;49m\u001b[43mlinear\u001b[49m\u001b[43m(\u001b[49m\u001b[38;5;28;43minput\u001b[39;49m\u001b[43m,\u001b[49m\u001b[43m \u001b[49m\u001b[38;5;28;43mself\u001b[39;49m\u001b[38;5;241;43m.\u001b[39;49m\u001b[43mweight\u001b[49m\u001b[43m,\u001b[49m\u001b[43m \u001b[49m\u001b[38;5;28;43mself\u001b[39;49m\u001b[38;5;241;43m.\u001b[39;49m\u001b[43mbias\u001b[49m\u001b[43m)\u001b[49m\n",
      "\u001b[0;31mRuntimeError\u001b[0m: MPS backend out of memory (MPS allocated: 7.27 GB, other allocations: 1.76 GB, max allowed: 9.07 GB). Tried to allocate 58.19 MB on private pool. Use PYTORCH_MPS_HIGH_WATERMARK_RATIO=0.0 to disable upper limit for memory allocations (may cause system failure)."
     ]
    }
   ],
   "source": [
    "import argparse\n",
    "import json\n",
    "from collections import defaultdict\n",
    "\n",
    "from surya.input.langs import replace_lang_with_code, get_unique_langs\n",
    "from surya.input.load import load_from_folder, load_from_file, load_lang_file\n",
    "from surya.model.detection.segformer import load_model as load_detection_model, load_processor as load_detection_processor\n",
    "from surya.model.recognition.model import load_model as load_recognition_model\n",
    "from surya.model.recognition.processor import load_processor as load_recognition_processor\n",
    "from surya.model.recognition.tokenizer import _tokenize\n",
    "from surya.ocr import run_ocr\n",
    "from surya.postprocessing.text import draw_text_on_image\n",
    "from surya.settings import settings\n",
    "import os\n",
    "import csv \n",
    "\n",
    "\n",
    "\n",
    "def process_folder(input_folder, results_dir):\n",
    "    # Get a list of all PNG files in the folder\n",
    "    png_files = [f for f in os.listdir(input_folder) if f.endswith('.png')]\n",
    "\n",
    "    for png_file in png_files:\n",
    "        # Construct the full path to the PNG file\n",
    "        png_path = os.path.join(input_folder, png_file)\n",
    "\n",
    "        # Call the main function for each PNG file\n",
    "        main(png_path, results_dir)\n",
    "\n",
    "\n",
    "def main(input_path,\n",
    "    results_dir,\n",
    "    lang_file=None,\n",
    "    langs='hi,en',\n",
    "    max=None,\n",
    "    start_page=None,\n",
    "    images=False):\n",
    "\n",
    "    if os.path.isdir(input_path):\n",
    "        images, names = load_from_folder(input_path, max, start_page)\n",
    "        folder_name = os.path.basename(input_path)\n",
    "    else:\n",
    "        images, names = load_from_file(input_path, max, start_page)\n",
    "        folder_name = os.path.basename(input_path).split(\".\")[0]\n",
    "\n",
    "    if lang_file:\n",
    "        # We got all of our language settings from a file\n",
    "        langs = load_lang_file(lang_file, names) \n",
    "        for lang in langs:\n",
    "            replace_lang_with_code(lang)\n",
    "        image_langs = langs\n",
    "    else:\n",
    "        # We got our language settings from the input\n",
    "        langs = langs.split(\",\")\n",
    "        replace_lang_with_code(langs)\n",
    "        image_langs = [langs] * len(images)\n",
    "\n",
    "    det_processor = load_detection_processor()\n",
    "    det_model = load_detection_model()\n",
    "\n",
    "    _, lang_tokens = _tokenize(\"\", get_unique_langs(image_langs))\n",
    "    rec_model = load_recognition_model(langs=lang_tokens) # Prune model moe layer to only include languages we need\n",
    "    rec_processor = load_recognition_processor()\n",
    "\n",
    "    result_path = os.path.join(results_dir, folder_name)\n",
    "    os.makedirs(result_path, exist_ok=True)\n",
    "\n",
    "    predictions_by_image = run_ocr(images, image_langs, det_model, det_processor, rec_model, rec_processor)\n",
    "\n",
    "    if images:\n",
    "        for idx, (name, image, pred, langs) in enumerate(zip(names, images, predictions_by_image, image_langs)):\n",
    "            bboxes = [l.bbox for l in pred.text_lines]\n",
    "            pred_text = [l.text for l in pred.text_lines]\n",
    "            page_image = draw_text_on_image(bboxes, pred_text, image.size, langs, has_math=\"_math\" in langs)\n",
    "            page_image.save(f'./temp{idx}.jpg')\n",
    "            page_image.save(os.path.join(result_path, f\"{name}_{idx}_text.png\"))\n",
    "\n",
    "             # Save text to CSV file\n",
    "            csv_file_path = os.path.join(result_path, f\"{name}_{idx}_text.csv\")\n",
    "            with open(csv_file_path, 'w', newline='', encoding='utf-8') as csv_file:\n",
    "                writer = csv.writer(csv_file)\n",
    "                writer.writerow(['Text'])\n",
    "                for line in pred_text:\n",
    "                    writer.writerow([line])\n",
    "\n",
    "\n",
    "        out_preds = defaultdict(list)\n",
    "        for name, pred, image in zip(names, predictions_by_image, images):\n",
    "            out_pred = pred.model_dump()\n",
    "            out_pred[\"page\"] = len(out_preds[name]) + 1\n",
    "            out_preds[name].append(out_pred)\n",
    "\n",
    "        with open(os.path.join(result_path, \"results.json\"), \"w+\", encoding=\"utf-8\") as f:\n",
    "            json.dump(out_preds, f, ensure_ascii=False)\n",
    "\n",
    "        print(f\"Wrote results to {result_path}\")\n",
    "\n",
    "        # from PIL import Image, ImageDraw\n",
    "        # indices = []\n",
    "        # prev = -1\n",
    "        # for idx in range(len(preds['text_lines'])):\n",
    "        #     x_axis = preds['text_lines'][idx]['polygon'][0][0]\n",
    "        #     if prev != -1 and x_axis > (prev + 5):\n",
    "        #         indices.append(idx)\n",
    "        #     prev = x_axis\n",
    "            \n",
    "        # text = ''\n",
    "        # for idx in range(len(preds['text_lines'])):\n",
    "        #     if idx not in indices:\n",
    "        #         text += preds['text_lines'][idx]['text'] + ' '\n",
    "\n",
    "        # print(f\"Text for page {page_idx + 1}: {text}\")\n",
    "        \n",
    "\n",
    "\n",
    "if __name__ == \"__main__\":\n",
    "     input_folder = '/Users/fajrzafar/Documents/Semester 8 /FYP 1/Books PNGS/SINDH2'\n",
    "     results_dir = '/Users/fajrzafar/Documents/Semester 8 /FYP 1/Extracted_Text/SINDH2'\n",
    "     process_folder(input_folder, results_dir)"
   ]
  },
  {
   "cell_type": "code",
   "execution_count": null,
   "id": "cb37f4dc-9e7d-4e0a-8e06-cc99f857f65c",
   "metadata": {},
   "outputs": [],
   "source": []
  },
  {
   "cell_type": "code",
   "execution_count": null,
   "id": "e1e8cb6b-4ec1-4516-b5bc-0730245bc00d",
   "metadata": {},
   "outputs": [],
   "source": []
  }
 ],
 "metadata": {
  "kernelspec": {
   "display_name": "Python 3 (ipykernel)",
   "language": "python",
   "name": "python3"
  },
  "language_info": {
   "codemirror_mode": {
    "name": "ipython",
    "version": 3
   },
   "file_extension": ".py",
   "mimetype": "text/x-python",
   "name": "python",
   "nbconvert_exporter": "python",
   "pygments_lexer": "ipython3",
   "version": "3.11.6"
  }
 },
 "nbformat": 4,
 "nbformat_minor": 5
}
