{
 "cells": [
  {
   "cell_type": "markdown",
   "id": "433850b0-ec99-4891-95d9-981ace9ce66a",
   "metadata": {},
   "source": [
    "## LATEST CODE FOR IMAGE EXTRACTION--29TH APRIL # For a single picture"
   ]
  },
  {
   "cell_type": "code",
   "execution_count": 5,
   "id": "3a878d31-4a11-4281-aa96-1ba153fefb99",
   "metadata": {},
   "outputs": [],
   "source": [
    "import cv2\n",
    "import json\n",
    "\n",
    "def extract_images_from_json(json_file_path, image_path):\n",
    "    # Load JSON file\n",
    "    with open(json_file_path, 'r') as f:\n",
    "        data = json.load(f)\n",
    "    \n",
    "    # Load the textbook page image\n",
    "    page_image = cv2.imread(image_path)\n",
    "    \n",
    "    # Initialize counter for distinguishing between different figures or pictures\n",
    "    counter = 1\n",
    "    \n",
    "    # Extract bounding boxes of pictures and figures\n",
    "    for entry in data['i1']:\n",
    "        for bbox in entry['bboxes']:\n",
    "            label = bbox['label']\n",
    "            if label == 'Figure' or label == 'Picture':\n",
    "                x1, y1, x2, y2 = bbox['bbox']\n",
    "                # Draw bounding box on the image (for visualization)\n",
    "                #cv2.rectangle(page_image, (x1, y1), (x2, y2), (0, 255, 0), 2)   #creates a green bounding box around the extracted image\n",
    "                # Extract the image region\n",
    "                image_region = page_image[y1:y2, x1:x2]\n",
    "                # Save the extracted image with a unique filename\n",
    "                cv2.imwrite(f\"{label}_{counter}.jpg\", image_region)\n",
    "                # Increment counter for the next image\n",
    "                counter += 1\n",
    "    \n",
    "    # # Show the resulting image with bounding boxes\n",
    "    # cv2.imshow(\"Extracted Images\", page_image)\n",
    "    # cv2.waitKey(0)\n",
    "    # cv2.destroyAllWindows()\n",
    "\n",
    "# Example usage\n",
    "json_file_path = \"/Users/fajrzafar/Desktop/results/surya/i1/results.json\"\n",
    "image_path = \"/Users/fajrzafar/Desktop/i1.jpeg\"\n",
    "extract_images_from_json(json_file_path, image_path)\n"
   ]
  },
  {
   "cell_type": "markdown",
   "id": "72fcbd25-9c1c-4063-9d43-a55c288a1773",
   "metadata": {},
   "source": [
    "### JSON files for GRADE 2 FEDERAL BOARD"
   ]
  },
  {
   "cell_type": "code",
   "execution_count": 5,
   "id": "ca1752c5-fa58-4638-afc7-aa3fcbaf3cac",
   "metadata": {},
   "outputs": [
    {
     "name": "stdout",
     "output_type": "stream",
     "text": [
      "Loading detection model vikp/surya_layout2 on device cpu with dtype torch.float32\n",
      "Loading detection model vikp/surya_det2 on device cpu with dtype torch.float32\n"
     ]
    },
    {
     "name": "stderr",
     "output_type": "stream",
     "text": [
      "Detecting bboxes: 100%|██████████| 1/1 [00:24<00:00, 24.02s/it]\n",
      "Detecting bboxes: 100%|██████████| 1/1 [00:19<00:00, 19.74s/it]\n"
     ]
    },
    {
     "name": "stdout",
     "output_type": "stream",
     "text": [
      "Wrote results to /Users/fajrzafar/Documents/Semester 8 /FYP 1/JSON_Files/JSON_FED2/page_2\n",
      "Loading detection model vikp/surya_layout2 on device cpu with dtype torch.float32\n",
      "Loading detection model vikp/surya_det2 on device cpu with dtype torch.float32\n"
     ]
    },
    {
     "name": "stderr",
     "output_type": "stream",
     "text": [
      "Detecting bboxes: 100%|██████████| 1/1 [00:24<00:00, 24.84s/it]\n",
      "Detecting bboxes: 100%|██████████| 1/1 [00:20<00:00, 20.11s/it]\n"
     ]
    },
    {
     "name": "stdout",
     "output_type": "stream",
     "text": [
      "Wrote results to /Users/fajrzafar/Documents/Semester 8 /FYP 1/JSON_Files/JSON_FED2/page_3\n",
      "Loading detection model vikp/surya_layout2 on device cpu with dtype torch.float32\n",
      "Loading detection model vikp/surya_det2 on device cpu with dtype torch.float32\n"
     ]
    },
    {
     "name": "stderr",
     "output_type": "stream",
     "text": [
      "Detecting bboxes: 100%|██████████| 1/1 [00:26<00:00, 26.39s/it]\n",
      "Detecting bboxes: 100%|██████████| 1/1 [00:20<00:00, 20.61s/it]\n"
     ]
    },
    {
     "name": "stdout",
     "output_type": "stream",
     "text": [
      "Wrote results to /Users/fajrzafar/Documents/Semester 8 /FYP 1/JSON_Files/JSON_FED2/page_1\n",
      "Loading detection model vikp/surya_layout2 on device cpu with dtype torch.float32\n",
      "Loading detection model vikp/surya_det2 on device cpu with dtype torch.float32\n"
     ]
    },
    {
     "name": "stderr",
     "output_type": "stream",
     "text": [
      "Detecting bboxes: 100%|██████████| 1/1 [00:25<00:00, 25.30s/it]\n",
      "Detecting bboxes: 100%|██████████| 1/1 [00:21<00:00, 21.27s/it]\n"
     ]
    },
    {
     "name": "stdout",
     "output_type": "stream",
     "text": [
      "Wrote results to /Users/fajrzafar/Documents/Semester 8 /FYP 1/JSON_Files/JSON_FED2/page_4\n",
      "Loading detection model vikp/surya_layout2 on device cpu with dtype torch.float32\n",
      "Loading detection model vikp/surya_det2 on device cpu with dtype torch.float32\n"
     ]
    },
    {
     "name": "stderr",
     "output_type": "stream",
     "text": [
      "Detecting bboxes: 100%|██████████| 1/1 [00:25<00:00, 25.79s/it]\n",
      "Detecting bboxes: 100%|██████████| 1/1 [00:21<00:00, 21.27s/it]\n"
     ]
    },
    {
     "name": "stdout",
     "output_type": "stream",
     "text": [
      "Wrote results to /Users/fajrzafar/Documents/Semester 8 /FYP 1/JSON_Files/JSON_FED2/page_5\n",
      "Loading detection model vikp/surya_layout2 on device cpu with dtype torch.float32\n",
      "Loading detection model vikp/surya_det2 on device cpu with dtype torch.float32\n"
     ]
    },
    {
     "name": "stderr",
     "output_type": "stream",
     "text": [
      "Detecting bboxes: 100%|██████████| 1/1 [00:26<00:00, 26.49s/it]\n",
      "Detecting bboxes: 100%|██████████| 1/1 [00:21<00:00, 21.41s/it]\n"
     ]
    },
    {
     "name": "stdout",
     "output_type": "stream",
     "text": [
      "Wrote results to /Users/fajrzafar/Documents/Semester 8 /FYP 1/JSON_Files/JSON_FED2/page_7\n",
      "Loading detection model vikp/surya_layout2 on device cpu with dtype torch.float32\n",
      "Loading detection model vikp/surya_det2 on device cpu with dtype torch.float32\n"
     ]
    },
    {
     "name": "stderr",
     "output_type": "stream",
     "text": [
      "Detecting bboxes: 100%|██████████| 1/1 [00:26<00:00, 26.78s/it]\n",
      "Detecting bboxes: 100%|██████████| 1/1 [00:21<00:00, 21.58s/it]\n"
     ]
    },
    {
     "name": "stdout",
     "output_type": "stream",
     "text": [
      "Wrote results to /Users/fajrzafar/Documents/Semester 8 /FYP 1/JSON_Files/JSON_FED2/page_6\n",
      "Loading detection model vikp/surya_layout2 on device cpu with dtype torch.float32\n",
      "Loading detection model vikp/surya_det2 on device cpu with dtype torch.float32\n"
     ]
    },
    {
     "name": "stderr",
     "output_type": "stream",
     "text": [
      "Detecting bboxes: 100%|██████████| 1/1 [00:26<00:00, 26.05s/it]\n",
      "Detecting bboxes: 100%|██████████| 1/1 [00:21<00:00, 21.83s/it]\n"
     ]
    },
    {
     "name": "stdout",
     "output_type": "stream",
     "text": [
      "Wrote results to /Users/fajrzafar/Documents/Semester 8 /FYP 1/JSON_Files/JSON_FED2/page_10\n",
      "Loading detection model vikp/surya_layout2 on device cpu with dtype torch.float32\n",
      "Loading detection model vikp/surya_det2 on device cpu with dtype torch.float32\n"
     ]
    },
    {
     "name": "stderr",
     "output_type": "stream",
     "text": [
      "Detecting bboxes: 100%|██████████| 1/1 [00:26<00:00, 26.92s/it]\n",
      "Detecting bboxes: 100%|██████████| 1/1 [00:21<00:00, 21.64s/it]\n"
     ]
    },
    {
     "name": "stdout",
     "output_type": "stream",
     "text": [
      "Wrote results to /Users/fajrzafar/Documents/Semester 8 /FYP 1/JSON_Files/JSON_FED2/page_11\n",
      "Loading detection model vikp/surya_layout2 on device cpu with dtype torch.float32\n",
      "Loading detection model vikp/surya_det2 on device cpu with dtype torch.float32\n"
     ]
    },
    {
     "name": "stderr",
     "output_type": "stream",
     "text": [
      "Detecting bboxes: 100%|██████████| 1/1 [00:26<00:00, 26.59s/it]\n",
      "Detecting bboxes: 100%|██████████| 1/1 [00:21<00:00, 21.78s/it]\n"
     ]
    },
    {
     "name": "stdout",
     "output_type": "stream",
     "text": [
      "Wrote results to /Users/fajrzafar/Documents/Semester 8 /FYP 1/JSON_Files/JSON_FED2/page_13\n",
      "Loading detection model vikp/surya_layout2 on device cpu with dtype torch.float32\n",
      "Loading detection model vikp/surya_det2 on device cpu with dtype torch.float32\n"
     ]
    },
    {
     "name": "stderr",
     "output_type": "stream",
     "text": [
      "Detecting bboxes: 100%|██████████| 1/1 [00:26<00:00, 26.76s/it]\n",
      "Detecting bboxes: 100%|██████████| 1/1 [00:22<00:00, 22.26s/it]\n"
     ]
    },
    {
     "name": "stdout",
     "output_type": "stream",
     "text": [
      "Wrote results to /Users/fajrzafar/Documents/Semester 8 /FYP 1/JSON_Files/JSON_FED2/page_12\n",
      "Loading detection model vikp/surya_layout2 on device cpu with dtype torch.float32\n",
      "Loading detection model vikp/surya_det2 on device cpu with dtype torch.float32\n"
     ]
    },
    {
     "name": "stderr",
     "output_type": "stream",
     "text": [
      "Detecting bboxes: 100%|██████████| 1/1 [00:26<00:00, 26.26s/it]\n",
      "Detecting bboxes: 100%|██████████| 1/1 [00:22<00:00, 22.54s/it]\n"
     ]
    },
    {
     "name": "stdout",
     "output_type": "stream",
     "text": [
      "Wrote results to /Users/fajrzafar/Documents/Semester 8 /FYP 1/JSON_Files/JSON_FED2/page_8\n",
      "Loading detection model vikp/surya_layout2 on device cpu with dtype torch.float32\n",
      "Loading detection model vikp/surya_det2 on device cpu with dtype torch.float32\n"
     ]
    },
    {
     "name": "stderr",
     "output_type": "stream",
     "text": [
      "Detecting bboxes: 100%|██████████| 1/1 [00:27<00:00, 27.28s/it]\n",
      "Detecting bboxes: 100%|██████████| 1/1 [00:22<00:00, 22.27s/it]\n"
     ]
    },
    {
     "name": "stdout",
     "output_type": "stream",
     "text": [
      "Wrote results to /Users/fajrzafar/Documents/Semester 8 /FYP 1/JSON_Files/JSON_FED2/page_9\n"
     ]
    }
   ],
   "source": [
    "import os\n",
    "import subprocess\n",
    "\n",
    "def process_folder(image_folder, results_dir):\n",
    "    # List all image files in the folder\n",
    "    image_files = [file for file in os.listdir(image_folder) if file.lower().endswith(('.png', '.jpg', '.jpeg'))]\n",
    "    \n",
    "    # Iterate over each image file\n",
    "    for image_file in image_files:\n",
    "        # Construct the full path of the image file\n",
    "        image_path = os.path.join(image_folder, image_file)\n",
    "        \n",
    "        # Run Surya command for the current image file\n",
    "        subprocess.run([\"surya_layout\", image_path, \"--images\", \"--results_dir\", results_dir])\n",
    "\n",
    "# Example usage\n",
    "image_folder = \"/Users/fajrzafar/Documents/Semester 8 /FYP 1/Books PNGS/FED2\"  # Update with the path to your image folder\n",
    "results_dir = \"/Users/fajrzafar/Documents/Semester 8 /FYP 1/JSON_Files/JSON_FED2\"  # Update with the path to the folder where you want to save the results\n",
    "\n",
    "process_folder(image_folder, results_dir)\n"
   ]
  },
  {
   "cell_type": "markdown",
   "id": "99c84263-01eb-41f9-b81d-8d048570d796",
   "metadata": {},
   "source": [
    "### JSON files for GRADE 3 FEDERAL BOARD"
   ]
  },
  {
   "cell_type": "code",
   "execution_count": 8,
   "id": "735c2732-0555-4b37-a1e8-51284aa6edaa",
   "metadata": {},
   "outputs": [
    {
     "name": "stdout",
     "output_type": "stream",
     "text": [
      "Loading detection model vikp/surya_layout2 on device cpu with dtype torch.float32\n",
      "Loading detection model vikp/surya_det2 on device cpu with dtype torch.float32\n"
     ]
    },
    {
     "name": "stderr",
     "output_type": "stream",
     "text": [
      "Detecting bboxes: 100%|██████████| 1/1 [00:25<00:00, 25.16s/it]\n",
      "Detecting bboxes: 100%|██████████| 1/1 [00:19<00:00, 19.79s/it]\n"
     ]
    },
    {
     "name": "stdout",
     "output_type": "stream",
     "text": [
      "Wrote results to /Users/fajrzafar/Documents/Semester 8 /FYP 1/JSON_Files/JSON_FED3/page_2\n",
      "Loading detection model vikp/surya_layout2 on device cpu with dtype torch.float32\n",
      "Loading detection model vikp/surya_det2 on device cpu with dtype torch.float32\n"
     ]
    },
    {
     "name": "stderr",
     "output_type": "stream",
     "text": [
      "Detecting bboxes: 100%|██████████| 1/1 [00:24<00:00, 24.95s/it]\n",
      "Detecting bboxes: 100%|██████████| 1/1 [00:20<00:00, 20.89s/it]\n"
     ]
    },
    {
     "name": "stdout",
     "output_type": "stream",
     "text": [
      "Wrote results to /Users/fajrzafar/Documents/Semester 8 /FYP 1/JSON_Files/JSON_FED3/page_3\n",
      "Loading detection model vikp/surya_layout2 on device cpu with dtype torch.float32\n",
      "Loading detection model vikp/surya_det2 on device cpu with dtype torch.float32\n"
     ]
    },
    {
     "name": "stderr",
     "output_type": "stream",
     "text": [
      "Detecting bboxes: 100%|██████████| 1/1 [00:25<00:00, 25.19s/it]\n",
      "Detecting bboxes: 100%|██████████| 1/1 [00:20<00:00, 20.83s/it]\n"
     ]
    },
    {
     "name": "stdout",
     "output_type": "stream",
     "text": [
      "Wrote results to /Users/fajrzafar/Documents/Semester 8 /FYP 1/JSON_Files/JSON_FED3/page_1\n",
      "Loading detection model vikp/surya_layout2 on device cpu with dtype torch.float32\n",
      "Loading detection model vikp/surya_det2 on device cpu with dtype torch.float32\n"
     ]
    },
    {
     "name": "stderr",
     "output_type": "stream",
     "text": [
      "Detecting bboxes: 100%|██████████| 1/1 [00:25<00:00, 25.57s/it]\n",
      "Detecting bboxes: 100%|██████████| 1/1 [00:20<00:00, 20.82s/it]\n"
     ]
    },
    {
     "name": "stdout",
     "output_type": "stream",
     "text": [
      "Wrote results to /Users/fajrzafar/Documents/Semester 8 /FYP 1/JSON_Files/JSON_FED3/page_4\n",
      "Loading detection model vikp/surya_layout2 on device cpu with dtype torch.float32\n",
      "Loading detection model vikp/surya_det2 on device cpu with dtype torch.float32\n"
     ]
    },
    {
     "name": "stderr",
     "output_type": "stream",
     "text": [
      "Detecting bboxes: 100%|██████████| 1/1 [00:25<00:00, 25.97s/it]\n",
      "Detecting bboxes: 100%|██████████| 1/1 [00:21<00:00, 21.19s/it]\n"
     ]
    },
    {
     "name": "stdout",
     "output_type": "stream",
     "text": [
      "Wrote results to /Users/fajrzafar/Documents/Semester 8 /FYP 1/JSON_Files/JSON_FED3/page_5\n",
      "Loading detection model vikp/surya_layout2 on device cpu with dtype torch.float32\n",
      "Loading detection model vikp/surya_det2 on device cpu with dtype torch.float32\n"
     ]
    },
    {
     "name": "stderr",
     "output_type": "stream",
     "text": [
      "Detecting bboxes: 100%|██████████| 1/1 [00:34<00:00, 34.03s/it]\n",
      "Detecting bboxes: 100%|██████████| 1/1 [00:21<00:00, 21.15s/it]\n"
     ]
    },
    {
     "name": "stdout",
     "output_type": "stream",
     "text": [
      "Wrote results to /Users/fajrzafar/Documents/Semester 8 /FYP 1/JSON_Files/JSON_FED3/page_7\n",
      "Loading detection model vikp/surya_layout2 on device cpu with dtype torch.float32\n",
      "Loading detection model vikp/surya_det2 on device cpu with dtype torch.float32\n"
     ]
    },
    {
     "name": "stderr",
     "output_type": "stream",
     "text": [
      "Detecting bboxes: 100%|██████████| 1/1 [00:25<00:00, 25.61s/it]\n",
      "Detecting bboxes: 100%|██████████| 1/1 [00:21<00:00, 21.31s/it]\n"
     ]
    },
    {
     "name": "stdout",
     "output_type": "stream",
     "text": [
      "Wrote results to /Users/fajrzafar/Documents/Semester 8 /FYP 1/JSON_Files/JSON_FED3/page_6\n",
      "Loading detection model vikp/surya_layout2 on device cpu with dtype torch.float32\n",
      "Loading detection model vikp/surya_det2 on device cpu with dtype torch.float32\n"
     ]
    },
    {
     "name": "stderr",
     "output_type": "stream",
     "text": [
      "Detecting bboxes: 100%|██████████| 1/1 [00:26<00:00, 26.14s/it]\n",
      "Detecting bboxes: 100%|██████████| 1/1 [02:07<00:00, 127.03s/it]\n"
     ]
    },
    {
     "name": "stdout",
     "output_type": "stream",
     "text": [
      "Wrote results to /Users/fajrzafar/Documents/Semester 8 /FYP 1/JSON_Files/JSON_FED3/page_10\n",
      "Loading detection model vikp/surya_layout2 on device cpu with dtype torch.float32\n",
      "Loading detection model vikp/surya_det2 on device cpu with dtype torch.float32\n"
     ]
    },
    {
     "name": "stderr",
     "output_type": "stream",
     "text": [
      "Detecting bboxes: 100%|██████████| 1/1 [00:24<00:00, 24.69s/it]\n",
      "Detecting bboxes: 100%|██████████| 1/1 [00:20<00:00, 20.22s/it]\n"
     ]
    },
    {
     "name": "stdout",
     "output_type": "stream",
     "text": [
      "Wrote results to /Users/fajrzafar/Documents/Semester 8 /FYP 1/JSON_Files/JSON_FED3/page_11\n",
      "Loading detection model vikp/surya_layout2 on device cpu with dtype torch.float32\n",
      "Loading detection model vikp/surya_det2 on device cpu with dtype torch.float32\n"
     ]
    },
    {
     "name": "stderr",
     "output_type": "stream",
     "text": [
      "Detecting bboxes: 100%|██████████| 1/1 [00:25<00:00, 25.50s/it]\n",
      "Detecting bboxes: 100%|██████████| 1/1 [00:21<00:00, 21.02s/it]\n"
     ]
    },
    {
     "name": "stdout",
     "output_type": "stream",
     "text": [
      "Wrote results to /Users/fajrzafar/Documents/Semester 8 /FYP 1/JSON_Files/JSON_FED3/page_12\n",
      "Loading detection model vikp/surya_layout2 on device cpu with dtype torch.float32\n",
      "Loading detection model vikp/surya_det2 on device cpu with dtype torch.float32\n"
     ]
    },
    {
     "name": "stderr",
     "output_type": "stream",
     "text": [
      "Detecting bboxes: 100%|██████████| 1/1 [03:04<00:00, 184.80s/it]\n",
      "Detecting bboxes: 100%|██████████| 1/1 [00:21<00:00, 21.12s/it]\n"
     ]
    },
    {
     "name": "stdout",
     "output_type": "stream",
     "text": [
      "Wrote results to /Users/fajrzafar/Documents/Semester 8 /FYP 1/JSON_Files/JSON_FED3/page_8\n",
      "Loading detection model vikp/surya_layout2 on device cpu with dtype torch.float32\n",
      "Loading detection model vikp/surya_det2 on device cpu with dtype torch.float32\n"
     ]
    },
    {
     "name": "stderr",
     "output_type": "stream",
     "text": [
      "Detecting bboxes: 100%|██████████| 1/1 [00:24<00:00, 24.89s/it]\n",
      "Detecting bboxes: 100%|██████████| 1/1 [00:20<00:00, 20.70s/it]\n"
     ]
    },
    {
     "name": "stdout",
     "output_type": "stream",
     "text": [
      "Wrote results to /Users/fajrzafar/Documents/Semester 8 /FYP 1/JSON_Files/JSON_FED3/page_9\n"
     ]
    }
   ],
   "source": [
    "import os\n",
    "import subprocess\n",
    "\n",
    "def process_folder(image_folder, results_dir):\n",
    "    # List all image files in the folder\n",
    "    image_files = [file for file in os.listdir(image_folder) if file.lower().endswith(('.png', '.jpg', '.jpeg'))]\n",
    "    \n",
    "    # Iterate over each image file\n",
    "    for image_file in image_files:\n",
    "        # Construct the full path of the image file\n",
    "        image_path = os.path.join(image_folder, image_file)\n",
    "        \n",
    "        # Run Surya command for the current image file\n",
    "        subprocess.run([\"surya_layout\", image_path, \"--images\", \"--results_dir\", results_dir])\n",
    "\n",
    "# Example usage\n",
    "image_folder = \"/Users/fajrzafar/Documents/Semester 8 /FYP 1/Books PNGS/FED3\"  # Update with the path to your image folder\n",
    "results_dir = \"/Users/fajrzafar/Documents/Semester 8 /FYP 1/JSON_Files/JSON_FED3\"  # Update with the path to the folder where you want to save the results\n",
    "\n",
    "process_folder(image_folder, results_dir)\n"
   ]
  },
  {
   "cell_type": "markdown",
   "id": "1cd3b181-0d07-49ee-aadb-d8ad1b1c13b7",
   "metadata": {},
   "source": [
    "### JSON files for GRADE 1 FEDERAL BOARD"
   ]
  },
  {
   "cell_type": "code",
   "execution_count": 10,
   "id": "a75fb01a-0c5c-4e13-9dee-7a1472166262",
   "metadata": {},
   "outputs": [
    {
     "name": "stdout",
     "output_type": "stream",
     "text": [
      "Loading detection model vikp/surya_layout2 on device cpu with dtype torch.float32\n",
      "Loading detection model vikp/surya_det2 on device cpu with dtype torch.float32\n"
     ]
    },
    {
     "name": "stderr",
     "output_type": "stream",
     "text": [
      "Detecting bboxes: 100%|██████████| 1/1 [00:25<00:00, 25.39s/it]\n",
      "Detecting bboxes: 100%|██████████| 1/1 [00:21<00:00, 21.31s/it]\n"
     ]
    },
    {
     "name": "stdout",
     "output_type": "stream",
     "text": [
      "Wrote results to /Users/fajrzafar/Documents/Semester 8 /FYP 1/JSON_Files/JSON_FED1/page_2\n",
      "Loading detection model vikp/surya_layout2 on device cpu with dtype torch.float32\n",
      "Loading detection model vikp/surya_det2 on device cpu with dtype torch.float32\n"
     ]
    },
    {
     "name": "stderr",
     "output_type": "stream",
     "text": [
      "Detecting bboxes: 100%|██████████| 1/1 [00:25<00:00, 25.76s/it]\n",
      "Detecting bboxes: 100%|██████████| 1/1 [00:21<00:00, 21.40s/it]\n"
     ]
    },
    {
     "name": "stdout",
     "output_type": "stream",
     "text": [
      "Wrote results to /Users/fajrzafar/Documents/Semester 8 /FYP 1/JSON_Files/JSON_FED1/page_3\n",
      "Loading detection model vikp/surya_layout2 on device cpu with dtype torch.float32\n",
      "Loading detection model vikp/surya_det2 on device cpu with dtype torch.float32\n"
     ]
    },
    {
     "name": "stderr",
     "output_type": "stream",
     "text": [
      "Detecting bboxes: 100%|██████████| 1/1 [00:26<00:00, 26.13s/it]\n",
      "Detecting bboxes: 100%|██████████| 1/1 [00:23<00:00, 23.39s/it]\n"
     ]
    },
    {
     "name": "stdout",
     "output_type": "stream",
     "text": [
      "Wrote results to /Users/fajrzafar/Documents/Semester 8 /FYP 1/JSON_Files/JSON_FED1/page_1\n",
      "Loading detection model vikp/surya_layout2 on device cpu with dtype torch.float32\n",
      "Loading detection model vikp/surya_det2 on device cpu with dtype torch.float32\n"
     ]
    },
    {
     "name": "stderr",
     "output_type": "stream",
     "text": [
      "Detecting bboxes: 100%|██████████| 1/1 [00:30<00:00, 30.07s/it]\n",
      "Detecting bboxes: 100%|██████████| 1/1 [00:22<00:00, 22.90s/it]\n"
     ]
    },
    {
     "name": "stdout",
     "output_type": "stream",
     "text": [
      "Wrote results to /Users/fajrzafar/Documents/Semester 8 /FYP 1/JSON_Files/JSON_FED1/page_4\n",
      "Loading detection model vikp/surya_layout2 on device cpu with dtype torch.float32\n",
      "Loading detection model vikp/surya_det2 on device cpu with dtype torch.float32\n"
     ]
    },
    {
     "name": "stderr",
     "output_type": "stream",
     "text": [
      "Detecting bboxes: 100%|██████████| 1/1 [00:27<00:00, 27.36s/it]\n",
      "Detecting bboxes: 100%|██████████| 1/1 [00:23<00:00, 23.72s/it]\n"
     ]
    },
    {
     "name": "stdout",
     "output_type": "stream",
     "text": [
      "Wrote results to /Users/fajrzafar/Documents/Semester 8 /FYP 1/JSON_Files/JSON_FED1/page_5\n",
      "Loading detection model vikp/surya_layout2 on device cpu with dtype torch.float32\n",
      "Loading detection model vikp/surya_det2 on device cpu with dtype torch.float32\n"
     ]
    },
    {
     "name": "stderr",
     "output_type": "stream",
     "text": [
      "Detecting bboxes: 100%|██████████| 1/1 [00:27<00:00, 27.68s/it]\n",
      "Detecting bboxes: 100%|██████████| 1/1 [00:23<00:00, 23.83s/it]\n"
     ]
    },
    {
     "name": "stdout",
     "output_type": "stream",
     "text": [
      "Wrote results to /Users/fajrzafar/Documents/Semester 8 /FYP 1/JSON_Files/JSON_FED1/page_7\n",
      "Loading detection model vikp/surya_layout2 on device cpu with dtype torch.float32\n",
      "Loading detection model vikp/surya_det2 on device cpu with dtype torch.float32\n"
     ]
    },
    {
     "name": "stderr",
     "output_type": "stream",
     "text": [
      "Detecting bboxes: 100%|██████████| 1/1 [00:28<00:00, 28.34s/it]\n",
      "Detecting bboxes: 100%|██████████| 1/1 [00:25<00:00, 25.83s/it]\n"
     ]
    },
    {
     "name": "stdout",
     "output_type": "stream",
     "text": [
      "Wrote results to /Users/fajrzafar/Documents/Semester 8 /FYP 1/JSON_Files/JSON_FED1/page_6\n",
      "Loading detection model vikp/surya_layout2 on device cpu with dtype torch.float32\n",
      "Loading detection model vikp/surya_det2 on device cpu with dtype torch.float32\n"
     ]
    },
    {
     "name": "stderr",
     "output_type": "stream",
     "text": [
      "Detecting bboxes: 100%|██████████| 1/1 [00:28<00:00, 28.33s/it]\n",
      "Detecting bboxes: 100%|██████████| 1/1 [00:24<00:00, 24.20s/it]\n"
     ]
    },
    {
     "name": "stdout",
     "output_type": "stream",
     "text": [
      "Wrote results to /Users/fajrzafar/Documents/Semester 8 /FYP 1/JSON_Files/JSON_FED1/page_10\n",
      "Loading detection model vikp/surya_layout2 on device cpu with dtype torch.float32\n",
      "Loading detection model vikp/surya_det2 on device cpu with dtype torch.float32\n"
     ]
    },
    {
     "name": "stderr",
     "output_type": "stream",
     "text": [
      "Detecting bboxes: 100%|██████████| 1/1 [00:28<00:00, 28.94s/it]\n",
      "Detecting bboxes: 100%|██████████| 1/1 [00:24<00:00, 24.45s/it]\n"
     ]
    },
    {
     "name": "stdout",
     "output_type": "stream",
     "text": [
      "Wrote results to /Users/fajrzafar/Documents/Semester 8 /FYP 1/JSON_Files/JSON_FED1/page_11\n",
      "Loading detection model vikp/surya_layout2 on device cpu with dtype torch.float32\n",
      "Loading detection model vikp/surya_det2 on device cpu with dtype torch.float32\n"
     ]
    },
    {
     "name": "stderr",
     "output_type": "stream",
     "text": [
      "Detecting bboxes: 100%|██████████| 1/1 [00:28<00:00, 28.62s/it]\n",
      "Detecting bboxes: 100%|██████████| 1/1 [00:24<00:00, 24.68s/it]\n"
     ]
    },
    {
     "name": "stdout",
     "output_type": "stream",
     "text": [
      "Wrote results to /Users/fajrzafar/Documents/Semester 8 /FYP 1/JSON_Files/JSON_FED1/page_13\n",
      "Loading detection model vikp/surya_layout2 on device cpu with dtype torch.float32\n",
      "Loading detection model vikp/surya_det2 on device cpu with dtype torch.float32\n"
     ]
    },
    {
     "name": "stderr",
     "output_type": "stream",
     "text": [
      "Detecting bboxes: 100%|██████████| 1/1 [00:28<00:00, 28.61s/it]\n",
      "Detecting bboxes: 100%|██████████| 1/1 [00:23<00:00, 23.21s/it]\n"
     ]
    },
    {
     "name": "stdout",
     "output_type": "stream",
     "text": [
      "Wrote results to /Users/fajrzafar/Documents/Semester 8 /FYP 1/JSON_Files/JSON_FED1/page_12\n",
      "Loading detection model vikp/surya_layout2 on device cpu with dtype torch.float32\n",
      "Loading detection model vikp/surya_det2 on device cpu with dtype torch.float32\n"
     ]
    },
    {
     "name": "stderr",
     "output_type": "stream",
     "text": [
      "Detecting bboxes: 100%|██████████| 1/1 [00:27<00:00, 27.87s/it]\n",
      "Detecting bboxes: 100%|██████████| 1/1 [00:24<00:00, 24.26s/it]\n"
     ]
    },
    {
     "name": "stdout",
     "output_type": "stream",
     "text": [
      "Wrote results to /Users/fajrzafar/Documents/Semester 8 /FYP 1/JSON_Files/JSON_FED1/page_14\n",
      "Loading detection model vikp/surya_layout2 on device cpu with dtype torch.float32\n",
      "Loading detection model vikp/surya_det2 on device cpu with dtype torch.float32\n"
     ]
    },
    {
     "name": "stderr",
     "output_type": "stream",
     "text": [
      "Detecting bboxes: 100%|██████████| 1/1 [00:28<00:00, 28.62s/it]\n",
      "Detecting bboxes: 100%|██████████| 1/1 [00:22<00:00, 22.95s/it]\n"
     ]
    },
    {
     "name": "stdout",
     "output_type": "stream",
     "text": [
      "Wrote results to /Users/fajrzafar/Documents/Semester 8 /FYP 1/JSON_Files/JSON_FED1/page_8\n",
      "Loading detection model vikp/surya_layout2 on device cpu with dtype torch.float32\n",
      "Loading detection model vikp/surya_det2 on device cpu with dtype torch.float32\n"
     ]
    },
    {
     "name": "stderr",
     "output_type": "stream",
     "text": [
      "Detecting bboxes: 100%|██████████| 1/1 [00:27<00:00, 27.26s/it]\n",
      "Detecting bboxes: 100%|██████████| 1/1 [00:22<00:00, 22.31s/it]\n"
     ]
    },
    {
     "name": "stdout",
     "output_type": "stream",
     "text": [
      "Wrote results to /Users/fajrzafar/Documents/Semester 8 /FYP 1/JSON_Files/JSON_FED1/page_9\n"
     ]
    }
   ],
   "source": [
    "import os\n",
    "import subprocess\n",
    "\n",
    "def process_folder(image_folder, results_dir):\n",
    "    # List all image files in the folder\n",
    "    image_files = [file for file in os.listdir(image_folder) if file.lower().endswith(('.png', '.jpg', '.jpeg'))]\n",
    "    \n",
    "    # Iterate over each image file\n",
    "    for image_file in image_files:\n",
    "        # Construct the full path of the image file\n",
    "        image_path = os.path.join(image_folder, image_file)\n",
    "        \n",
    "        # Run Surya command for the current image file\n",
    "        subprocess.run([\"surya_layout\", image_path, \"--images\", \"--results_dir\", results_dir])\n",
    "\n",
    "# Example usage\n",
    "image_folder = \"/Users/fajrzafar/Documents/Semester 8 /FYP 1/Books PNGS/FED1\"  # Update with the path to your image folder\n",
    "results_dir = \"/Users/fajrzafar/Documents/Semester 8 /FYP 1/JSON_Files/JSON_FED1\"  # Update with the path to the folder where you want to save the results\n",
    "\n",
    "process_folder(image_folder, results_dir)\n"
   ]
  },
  {
   "cell_type": "markdown",
   "id": "1c727019-1bbb-49ec-99d2-dcbea54c8c9b",
   "metadata": {},
   "source": [
    "### JSON files for GRADE 1 PTB"
   ]
  },
  {
   "cell_type": "code",
   "execution_count": 13,
   "id": "e08b6f2c-555e-401c-a0ae-50c8124d6936",
   "metadata": {},
   "outputs": [
    {
     "name": "stdout",
     "output_type": "stream",
     "text": [
      "Loading detection model vikp/surya_layout2 on device cpu with dtype torch.float32\n",
      "Loading detection model vikp/surya_det2 on device cpu with dtype torch.float32\n"
     ]
    },
    {
     "name": "stderr",
     "output_type": "stream",
     "text": [
      "Detecting bboxes: 100%|██████████| 1/1 [00:24<00:00, 24.49s/it]\n",
      "Detecting bboxes: 100%|██████████| 1/1 [00:20<00:00, 20.96s/it]\n"
     ]
    },
    {
     "name": "stdout",
     "output_type": "stream",
     "text": [
      "Wrote results to /Users/fajrzafar/Documents/Semester 8 /FYP 1/JSON_Files/JSON_PTB1/page_2\n",
      "Loading detection model vikp/surya_layout2 on device cpu with dtype torch.float32\n",
      "Loading detection model vikp/surya_det2 on device cpu with dtype torch.float32\n"
     ]
    },
    {
     "name": "stderr",
     "output_type": "stream",
     "text": [
      "Detecting bboxes: 100%|██████████| 1/1 [00:25<00:00, 25.46s/it]\n",
      "Detecting bboxes: 100%|██████████| 1/1 [00:20<00:00, 20.87s/it]\n"
     ]
    },
    {
     "name": "stdout",
     "output_type": "stream",
     "text": [
      "Wrote results to /Users/fajrzafar/Documents/Semester 8 /FYP 1/JSON_Files/JSON_PTB1/page_3\n",
      "Loading detection model vikp/surya_layout2 on device cpu with dtype torch.float32\n",
      "Loading detection model vikp/surya_det2 on device cpu with dtype torch.float32\n"
     ]
    },
    {
     "name": "stderr",
     "output_type": "stream",
     "text": [
      "Detecting bboxes: 100%|██████████| 1/1 [00:26<00:00, 26.92s/it]\n",
      "Detecting bboxes: 100%|██████████| 1/1 [00:23<00:00, 23.45s/it]\n"
     ]
    },
    {
     "name": "stdout",
     "output_type": "stream",
     "text": [
      "Wrote results to /Users/fajrzafar/Documents/Semester 8 /FYP 1/JSON_Files/JSON_PTB1/page_1\n",
      "Loading detection model vikp/surya_layout2 on device cpu with dtype torch.float32\n",
      "Loading detection model vikp/surya_det2 on device cpu with dtype torch.float32\n"
     ]
    },
    {
     "name": "stderr",
     "output_type": "stream",
     "text": [
      "Detecting bboxes: 100%|██████████| 1/1 [00:28<00:00, 28.79s/it]\n",
      "Detecting bboxes: 100%|██████████| 1/1 [00:22<00:00, 22.95s/it]\n"
     ]
    },
    {
     "name": "stdout",
     "output_type": "stream",
     "text": [
      "Wrote results to /Users/fajrzafar/Documents/Semester 8 /FYP 1/JSON_Files/JSON_PTB1/page_4\n",
      "Loading detection model vikp/surya_layout2 on device cpu with dtype torch.float32\n",
      "Loading detection model vikp/surya_det2 on device cpu with dtype torch.float32\n"
     ]
    },
    {
     "name": "stderr",
     "output_type": "stream",
     "text": [
      "Detecting bboxes: 100%|██████████| 1/1 [00:25<00:00, 25.79s/it]\n",
      "Detecting bboxes: 100%|██████████| 1/1 [00:21<00:00, 21.33s/it]\n"
     ]
    },
    {
     "name": "stdout",
     "output_type": "stream",
     "text": [
      "Wrote results to /Users/fajrzafar/Documents/Semester 8 /FYP 1/JSON_Files/JSON_PTB1/page_5\n",
      "Loading detection model vikp/surya_layout2 on device cpu with dtype torch.float32\n",
      "Loading detection model vikp/surya_det2 on device cpu with dtype torch.float32\n"
     ]
    },
    {
     "name": "stderr",
     "output_type": "stream",
     "text": [
      "Detecting bboxes: 100%|██████████| 1/1 [00:26<00:00, 26.03s/it]\n",
      "Detecting bboxes: 100%|██████████| 1/1 [00:21<00:00, 21.73s/it]\n"
     ]
    },
    {
     "name": "stdout",
     "output_type": "stream",
     "text": [
      "Wrote results to /Users/fajrzafar/Documents/Semester 8 /FYP 1/JSON_Files/JSON_PTB1/page_7\n",
      "Loading detection model vikp/surya_layout2 on device cpu with dtype torch.float32\n",
      "Loading detection model vikp/surya_det2 on device cpu with dtype torch.float32\n"
     ]
    },
    {
     "name": "stderr",
     "output_type": "stream",
     "text": [
      "Detecting bboxes: 100%|██████████| 1/1 [00:26<00:00, 26.74s/it]\n",
      "Detecting bboxes: 100%|██████████| 1/1 [00:25<00:00, 25.48s/it]\n"
     ]
    },
    {
     "name": "stdout",
     "output_type": "stream",
     "text": [
      "Wrote results to /Users/fajrzafar/Documents/Semester 8 /FYP 1/JSON_Files/JSON_PTB1/page_6\n",
      "Loading detection model vikp/surya_layout2 on device cpu with dtype torch.float32\n",
      "Loading detection model vikp/surya_det2 on device cpu with dtype torch.float32\n"
     ]
    },
    {
     "name": "stderr",
     "output_type": "stream",
     "text": [
      "Detecting bboxes: 100%|██████████| 1/1 [00:27<00:00, 27.75s/it]\n",
      "Detecting bboxes: 100%|██████████| 1/1 [00:22<00:00, 22.14s/it]\n"
     ]
    },
    {
     "name": "stdout",
     "output_type": "stream",
     "text": [
      "Wrote results to /Users/fajrzafar/Documents/Semester 8 /FYP 1/JSON_Files/JSON_PTB1/page_19\n",
      "Loading detection model vikp/surya_layout2 on device cpu with dtype torch.float32\n",
      "Loading detection model vikp/surya_det2 on device cpu with dtype torch.float32\n"
     ]
    },
    {
     "name": "stderr",
     "output_type": "stream",
     "text": [
      "Detecting bboxes: 100%|██████████| 1/1 [00:26<00:00, 26.89s/it]\n",
      "Detecting bboxes: 100%|██████████| 1/1 [00:22<00:00, 22.09s/it]\n"
     ]
    },
    {
     "name": "stdout",
     "output_type": "stream",
     "text": [
      "Wrote results to /Users/fajrzafar/Documents/Semester 8 /FYP 1/JSON_Files/JSON_PTB1/page_25\n",
      "Loading detection model vikp/surya_layout2 on device cpu with dtype torch.float32\n",
      "Loading detection model vikp/surya_det2 on device cpu with dtype torch.float32\n"
     ]
    },
    {
     "name": "stderr",
     "output_type": "stream",
     "text": [
      "Detecting bboxes: 100%|██████████| 1/1 [00:29<00:00, 29.63s/it]\n",
      "Detecting bboxes: 100%|██████████| 1/1 [00:23<00:00, 23.66s/it]\n"
     ]
    },
    {
     "name": "stdout",
     "output_type": "stream",
     "text": [
      "Wrote results to /Users/fajrzafar/Documents/Semester 8 /FYP 1/JSON_Files/JSON_PTB1/page_31\n",
      "Loading detection model vikp/surya_layout2 on device cpu with dtype torch.float32\n",
      "Loading detection model vikp/surya_det2 on device cpu with dtype torch.float32\n"
     ]
    },
    {
     "name": "stderr",
     "output_type": "stream",
     "text": [
      "Detecting bboxes: 100%|██████████| 1/1 [00:27<00:00, 27.56s/it]\n",
      "Detecting bboxes: 100%|██████████| 1/1 [00:22<00:00, 22.20s/it]\n"
     ]
    },
    {
     "name": "stdout",
     "output_type": "stream",
     "text": [
      "Wrote results to /Users/fajrzafar/Documents/Semester 8 /FYP 1/JSON_Files/JSON_PTB1/page_30\n",
      "Loading detection model vikp/surya_layout2 on device cpu with dtype torch.float32\n",
      "Loading detection model vikp/surya_det2 on device cpu with dtype torch.float32\n"
     ]
    },
    {
     "name": "stderr",
     "output_type": "stream",
     "text": [
      "Detecting bboxes: 100%|██████████| 1/1 [00:27<00:00, 27.18s/it]\n",
      "Detecting bboxes: 100%|██████████| 1/1 [00:22<00:00, 22.16s/it]\n"
     ]
    },
    {
     "name": "stdout",
     "output_type": "stream",
     "text": [
      "Wrote results to /Users/fajrzafar/Documents/Semester 8 /FYP 1/JSON_Files/JSON_PTB1/page_24\n",
      "Loading detection model vikp/surya_layout2 on device cpu with dtype torch.float32\n",
      "Loading detection model vikp/surya_det2 on device cpu with dtype torch.float32\n"
     ]
    },
    {
     "name": "stderr",
     "output_type": "stream",
     "text": [
      "Detecting bboxes: 100%|██████████| 1/1 [00:27<00:00, 27.15s/it]\n",
      "Detecting bboxes: 100%|██████████| 1/1 [00:22<00:00, 22.07s/it]\n"
     ]
    },
    {
     "name": "stdout",
     "output_type": "stream",
     "text": [
      "Wrote results to /Users/fajrzafar/Documents/Semester 8 /FYP 1/JSON_Files/JSON_PTB1/page_18\n",
      "Loading detection model vikp/surya_layout2 on device cpu with dtype torch.float32\n",
      "Loading detection model vikp/surya_det2 on device cpu with dtype torch.float32\n"
     ]
    },
    {
     "name": "stderr",
     "output_type": "stream",
     "text": [
      "Detecting bboxes: 100%|██████████| 1/1 [00:27<00:00, 27.65s/it]\n",
      "Detecting bboxes: 100%|██████████| 1/1 [00:22<00:00, 22.30s/it]\n"
     ]
    },
    {
     "name": "stdout",
     "output_type": "stream",
     "text": [
      "Wrote results to /Users/fajrzafar/Documents/Semester 8 /FYP 1/JSON_Files/JSON_PTB1/page_32\n",
      "Loading detection model vikp/surya_layout2 on device cpu with dtype torch.float32\n",
      "Loading detection model vikp/surya_det2 on device cpu with dtype torch.float32\n"
     ]
    },
    {
     "name": "stderr",
     "output_type": "stream",
     "text": [
      "Detecting bboxes: 100%|██████████| 1/1 [00:26<00:00, 26.80s/it]\n",
      "Detecting bboxes: 100%|██████████| 1/1 [00:22<00:00, 22.09s/it]\n"
     ]
    },
    {
     "name": "stdout",
     "output_type": "stream",
     "text": [
      "Wrote results to /Users/fajrzafar/Documents/Semester 8 /FYP 1/JSON_Files/JSON_PTB1/page_26\n",
      "Loading detection model vikp/surya_layout2 on device cpu with dtype torch.float32\n",
      "Loading detection model vikp/surya_det2 on device cpu with dtype torch.float32\n"
     ]
    },
    {
     "name": "stderr",
     "output_type": "stream",
     "text": [
      "Detecting bboxes: 100%|██████████| 1/1 [00:27<00:00, 27.23s/it]\n",
      "Detecting bboxes: 100%|██████████| 1/1 [00:22<00:00, 22.08s/it]\n"
     ]
    },
    {
     "name": "stdout",
     "output_type": "stream",
     "text": [
      "Wrote results to /Users/fajrzafar/Documents/Semester 8 /FYP 1/JSON_Files/JSON_PTB1/page_27\n",
      "Loading detection model vikp/surya_layout2 on device cpu with dtype torch.float32\n",
      "Loading detection model vikp/surya_det2 on device cpu with dtype torch.float32\n"
     ]
    },
    {
     "name": "stderr",
     "output_type": "stream",
     "text": [
      "Detecting bboxes: 100%|██████████| 1/1 [00:27<00:00, 27.02s/it]\n",
      "Detecting bboxes: 100%|██████████| 1/1 [00:22<00:00, 22.11s/it]\n"
     ]
    },
    {
     "name": "stdout",
     "output_type": "stream",
     "text": [
      "Wrote results to /Users/fajrzafar/Documents/Semester 8 /FYP 1/JSON_Files/JSON_PTB1/page_33\n",
      "Loading detection model vikp/surya_layout2 on device cpu with dtype torch.float32\n",
      "Loading detection model vikp/surya_det2 on device cpu with dtype torch.float32\n"
     ]
    },
    {
     "name": "stderr",
     "output_type": "stream",
     "text": [
      "Detecting bboxes: 100%|██████████| 1/1 [00:27<00:00, 27.76s/it]\n",
      "Detecting bboxes: 100%|██████████| 1/1 [00:22<00:00, 22.67s/it]\n"
     ]
    },
    {
     "name": "stdout",
     "output_type": "stream",
     "text": [
      "Wrote results to /Users/fajrzafar/Documents/Semester 8 /FYP 1/JSON_Files/JSON_PTB1/page_23\n",
      "Loading detection model vikp/surya_layout2 on device cpu with dtype torch.float32\n",
      "Loading detection model vikp/surya_det2 on device cpu with dtype torch.float32\n"
     ]
    },
    {
     "name": "stderr",
     "output_type": "stream",
     "text": [
      "Detecting bboxes: 100%|██████████| 1/1 [00:27<00:00, 27.24s/it]\n",
      "Detecting bboxes: 100%|██████████| 1/1 [00:22<00:00, 22.32s/it]\n"
     ]
    },
    {
     "name": "stdout",
     "output_type": "stream",
     "text": [
      "Wrote results to /Users/fajrzafar/Documents/Semester 8 /FYP 1/JSON_Files/JSON_PTB1/page_22\n",
      "Loading detection model vikp/surya_layout2 on device cpu with dtype torch.float32\n",
      "Loading detection model vikp/surya_det2 on device cpu with dtype torch.float32\n"
     ]
    },
    {
     "name": "stderr",
     "output_type": "stream",
     "text": [
      "Detecting bboxes: 100%|██████████| 1/1 [00:28<00:00, 28.03s/it]\n",
      "Detecting bboxes: 100%|██████████| 1/1 [00:22<00:00, 22.27s/it]\n"
     ]
    },
    {
     "name": "stdout",
     "output_type": "stream",
     "text": [
      "Wrote results to /Users/fajrzafar/Documents/Semester 8 /FYP 1/JSON_Files/JSON_PTB1/page_20\n",
      "Loading detection model vikp/surya_layout2 on device cpu with dtype torch.float32\n",
      "Loading detection model vikp/surya_det2 on device cpu with dtype torch.float32\n"
     ]
    },
    {
     "name": "stderr",
     "output_type": "stream",
     "text": [
      "Detecting bboxes: 100%|██████████| 1/1 [00:27<00:00, 27.67s/it]\n",
      "Detecting bboxes: 100%|██████████| 1/1 [00:22<00:00, 22.30s/it]\n"
     ]
    },
    {
     "name": "stdout",
     "output_type": "stream",
     "text": [
      "Wrote results to /Users/fajrzafar/Documents/Semester 8 /FYP 1/JSON_Files/JSON_PTB1/page_34\n",
      "Loading detection model vikp/surya_layout2 on device cpu with dtype torch.float32\n",
      "Loading detection model vikp/surya_det2 on device cpu with dtype torch.float32\n"
     ]
    },
    {
     "name": "stderr",
     "output_type": "stream",
     "text": [
      "Detecting bboxes: 100%|██████████| 1/1 [00:27<00:00, 27.52s/it]\n",
      "Detecting bboxes: 100%|██████████| 1/1 [00:22<00:00, 22.58s/it]\n"
     ]
    },
    {
     "name": "stdout",
     "output_type": "stream",
     "text": [
      "Wrote results to /Users/fajrzafar/Documents/Semester 8 /FYP 1/JSON_Files/JSON_PTB1/page_21\n",
      "Loading detection model vikp/surya_layout2 on device cpu with dtype torch.float32\n",
      "Loading detection model vikp/surya_det2 on device cpu with dtype torch.float32\n"
     ]
    },
    {
     "name": "stderr",
     "output_type": "stream",
     "text": [
      "Detecting bboxes: 100%|██████████| 1/1 [00:26<00:00, 26.97s/it]\n",
      "Detecting bboxes: 100%|██████████| 1/1 [00:22<00:00, 22.09s/it]\n"
     ]
    },
    {
     "name": "stdout",
     "output_type": "stream",
     "text": [
      "Wrote results to /Users/fajrzafar/Documents/Semester 8 /FYP 1/JSON_Files/JSON_PTB1/page_10\n",
      "Loading detection model vikp/surya_layout2 on device cpu with dtype torch.float32\n",
      "Loading detection model vikp/surya_det2 on device cpu with dtype torch.float32\n"
     ]
    },
    {
     "name": "stderr",
     "output_type": "stream",
     "text": [
      "Detecting bboxes: 100%|██████████| 1/1 [00:27<00:00, 27.56s/it]\n",
      "Detecting bboxes: 100%|██████████| 1/1 [00:22<00:00, 22.48s/it]\n"
     ]
    },
    {
     "name": "stdout",
     "output_type": "stream",
     "text": [
      "Wrote results to /Users/fajrzafar/Documents/Semester 8 /FYP 1/JSON_Files/JSON_PTB1/page_11\n",
      "Loading detection model vikp/surya_layout2 on device cpu with dtype torch.float32\n",
      "Loading detection model vikp/surya_det2 on device cpu with dtype torch.float32\n"
     ]
    },
    {
     "name": "stderr",
     "output_type": "stream",
     "text": [
      "Detecting bboxes: 100%|██████████| 1/1 [00:27<00:00, 27.59s/it]\n",
      "Detecting bboxes: 100%|██████████| 1/1 [00:22<00:00, 22.04s/it]\n"
     ]
    },
    {
     "name": "stdout",
     "output_type": "stream",
     "text": [
      "Wrote results to /Users/fajrzafar/Documents/Semester 8 /FYP 1/JSON_Files/JSON_PTB1/page_13\n",
      "Loading detection model vikp/surya_layout2 on device cpu with dtype torch.float32\n",
      "Loading detection model vikp/surya_det2 on device cpu with dtype torch.float32\n"
     ]
    },
    {
     "name": "stderr",
     "output_type": "stream",
     "text": [
      "Detecting bboxes: 100%|██████████| 1/1 [00:27<00:00, 27.92s/it]\n",
      "Detecting bboxes: 100%|██████████| 1/1 [00:22<00:00, 22.35s/it]\n"
     ]
    },
    {
     "name": "stdout",
     "output_type": "stream",
     "text": [
      "Wrote results to /Users/fajrzafar/Documents/Semester 8 /FYP 1/JSON_Files/JSON_PTB1/page_12\n",
      "Loading detection model vikp/surya_layout2 on device cpu with dtype torch.float32\n",
      "Loading detection model vikp/surya_det2 on device cpu with dtype torch.float32\n"
     ]
    },
    {
     "name": "stderr",
     "output_type": "stream",
     "text": [
      "Detecting bboxes: 100%|██████████| 1/1 [00:27<00:00, 27.68s/it]\n",
      "Detecting bboxes: 100%|██████████| 1/1 [00:22<00:00, 22.14s/it]\n"
     ]
    },
    {
     "name": "stdout",
     "output_type": "stream",
     "text": [
      "Wrote results to /Users/fajrzafar/Documents/Semester 8 /FYP 1/JSON_Files/JSON_PTB1/page_16\n",
      "Loading detection model vikp/surya_layout2 on device cpu with dtype torch.float32\n",
      "Loading detection model vikp/surya_det2 on device cpu with dtype torch.float32\n"
     ]
    },
    {
     "name": "stderr",
     "output_type": "stream",
     "text": [
      "Detecting bboxes: 100%|██████████| 1/1 [00:26<00:00, 26.86s/it]\n",
      "Detecting bboxes: 100%|██████████| 1/1 [00:24<00:00, 24.39s/it]\n"
     ]
    },
    {
     "name": "stdout",
     "output_type": "stream",
     "text": [
      "Wrote results to /Users/fajrzafar/Documents/Semester 8 /FYP 1/JSON_Files/JSON_PTB1/page_17\n",
      "Loading detection model vikp/surya_layout2 on device cpu with dtype torch.float32\n",
      "Loading detection model vikp/surya_det2 on device cpu with dtype torch.float32\n"
     ]
    },
    {
     "name": "stderr",
     "output_type": "stream",
     "text": [
      "Detecting bboxes: 100%|██████████| 1/1 [00:28<00:00, 28.42s/it]\n",
      "Detecting bboxes: 100%|██████████| 1/1 [00:22<00:00, 22.39s/it]\n"
     ]
    },
    {
     "name": "stdout",
     "output_type": "stream",
     "text": [
      "Wrote results to /Users/fajrzafar/Documents/Semester 8 /FYP 1/JSON_Files/JSON_PTB1/page_15\n",
      "Loading detection model vikp/surya_layout2 on device cpu with dtype torch.float32\n",
      "Loading detection model vikp/surya_det2 on device cpu with dtype torch.float32\n"
     ]
    },
    {
     "name": "stderr",
     "output_type": "stream",
     "text": [
      "Detecting bboxes: 100%|██████████| 1/1 [00:28<00:00, 28.00s/it]\n",
      "Detecting bboxes: 100%|██████████| 1/1 [00:22<00:00, 22.56s/it]\n"
     ]
    },
    {
     "name": "stdout",
     "output_type": "stream",
     "text": [
      "Wrote results to /Users/fajrzafar/Documents/Semester 8 /FYP 1/JSON_Files/JSON_PTB1/page_29\n",
      "Loading detection model vikp/surya_layout2 on device cpu with dtype torch.float32\n",
      "Loading detection model vikp/surya_det2 on device cpu with dtype torch.float32\n"
     ]
    },
    {
     "name": "stderr",
     "output_type": "stream",
     "text": [
      "Detecting bboxes: 100%|██████████| 1/1 [00:27<00:00, 27.70s/it]\n",
      "Detecting bboxes: 100%|██████████| 1/1 [00:22<00:00, 22.55s/it]\n"
     ]
    },
    {
     "name": "stdout",
     "output_type": "stream",
     "text": [
      "Wrote results to /Users/fajrzafar/Documents/Semester 8 /FYP 1/JSON_Files/JSON_PTB1/page_28\n",
      "Loading detection model vikp/surya_layout2 on device cpu with dtype torch.float32\n",
      "Loading detection model vikp/surya_det2 on device cpu with dtype torch.float32\n"
     ]
    },
    {
     "name": "stderr",
     "output_type": "stream",
     "text": [
      "Detecting bboxes: 100%|██████████| 1/1 [00:29<00:00, 29.18s/it]\n",
      "Detecting bboxes: 100%|██████████| 1/1 [00:23<00:00, 23.85s/it]\n"
     ]
    },
    {
     "name": "stdout",
     "output_type": "stream",
     "text": [
      "Wrote results to /Users/fajrzafar/Documents/Semester 8 /FYP 1/JSON_Files/JSON_PTB1/page_14\n",
      "Loading detection model vikp/surya_layout2 on device cpu with dtype torch.float32\n",
      "Loading detection model vikp/surya_det2 on device cpu with dtype torch.float32\n"
     ]
    },
    {
     "name": "stderr",
     "output_type": "stream",
     "text": [
      "Detecting bboxes: 100%|██████████| 1/1 [00:27<00:00, 27.62s/it]\n",
      "Detecting bboxes: 100%|██████████| 1/1 [00:22<00:00, 22.79s/it]\n"
     ]
    },
    {
     "name": "stdout",
     "output_type": "stream",
     "text": [
      "Wrote results to /Users/fajrzafar/Documents/Semester 8 /FYP 1/JSON_Files/JSON_PTB1/page_8\n",
      "Loading detection model vikp/surya_layout2 on device cpu with dtype torch.float32\n",
      "Loading detection model vikp/surya_det2 on device cpu with dtype torch.float32\n"
     ]
    },
    {
     "name": "stderr",
     "output_type": "stream",
     "text": [
      "Detecting bboxes: 100%|██████████| 1/1 [00:27<00:00, 27.40s/it]\n",
      "Detecting bboxes: 100%|██████████| 1/1 [00:22<00:00, 22.86s/it]\n"
     ]
    },
    {
     "name": "stdout",
     "output_type": "stream",
     "text": [
      "Wrote results to /Users/fajrzafar/Documents/Semester 8 /FYP 1/JSON_Files/JSON_PTB1/page_9\n"
     ]
    }
   ],
   "source": [
    "import os\n",
    "import subprocess\n",
    "\n",
    "def process_folder(image_folder, results_dir):\n",
    "    # List all image files in the folder\n",
    "    image_files = [file for file in os.listdir(image_folder) if file.lower().endswith(('.png', '.jpg', '.jpeg'))]\n",
    "    \n",
    "    # Iterate over each image file\n",
    "    for image_file in image_files:\n",
    "        # Construct the full path of the image file\n",
    "        image_path = os.path.join(image_folder, image_file)\n",
    "        \n",
    "        # Run Surya command for the current image file\n",
    "        subprocess.run([\"surya_layout\", image_path, \"--images\", \"--results_dir\", results_dir])\n",
    "\n",
    "# Example usage\n",
    "image_folder = \"/Users/fajrzafar/Documents/Semester 8 /FYP 1/Books PNGS/PTB1\"  # Update with the path to your image folder\n",
    "results_dir = \"/Users/fajrzafar/Documents/Semester 8 /FYP 1/JSON_Files/JSON_PTB1\"  # Update with the path to the folder where you want to save the results\n",
    "\n",
    "process_folder(image_folder, results_dir)\n"
   ]
  },
  {
   "cell_type": "markdown",
   "id": "9bc215a5-1b88-4fea-92e7-96062c99251f",
   "metadata": {},
   "source": [
    "### JSON files for GRADE 2 PTB"
   ]
  },
  {
   "cell_type": "code",
   "execution_count": 16,
   "id": "36e8e633-5571-4aa1-8fd8-978db583c1c4",
   "metadata": {},
   "outputs": [
    {
     "name": "stdout",
     "output_type": "stream",
     "text": [
      "Loading detection model vikp/surya_layout2 on device cpu with dtype torch.float32\n",
      "Loading detection model vikp/surya_det2 on device cpu with dtype torch.float32\n"
     ]
    },
    {
     "name": "stderr",
     "output_type": "stream",
     "text": [
      "Detecting bboxes: 100%|██████████| 1/1 [00:24<00:00, 24.82s/it]\n",
      "Detecting bboxes: 100%|██████████| 1/1 [00:20<00:00, 20.77s/it]\n"
     ]
    },
    {
     "name": "stdout",
     "output_type": "stream",
     "text": [
      "Wrote results to /Users/fajrzafar/Documents/Semester 8 /FYP 1/JSON_Files/JSON_PTB2/page_2\n",
      "Loading detection model vikp/surya_layout2 on device cpu with dtype torch.float32\n",
      "Loading detection model vikp/surya_det2 on device cpu with dtype torch.float32\n"
     ]
    },
    {
     "name": "stderr",
     "output_type": "stream",
     "text": [
      "Detecting bboxes: 100%|██████████| 1/1 [00:25<00:00, 25.60s/it]\n",
      "Detecting bboxes: 100%|██████████| 1/1 [00:21<00:00, 21.04s/it]\n"
     ]
    },
    {
     "name": "stdout",
     "output_type": "stream",
     "text": [
      "Wrote results to /Users/fajrzafar/Documents/Semester 8 /FYP 1/JSON_Files/JSON_PTB2/page_3\n",
      "Loading detection model vikp/surya_layout2 on device cpu with dtype torch.float32\n",
      "Loading detection model vikp/surya_det2 on device cpu with dtype torch.float32\n"
     ]
    },
    {
     "name": "stderr",
     "output_type": "stream",
     "text": [
      "Detecting bboxes: 100%|██████████| 1/1 [00:26<00:00, 26.17s/it]\n",
      "Detecting bboxes: 100%|██████████| 1/1 [00:21<00:00, 21.43s/it]\n"
     ]
    },
    {
     "name": "stdout",
     "output_type": "stream",
     "text": [
      "Wrote results to /Users/fajrzafar/Documents/Semester 8 /FYP 1/JSON_Files/JSON_PTB2/page_1\n",
      "Loading detection model vikp/surya_layout2 on device cpu with dtype torch.float32\n",
      "Loading detection model vikp/surya_det2 on device cpu with dtype torch.float32\n"
     ]
    },
    {
     "name": "stderr",
     "output_type": "stream",
     "text": [
      "Detecting bboxes: 100%|██████████| 1/1 [00:26<00:00, 26.49s/it]\n",
      "Detecting bboxes: 100%|██████████| 1/1 [00:21<00:00, 21.46s/it]\n"
     ]
    },
    {
     "name": "stdout",
     "output_type": "stream",
     "text": [
      "Wrote results to /Users/fajrzafar/Documents/Semester 8 /FYP 1/JSON_Files/JSON_PTB2/page_4\n",
      "Loading detection model vikp/surya_layout2 on device cpu with dtype torch.float32\n",
      "Loading detection model vikp/surya_det2 on device cpu with dtype torch.float32\n"
     ]
    },
    {
     "name": "stderr",
     "output_type": "stream",
     "text": [
      "Detecting bboxes: 100%|██████████| 1/1 [00:28<00:00, 28.04s/it]\n",
      "Detecting bboxes: 100%|██████████| 1/1 [00:23<00:00, 23.62s/it]\n"
     ]
    },
    {
     "name": "stdout",
     "output_type": "stream",
     "text": [
      "Wrote results to /Users/fajrzafar/Documents/Semester 8 /FYP 1/JSON_Files/JSON_PTB2/page_5\n",
      "Loading detection model vikp/surya_layout2 on device cpu with dtype torch.float32\n",
      "Loading detection model vikp/surya_det2 on device cpu with dtype torch.float32\n"
     ]
    },
    {
     "name": "stderr",
     "output_type": "stream",
     "text": [
      "Detecting bboxes: 100%|██████████| 1/1 [00:27<00:00, 27.19s/it]\n",
      "Detecting bboxes: 100%|██████████| 1/1 [00:22<00:00, 22.32s/it]\n"
     ]
    },
    {
     "name": "stdout",
     "output_type": "stream",
     "text": [
      "Wrote results to /Users/fajrzafar/Documents/Semester 8 /FYP 1/JSON_Files/JSON_PTB2/page_7\n",
      "Loading detection model vikp/surya_layout2 on device cpu with dtype torch.float32\n",
      "Loading detection model vikp/surya_det2 on device cpu with dtype torch.float32\n"
     ]
    },
    {
     "name": "stderr",
     "output_type": "stream",
     "text": [
      "Detecting bboxes: 100%|██████████| 1/1 [00:27<00:00, 27.45s/it]\n",
      "Detecting bboxes: 100%|██████████| 1/1 [00:22<00:00, 22.36s/it]\n"
     ]
    },
    {
     "name": "stdout",
     "output_type": "stream",
     "text": [
      "Wrote results to /Users/fajrzafar/Documents/Semester 8 /FYP 1/JSON_Files/JSON_PTB2/page_6\n",
      "Loading detection model vikp/surya_layout2 on device cpu with dtype torch.float32\n",
      "Loading detection model vikp/surya_det2 on device cpu with dtype torch.float32\n"
     ]
    },
    {
     "name": "stderr",
     "output_type": "stream",
     "text": [
      "Detecting bboxes: 100%|██████████| 1/1 [00:27<00:00, 27.34s/it]\n",
      "Detecting bboxes: 100%|██████████| 1/1 [00:22<00:00, 22.35s/it]\n"
     ]
    },
    {
     "name": "stdout",
     "output_type": "stream",
     "text": [
      "Wrote results to /Users/fajrzafar/Documents/Semester 8 /FYP 1/JSON_Files/JSON_PTB2/page_19\n",
      "Loading detection model vikp/surya_layout2 on device cpu with dtype torch.float32\n",
      "Loading detection model vikp/surya_det2 on device cpu with dtype torch.float32\n"
     ]
    },
    {
     "name": "stderr",
     "output_type": "stream",
     "text": [
      "Detecting bboxes: 100%|██████████| 1/1 [00:27<00:00, 27.92s/it]\n",
      "Detecting bboxes: 100%|██████████| 1/1 [00:22<00:00, 22.32s/it]\n"
     ]
    },
    {
     "name": "stdout",
     "output_type": "stream",
     "text": [
      "Wrote results to /Users/fajrzafar/Documents/Semester 8 /FYP 1/JSON_Files/JSON_PTB2/page_25\n",
      "Loading detection model vikp/surya_layout2 on device cpu with dtype torch.float32\n",
      "Loading detection model vikp/surya_det2 on device cpu with dtype torch.float32\n"
     ]
    },
    {
     "name": "stderr",
     "output_type": "stream",
     "text": [
      "Detecting bboxes: 100%|██████████| 1/1 [00:27<00:00, 27.78s/it]\n",
      "Detecting bboxes: 100%|██████████| 1/1 [00:22<00:00, 22.60s/it]\n"
     ]
    },
    {
     "name": "stdout",
     "output_type": "stream",
     "text": [
      "Wrote results to /Users/fajrzafar/Documents/Semester 8 /FYP 1/JSON_Files/JSON_PTB2/page_31\n",
      "Loading detection model vikp/surya_layout2 on device cpu with dtype torch.float32\n",
      "Loading detection model vikp/surya_det2 on device cpu with dtype torch.float32\n"
     ]
    },
    {
     "name": "stderr",
     "output_type": "stream",
     "text": [
      "Detecting bboxes: 100%|██████████| 1/1 [00:26<00:00, 26.96s/it]\n",
      "Detecting bboxes: 100%|██████████| 1/1 [00:22<00:00, 22.46s/it]\n"
     ]
    },
    {
     "name": "stdout",
     "output_type": "stream",
     "text": [
      "Wrote results to /Users/fajrzafar/Documents/Semester 8 /FYP 1/JSON_Files/JSON_PTB2/page_30\n",
      "Loading detection model vikp/surya_layout2 on device cpu with dtype torch.float32\n",
      "Loading detection model vikp/surya_det2 on device cpu with dtype torch.float32\n"
     ]
    },
    {
     "name": "stderr",
     "output_type": "stream",
     "text": [
      "Detecting bboxes: 100%|██████████| 1/1 [00:27<00:00, 27.41s/it]\n",
      "Detecting bboxes: 100%|██████████| 1/1 [00:22<00:00, 22.56s/it]\n"
     ]
    },
    {
     "name": "stdout",
     "output_type": "stream",
     "text": [
      "Wrote results to /Users/fajrzafar/Documents/Semester 8 /FYP 1/JSON_Files/JSON_PTB2/page_24\n",
      "Loading detection model vikp/surya_layout2 on device cpu with dtype torch.float32\n",
      "Loading detection model vikp/surya_det2 on device cpu with dtype torch.float32\n"
     ]
    },
    {
     "name": "stderr",
     "output_type": "stream",
     "text": [
      "Detecting bboxes: 100%|██████████| 1/1 [00:27<00:00, 27.23s/it]\n",
      "Detecting bboxes: 100%|██████████| 1/1 [00:22<00:00, 22.89s/it]\n"
     ]
    },
    {
     "name": "stdout",
     "output_type": "stream",
     "text": [
      "Wrote results to /Users/fajrzafar/Documents/Semester 8 /FYP 1/JSON_Files/JSON_PTB2/page_18\n",
      "Loading detection model vikp/surya_layout2 on device cpu with dtype torch.float32\n",
      "Loading detection model vikp/surya_det2 on device cpu with dtype torch.float32\n"
     ]
    },
    {
     "name": "stderr",
     "output_type": "stream",
     "text": [
      "Detecting bboxes: 100%|██████████| 1/1 [00:27<00:00, 27.73s/it]\n",
      "Detecting bboxes: 100%|██████████| 1/1 [00:22<00:00, 22.45s/it]\n"
     ]
    },
    {
     "name": "stdout",
     "output_type": "stream",
     "text": [
      "Wrote results to /Users/fajrzafar/Documents/Semester 8 /FYP 1/JSON_Files/JSON_PTB2/page_32\n",
      "Loading detection model vikp/surya_layout2 on device cpu with dtype torch.float32\n",
      "Loading detection model vikp/surya_det2 on device cpu with dtype torch.float32\n"
     ]
    },
    {
     "name": "stderr",
     "output_type": "stream",
     "text": [
      "Detecting bboxes: 100%|██████████| 1/1 [00:27<00:00, 27.69s/it]\n",
      "Detecting bboxes: 100%|██████████| 1/1 [00:22<00:00, 22.67s/it]\n"
     ]
    },
    {
     "name": "stdout",
     "output_type": "stream",
     "text": [
      "Wrote results to /Users/fajrzafar/Documents/Semester 8 /FYP 1/JSON_Files/JSON_PTB2/page_26\n",
      "Loading detection model vikp/surya_layout2 on device cpu with dtype torch.float32\n",
      "Loading detection model vikp/surya_det2 on device cpu with dtype torch.float32\n"
     ]
    },
    {
     "name": "stderr",
     "output_type": "stream",
     "text": [
      "Detecting bboxes: 100%|██████████| 1/1 [00:27<00:00, 27.38s/it]\n",
      "Detecting bboxes: 100%|██████████| 1/1 [00:22<00:00, 22.81s/it]\n"
     ]
    },
    {
     "name": "stdout",
     "output_type": "stream",
     "text": [
      "Wrote results to /Users/fajrzafar/Documents/Semester 8 /FYP 1/JSON_Files/JSON_PTB2/page_27\n",
      "Loading detection model vikp/surya_layout2 on device cpu with dtype torch.float32\n",
      "Loading detection model vikp/surya_det2 on device cpu with dtype torch.float32\n"
     ]
    },
    {
     "name": "stderr",
     "output_type": "stream",
     "text": [
      "Detecting bboxes: 100%|██████████| 1/1 [00:29<00:00, 29.17s/it]\n",
      "Detecting bboxes: 100%|██████████| 1/1 [00:32<00:00, 32.39s/it]\n"
     ]
    },
    {
     "name": "stdout",
     "output_type": "stream",
     "text": [
      "Wrote results to /Users/fajrzafar/Documents/Semester 8 /FYP 1/JSON_Files/JSON_PTB2/page_33\n",
      "Loading detection model vikp/surya_layout2 on device cpu with dtype torch.float32\n",
      "Loading detection model vikp/surya_det2 on device cpu with dtype torch.float32\n"
     ]
    },
    {
     "name": "stderr",
     "output_type": "stream",
     "text": [
      "Detecting bboxes: 100%|██████████| 1/1 [00:27<00:00, 27.63s/it]\n",
      "Detecting bboxes: 100%|██████████| 1/1 [00:23<00:00, 23.26s/it]\n"
     ]
    },
    {
     "name": "stdout",
     "output_type": "stream",
     "text": [
      "Wrote results to /Users/fajrzafar/Documents/Semester 8 /FYP 1/JSON_Files/JSON_PTB2/page_37\n",
      "Loading detection model vikp/surya_layout2 on device cpu with dtype torch.float32\n",
      "Loading detection model vikp/surya_det2 on device cpu with dtype torch.float32\n"
     ]
    },
    {
     "name": "stderr",
     "output_type": "stream",
     "text": [
      "Detecting bboxes: 100%|██████████| 1/1 [00:27<00:00, 27.55s/it]\n",
      "Detecting bboxes: 100%|██████████| 1/1 [02:25<00:00, 145.53s/it]\n"
     ]
    },
    {
     "name": "stdout",
     "output_type": "stream",
     "text": [
      "Wrote results to /Users/fajrzafar/Documents/Semester 8 /FYP 1/JSON_Files/JSON_PTB2/page_23\n",
      "Loading detection model vikp/surya_layout2 on device cpu with dtype torch.float32\n",
      "Loading detection model vikp/surya_det2 on device cpu with dtype torch.float32\n"
     ]
    },
    {
     "name": "stderr",
     "output_type": "stream",
     "text": [
      "Detecting bboxes: 100%|██████████| 1/1 [00:25<00:00, 25.05s/it]\n",
      "Detecting bboxes: 100%|██████████| 1/1 [00:21<00:00, 21.01s/it]\n"
     ]
    },
    {
     "name": "stdout",
     "output_type": "stream",
     "text": [
      "Wrote results to /Users/fajrzafar/Documents/Semester 8 /FYP 1/JSON_Files/JSON_PTB2/page_22\n",
      "Loading detection model vikp/surya_layout2 on device cpu with dtype torch.float32\n",
      "Loading detection model vikp/surya_det2 on device cpu with dtype torch.float32\n"
     ]
    },
    {
     "name": "stderr",
     "output_type": "stream",
     "text": [
      "Detecting bboxes: 100%|██████████| 1/1 [00:26<00:00, 26.58s/it]\n",
      "Detecting bboxes: 100%|██████████| 1/1 [00:21<00:00, 21.95s/it]\n"
     ]
    },
    {
     "name": "stdout",
     "output_type": "stream",
     "text": [
      "Wrote results to /Users/fajrzafar/Documents/Semester 8 /FYP 1/JSON_Files/JSON_PTB2/page_36\n",
      "Loading detection model vikp/surya_layout2 on device cpu with dtype torch.float32\n",
      "Loading detection model vikp/surya_det2 on device cpu with dtype torch.float32\n"
     ]
    },
    {
     "name": "stderr",
     "output_type": "stream",
     "text": [
      "Detecting bboxes: 100%|██████████| 1/1 [00:27<00:00, 27.19s/it]\n",
      "Detecting bboxes: 100%|██████████| 1/1 [00:22<00:00, 22.07s/it]\n"
     ]
    },
    {
     "name": "stdout",
     "output_type": "stream",
     "text": [
      "Wrote results to /Users/fajrzafar/Documents/Semester 8 /FYP 1/JSON_Files/JSON_PTB2/page_20\n",
      "Loading detection model vikp/surya_layout2 on device cpu with dtype torch.float32\n",
      "Loading detection model vikp/surya_det2 on device cpu with dtype torch.float32\n"
     ]
    },
    {
     "name": "stderr",
     "output_type": "stream",
     "text": [
      "Detecting bboxes: 100%|██████████| 1/1 [00:27<00:00, 27.32s/it]\n",
      "Detecting bboxes: 100%|██████████| 1/1 [00:22<00:00, 22.37s/it]\n"
     ]
    },
    {
     "name": "stdout",
     "output_type": "stream",
     "text": [
      "Wrote results to /Users/fajrzafar/Documents/Semester 8 /FYP 1/JSON_Files/JSON_PTB2/page_34\n",
      "Loading detection model vikp/surya_layout2 on device cpu with dtype torch.float32\n",
      "Loading detection model vikp/surya_det2 on device cpu with dtype torch.float32\n"
     ]
    },
    {
     "name": "stderr",
     "output_type": "stream",
     "text": [
      "Detecting bboxes: 100%|██████████| 1/1 [00:28<00:00, 28.23s/it]\n",
      "Detecting bboxes: 100%|██████████| 1/1 [00:22<00:00, 22.77s/it]\n"
     ]
    },
    {
     "name": "stdout",
     "output_type": "stream",
     "text": [
      "Wrote results to /Users/fajrzafar/Documents/Semester 8 /FYP 1/JSON_Files/JSON_PTB2/page_35\n",
      "Loading detection model vikp/surya_layout2 on device cpu with dtype torch.float32\n",
      "Loading detection model vikp/surya_det2 on device cpu with dtype torch.float32\n"
     ]
    },
    {
     "name": "stderr",
     "output_type": "stream",
     "text": [
      "Detecting bboxes: 100%|██████████| 1/1 [00:28<00:00, 28.46s/it]\n",
      "Detecting bboxes: 100%|██████████| 1/1 [00:23<00:00, 23.52s/it]\n"
     ]
    },
    {
     "name": "stdout",
     "output_type": "stream",
     "text": [
      "Wrote results to /Users/fajrzafar/Documents/Semester 8 /FYP 1/JSON_Files/JSON_PTB2/page_21\n",
      "Loading detection model vikp/surya_layout2 on device cpu with dtype torch.float32\n",
      "Loading detection model vikp/surya_det2 on device cpu with dtype torch.float32\n"
     ]
    },
    {
     "name": "stderr",
     "output_type": "stream",
     "text": [
      "Detecting bboxes: 100%|██████████| 1/1 [00:28<00:00, 28.49s/it]\n",
      "Detecting bboxes: 100%|██████████| 1/1 [00:24<00:00, 24.73s/it]\n"
     ]
    },
    {
     "name": "stdout",
     "output_type": "stream",
     "text": [
      "Wrote results to /Users/fajrzafar/Documents/Semester 8 /FYP 1/JSON_Files/JSON_PTB2/page_10\n",
      "Loading detection model vikp/surya_layout2 on device cpu with dtype torch.float32\n",
      "Loading detection model vikp/surya_det2 on device cpu with dtype torch.float32\n"
     ]
    },
    {
     "name": "stderr",
     "output_type": "stream",
     "text": [
      "Detecting bboxes: 100%|██████████| 1/1 [00:29<00:00, 29.27s/it]\n",
      "Detecting bboxes: 100%|██████████| 1/1 [00:25<00:00, 25.76s/it]\n"
     ]
    },
    {
     "name": "stdout",
     "output_type": "stream",
     "text": [
      "Wrote results to /Users/fajrzafar/Documents/Semester 8 /FYP 1/JSON_Files/JSON_PTB2/page_11\n",
      "Loading detection model vikp/surya_layout2 on device cpu with dtype torch.float32\n",
      "Loading detection model vikp/surya_det2 on device cpu with dtype torch.float32\n"
     ]
    },
    {
     "name": "stderr",
     "output_type": "stream",
     "text": [
      "Detecting bboxes: 100%|██████████| 1/1 [00:31<00:00, 31.10s/it]\n",
      "Detecting bboxes: 100%|██████████| 1/1 [00:26<00:00, 26.26s/it]\n"
     ]
    },
    {
     "name": "stdout",
     "output_type": "stream",
     "text": [
      "Wrote results to /Users/fajrzafar/Documents/Semester 8 /FYP 1/JSON_Files/JSON_PTB2/page_13\n",
      "Loading detection model vikp/surya_layout2 on device cpu with dtype torch.float32\n",
      "Loading detection model vikp/surya_det2 on device cpu with dtype torch.float32\n"
     ]
    },
    {
     "name": "stderr",
     "output_type": "stream",
     "text": [
      "Detecting bboxes: 100%|██████████| 1/1 [00:31<00:00, 31.72s/it]\n",
      "Detecting bboxes: 100%|██████████| 1/1 [00:26<00:00, 26.61s/it]\n"
     ]
    },
    {
     "name": "stdout",
     "output_type": "stream",
     "text": [
      "Wrote results to /Users/fajrzafar/Documents/Semester 8 /FYP 1/JSON_Files/JSON_PTB2/page_12\n",
      "Loading detection model vikp/surya_layout2 on device cpu with dtype torch.float32\n",
      "Loading detection model vikp/surya_det2 on device cpu with dtype torch.float32\n"
     ]
    },
    {
     "name": "stderr",
     "output_type": "stream",
     "text": [
      "Detecting bboxes: 100%|██████████| 1/1 [00:32<00:00, 32.03s/it]\n",
      "Detecting bboxes: 100%|██████████| 1/1 [00:26<00:00, 26.70s/it]\n"
     ]
    },
    {
     "name": "stdout",
     "output_type": "stream",
     "text": [
      "Wrote results to /Users/fajrzafar/Documents/Semester 8 /FYP 1/JSON_Files/JSON_PTB2/page_16\n",
      "Loading detection model vikp/surya_layout2 on device cpu with dtype torch.float32\n",
      "Loading detection model vikp/surya_det2 on device cpu with dtype torch.float32\n"
     ]
    },
    {
     "name": "stderr",
     "output_type": "stream",
     "text": [
      "Detecting bboxes: 100%|██████████| 1/1 [00:32<00:00, 32.41s/it]\n",
      "Detecting bboxes: 100%|██████████| 1/1 [00:27<00:00, 27.32s/it]\n"
     ]
    },
    {
     "name": "stdout",
     "output_type": "stream",
     "text": [
      "Wrote results to /Users/fajrzafar/Documents/Semester 8 /FYP 1/JSON_Files/JSON_PTB2/page_17\n",
      "Loading detection model vikp/surya_layout2 on device cpu with dtype torch.float32\n",
      "Loading detection model vikp/surya_det2 on device cpu with dtype torch.float32\n"
     ]
    },
    {
     "name": "stderr",
     "output_type": "stream",
     "text": [
      "Detecting bboxes: 100%|██████████| 1/1 [00:33<00:00, 33.12s/it]\n",
      "Detecting bboxes: 100%|██████████| 1/1 [00:27<00:00, 27.17s/it]\n"
     ]
    },
    {
     "name": "stdout",
     "output_type": "stream",
     "text": [
      "Wrote results to /Users/fajrzafar/Documents/Semester 8 /FYP 1/JSON_Files/JSON_PTB2/page_15\n",
      "Loading detection model vikp/surya_layout2 on device cpu with dtype torch.float32\n",
      "Loading detection model vikp/surya_det2 on device cpu with dtype torch.float32\n"
     ]
    },
    {
     "name": "stderr",
     "output_type": "stream",
     "text": [
      "Detecting bboxes: 100%|██████████| 1/1 [00:33<00:00, 33.60s/it]\n",
      "Detecting bboxes: 100%|██████████| 1/1 [00:27<00:00, 27.39s/it]\n"
     ]
    },
    {
     "name": "stdout",
     "output_type": "stream",
     "text": [
      "Wrote results to /Users/fajrzafar/Documents/Semester 8 /FYP 1/JSON_Files/JSON_PTB2/page_29\n",
      "Loading detection model vikp/surya_layout2 on device cpu with dtype torch.float32\n",
      "Loading detection model vikp/surya_det2 on device cpu with dtype torch.float32\n"
     ]
    },
    {
     "name": "stderr",
     "output_type": "stream",
     "text": [
      "Detecting bboxes: 100%|██████████| 1/1 [00:34<00:00, 34.47s/it]\n",
      "Detecting bboxes: 100%|██████████| 1/1 [00:28<00:00, 28.15s/it]\n"
     ]
    },
    {
     "name": "stdout",
     "output_type": "stream",
     "text": [
      "Wrote results to /Users/fajrzafar/Documents/Semester 8 /FYP 1/JSON_Files/JSON_PTB2/page_28\n",
      "Loading detection model vikp/surya_layout2 on device cpu with dtype torch.float32\n",
      "Loading detection model vikp/surya_det2 on device cpu with dtype torch.float32\n"
     ]
    },
    {
     "name": "stderr",
     "output_type": "stream",
     "text": [
      "Detecting bboxes: 100%|██████████| 1/1 [00:34<00:00, 34.65s/it]\n",
      "Detecting bboxes: 100%|██████████| 1/1 [00:27<00:00, 27.75s/it]\n"
     ]
    },
    {
     "name": "stdout",
     "output_type": "stream",
     "text": [
      "Wrote results to /Users/fajrzafar/Documents/Semester 8 /FYP 1/JSON_Files/JSON_PTB2/page_14\n",
      "Loading detection model vikp/surya_layout2 on device cpu with dtype torch.float32\n",
      "Loading detection model vikp/surya_det2 on device cpu with dtype torch.float32\n"
     ]
    },
    {
     "name": "stderr",
     "output_type": "stream",
     "text": [
      "Detecting bboxes: 100%|██████████| 1/1 [00:33<00:00, 33.41s/it]\n",
      "Detecting bboxes: 100%|██████████| 1/1 [00:27<00:00, 27.44s/it]\n"
     ]
    },
    {
     "name": "stdout",
     "output_type": "stream",
     "text": [
      "Wrote results to /Users/fajrzafar/Documents/Semester 8 /FYP 1/JSON_Files/JSON_PTB2/page_8\n",
      "Loading detection model vikp/surya_layout2 on device cpu with dtype torch.float32\n",
      "Loading detection model vikp/surya_det2 on device cpu with dtype torch.float32\n"
     ]
    },
    {
     "name": "stderr",
     "output_type": "stream",
     "text": [
      "Detecting bboxes: 100%|██████████| 1/1 [00:33<00:00, 33.21s/it]\n",
      "Detecting bboxes: 100%|██████████| 1/1 [00:27<00:00, 27.19s/it]\n"
     ]
    },
    {
     "name": "stdout",
     "output_type": "stream",
     "text": [
      "Wrote results to /Users/fajrzafar/Documents/Semester 8 /FYP 1/JSON_Files/JSON_PTB2/page_9\n"
     ]
    }
   ],
   "source": [
    "import os\n",
    "import subprocess\n",
    "\n",
    "def process_folder(image_folder, results_dir):\n",
    "    # List all image files in the folder\n",
    "    image_files = [file for file in os.listdir(image_folder) if file.lower().endswith(('.png', '.jpg', '.jpeg'))]\n",
    "    \n",
    "    # Iterate over each image file\n",
    "    for image_file in image_files:\n",
    "        # Construct the full path of the image file\n",
    "        image_path = os.path.join(image_folder, image_file)\n",
    "        \n",
    "        # Run Surya command for the current image file\n",
    "        subprocess.run([\"surya_layout\", image_path, \"--images\", \"--results_dir\", results_dir])\n",
    "\n",
    "# Example usage\n",
    "image_folder = \"/Users/fajrzafar/Documents/Semester 8 /FYP 1/Books PNGS/PTB2\"  # Update with the path to your image folder\n",
    "results_dir = \"/Users/fajrzafar/Documents/Semester 8 /FYP 1/JSON_Files/JSON_PTB2\"  # Update with the path to the folder where you want to save the results\n",
    "\n",
    "process_folder(image_folder, results_dir)\n"
   ]
  },
  {
   "cell_type": "markdown",
   "id": "2a061760-da3f-4cd2-a9e0-e4e2ebe2bce0",
   "metadata": {},
   "source": [
    "### JSON files for GRADE 3 PTB"
   ]
  },
  {
   "cell_type": "code",
   "execution_count": 18,
   "id": "3c4350ff-b84a-4f7b-aef9-312bc6360a17",
   "metadata": {},
   "outputs": [
    {
     "name": "stdout",
     "output_type": "stream",
     "text": [
      "Loading detection model vikp/surya_layout2 on device cpu with dtype torch.float32\n",
      "Loading detection model vikp/surya_det2 on device cpu with dtype torch.float32\n"
     ]
    },
    {
     "name": "stderr",
     "output_type": "stream",
     "text": [
      "Detecting bboxes: 100%|██████████| 1/1 [00:32<00:00, 32.26s/it]\n",
      "Detecting bboxes: 100%|██████████| 1/1 [00:25<00:00, 25.31s/it]\n"
     ]
    },
    {
     "name": "stdout",
     "output_type": "stream",
     "text": [
      "Wrote results to /Users/fajrzafar/Documents/Semester 8 /FYP 1/JSON_Files/JSON_PTB3/page_2\n",
      "Loading detection model vikp/surya_layout2 on device cpu with dtype torch.float32\n",
      "Loading detection model vikp/surya_det2 on device cpu with dtype torch.float32\n"
     ]
    },
    {
     "name": "stderr",
     "output_type": "stream",
     "text": [
      "Detecting bboxes: 100%|██████████| 1/1 [00:29<00:00, 29.28s/it]\n",
      "Detecting bboxes: 100%|██████████| 1/1 [00:26<00:00, 26.01s/it]\n"
     ]
    },
    {
     "name": "stdout",
     "output_type": "stream",
     "text": [
      "Wrote results to /Users/fajrzafar/Documents/Semester 8 /FYP 1/JSON_Files/JSON_PTB3/page_3\n",
      "Loading detection model vikp/surya_layout2 on device cpu with dtype torch.float32\n",
      "Loading detection model vikp/surya_det2 on device cpu with dtype torch.float32\n"
     ]
    },
    {
     "name": "stderr",
     "output_type": "stream",
     "text": [
      "Detecting bboxes: 100%|██████████| 1/1 [00:29<00:00, 29.16s/it]\n",
      "Detecting bboxes: 100%|██████████| 1/1 [00:24<00:00, 24.84s/it]\n"
     ]
    },
    {
     "name": "stdout",
     "output_type": "stream",
     "text": [
      "Wrote results to /Users/fajrzafar/Documents/Semester 8 /FYP 1/JSON_Files/JSON_PTB3/page_1\n",
      "Loading detection model vikp/surya_layout2 on device cpu with dtype torch.float32\n",
      "Loading detection model vikp/surya_det2 on device cpu with dtype torch.float32\n"
     ]
    },
    {
     "name": "stderr",
     "output_type": "stream",
     "text": [
      "Detecting bboxes: 100%|██████████| 1/1 [00:32<00:00, 32.55s/it]\n",
      "Detecting bboxes: 100%|██████████| 1/1 [00:26<00:00, 26.90s/it]\n"
     ]
    },
    {
     "name": "stdout",
     "output_type": "stream",
     "text": [
      "Wrote results to /Users/fajrzafar/Documents/Semester 8 /FYP 1/JSON_Files/JSON_PTB3/page_4\n",
      "Loading detection model vikp/surya_layout2 on device cpu with dtype torch.float32\n",
      "Loading detection model vikp/surya_det2 on device cpu with dtype torch.float32\n"
     ]
    },
    {
     "name": "stderr",
     "output_type": "stream",
     "text": [
      "Detecting bboxes: 100%|██████████| 1/1 [00:33<00:00, 33.18s/it]\n",
      "Detecting bboxes: 100%|██████████| 1/1 [00:28<00:00, 28.11s/it]\n"
     ]
    },
    {
     "name": "stdout",
     "output_type": "stream",
     "text": [
      "Wrote results to /Users/fajrzafar/Documents/Semester 8 /FYP 1/JSON_Files/JSON_PTB3/page_5\n",
      "Loading detection model vikp/surya_layout2 on device cpu with dtype torch.float32\n",
      "Loading detection model vikp/surya_det2 on device cpu with dtype torch.float32\n"
     ]
    },
    {
     "name": "stderr",
     "output_type": "stream",
     "text": [
      "Detecting bboxes: 100%|██████████| 1/1 [00:29<00:00, 29.01s/it]\n",
      "Detecting bboxes: 100%|██████████| 1/1 [00:24<00:00, 24.84s/it]\n"
     ]
    },
    {
     "name": "stdout",
     "output_type": "stream",
     "text": [
      "Wrote results to /Users/fajrzafar/Documents/Semester 8 /FYP 1/JSON_Files/JSON_PTB3/page_7\n",
      "Loading detection model vikp/surya_layout2 on device cpu with dtype torch.float32\n",
      "Loading detection model vikp/surya_det2 on device cpu with dtype torch.float32\n"
     ]
    },
    {
     "name": "stderr",
     "output_type": "stream",
     "text": [
      "Detecting bboxes: 100%|██████████| 1/1 [00:31<00:00, 31.14s/it]\n",
      "Detecting bboxes: 100%|██████████| 1/1 [00:24<00:00, 24.86s/it]\n"
     ]
    },
    {
     "name": "stdout",
     "output_type": "stream",
     "text": [
      "Wrote results to /Users/fajrzafar/Documents/Semester 8 /FYP 1/JSON_Files/JSON_PTB3/page_6\n",
      "Loading detection model vikp/surya_layout2 on device cpu with dtype torch.float32\n",
      "Loading detection model vikp/surya_det2 on device cpu with dtype torch.float32\n"
     ]
    },
    {
     "name": "stderr",
     "output_type": "stream",
     "text": [
      "Detecting bboxes: 100%|██████████| 1/1 [00:32<00:00, 32.30s/it]\n",
      "Detecting bboxes: 100%|██████████| 1/1 [00:27<00:00, 27.17s/it]\n"
     ]
    },
    {
     "name": "stdout",
     "output_type": "stream",
     "text": [
      "Wrote results to /Users/fajrzafar/Documents/Semester 8 /FYP 1/JSON_Files/JSON_PTB3/page_19\n",
      "Loading detection model vikp/surya_layout2 on device cpu with dtype torch.float32\n",
      "Loading detection model vikp/surya_det2 on device cpu with dtype torch.float32\n"
     ]
    },
    {
     "name": "stderr",
     "output_type": "stream",
     "text": [
      "Detecting bboxes: 100%|██████████| 1/1 [00:29<00:00, 29.74s/it]\n",
      "Detecting bboxes: 100%|██████████| 1/1 [00:25<00:00, 25.29s/it]\n"
     ]
    },
    {
     "name": "stdout",
     "output_type": "stream",
     "text": [
      "Wrote results to /Users/fajrzafar/Documents/Semester 8 /FYP 1/JSON_Files/JSON_PTB3/page_25\n",
      "Loading detection model vikp/surya_layout2 on device cpu with dtype torch.float32\n",
      "Loading detection model vikp/surya_det2 on device cpu with dtype torch.float32\n"
     ]
    },
    {
     "name": "stderr",
     "output_type": "stream",
     "text": [
      "Detecting bboxes: 100%|██████████| 1/1 [00:29<00:00, 29.82s/it]\n",
      "Detecting bboxes: 100%|██████████| 1/1 [00:25<00:00, 25.23s/it]\n"
     ]
    },
    {
     "name": "stdout",
     "output_type": "stream",
     "text": [
      "Wrote results to /Users/fajrzafar/Documents/Semester 8 /FYP 1/JSON_Files/JSON_PTB3/page_31\n",
      "Loading detection model vikp/surya_layout2 on device cpu with dtype torch.float32\n",
      "Loading detection model vikp/surya_det2 on device cpu with dtype torch.float32\n"
     ]
    },
    {
     "name": "stderr",
     "output_type": "stream",
     "text": [
      "Detecting bboxes: 100%|██████████| 1/1 [00:31<00:00, 31.64s/it]\n",
      "Detecting bboxes: 100%|██████████| 1/1 [00:26<00:00, 26.11s/it]\n"
     ]
    },
    {
     "name": "stdout",
     "output_type": "stream",
     "text": [
      "Wrote results to /Users/fajrzafar/Documents/Semester 8 /FYP 1/JSON_Files/JSON_PTB3/page_30\n",
      "Loading detection model vikp/surya_layout2 on device cpu with dtype torch.float32\n",
      "Loading detection model vikp/surya_det2 on device cpu with dtype torch.float32\n"
     ]
    },
    {
     "name": "stderr",
     "output_type": "stream",
     "text": [
      "Detecting bboxes: 100%|██████████| 1/1 [00:31<00:00, 31.04s/it]\n",
      "Detecting bboxes: 100%|██████████| 1/1 [00:26<00:00, 26.23s/it]\n"
     ]
    },
    {
     "name": "stdout",
     "output_type": "stream",
     "text": [
      "Wrote results to /Users/fajrzafar/Documents/Semester 8 /FYP 1/JSON_Files/JSON_PTB3/page_24\n",
      "Loading detection model vikp/surya_layout2 on device cpu with dtype torch.float32\n",
      "Loading detection model vikp/surya_det2 on device cpu with dtype torch.float32\n"
     ]
    },
    {
     "name": "stderr",
     "output_type": "stream",
     "text": [
      "Detecting bboxes: 100%|██████████| 1/1 [00:30<00:00, 30.88s/it]\n",
      "Detecting bboxes: 100%|██████████| 1/1 [00:25<00:00, 25.62s/it]\n"
     ]
    },
    {
     "name": "stdout",
     "output_type": "stream",
     "text": [
      "Wrote results to /Users/fajrzafar/Documents/Semester 8 /FYP 1/JSON_Files/JSON_PTB3/page_18\n",
      "Loading detection model vikp/surya_layout2 on device cpu with dtype torch.float32\n",
      "Loading detection model vikp/surya_det2 on device cpu with dtype torch.float32\n"
     ]
    },
    {
     "name": "stderr",
     "output_type": "stream",
     "text": [
      "Detecting bboxes: 100%|██████████| 1/1 [00:30<00:00, 30.69s/it]\n",
      "Detecting bboxes: 100%|██████████| 1/1 [00:25<00:00, 25.94s/it]\n"
     ]
    },
    {
     "name": "stdout",
     "output_type": "stream",
     "text": [
      "Wrote results to /Users/fajrzafar/Documents/Semester 8 /FYP 1/JSON_Files/JSON_PTB3/page_32\n",
      "Loading detection model vikp/surya_layout2 on device cpu with dtype torch.float32\n",
      "Loading detection model vikp/surya_det2 on device cpu with dtype torch.float32\n"
     ]
    },
    {
     "name": "stderr",
     "output_type": "stream",
     "text": [
      "Detecting bboxes: 100%|██████████| 1/1 [00:30<00:00, 30.96s/it]\n",
      "Detecting bboxes: 100%|██████████| 1/1 [00:25<00:00, 25.97s/it]\n"
     ]
    },
    {
     "name": "stdout",
     "output_type": "stream",
     "text": [
      "Wrote results to /Users/fajrzafar/Documents/Semester 8 /FYP 1/JSON_Files/JSON_PTB3/page_26\n",
      "Loading detection model vikp/surya_layout2 on device cpu with dtype torch.float32\n",
      "Loading detection model vikp/surya_det2 on device cpu with dtype torch.float32\n"
     ]
    },
    {
     "name": "stderr",
     "output_type": "stream",
     "text": [
      "Detecting bboxes: 100%|██████████| 1/1 [00:30<00:00, 30.31s/it]\n",
      "Detecting bboxes: 100%|██████████| 1/1 [00:25<00:00, 25.91s/it]\n"
     ]
    },
    {
     "name": "stdout",
     "output_type": "stream",
     "text": [
      "Wrote results to /Users/fajrzafar/Documents/Semester 8 /FYP 1/JSON_Files/JSON_PTB3/page_27\n",
      "Loading detection model vikp/surya_layout2 on device cpu with dtype torch.float32\n",
      "Loading detection model vikp/surya_det2 on device cpu with dtype torch.float32\n"
     ]
    },
    {
     "name": "stderr",
     "output_type": "stream",
     "text": [
      "Detecting bboxes: 100%|██████████| 1/1 [00:32<00:00, 32.68s/it]\n",
      "Detecting bboxes: 100%|██████████| 1/1 [00:26<00:00, 26.55s/it]\n"
     ]
    },
    {
     "name": "stdout",
     "output_type": "stream",
     "text": [
      "Wrote results to /Users/fajrzafar/Documents/Semester 8 /FYP 1/JSON_Files/JSON_PTB3/page_33\n",
      "Loading detection model vikp/surya_layout2 on device cpu with dtype torch.float32\n",
      "Loading detection model vikp/surya_det2 on device cpu with dtype torch.float32\n"
     ]
    },
    {
     "name": "stderr",
     "output_type": "stream",
     "text": [
      "Detecting bboxes: 100%|██████████| 1/1 [00:31<00:00, 31.00s/it]\n",
      "Detecting bboxes: 100%|██████████| 1/1 [00:26<00:00, 26.14s/it]\n"
     ]
    },
    {
     "name": "stdout",
     "output_type": "stream",
     "text": [
      "Wrote results to /Users/fajrzafar/Documents/Semester 8 /FYP 1/JSON_Files/JSON_PTB3/page_37\n",
      "Loading detection model vikp/surya_layout2 on device cpu with dtype torch.float32\n",
      "Loading detection model vikp/surya_det2 on device cpu with dtype torch.float32\n"
     ]
    },
    {
     "name": "stderr",
     "output_type": "stream",
     "text": [
      "Detecting bboxes: 100%|██████████| 1/1 [00:30<00:00, 30.82s/it]\n",
      "Detecting bboxes: 100%|██████████| 1/1 [00:25<00:00, 25.67s/it]\n"
     ]
    },
    {
     "name": "stdout",
     "output_type": "stream",
     "text": [
      "Wrote results to /Users/fajrzafar/Documents/Semester 8 /FYP 1/JSON_Files/JSON_PTB3/page_23\n",
      "Loading detection model vikp/surya_layout2 on device cpu with dtype torch.float32\n",
      "Loading detection model vikp/surya_det2 on device cpu with dtype torch.float32\n"
     ]
    },
    {
     "name": "stderr",
     "output_type": "stream",
     "text": [
      "Detecting bboxes: 100%|██████████| 1/1 [00:30<00:00, 30.26s/it]\n",
      "Detecting bboxes: 100%|██████████| 1/1 [00:25<00:00, 25.50s/it]\n"
     ]
    },
    {
     "name": "stdout",
     "output_type": "stream",
     "text": [
      "Wrote results to /Users/fajrzafar/Documents/Semester 8 /FYP 1/JSON_Files/JSON_PTB3/page_22\n",
      "Loading detection model vikp/surya_layout2 on device cpu with dtype torch.float32\n",
      "Loading detection model vikp/surya_det2 on device cpu with dtype torch.float32\n"
     ]
    },
    {
     "name": "stderr",
     "output_type": "stream",
     "text": [
      "Detecting bboxes: 100%|██████████| 1/1 [00:30<00:00, 30.62s/it]\n",
      "Detecting bboxes: 100%|██████████| 1/1 [00:25<00:00, 25.87s/it]\n"
     ]
    },
    {
     "name": "stdout",
     "output_type": "stream",
     "text": [
      "Wrote results to /Users/fajrzafar/Documents/Semester 8 /FYP 1/JSON_Files/JSON_PTB3/page_36\n",
      "Loading detection model vikp/surya_layout2 on device cpu with dtype torch.float32\n",
      "Loading detection model vikp/surya_det2 on device cpu with dtype torch.float32\n"
     ]
    },
    {
     "name": "stderr",
     "output_type": "stream",
     "text": [
      "Detecting bboxes: 100%|██████████| 1/1 [00:31<00:00, 31.65s/it]\n",
      "Detecting bboxes: 100%|██████████| 1/1 [00:25<00:00, 25.97s/it]\n"
     ]
    },
    {
     "name": "stdout",
     "output_type": "stream",
     "text": [
      "Wrote results to /Users/fajrzafar/Documents/Semester 8 /FYP 1/JSON_Files/JSON_PTB3/page_20\n",
      "Loading detection model vikp/surya_layout2 on device cpu with dtype torch.float32\n",
      "Loading detection model vikp/surya_det2 on device cpu with dtype torch.float32\n"
     ]
    },
    {
     "name": "stderr",
     "output_type": "stream",
     "text": [
      "Detecting bboxes: 100%|██████████| 1/1 [00:31<00:00, 31.39s/it]\n",
      "Detecting bboxes: 100%|██████████| 1/1 [00:26<00:00, 26.08s/it]\n"
     ]
    },
    {
     "name": "stdout",
     "output_type": "stream",
     "text": [
      "Wrote results to /Users/fajrzafar/Documents/Semester 8 /FYP 1/JSON_Files/JSON_PTB3/page_34\n",
      "Loading detection model vikp/surya_layout2 on device cpu with dtype torch.float32\n",
      "Loading detection model vikp/surya_det2 on device cpu with dtype torch.float32\n"
     ]
    },
    {
     "name": "stderr",
     "output_type": "stream",
     "text": [
      "Detecting bboxes: 100%|██████████| 1/1 [00:30<00:00, 30.76s/it]\n",
      "Detecting bboxes: 100%|██████████| 1/1 [00:25<00:00, 25.75s/it]\n"
     ]
    },
    {
     "name": "stdout",
     "output_type": "stream",
     "text": [
      "Wrote results to /Users/fajrzafar/Documents/Semester 8 /FYP 1/JSON_Files/JSON_PTB3/page_35\n",
      "Loading detection model vikp/surya_layout2 on device cpu with dtype torch.float32\n",
      "Loading detection model vikp/surya_det2 on device cpu with dtype torch.float32\n"
     ]
    },
    {
     "name": "stderr",
     "output_type": "stream",
     "text": [
      "Detecting bboxes: 100%|██████████| 1/1 [00:31<00:00, 31.08s/it]\n",
      "Detecting bboxes: 100%|██████████| 1/1 [00:25<00:00, 25.99s/it]\n"
     ]
    },
    {
     "name": "stdout",
     "output_type": "stream",
     "text": [
      "Wrote results to /Users/fajrzafar/Documents/Semester 8 /FYP 1/JSON_Files/JSON_PTB3/page_21\n",
      "Loading detection model vikp/surya_layout2 on device cpu with dtype torch.float32\n",
      "Loading detection model vikp/surya_det2 on device cpu with dtype torch.float32\n"
     ]
    },
    {
     "name": "stderr",
     "output_type": "stream",
     "text": [
      "Detecting bboxes: 100%|██████████| 1/1 [00:31<00:00, 31.18s/it]\n",
      "Detecting bboxes: 100%|██████████| 1/1 [00:25<00:00, 25.95s/it]\n"
     ]
    },
    {
     "name": "stdout",
     "output_type": "stream",
     "text": [
      "Wrote results to /Users/fajrzafar/Documents/Semester 8 /FYP 1/JSON_Files/JSON_PTB3/page_38\n",
      "Loading detection model vikp/surya_layout2 on device cpu with dtype torch.float32\n",
      "Loading detection model vikp/surya_det2 on device cpu with dtype torch.float32\n"
     ]
    },
    {
     "name": "stderr",
     "output_type": "stream",
     "text": [
      "Detecting bboxes: 100%|██████████| 1/1 [00:30<00:00, 30.36s/it]\n",
      "Detecting bboxes: 100%|██████████| 1/1 [00:27<00:00, 27.92s/it]\n"
     ]
    },
    {
     "name": "stdout",
     "output_type": "stream",
     "text": [
      "Wrote results to /Users/fajrzafar/Documents/Semester 8 /FYP 1/JSON_Files/JSON_PTB3/page_10\n",
      "Loading detection model vikp/surya_layout2 on device cpu with dtype torch.float32\n",
      "Loading detection model vikp/surya_det2 on device cpu with dtype torch.float32\n"
     ]
    },
    {
     "name": "stderr",
     "output_type": "stream",
     "text": [
      "Detecting bboxes: 100%|██████████| 1/1 [00:31<00:00, 31.16s/it]\n",
      "Detecting bboxes: 100%|██████████| 1/1 [00:26<00:00, 26.56s/it]\n"
     ]
    },
    {
     "name": "stdout",
     "output_type": "stream",
     "text": [
      "Wrote results to /Users/fajrzafar/Documents/Semester 8 /FYP 1/JSON_Files/JSON_PTB3/page_11\n",
      "Loading detection model vikp/surya_layout2 on device cpu with dtype torch.float32\n",
      "Loading detection model vikp/surya_det2 on device cpu with dtype torch.float32\n"
     ]
    },
    {
     "name": "stderr",
     "output_type": "stream",
     "text": [
      "Detecting bboxes: 100%|██████████| 1/1 [00:31<00:00, 31.81s/it]\n",
      "Detecting bboxes: 100%|██████████| 1/1 [00:26<00:00, 26.23s/it]\n"
     ]
    },
    {
     "name": "stdout",
     "output_type": "stream",
     "text": [
      "Wrote results to /Users/fajrzafar/Documents/Semester 8 /FYP 1/JSON_Files/JSON_PTB3/page_39\n",
      "Loading detection model vikp/surya_layout2 on device cpu with dtype torch.float32\n",
      "Loading detection model vikp/surya_det2 on device cpu with dtype torch.float32\n"
     ]
    },
    {
     "name": "stderr",
     "output_type": "stream",
     "text": [
      "Detecting bboxes: 100%|██████████| 1/1 [00:31<00:00, 31.60s/it]\n",
      "Detecting bboxes: 100%|██████████| 1/1 [00:26<00:00, 26.99s/it]\n"
     ]
    },
    {
     "name": "stdout",
     "output_type": "stream",
     "text": [
      "Wrote results to /Users/fajrzafar/Documents/Semester 8 /FYP 1/JSON_Files/JSON_PTB3/page_13\n",
      "Loading detection model vikp/surya_layout2 on device cpu with dtype torch.float32\n",
      "Loading detection model vikp/surya_det2 on device cpu with dtype torch.float32\n"
     ]
    },
    {
     "name": "stderr",
     "output_type": "stream",
     "text": [
      "Detecting bboxes: 100%|██████████| 1/1 [00:31<00:00, 31.37s/it]\n",
      "Detecting bboxes: 100%|██████████| 1/1 [00:26<00:00, 26.02s/it]\n"
     ]
    },
    {
     "name": "stdout",
     "output_type": "stream",
     "text": [
      "Wrote results to /Users/fajrzafar/Documents/Semester 8 /FYP 1/JSON_Files/JSON_PTB3/page_12\n",
      "Loading detection model vikp/surya_layout2 on device cpu with dtype torch.float32\n",
      "Loading detection model vikp/surya_det2 on device cpu with dtype torch.float32\n"
     ]
    },
    {
     "name": "stderr",
     "output_type": "stream",
     "text": [
      "Detecting bboxes: 100%|██████████| 1/1 [00:30<00:00, 30.82s/it]\n",
      "Detecting bboxes: 100%|██████████| 1/1 [00:26<00:00, 26.01s/it]\n"
     ]
    },
    {
     "name": "stdout",
     "output_type": "stream",
     "text": [
      "Wrote results to /Users/fajrzafar/Documents/Semester 8 /FYP 1/JSON_Files/JSON_PTB3/page_16\n",
      "Loading detection model vikp/surya_layout2 on device cpu with dtype torch.float32\n",
      "Loading detection model vikp/surya_det2 on device cpu with dtype torch.float32\n"
     ]
    },
    {
     "name": "stderr",
     "output_type": "stream",
     "text": [
      "Detecting bboxes: 100%|██████████| 1/1 [00:31<00:00, 31.20s/it]\n",
      "Detecting bboxes: 100%|██████████| 1/1 [00:26<00:00, 26.32s/it]\n"
     ]
    },
    {
     "name": "stdout",
     "output_type": "stream",
     "text": [
      "Wrote results to /Users/fajrzafar/Documents/Semester 8 /FYP 1/JSON_Files/JSON_PTB3/page_17\n",
      "Loading detection model vikp/surya_layout2 on device cpu with dtype torch.float32\n",
      "Loading detection model vikp/surya_det2 on device cpu with dtype torch.float32\n"
     ]
    },
    {
     "name": "stderr",
     "output_type": "stream",
     "text": [
      "Detecting bboxes: 100%|██████████| 1/1 [00:31<00:00, 31.45s/it]\n",
      "Detecting bboxes: 100%|██████████| 1/1 [00:26<00:00, 26.24s/it]\n"
     ]
    },
    {
     "name": "stdout",
     "output_type": "stream",
     "text": [
      "Wrote results to /Users/fajrzafar/Documents/Semester 8 /FYP 1/JSON_Files/JSON_PTB3/page_15\n",
      "Loading detection model vikp/surya_layout2 on device cpu with dtype torch.float32\n",
      "Loading detection model vikp/surya_det2 on device cpu with dtype torch.float32\n"
     ]
    },
    {
     "name": "stderr",
     "output_type": "stream",
     "text": [
      "Detecting bboxes: 100%|██████████| 1/1 [00:31<00:00, 31.61s/it]\n",
      "Detecting bboxes: 100%|██████████| 1/1 [00:26<00:00, 26.54s/it]\n"
     ]
    },
    {
     "name": "stdout",
     "output_type": "stream",
     "text": [
      "Wrote results to /Users/fajrzafar/Documents/Semester 8 /FYP 1/JSON_Files/JSON_PTB3/page_29\n",
      "Loading detection model vikp/surya_layout2 on device cpu with dtype torch.float32\n",
      "Loading detection model vikp/surya_det2 on device cpu with dtype torch.float32\n"
     ]
    },
    {
     "name": "stderr",
     "output_type": "stream",
     "text": [
      "Detecting bboxes: 100%|██████████| 1/1 [00:31<00:00, 31.29s/it]\n",
      "Detecting bboxes: 100%|██████████| 1/1 [00:26<00:00, 26.78s/it]\n"
     ]
    },
    {
     "name": "stdout",
     "output_type": "stream",
     "text": [
      "Wrote results to /Users/fajrzafar/Documents/Semester 8 /FYP 1/JSON_Files/JSON_PTB3/page_28\n",
      "Loading detection model vikp/surya_layout2 on device cpu with dtype torch.float32\n",
      "Loading detection model vikp/surya_det2 on device cpu with dtype torch.float32\n"
     ]
    },
    {
     "name": "stderr",
     "output_type": "stream",
     "text": [
      "Detecting bboxes: 100%|██████████| 1/1 [00:31<00:00, 31.80s/it]\n",
      "Detecting bboxes: 100%|██████████| 1/1 [00:26<00:00, 26.82s/it]\n"
     ]
    },
    {
     "name": "stdout",
     "output_type": "stream",
     "text": [
      "Wrote results to /Users/fajrzafar/Documents/Semester 8 /FYP 1/JSON_Files/JSON_PTB3/page_14\n",
      "Loading detection model vikp/surya_layout2 on device cpu with dtype torch.float32\n",
      "Loading detection model vikp/surya_det2 on device cpu with dtype torch.float32\n"
     ]
    },
    {
     "name": "stderr",
     "output_type": "stream",
     "text": [
      "Detecting bboxes: 100%|██████████| 1/1 [00:33<00:00, 33.04s/it]\n",
      "Detecting bboxes: 100%|██████████| 1/1 [00:26<00:00, 26.81s/it]\n"
     ]
    },
    {
     "name": "stdout",
     "output_type": "stream",
     "text": [
      "Wrote results to /Users/fajrzafar/Documents/Semester 8 /FYP 1/JSON_Files/JSON_PTB3/page_8\n",
      "Loading detection model vikp/surya_layout2 on device cpu with dtype torch.float32\n",
      "Loading detection model vikp/surya_det2 on device cpu with dtype torch.float32\n"
     ]
    },
    {
     "name": "stderr",
     "output_type": "stream",
     "text": [
      "Detecting bboxes: 100%|██████████| 1/1 [00:31<00:00, 31.96s/it]\n",
      "Detecting bboxes: 100%|██████████| 1/1 [00:26<00:00, 26.63s/it]\n"
     ]
    },
    {
     "name": "stdout",
     "output_type": "stream",
     "text": [
      "Wrote results to /Users/fajrzafar/Documents/Semester 8 /FYP 1/JSON_Files/JSON_PTB3/page_9\n"
     ]
    }
   ],
   "source": [
    "import os\n",
    "import subprocess\n",
    "\n",
    "def process_folder(image_folder, results_dir):\n",
    "    # List all image files in the folder\n",
    "    image_files = [file for file in os.listdir(image_folder) if file.lower().endswith(('.png', '.jpg', '.jpeg'))]\n",
    "    \n",
    "    # Iterate over each image file\n",
    "    for image_file in image_files:\n",
    "        # Construct the full path of the image file\n",
    "        image_path = os.path.join(image_folder, image_file)\n",
    "        \n",
    "        # Run Surya command for the current image file\n",
    "        subprocess.run([\"surya_layout\", image_path, \"--images\", \"--results_dir\", results_dir])\n",
    "\n",
    "# Example usage\n",
    "image_folder = \"/Users/fajrzafar/Documents/Semester 8 /FYP 1/Books PNGS/PTB3\"  # Update with the path to your image folder\n",
    "results_dir = \"/Users/fajrzafar/Documents/Semester 8 /FYP 1/JSON_Files/JSON_PTB3\"  # Update with the path to the folder where you want to save the results\n",
    "\n",
    "process_folder(image_folder, results_dir)\n"
   ]
  },
  {
   "cell_type": "markdown",
   "id": "5752ae4e-3e99-4ebe-b81e-d767fb8ed5dc",
   "metadata": {},
   "source": [
    "### JSON files for GRADE 1 SINDH"
   ]
  },
  {
   "cell_type": "code",
   "execution_count": 20,
   "id": "bf000700-c558-4e36-ac92-1ea7e1a5b309",
   "metadata": {},
   "outputs": [
    {
     "name": "stdout",
     "output_type": "stream",
     "text": [
      "Loading detection model vikp/surya_layout2 on device cpu with dtype torch.float32\n",
      "Loading detection model vikp/surya_det2 on device cpu with dtype torch.float32\n"
     ]
    },
    {
     "name": "stderr",
     "output_type": "stream",
     "text": [
      "Detecting bboxes: 100%|██████████| 1/1 [00:23<00:00, 23.65s/it]\n",
      "Detecting bboxes: 100%|██████████| 1/1 [00:14<00:00, 14.93s/it]\n"
     ]
    },
    {
     "name": "stdout",
     "output_type": "stream",
     "text": [
      "Wrote results to /Users/fajrzafar/Documents/Semester 8 /FYP 1/JSON_Files/JSON_SINDH1/page_2\n",
      "Loading detection model vikp/surya_layout2 on device cpu with dtype torch.float32\n",
      "Loading detection model vikp/surya_det2 on device cpu with dtype torch.float32\n"
     ]
    },
    {
     "name": "stderr",
     "output_type": "stream",
     "text": [
      "Detecting bboxes: 100%|██████████| 1/1 [00:25<00:00, 25.11s/it]\n",
      "Detecting bboxes: 100%|██████████| 1/1 [00:16<00:00, 16.00s/it]\n"
     ]
    },
    {
     "name": "stdout",
     "output_type": "stream",
     "text": [
      "Wrote results to /Users/fajrzafar/Documents/Semester 8 /FYP 1/JSON_Files/JSON_SINDH1/page_3\n",
      "Loading detection model vikp/surya_layout2 on device cpu with dtype torch.float32\n",
      "Loading detection model vikp/surya_det2 on device cpu with dtype torch.float32\n"
     ]
    },
    {
     "name": "stderr",
     "output_type": "stream",
     "text": [
      "Detecting bboxes: 100%|██████████| 1/1 [00:24<00:00, 24.96s/it]\n",
      "Detecting bboxes: 100%|██████████| 1/1 [00:16<00:00, 16.41s/it]\n"
     ]
    },
    {
     "name": "stdout",
     "output_type": "stream",
     "text": [
      "Wrote results to /Users/fajrzafar/Documents/Semester 8 /FYP 1/JSON_Files/JSON_SINDH1/page_1\n",
      "Loading detection model vikp/surya_layout2 on device cpu with dtype torch.float32\n",
      "Loading detection model vikp/surya_det2 on device cpu with dtype torch.float32\n"
     ]
    },
    {
     "name": "stderr",
     "output_type": "stream",
     "text": [
      "Detecting bboxes: 100%|██████████| 1/1 [00:25<00:00, 25.18s/it]\n",
      "Detecting bboxes: 100%|██████████| 1/1 [00:16<00:00, 16.34s/it]\n"
     ]
    },
    {
     "name": "stdout",
     "output_type": "stream",
     "text": [
      "Wrote results to /Users/fajrzafar/Documents/Semester 8 /FYP 1/JSON_Files/JSON_SINDH1/page_4\n",
      "Loading detection model vikp/surya_layout2 on device cpu with dtype torch.float32\n",
      "Loading detection model vikp/surya_det2 on device cpu with dtype torch.float32\n"
     ]
    },
    {
     "name": "stderr",
     "output_type": "stream",
     "text": [
      "Detecting bboxes: 100%|██████████| 1/1 [00:25<00:00, 25.34s/it]\n",
      "Detecting bboxes: 100%|██████████| 1/1 [00:16<00:00, 16.83s/it]\n"
     ]
    },
    {
     "name": "stdout",
     "output_type": "stream",
     "text": [
      "Wrote results to /Users/fajrzafar/Documents/Semester 8 /FYP 1/JSON_Files/JSON_SINDH1/page_5\n",
      "Loading detection model vikp/surya_layout2 on device cpu with dtype torch.float32\n",
      "Loading detection model vikp/surya_det2 on device cpu with dtype torch.float32\n"
     ]
    },
    {
     "name": "stderr",
     "output_type": "stream",
     "text": [
      "Detecting bboxes: 100%|██████████| 1/1 [00:26<00:00, 26.34s/it]\n",
      "Detecting bboxes: 100%|██████████| 1/1 [00:16<00:00, 16.92s/it]\n"
     ]
    },
    {
     "name": "stdout",
     "output_type": "stream",
     "text": [
      "Wrote results to /Users/fajrzafar/Documents/Semester 8 /FYP 1/JSON_Files/JSON_SINDH1/page_7\n",
      "Loading detection model vikp/surya_layout2 on device cpu with dtype torch.float32\n",
      "Loading detection model vikp/surya_det2 on device cpu with dtype torch.float32\n"
     ]
    },
    {
     "name": "stderr",
     "output_type": "stream",
     "text": [
      "Detecting bboxes: 100%|██████████| 1/1 [00:26<00:00, 26.39s/it]\n",
      "Detecting bboxes: 100%|██████████| 1/1 [00:17<00:00, 17.11s/it]\n"
     ]
    },
    {
     "name": "stdout",
     "output_type": "stream",
     "text": [
      "Wrote results to /Users/fajrzafar/Documents/Semester 8 /FYP 1/JSON_Files/JSON_SINDH1/page_6\n",
      "Loading detection model vikp/surya_layout2 on device cpu with dtype torch.float32\n",
      "Loading detection model vikp/surya_det2 on device cpu with dtype torch.float32\n"
     ]
    },
    {
     "name": "stderr",
     "output_type": "stream",
     "text": [
      "Detecting bboxes: 100%|██████████| 1/1 [00:26<00:00, 26.38s/it]\n",
      "Detecting bboxes: 100%|██████████| 1/1 [00:17<00:00, 17.09s/it]\n"
     ]
    },
    {
     "name": "stdout",
     "output_type": "stream",
     "text": [
      "Wrote results to /Users/fajrzafar/Documents/Semester 8 /FYP 1/JSON_Files/JSON_SINDH1/page_10\n",
      "Loading detection model vikp/surya_layout2 on device cpu with dtype torch.float32\n",
      "Loading detection model vikp/surya_det2 on device cpu with dtype torch.float32\n"
     ]
    },
    {
     "name": "stderr",
     "output_type": "stream",
     "text": [
      "Detecting bboxes: 100%|██████████| 1/1 [00:25<00:00, 25.77s/it]\n",
      "Detecting bboxes: 100%|██████████| 1/1 [00:17<00:00, 17.06s/it]\n"
     ]
    },
    {
     "name": "stdout",
     "output_type": "stream",
     "text": [
      "Wrote results to /Users/fajrzafar/Documents/Semester 8 /FYP 1/JSON_Files/JSON_SINDH1/page_11\n",
      "Loading detection model vikp/surya_layout2 on device cpu with dtype torch.float32\n",
      "Loading detection model vikp/surya_det2 on device cpu with dtype torch.float32\n"
     ]
    },
    {
     "name": "stderr",
     "output_type": "stream",
     "text": [
      "Detecting bboxes: 100%|██████████| 1/1 [00:26<00:00, 26.04s/it]\n",
      "Detecting bboxes: 100%|██████████| 1/1 [00:17<00:00, 17.23s/it]\n"
     ]
    },
    {
     "name": "stdout",
     "output_type": "stream",
     "text": [
      "Wrote results to /Users/fajrzafar/Documents/Semester 8 /FYP 1/JSON_Files/JSON_SINDH1/page_13\n",
      "Loading detection model vikp/surya_layout2 on device cpu with dtype torch.float32\n",
      "Loading detection model vikp/surya_det2 on device cpu with dtype torch.float32\n"
     ]
    },
    {
     "name": "stderr",
     "output_type": "stream",
     "text": [
      "Detecting bboxes: 100%|██████████| 1/1 [00:26<00:00, 26.21s/it]\n",
      "Detecting bboxes: 100%|██████████| 1/1 [00:17<00:00, 17.21s/it]\n"
     ]
    },
    {
     "name": "stdout",
     "output_type": "stream",
     "text": [
      "Wrote results to /Users/fajrzafar/Documents/Semester 8 /FYP 1/JSON_Files/JSON_SINDH1/page_12\n",
      "Loading detection model vikp/surya_layout2 on device cpu with dtype torch.float32\n",
      "Loading detection model vikp/surya_det2 on device cpu with dtype torch.float32\n"
     ]
    },
    {
     "name": "stderr",
     "output_type": "stream",
     "text": [
      "Detecting bboxes: 100%|██████████| 1/1 [00:26<00:00, 26.59s/it]\n",
      "Detecting bboxes: 100%|██████████| 1/1 [00:17<00:00, 17.36s/it]\n"
     ]
    },
    {
     "name": "stdout",
     "output_type": "stream",
     "text": [
      "Wrote results to /Users/fajrzafar/Documents/Semester 8 /FYP 1/JSON_Files/JSON_SINDH1/page_15\n",
      "Loading detection model vikp/surya_layout2 on device cpu with dtype torch.float32\n",
      "Loading detection model vikp/surya_det2 on device cpu with dtype torch.float32\n"
     ]
    },
    {
     "name": "stderr",
     "output_type": "stream",
     "text": [
      "Detecting bboxes: 100%|██████████| 1/1 [00:28<00:00, 28.30s/it]\n",
      "Detecting bboxes: 100%|██████████| 1/1 [00:25<00:00, 25.80s/it]\n"
     ]
    },
    {
     "name": "stdout",
     "output_type": "stream",
     "text": [
      "Wrote results to /Users/fajrzafar/Documents/Semester 8 /FYP 1/JSON_Files/JSON_SINDH1/page_14\n",
      "Loading detection model vikp/surya_layout2 on device cpu with dtype torch.float32\n",
      "Loading detection model vikp/surya_det2 on device cpu with dtype torch.float32\n"
     ]
    },
    {
     "name": "stderr",
     "output_type": "stream",
     "text": [
      "Detecting bboxes: 100%|██████████| 1/1 [00:28<00:00, 28.76s/it]\n",
      "Detecting bboxes: 100%|██████████| 1/1 [00:19<00:00, 19.83s/it]\n"
     ]
    },
    {
     "name": "stdout",
     "output_type": "stream",
     "text": [
      "Wrote results to /Users/fajrzafar/Documents/Semester 8 /FYP 1/JSON_Files/JSON_SINDH1/page_8\n",
      "Loading detection model vikp/surya_layout2 on device cpu with dtype torch.float32\n",
      "Loading detection model vikp/surya_det2 on device cpu with dtype torch.float32\n"
     ]
    },
    {
     "name": "stderr",
     "output_type": "stream",
     "text": [
      "Detecting bboxes: 100%|██████████| 1/1 [00:28<00:00, 28.32s/it]\n",
      "Detecting bboxes: 100%|██████████| 1/1 [00:18<00:00, 18.89s/it]\n"
     ]
    },
    {
     "name": "stdout",
     "output_type": "stream",
     "text": [
      "Wrote results to /Users/fajrzafar/Documents/Semester 8 /FYP 1/JSON_Files/JSON_SINDH1/page_9\n"
     ]
    }
   ],
   "source": [
    "import os\n",
    "import subprocess\n",
    "\n",
    "def process_folder(image_folder, results_dir):\n",
    "    # List all image files in the folder\n",
    "    image_files = [file for file in os.listdir(image_folder) if file.lower().endswith(('.png', '.jpg', '.jpeg'))]\n",
    "    \n",
    "    # Iterate over each image file\n",
    "    for image_file in image_files:\n",
    "        # Construct the full path of the image file\n",
    "        image_path = os.path.join(image_folder, image_file)\n",
    "        \n",
    "        # Run Surya command for the current image file\n",
    "        subprocess.run([\"surya_layout\", image_path, \"--images\", \"--results_dir\", results_dir])\n",
    "\n",
    "# Example usage\n",
    "image_folder = \"/Users/fajrzafar/Documents/Semester 8 /FYP 1/Books PNGS/SINDH1\"  # Update with the path to your image folder\n",
    "results_dir = \"/Users/fajrzafar/Documents/Semester 8 /FYP 1/JSON_Files/JSON_SINDH1\"  # Update with the path to the folder where you want to save the results\n",
    "\n",
    "process_folder(image_folder, results_dir)\n"
   ]
  },
  {
   "cell_type": "markdown",
   "id": "a17a2e56-a6fe-4432-a843-2e36cb09fd6b",
   "metadata": {},
   "source": [
    "### JSON files for GRADE 2 SINDH"
   ]
  },
  {
   "cell_type": "code",
   "execution_count": 22,
   "id": "1e718ad2-4caa-4d1a-81c5-c76405235c3c",
   "metadata": {},
   "outputs": [
    {
     "name": "stdout",
     "output_type": "stream",
     "text": [
      "Loading detection model vikp/surya_layout2 on device cpu with dtype torch.float32\n",
      "Loading detection model vikp/surya_det2 on device cpu with dtype torch.float32\n"
     ]
    },
    {
     "name": "stderr",
     "output_type": "stream",
     "text": [
      "Detecting bboxes: 100%|██████████| 1/1 [00:24<00:00, 24.94s/it]\n",
      "Detecting bboxes: 100%|██████████| 1/1 [00:19<00:00, 19.75s/it]\n"
     ]
    },
    {
     "name": "stdout",
     "output_type": "stream",
     "text": [
      "Wrote results to /Users/fajrzafar/Documents/Semester 8 /FYP 1/JSON_Files/JSON_SINDH2/page_2\n",
      "Loading detection model vikp/surya_layout2 on device cpu with dtype torch.float32\n",
      "Loading detection model vikp/surya_det2 on device cpu with dtype torch.float32\n"
     ]
    },
    {
     "name": "stderr",
     "output_type": "stream",
     "text": [
      "Detecting bboxes: 100%|██████████| 1/1 [00:25<00:00, 25.44s/it]\n",
      "Detecting bboxes: 100%|██████████| 1/1 [00:20<00:00, 20.82s/it]\n"
     ]
    },
    {
     "name": "stdout",
     "output_type": "stream",
     "text": [
      "Wrote results to /Users/fajrzafar/Documents/Semester 8 /FYP 1/JSON_Files/JSON_SINDH2/page_3\n",
      "Loading detection model vikp/surya_layout2 on device cpu with dtype torch.float32\n",
      "Loading detection model vikp/surya_det2 on device cpu with dtype torch.float32\n"
     ]
    },
    {
     "name": "stderr",
     "output_type": "stream",
     "text": [
      "Detecting bboxes: 100%|██████████| 1/1 [00:25<00:00, 25.61s/it]\n",
      "Detecting bboxes: 100%|██████████| 1/1 [00:21<00:00, 21.23s/it]\n"
     ]
    },
    {
     "name": "stdout",
     "output_type": "stream",
     "text": [
      "Wrote results to /Users/fajrzafar/Documents/Semester 8 /FYP 1/JSON_Files/JSON_SINDH2/page_1\n",
      "Loading detection model vikp/surya_layout2 on device cpu with dtype torch.float32\n",
      "Loading detection model vikp/surya_det2 on device cpu with dtype torch.float32\n"
     ]
    },
    {
     "name": "stderr",
     "output_type": "stream",
     "text": [
      "Detecting bboxes: 100%|██████████| 1/1 [00:26<00:00, 26.07s/it]\n",
      "Detecting bboxes: 100%|██████████| 1/1 [00:21<00:00, 21.42s/it]\n"
     ]
    },
    {
     "name": "stdout",
     "output_type": "stream",
     "text": [
      "Wrote results to /Users/fajrzafar/Documents/Semester 8 /FYP 1/JSON_Files/JSON_SINDH2/page_4\n",
      "Loading detection model vikp/surya_layout2 on device cpu with dtype torch.float32\n",
      "Loading detection model vikp/surya_det2 on device cpu with dtype torch.float32\n"
     ]
    },
    {
     "name": "stderr",
     "output_type": "stream",
     "text": [
      "Detecting bboxes: 100%|██████████| 1/1 [00:25<00:00, 25.88s/it]\n",
      "Detecting bboxes: 100%|██████████| 1/1 [00:21<00:00, 21.73s/it]\n"
     ]
    },
    {
     "name": "stdout",
     "output_type": "stream",
     "text": [
      "Wrote results to /Users/fajrzafar/Documents/Semester 8 /FYP 1/JSON_Files/JSON_SINDH2/page_5\n",
      "Loading detection model vikp/surya_layout2 on device cpu with dtype torch.float32\n",
      "Loading detection model vikp/surya_det2 on device cpu with dtype torch.float32\n"
     ]
    },
    {
     "name": "stderr",
     "output_type": "stream",
     "text": [
      "Detecting bboxes: 100%|██████████| 1/1 [00:26<00:00, 26.16s/it]\n",
      "Detecting bboxes: 100%|██████████| 1/1 [00:21<00:00, 21.64s/it]\n"
     ]
    },
    {
     "name": "stdout",
     "output_type": "stream",
     "text": [
      "Wrote results to /Users/fajrzafar/Documents/Semester 8 /FYP 1/JSON_Files/JSON_SINDH2/page_7\n",
      "Loading detection model vikp/surya_layout2 on device cpu with dtype torch.float32\n",
      "Loading detection model vikp/surya_det2 on device cpu with dtype torch.float32\n"
     ]
    },
    {
     "name": "stderr",
     "output_type": "stream",
     "text": [
      "Detecting bboxes: 100%|██████████| 1/1 [00:27<00:00, 27.10s/it]\n",
      "Detecting bboxes: 100%|██████████| 1/1 [00:23<00:00, 23.31s/it]\n"
     ]
    },
    {
     "name": "stdout",
     "output_type": "stream",
     "text": [
      "Wrote results to /Users/fajrzafar/Documents/Semester 8 /FYP 1/JSON_Files/JSON_SINDH2/page_6\n",
      "Loading detection model vikp/surya_layout2 on device cpu with dtype torch.float32\n",
      "Loading detection model vikp/surya_det2 on device cpu with dtype torch.float32\n"
     ]
    },
    {
     "name": "stderr",
     "output_type": "stream",
     "text": [
      "Detecting bboxes: 100%|██████████| 1/1 [00:27<00:00, 27.46s/it]\n",
      "Detecting bboxes: 100%|██████████| 1/1 [00:22<00:00, 22.05s/it]\n"
     ]
    },
    {
     "name": "stdout",
     "output_type": "stream",
     "text": [
      "Wrote results to /Users/fajrzafar/Documents/Semester 8 /FYP 1/JSON_Files/JSON_SINDH2/page_19\n",
      "Loading detection model vikp/surya_layout2 on device cpu with dtype torch.float32\n",
      "Loading detection model vikp/surya_det2 on device cpu with dtype torch.float32\n"
     ]
    },
    {
     "name": "stderr",
     "output_type": "stream",
     "text": [
      "Detecting bboxes: 100%|██████████| 1/1 [00:26<00:00, 26.89s/it]\n",
      "Detecting bboxes: 100%|██████████| 1/1 [00:22<00:00, 22.14s/it]\n"
     ]
    },
    {
     "name": "stdout",
     "output_type": "stream",
     "text": [
      "Wrote results to /Users/fajrzafar/Documents/Semester 8 /FYP 1/JSON_Files/JSON_SINDH2/page_18\n",
      "Loading detection model vikp/surya_layout2 on device cpu with dtype torch.float32\n",
      "Loading detection model vikp/surya_det2 on device cpu with dtype torch.float32\n"
     ]
    },
    {
     "name": "stderr",
     "output_type": "stream",
     "text": [
      "Detecting bboxes: 100%|██████████| 1/1 [00:26<00:00, 26.72s/it]\n",
      "Detecting bboxes: 100%|██████████| 1/1 [00:22<00:00, 22.10s/it]\n"
     ]
    },
    {
     "name": "stdout",
     "output_type": "stream",
     "text": [
      "Wrote results to /Users/fajrzafar/Documents/Semester 8 /FYP 1/JSON_Files/JSON_SINDH2/page_20\n",
      "Loading detection model vikp/surya_layout2 on device cpu with dtype torch.float32\n",
      "Loading detection model vikp/surya_det2 on device cpu with dtype torch.float32\n"
     ]
    },
    {
     "name": "stderr",
     "output_type": "stream",
     "text": [
      "Detecting bboxes: 100%|██████████| 1/1 [00:27<00:00, 27.08s/it]\n",
      "Detecting bboxes: 100%|██████████| 1/1 [00:22<00:00, 22.05s/it]\n"
     ]
    },
    {
     "name": "stdout",
     "output_type": "stream",
     "text": [
      "Wrote results to /Users/fajrzafar/Documents/Semester 8 /FYP 1/JSON_Files/JSON_SINDH2/page_10\n",
      "Loading detection model vikp/surya_layout2 on device cpu with dtype torch.float32\n",
      "Loading detection model vikp/surya_det2 on device cpu with dtype torch.float32\n"
     ]
    },
    {
     "name": "stderr",
     "output_type": "stream",
     "text": [
      "Detecting bboxes: 100%|██████████| 1/1 [00:27<00:00, 27.10s/it]\n",
      "Detecting bboxes: 100%|██████████| 1/1 [00:22<00:00, 22.20s/it]\n"
     ]
    },
    {
     "name": "stdout",
     "output_type": "stream",
     "text": [
      "Wrote results to /Users/fajrzafar/Documents/Semester 8 /FYP 1/JSON_Files/JSON_SINDH2/page_11\n",
      "Loading detection model vikp/surya_layout2 on device cpu with dtype torch.float32\n",
      "Loading detection model vikp/surya_det2 on device cpu with dtype torch.float32\n"
     ]
    },
    {
     "name": "stderr",
     "output_type": "stream",
     "text": [
      "Detecting bboxes: 100%|██████████| 1/1 [00:26<00:00, 26.60s/it]\n",
      "Detecting bboxes: 100%|██████████| 1/1 [00:22<00:00, 22.26s/it]\n"
     ]
    },
    {
     "name": "stdout",
     "output_type": "stream",
     "text": [
      "Wrote results to /Users/fajrzafar/Documents/Semester 8 /FYP 1/JSON_Files/JSON_SINDH2/page_13\n",
      "Loading detection model vikp/surya_layout2 on device cpu with dtype torch.float32\n",
      "Loading detection model vikp/surya_det2 on device cpu with dtype torch.float32\n"
     ]
    },
    {
     "name": "stderr",
     "output_type": "stream",
     "text": [
      "Detecting bboxes: 100%|██████████| 1/1 [00:27<00:00, 27.36s/it]\n",
      "Detecting bboxes: 100%|██████████| 1/1 [00:24<00:00, 24.87s/it]\n"
     ]
    },
    {
     "name": "stdout",
     "output_type": "stream",
     "text": [
      "Wrote results to /Users/fajrzafar/Documents/Semester 8 /FYP 1/JSON_Files/JSON_SINDH2/page_12\n",
      "Loading detection model vikp/surya_layout2 on device cpu with dtype torch.float32\n",
      "Loading detection model vikp/surya_det2 on device cpu with dtype torch.float32\n"
     ]
    },
    {
     "name": "stderr",
     "output_type": "stream",
     "text": [
      "Detecting bboxes: 100%|██████████| 1/1 [00:28<00:00, 28.35s/it]\n",
      "Detecting bboxes: 100%|██████████| 1/1 [00:24<00:00, 24.77s/it]\n"
     ]
    },
    {
     "name": "stdout",
     "output_type": "stream",
     "text": [
      "Wrote results to /Users/fajrzafar/Documents/Semester 8 /FYP 1/JSON_Files/JSON_SINDH2/page_16\n",
      "Loading detection model vikp/surya_layout2 on device cpu with dtype torch.float32\n",
      "Loading detection model vikp/surya_det2 on device cpu with dtype torch.float32\n"
     ]
    },
    {
     "name": "stderr",
     "output_type": "stream",
     "text": [
      "Detecting bboxes: 100%|██████████| 1/1 [00:28<00:00, 28.04s/it]\n",
      "Detecting bboxes: 100%|██████████| 1/1 [00:22<00:00, 22.71s/it]\n"
     ]
    },
    {
     "name": "stdout",
     "output_type": "stream",
     "text": [
      "Wrote results to /Users/fajrzafar/Documents/Semester 8 /FYP 1/JSON_Files/JSON_SINDH2/page_17\n",
      "Loading detection model vikp/surya_layout2 on device cpu with dtype torch.float32\n",
      "Loading detection model vikp/surya_det2 on device cpu with dtype torch.float32\n"
     ]
    },
    {
     "name": "stderr",
     "output_type": "stream",
     "text": [
      "Detecting bboxes: 100%|██████████| 1/1 [00:27<00:00, 27.86s/it]\n",
      "Detecting bboxes: 100%|██████████| 1/1 [00:22<00:00, 22.76s/it]\n"
     ]
    },
    {
     "name": "stdout",
     "output_type": "stream",
     "text": [
      "Wrote results to /Users/fajrzafar/Documents/Semester 8 /FYP 1/JSON_Files/JSON_SINDH2/page_15\n",
      "Loading detection model vikp/surya_layout2 on device cpu with dtype torch.float32\n",
      "Loading detection model vikp/surya_det2 on device cpu with dtype torch.float32\n"
     ]
    },
    {
     "name": "stderr",
     "output_type": "stream",
     "text": [
      "Detecting bboxes: 100%|██████████| 1/1 [00:27<00:00, 27.76s/it]\n",
      "Detecting bboxes: 100%|██████████| 1/1 [00:22<00:00, 22.57s/it]\n"
     ]
    },
    {
     "name": "stdout",
     "output_type": "stream",
     "text": [
      "Wrote results to /Users/fajrzafar/Documents/Semester 8 /FYP 1/JSON_Files/JSON_SINDH2/page_14\n",
      "Loading detection model vikp/surya_layout2 on device cpu with dtype torch.float32\n",
      "Loading detection model vikp/surya_det2 on device cpu with dtype torch.float32\n"
     ]
    },
    {
     "name": "stderr",
     "output_type": "stream",
     "text": [
      "Detecting bboxes: 100%|██████████| 1/1 [00:27<00:00, 27.68s/it]\n",
      "Detecting bboxes: 100%|██████████| 1/1 [00:23<00:00, 23.11s/it]\n"
     ]
    },
    {
     "name": "stdout",
     "output_type": "stream",
     "text": [
      "Wrote results to /Users/fajrzafar/Documents/Semester 8 /FYP 1/JSON_Files/JSON_SINDH2/page_8\n",
      "Loading detection model vikp/surya_layout2 on device cpu with dtype torch.float32\n",
      "Loading detection model vikp/surya_det2 on device cpu with dtype torch.float32\n"
     ]
    },
    {
     "name": "stderr",
     "output_type": "stream",
     "text": [
      "Detecting bboxes: 100%|██████████| 1/1 [00:27<00:00, 27.29s/it]\n",
      "Detecting bboxes: 100%|██████████| 1/1 [00:23<00:00, 23.64s/it]\n"
     ]
    },
    {
     "name": "stdout",
     "output_type": "stream",
     "text": [
      "Wrote results to /Users/fajrzafar/Documents/Semester 8 /FYP 1/JSON_Files/JSON_SINDH2/page_9\n"
     ]
    }
   ],
   "source": [
    "import os\n",
    "import subprocess\n",
    "\n",
    "def process_folder(image_folder, results_dir):\n",
    "    # List all image files in the folder\n",
    "    image_files = [file for file in os.listdir(image_folder) if file.lower().endswith(('.png', '.jpg', '.jpeg'))]\n",
    "    \n",
    "    # Iterate over each image file\n",
    "    for image_file in image_files:\n",
    "        # Construct the full path of the image file\n",
    "        image_path = os.path.join(image_folder, image_file)\n",
    "        \n",
    "        # Run Surya command for the current image file\n",
    "        subprocess.run([\"surya_layout\", image_path, \"--images\", \"--results_dir\", results_dir])\n",
    "\n",
    "# Example usage\n",
    "image_folder = \"/Users/fajrzafar/Documents/Semester 8 /FYP 1/Books PNGS/SINDH2\"  # Update with the path to your image folder\n",
    "results_dir = \"/Users/fajrzafar/Documents/Semester 8 /FYP 1/JSON_Files/JSON_SINDH2\"  # Update with the path to the folder where you want to save the results\n",
    "\n",
    "process_folder(image_folder, results_dir)\n"
   ]
  },
  {
   "cell_type": "markdown",
   "id": "d26b9919-1b24-4104-a2d8-6461377c9a77",
   "metadata": {},
   "source": [
    "### JSON files for GRADE 3 SINDH"
   ]
  },
  {
   "cell_type": "code",
   "execution_count": 24,
   "id": "8305dcd5-f6cc-4b07-a6d6-450fa15537ac",
   "metadata": {},
   "outputs": [
    {
     "name": "stdout",
     "output_type": "stream",
     "text": [
      "Loading detection model vikp/surya_layout2 on device cpu with dtype torch.float32\n",
      "Loading detection model vikp/surya_det2 on device cpu with dtype torch.float32\n"
     ]
    },
    {
     "name": "stderr",
     "output_type": "stream",
     "text": [
      "Detecting bboxes: 100%|██████████| 1/1 [00:25<00:00, 25.24s/it]\n",
      "Detecting bboxes: 100%|██████████| 1/1 [00:20<00:00, 20.37s/it]\n"
     ]
    },
    {
     "name": "stdout",
     "output_type": "stream",
     "text": [
      "Wrote results to /Users/fajrzafar/Documents/Semester 8 /FYP 1/JSON_Files/JSON_SINDH3/page_2\n",
      "Loading detection model vikp/surya_layout2 on device cpu with dtype torch.float32\n",
      "Loading detection model vikp/surya_det2 on device cpu with dtype torch.float32\n"
     ]
    },
    {
     "name": "stderr",
     "output_type": "stream",
     "text": [
      "Detecting bboxes: 100%|██████████| 1/1 [00:26<00:00, 26.13s/it]\n",
      "Detecting bboxes: 100%|██████████| 1/1 [00:21<00:00, 21.78s/it]\n"
     ]
    },
    {
     "name": "stdout",
     "output_type": "stream",
     "text": [
      "Wrote results to /Users/fajrzafar/Documents/Semester 8 /FYP 1/JSON_Files/JSON_SINDH3/page_3\n",
      "Loading detection model vikp/surya_layout2 on device cpu with dtype torch.float32\n",
      "Loading detection model vikp/surya_det2 on device cpu with dtype torch.float32\n"
     ]
    },
    {
     "name": "stderr",
     "output_type": "stream",
     "text": [
      "Detecting bboxes: 100%|██████████| 1/1 [00:29<00:00, 29.39s/it]\n",
      "Detecting bboxes: 100%|██████████| 1/1 [00:22<00:00, 22.84s/it]\n"
     ]
    },
    {
     "name": "stdout",
     "output_type": "stream",
     "text": [
      "Wrote results to /Users/fajrzafar/Documents/Semester 8 /FYP 1/JSON_Files/JSON_SINDH3/page_1\n",
      "Loading detection model vikp/surya_layout2 on device cpu with dtype torch.float32\n",
      "Loading detection model vikp/surya_det2 on device cpu with dtype torch.float32\n"
     ]
    },
    {
     "name": "stderr",
     "output_type": "stream",
     "text": [
      "Detecting bboxes: 100%|██████████| 1/1 [00:27<00:00, 27.22s/it]\n",
      "Detecting bboxes: 100%|██████████| 1/1 [00:22<00:00, 22.12s/it]\n"
     ]
    },
    {
     "name": "stdout",
     "output_type": "stream",
     "text": [
      "Wrote results to /Users/fajrzafar/Documents/Semester 8 /FYP 1/JSON_Files/JSON_SINDH3/page_4\n",
      "Loading detection model vikp/surya_layout2 on device cpu with dtype torch.float32\n",
      "Loading detection model vikp/surya_det2 on device cpu with dtype torch.float32\n"
     ]
    },
    {
     "name": "stderr",
     "output_type": "stream",
     "text": [
      "Detecting bboxes: 100%|██████████| 1/1 [00:26<00:00, 26.92s/it]\n",
      "Detecting bboxes: 100%|██████████| 1/1 [00:22<00:00, 22.22s/it]\n"
     ]
    },
    {
     "name": "stdout",
     "output_type": "stream",
     "text": [
      "Wrote results to /Users/fajrzafar/Documents/Semester 8 /FYP 1/JSON_Files/JSON_SINDH3/page_5\n",
      "Loading detection model vikp/surya_layout2 on device cpu with dtype torch.float32\n",
      "Loading detection model vikp/surya_det2 on device cpu with dtype torch.float32\n"
     ]
    },
    {
     "name": "stderr",
     "output_type": "stream",
     "text": [
      "Detecting bboxes: 100%|██████████| 1/1 [00:27<00:00, 27.78s/it]\n",
      "Detecting bboxes: 100%|██████████| 1/1 [00:22<00:00, 22.85s/it]\n"
     ]
    },
    {
     "name": "stdout",
     "output_type": "stream",
     "text": [
      "Wrote results to /Users/fajrzafar/Documents/Semester 8 /FYP 1/JSON_Files/JSON_SINDH3/page_7\n",
      "Loading detection model vikp/surya_layout2 on device cpu with dtype torch.float32\n",
      "Loading detection model vikp/surya_det2 on device cpu with dtype torch.float32\n"
     ]
    },
    {
     "name": "stderr",
     "output_type": "stream",
     "text": [
      "Detecting bboxes: 100%|██████████| 1/1 [00:27<00:00, 27.27s/it]\n",
      "Detecting bboxes: 100%|██████████| 1/1 [00:22<00:00, 22.44s/it]\n"
     ]
    },
    {
     "name": "stdout",
     "output_type": "stream",
     "text": [
      "Wrote results to /Users/fajrzafar/Documents/Semester 8 /FYP 1/JSON_Files/JSON_SINDH3/page_6\n",
      "Loading detection model vikp/surya_layout2 on device cpu with dtype torch.float32\n",
      "Loading detection model vikp/surya_det2 on device cpu with dtype torch.float32\n"
     ]
    },
    {
     "name": "stderr",
     "output_type": "stream",
     "text": [
      "Detecting bboxes: 100%|██████████| 1/1 [00:26<00:00, 26.65s/it]\n",
      "Detecting bboxes: 100%|██████████| 1/1 [00:22<00:00, 22.40s/it]\n"
     ]
    },
    {
     "name": "stdout",
     "output_type": "stream",
     "text": [
      "Wrote results to /Users/fajrzafar/Documents/Semester 8 /FYP 1/JSON_Files/JSON_SINDH3/page_10\n",
      "Loading detection model vikp/surya_layout2 on device cpu with dtype torch.float32\n",
      "Loading detection model vikp/surya_det2 on device cpu with dtype torch.float32\n"
     ]
    },
    {
     "name": "stderr",
     "output_type": "stream",
     "text": [
      "Detecting bboxes: 100%|██████████| 1/1 [00:27<00:00, 27.22s/it]\n",
      "Detecting bboxes: 100%|██████████| 1/1 [00:26<00:00, 26.17s/it]\n"
     ]
    },
    {
     "name": "stdout",
     "output_type": "stream",
     "text": [
      "Wrote results to /Users/fajrzafar/Documents/Semester 8 /FYP 1/JSON_Files/JSON_SINDH3/page_11\n",
      "Loading detection model vikp/surya_layout2 on device cpu with dtype torch.float32\n",
      "Loading detection model vikp/surya_det2 on device cpu with dtype torch.float32\n"
     ]
    },
    {
     "name": "stderr",
     "output_type": "stream",
     "text": [
      "Detecting bboxes: 100%|██████████| 1/1 [00:32<00:00, 32.20s/it]\n",
      "Detecting bboxes: 100%|██████████| 1/1 [00:28<00:00, 28.68s/it]\n"
     ]
    },
    {
     "name": "stdout",
     "output_type": "stream",
     "text": [
      "Wrote results to /Users/fajrzafar/Documents/Semester 8 /FYP 1/JSON_Files/JSON_SINDH3/page_13\n",
      "Loading detection model vikp/surya_layout2 on device cpu with dtype torch.float32\n",
      "Loading detection model vikp/surya_det2 on device cpu with dtype torch.float32\n"
     ]
    },
    {
     "name": "stderr",
     "output_type": "stream",
     "text": [
      "Detecting bboxes: 100%|██████████| 1/1 [00:29<00:00, 29.48s/it]\n",
      "Detecting bboxes: 100%|██████████| 1/1 [00:26<00:00, 26.63s/it]\n"
     ]
    },
    {
     "name": "stdout",
     "output_type": "stream",
     "text": [
      "Wrote results to /Users/fajrzafar/Documents/Semester 8 /FYP 1/JSON_Files/JSON_SINDH3/page_12\n",
      "Loading detection model vikp/surya_layout2 on device cpu with dtype torch.float32\n",
      "Loading detection model vikp/surya_det2 on device cpu with dtype torch.float32\n"
     ]
    },
    {
     "name": "stderr",
     "output_type": "stream",
     "text": [
      "Detecting bboxes: 100%|██████████| 1/1 [00:47<00:00, 47.31s/it]\n",
      "Detecting bboxes: 100%|██████████| 1/1 [00:29<00:00, 29.07s/it]\n"
     ]
    },
    {
     "name": "stdout",
     "output_type": "stream",
     "text": [
      "Wrote results to /Users/fajrzafar/Documents/Semester 8 /FYP 1/JSON_Files/JSON_SINDH3/page_8\n",
      "Loading detection model vikp/surya_layout2 on device cpu with dtype torch.float32\n",
      "Loading detection model vikp/surya_det2 on device cpu with dtype torch.float32\n"
     ]
    },
    {
     "name": "stderr",
     "output_type": "stream",
     "text": [
      "Detecting bboxes: 100%|██████████| 1/1 [00:33<00:00, 33.75s/it]\n",
      "Detecting bboxes: 100%|██████████| 1/1 [00:27<00:00, 27.32s/it]\n"
     ]
    },
    {
     "name": "stdout",
     "output_type": "stream",
     "text": [
      "Wrote results to /Users/fajrzafar/Documents/Semester 8 /FYP 1/JSON_Files/JSON_SINDH3/page_9\n"
     ]
    }
   ],
   "source": [
    "import os\n",
    "import subprocess\n",
    "\n",
    "def process_folder(image_folder, results_dir):\n",
    "    # List all image files in the folder\n",
    "    image_files = [file for file in os.listdir(image_folder) if file.lower().endswith(('.png', '.jpg', '.jpeg'))]\n",
    "    \n",
    "    # Iterate over each image file\n",
    "    for image_file in image_files:\n",
    "        # Construct the full path of the image file\n",
    "        image_path = os.path.join(image_folder, image_file)\n",
    "        \n",
    "        # Run Surya command for the current image file\n",
    "        subprocess.run([\"surya_layout\", image_path, \"--images\", \"--results_dir\", results_dir])\n",
    "\n",
    "# Example usage\n",
    "image_folder = \"/Users/fajrzafar/Documents/Semester 8 /FYP 1/Books PNGS/SINDH3\"  # Update with the path to your image folder\n",
    "results_dir = \"/Users/fajrzafar/Documents/Semester 8 /FYP 1/JSON_Files/JSON_SINDH3\"  # Update with the path to the folder where you want to save the results\n",
    "\n",
    "process_folder(image_folder, results_dir)\n"
   ]
  },
  {
   "cell_type": "code",
   "execution_count": null,
   "id": "9cadbb06-2c88-4f34-8a55-c411c5eaff4a",
   "metadata": {},
   "outputs": [],
   "source": []
  },
  {
   "cell_type": "code",
   "execution_count": 1,
   "id": "02021bb3-c7b0-478d-a389-bc82cda7bd47",
   "metadata": {},
   "outputs": [
    {
     "name": "stdout",
     "output_type": "stream",
     "text": [
      "Loading detection model vikp/surya_layout2 on device cpu with dtype torch.float32\n",
      "Loading detection model vikp/surya_det2 on device cpu with dtype torch.float32\n"
     ]
    },
    {
     "name": "stderr",
     "output_type": "stream",
     "text": [
      "Detecting bboxes: 100%|██████████| 1/1 [00:24<00:00, 24.76s/it]\n",
      "Detecting bboxes: 100%|██████████| 1/1 [00:15<00:00, 15.16s/it]\n"
     ]
    },
    {
     "name": "stdout",
     "output_type": "stream",
     "text": [
      "Wrote results to /Users/fajrzafar/Documents/Semester 8 /FYP 1/JSON_Files/JSON_B1/page_2\n",
      "Loading detection model vikp/surya_layout2 on device cpu with dtype torch.float32\n",
      "Loading detection model vikp/surya_det2 on device cpu with dtype torch.float32\n"
     ]
    },
    {
     "name": "stderr",
     "output_type": "stream",
     "text": [
      "Detecting bboxes: 100%|██████████| 1/1 [00:25<00:00, 25.41s/it]\n",
      "Detecting bboxes: 100%|██████████| 1/1 [00:16<00:00, 16.26s/it]\n"
     ]
    },
    {
     "name": "stdout",
     "output_type": "stream",
     "text": [
      "Wrote results to /Users/fajrzafar/Documents/Semester 8 /FYP 1/JSON_Files/JSON_B1/page_3\n",
      "Loading detection model vikp/surya_layout2 on device cpu with dtype torch.float32\n",
      "Loading detection model vikp/surya_det2 on device cpu with dtype torch.float32\n"
     ]
    },
    {
     "name": "stderr",
     "output_type": "stream",
     "text": [
      "Detecting bboxes: 100%|██████████| 1/1 [00:26<00:00, 26.04s/it]\n",
      "Detecting bboxes: 100%|██████████| 1/1 [00:16<00:00, 16.92s/it]\n"
     ]
    },
    {
     "name": "stdout",
     "output_type": "stream",
     "text": [
      "Wrote results to /Users/fajrzafar/Documents/Semester 8 /FYP 1/JSON_Files/JSON_B1/page_1\n",
      "Loading detection model vikp/surya_layout2 on device cpu with dtype torch.float32\n",
      "Loading detection model vikp/surya_det2 on device cpu with dtype torch.float32\n"
     ]
    },
    {
     "name": "stderr",
     "output_type": "stream",
     "text": [
      "Detecting bboxes: 100%|██████████| 1/1 [00:26<00:00, 26.18s/it]\n",
      "Detecting bboxes: 100%|██████████| 1/1 [00:17<00:00, 17.12s/it]\n"
     ]
    },
    {
     "name": "stdout",
     "output_type": "stream",
     "text": [
      "Wrote results to /Users/fajrzafar/Documents/Semester 8 /FYP 1/JSON_Files/JSON_B1/page_4\n",
      "Loading detection model vikp/surya_layout2 on device cpu with dtype torch.float32\n",
      "Loading detection model vikp/surya_det2 on device cpu with dtype torch.float32\n"
     ]
    },
    {
     "name": "stderr",
     "output_type": "stream",
     "text": [
      "Detecting bboxes: 100%|██████████| 1/1 [00:27<00:00, 27.00s/it]\n",
      "Detecting bboxes: 100%|██████████| 1/1 [00:17<00:00, 17.35s/it]\n"
     ]
    },
    {
     "name": "stdout",
     "output_type": "stream",
     "text": [
      "Wrote results to /Users/fajrzafar/Documents/Semester 8 /FYP 1/JSON_Files/JSON_B1/page_5\n",
      "Loading detection model vikp/surya_layout2 on device cpu with dtype torch.float32\n",
      "Loading detection model vikp/surya_det2 on device cpu with dtype torch.float32\n"
     ]
    },
    {
     "name": "stderr",
     "output_type": "stream",
     "text": [
      "Detecting bboxes: 100%|██████████| 1/1 [00:27<00:00, 27.17s/it]\n",
      "Detecting bboxes: 100%|██████████| 1/1 [00:17<00:00, 17.42s/it]\n"
     ]
    },
    {
     "name": "stdout",
     "output_type": "stream",
     "text": [
      "Wrote results to /Users/fajrzafar/Documents/Semester 8 /FYP 1/JSON_Files/JSON_B1/page_7\n",
      "Loading detection model vikp/surya_layout2 on device cpu with dtype torch.float32\n",
      "Loading detection model vikp/surya_det2 on device cpu with dtype torch.float32\n"
     ]
    },
    {
     "name": "stderr",
     "output_type": "stream",
     "text": [
      "Detecting bboxes: 100%|██████████| 1/1 [00:27<00:00, 27.79s/it]\n",
      "Detecting bboxes: 100%|██████████| 1/1 [00:17<00:00, 17.47s/it]\n"
     ]
    },
    {
     "name": "stdout",
     "output_type": "stream",
     "text": [
      "Wrote results to /Users/fajrzafar/Documents/Semester 8 /FYP 1/JSON_Files/JSON_B1/page_6\n",
      "Loading detection model vikp/surya_layout2 on device cpu with dtype torch.float32\n",
      "Loading detection model vikp/surya_det2 on device cpu with dtype torch.float32\n"
     ]
    },
    {
     "name": "stderr",
     "output_type": "stream",
     "text": [
      "Detecting bboxes: 100%|██████████| 1/1 [00:27<00:00, 27.33s/it]\n",
      "Detecting bboxes: 100%|██████████| 1/1 [00:17<00:00, 17.38s/it]\n"
     ]
    },
    {
     "name": "stdout",
     "output_type": "stream",
     "text": [
      "Wrote results to /Users/fajrzafar/Documents/Semester 8 /FYP 1/JSON_Files/JSON_B1/page_10\n",
      "Loading detection model vikp/surya_layout2 on device cpu with dtype torch.float32\n",
      "Loading detection model vikp/surya_det2 on device cpu with dtype torch.float32\n"
     ]
    },
    {
     "name": "stderr",
     "output_type": "stream",
     "text": [
      "Detecting bboxes: 100%|██████████| 1/1 [00:27<00:00, 27.83s/it]\n",
      "Detecting bboxes: 100%|██████████| 1/1 [00:18<00:00, 18.35s/it]\n"
     ]
    },
    {
     "name": "stdout",
     "output_type": "stream",
     "text": [
      "Wrote results to /Users/fajrzafar/Documents/Semester 8 /FYP 1/JSON_Files/JSON_B1/page_11\n",
      "Loading detection model vikp/surya_layout2 on device cpu with dtype torch.float32\n",
      "Loading detection model vikp/surya_det2 on device cpu with dtype torch.float32\n"
     ]
    },
    {
     "name": "stderr",
     "output_type": "stream",
     "text": [
      "Detecting bboxes: 100%|██████████| 1/1 [00:28<00:00, 28.03s/it]\n",
      "Detecting bboxes: 100%|██████████| 1/1 [00:19<00:00, 19.95s/it]\n"
     ]
    },
    {
     "name": "stdout",
     "output_type": "stream",
     "text": [
      "Wrote results to /Users/fajrzafar/Documents/Semester 8 /FYP 1/JSON_Files/JSON_B1/page_13\n",
      "Loading detection model vikp/surya_layout2 on device cpu with dtype torch.float32\n",
      "Loading detection model vikp/surya_det2 on device cpu with dtype torch.float32\n"
     ]
    },
    {
     "name": "stderr",
     "output_type": "stream",
     "text": [
      "Detecting bboxes: 100%|██████████| 1/1 [00:30<00:00, 30.43s/it]\n",
      "Detecting bboxes: 100%|██████████| 1/1 [00:21<00:00, 21.05s/it]\n"
     ]
    },
    {
     "name": "stdout",
     "output_type": "stream",
     "text": [
      "Wrote results to /Users/fajrzafar/Documents/Semester 8 /FYP 1/JSON_Files/JSON_B1/page_12\n",
      "Loading detection model vikp/surya_layout2 on device cpu with dtype torch.float32\n",
      "Loading detection model vikp/surya_det2 on device cpu with dtype torch.float32\n"
     ]
    },
    {
     "name": "stderr",
     "output_type": "stream",
     "text": [
      "Detecting bboxes: 100%|██████████| 1/1 [00:31<00:00, 31.66s/it]\n",
      "Detecting bboxes: 100%|██████████| 1/1 [00:22<00:00, 22.19s/it]\n"
     ]
    },
    {
     "name": "stdout",
     "output_type": "stream",
     "text": [
      "Wrote results to /Users/fajrzafar/Documents/Semester 8 /FYP 1/JSON_Files/JSON_B1/page_15\n",
      "Loading detection model vikp/surya_layout2 on device cpu with dtype torch.float32\n",
      "Loading detection model vikp/surya_det2 on device cpu with dtype torch.float32\n"
     ]
    },
    {
     "name": "stderr",
     "output_type": "stream",
     "text": [
      "Detecting bboxes: 100%|██████████| 1/1 [00:34<00:00, 34.47s/it]\n",
      "Detecting bboxes: 100%|██████████| 1/1 [00:23<00:00, 23.21s/it]\n"
     ]
    },
    {
     "name": "stdout",
     "output_type": "stream",
     "text": [
      "Wrote results to /Users/fajrzafar/Documents/Semester 8 /FYP 1/JSON_Files/JSON_B1/page_14\n",
      "Loading detection model vikp/surya_layout2 on device cpu with dtype torch.float32\n",
      "Loading detection model vikp/surya_det2 on device cpu with dtype torch.float32\n"
     ]
    },
    {
     "name": "stderr",
     "output_type": "stream",
     "text": [
      "Detecting bboxes: 100%|██████████| 1/1 [00:34<00:00, 34.87s/it]\n",
      "Detecting bboxes: 100%|██████████| 1/1 [00:23<00:00, 23.35s/it]\n"
     ]
    },
    {
     "name": "stdout",
     "output_type": "stream",
     "text": [
      "Wrote results to /Users/fajrzafar/Documents/Semester 8 /FYP 1/JSON_Files/JSON_B1/page_8\n",
      "Loading detection model vikp/surya_layout2 on device cpu with dtype torch.float32\n",
      "Loading detection model vikp/surya_det2 on device cpu with dtype torch.float32\n"
     ]
    },
    {
     "name": "stderr",
     "output_type": "stream",
     "text": [
      "Detecting bboxes: 100%|██████████| 1/1 [00:34<00:00, 34.04s/it]\n",
      "Detecting bboxes: 100%|██████████| 1/1 [00:22<00:00, 22.94s/it]\n"
     ]
    },
    {
     "name": "stdout",
     "output_type": "stream",
     "text": [
      "Wrote results to /Users/fajrzafar/Documents/Semester 8 /FYP 1/JSON_Files/JSON_B1/page_9\n"
     ]
    }
   ],
   "source": [
    "import os\n",
    "import subprocess\n",
    "\n",
    "def process_folder(image_folder, results_dir):\n",
    "    # List all image files in the folder\n",
    "    image_files = [file for file in os.listdir(image_folder) if file.lower().endswith(('.png', '.jpg', '.jpeg'))]\n",
    "    \n",
    "    # Iterate over each image file\n",
    "    for image_file in image_files:\n",
    "        # Construct the full path of the image file\n",
    "        image_path = os.path.join(image_folder, image_file)\n",
    "        \n",
    "        # Run Surya command for the current image file\n",
    "        subprocess.run([\"surya_layout\", image_path, \"--images\", \"--results_dir\", results_dir])\n",
    "\n",
    "# Example usage\n",
    "image_folder = \"/Users/fajrzafar/Documents/Semester 8 /FYP 1/Books PNGS/B1\"  # Update with the path to your image folder\n",
    "results_dir = \"/Users/fajrzafar/Documents/Semester 8 /FYP 1/JSON_Files/JSON_B1\"  # Update with the path to the folder where you want to save the results\n",
    "\n",
    "process_folder(image_folder, results_dir)\n"
   ]
  },
  {
   "cell_type": "code",
   "execution_count": null,
   "id": "5c007b28-7dfc-46eb-8e94-9552677f5f79",
   "metadata": {},
   "outputs": [],
   "source": []
  },
  {
   "cell_type": "code",
   "execution_count": 3,
   "id": "dd644683-ab3d-4b10-b838-8bbd0567eeae",
   "metadata": {},
   "outputs": [
    {
     "name": "stdout",
     "output_type": "stream",
     "text": [
      "Loading detection model vikp/surya_layout2 on device cpu with dtype torch.float32\n",
      "Loading detection model vikp/surya_det2 on device cpu with dtype torch.float32\n"
     ]
    },
    {
     "name": "stderr",
     "output_type": "stream",
     "text": [
      "Detecting bboxes: 100%|██████████| 1/1 [00:25<00:00, 25.59s/it]\n",
      "Detecting bboxes: 100%|██████████| 1/1 [00:14<00:00, 14.88s/it]\n"
     ]
    },
    {
     "name": "stdout",
     "output_type": "stream",
     "text": [
      "Wrote results to /Users/fajrzafar/Documents/Semester 8 /FYP 1/JSON_Files/JSON_B3/page_2\n",
      "Loading detection model vikp/surya_layout2 on device cpu with dtype torch.float32\n",
      "Loading detection model vikp/surya_det2 on device cpu with dtype torch.float32\n"
     ]
    },
    {
     "name": "stderr",
     "output_type": "stream",
     "text": [
      "Detecting bboxes: 100%|██████████| 1/1 [00:25<00:00, 25.62s/it]\n",
      "Detecting bboxes: 100%|██████████| 1/1 [00:15<00:00, 15.57s/it]\n"
     ]
    },
    {
     "name": "stdout",
     "output_type": "stream",
     "text": [
      "Wrote results to /Users/fajrzafar/Documents/Semester 8 /FYP 1/JSON_Files/JSON_B3/page_3\n",
      "Loading detection model vikp/surya_layout2 on device cpu with dtype torch.float32\n",
      "Loading detection model vikp/surya_det2 on device cpu with dtype torch.float32\n"
     ]
    },
    {
     "name": "stderr",
     "output_type": "stream",
     "text": [
      "Detecting bboxes: 100%|██████████| 1/1 [00:25<00:00, 25.99s/it]\n",
      "Detecting bboxes: 100%|██████████| 1/1 [00:16<00:00, 16.09s/it]\n"
     ]
    },
    {
     "name": "stdout",
     "output_type": "stream",
     "text": [
      "Wrote results to /Users/fajrzafar/Documents/Semester 8 /FYP 1/JSON_Files/JSON_B3/page_1\n",
      "Loading detection model vikp/surya_layout2 on device cpu with dtype torch.float32\n",
      "Loading detection model vikp/surya_det2 on device cpu with dtype torch.float32\n"
     ]
    },
    {
     "name": "stderr",
     "output_type": "stream",
     "text": [
      "Detecting bboxes: 100%|██████████| 1/1 [00:26<00:00, 26.77s/it]\n",
      "Detecting bboxes: 100%|██████████| 1/1 [00:16<00:00, 16.56s/it]\n"
     ]
    },
    {
     "name": "stdout",
     "output_type": "stream",
     "text": [
      "Wrote results to /Users/fajrzafar/Documents/Semester 8 /FYP 1/JSON_Files/JSON_B3/page_4\n",
      "Loading detection model vikp/surya_layout2 on device cpu with dtype torch.float32\n",
      "Loading detection model vikp/surya_det2 on device cpu with dtype torch.float32\n"
     ]
    },
    {
     "name": "stderr",
     "output_type": "stream",
     "text": [
      "Detecting bboxes: 100%|██████████| 1/1 [00:25<00:00, 25.93s/it]\n",
      "Detecting bboxes: 100%|██████████| 1/1 [00:16<00:00, 16.63s/it]\n"
     ]
    },
    {
     "name": "stdout",
     "output_type": "stream",
     "text": [
      "Wrote results to /Users/fajrzafar/Documents/Semester 8 /FYP 1/JSON_Files/JSON_B3/page_5\n",
      "Loading detection model vikp/surya_layout2 on device cpu with dtype torch.float32\n",
      "Loading detection model vikp/surya_det2 on device cpu with dtype torch.float32\n"
     ]
    },
    {
     "name": "stderr",
     "output_type": "stream",
     "text": [
      "Detecting bboxes: 100%|██████████| 1/1 [00:26<00:00, 26.29s/it]\n",
      "Detecting bboxes: 100%|██████████| 1/1 [00:16<00:00, 16.76s/it]\n"
     ]
    },
    {
     "name": "stdout",
     "output_type": "stream",
     "text": [
      "Wrote results to /Users/fajrzafar/Documents/Semester 8 /FYP 1/JSON_Files/JSON_B3/page_7\n",
      "Loading detection model vikp/surya_layout2 on device cpu with dtype torch.float32\n",
      "Loading detection model vikp/surya_det2 on device cpu with dtype torch.float32\n"
     ]
    },
    {
     "name": "stderr",
     "output_type": "stream",
     "text": [
      "Detecting bboxes: 100%|██████████| 1/1 [00:26<00:00, 26.94s/it]\n",
      "Detecting bboxes: 100%|██████████| 1/1 [00:16<00:00, 16.96s/it]\n"
     ]
    },
    {
     "name": "stdout",
     "output_type": "stream",
     "text": [
      "Wrote results to /Users/fajrzafar/Documents/Semester 8 /FYP 1/JSON_Files/JSON_B3/page_6\n",
      "Loading detection model vikp/surya_layout2 on device cpu with dtype torch.float32\n",
      "Loading detection model vikp/surya_det2 on device cpu with dtype torch.float32\n"
     ]
    },
    {
     "name": "stderr",
     "output_type": "stream",
     "text": [
      "Detecting bboxes: 100%|██████████| 1/1 [00:27<00:00, 27.07s/it]\n",
      "Detecting bboxes: 100%|██████████| 1/1 [00:16<00:00, 16.75s/it]\n"
     ]
    },
    {
     "name": "stdout",
     "output_type": "stream",
     "text": [
      "Wrote results to /Users/fajrzafar/Documents/Semester 8 /FYP 1/JSON_Files/JSON_B3/page_19\n",
      "Loading detection model vikp/surya_layout2 on device cpu with dtype torch.float32\n",
      "Loading detection model vikp/surya_det2 on device cpu with dtype torch.float32\n"
     ]
    },
    {
     "name": "stderr",
     "output_type": "stream",
     "text": [
      "Detecting bboxes: 100%|██████████| 1/1 [00:26<00:00, 26.84s/it]\n",
      "Detecting bboxes: 100%|██████████| 1/1 [00:17<00:00, 17.02s/it]\n"
     ]
    },
    {
     "name": "stdout",
     "output_type": "stream",
     "text": [
      "Wrote results to /Users/fajrzafar/Documents/Semester 8 /FYP 1/JSON_Files/JSON_B3/page_18\n",
      "Loading detection model vikp/surya_layout2 on device cpu with dtype torch.float32\n",
      "Loading detection model vikp/surya_det2 on device cpu with dtype torch.float32\n"
     ]
    },
    {
     "name": "stderr",
     "output_type": "stream",
     "text": [
      "Detecting bboxes: 100%|██████████| 1/1 [00:27<00:00, 27.59s/it]\n",
      "Detecting bboxes: 100%|██████████| 1/1 [00:17<00:00, 17.18s/it]\n"
     ]
    },
    {
     "name": "stdout",
     "output_type": "stream",
     "text": [
      "Wrote results to /Users/fajrzafar/Documents/Semester 8 /FYP 1/JSON_Files/JSON_B3/page_23\n",
      "Loading detection model vikp/surya_layout2 on device cpu with dtype torch.float32\n",
      "Loading detection model vikp/surya_det2 on device cpu with dtype torch.float32\n"
     ]
    },
    {
     "name": "stderr",
     "output_type": "stream",
     "text": [
      "Detecting bboxes: 100%|██████████| 1/1 [00:27<00:00, 27.55s/it]\n",
      "Detecting bboxes: 100%|██████████| 1/1 [00:17<00:00, 17.23s/it]\n"
     ]
    },
    {
     "name": "stdout",
     "output_type": "stream",
     "text": [
      "Wrote results to /Users/fajrzafar/Documents/Semester 8 /FYP 1/JSON_Files/JSON_B3/page_22\n",
      "Loading detection model vikp/surya_layout2 on device cpu with dtype torch.float32\n",
      "Loading detection model vikp/surya_det2 on device cpu with dtype torch.float32\n"
     ]
    },
    {
     "name": "stderr",
     "output_type": "stream",
     "text": [
      "Detecting bboxes: 100%|██████████| 1/1 [00:26<00:00, 26.86s/it]\n",
      "Detecting bboxes: 100%|██████████| 1/1 [00:17<00:00, 17.16s/it]\n"
     ]
    },
    {
     "name": "stdout",
     "output_type": "stream",
     "text": [
      "Wrote results to /Users/fajrzafar/Documents/Semester 8 /FYP 1/JSON_Files/JSON_B3/page_20\n",
      "Loading detection model vikp/surya_layout2 on device cpu with dtype torch.float32\n",
      "Loading detection model vikp/surya_det2 on device cpu with dtype torch.float32\n"
     ]
    },
    {
     "name": "stderr",
     "output_type": "stream",
     "text": [
      "Detecting bboxes: 100%|██████████| 1/1 [00:26<00:00, 26.54s/it]\n",
      "Detecting bboxes: 100%|██████████| 1/1 [00:17<00:00, 17.19s/it]\n"
     ]
    },
    {
     "name": "stdout",
     "output_type": "stream",
     "text": [
      "Wrote results to /Users/fajrzafar/Documents/Semester 8 /FYP 1/JSON_Files/JSON_B3/page_21\n",
      "Loading detection model vikp/surya_layout2 on device cpu with dtype torch.float32\n",
      "Loading detection model vikp/surya_det2 on device cpu with dtype torch.float32\n"
     ]
    },
    {
     "name": "stderr",
     "output_type": "stream",
     "text": [
      "Detecting bboxes: 100%|██████████| 1/1 [00:26<00:00, 26.68s/it]\n",
      "Detecting bboxes: 100%|██████████| 1/1 [00:17<00:00, 17.35s/it]\n"
     ]
    },
    {
     "name": "stdout",
     "output_type": "stream",
     "text": [
      "Wrote results to /Users/fajrzafar/Documents/Semester 8 /FYP 1/JSON_Files/JSON_B3/page_10\n",
      "Loading detection model vikp/surya_layout2 on device cpu with dtype torch.float32\n",
      "Loading detection model vikp/surya_det2 on device cpu with dtype torch.float32\n"
     ]
    },
    {
     "name": "stderr",
     "output_type": "stream",
     "text": [
      "Detecting bboxes: 100%|██████████| 1/1 [00:26<00:00, 26.63s/it]\n",
      "Detecting bboxes: 100%|██████████| 1/1 [00:17<00:00, 17.35s/it]\n"
     ]
    },
    {
     "name": "stdout",
     "output_type": "stream",
     "text": [
      "Wrote results to /Users/fajrzafar/Documents/Semester 8 /FYP 1/JSON_Files/JSON_B3/page_11\n",
      "Loading detection model vikp/surya_layout2 on device cpu with dtype torch.float32\n",
      "Loading detection model vikp/surya_det2 on device cpu with dtype torch.float32\n"
     ]
    },
    {
     "name": "stderr",
     "output_type": "stream",
     "text": [
      "Detecting bboxes: 100%|██████████| 1/1 [00:27<00:00, 27.12s/it]\n",
      "Detecting bboxes: 100%|██████████| 1/1 [00:17<00:00, 17.14s/it]\n"
     ]
    },
    {
     "name": "stdout",
     "output_type": "stream",
     "text": [
      "Wrote results to /Users/fajrzafar/Documents/Semester 8 /FYP 1/JSON_Files/JSON_B3/page_13\n",
      "Loading detection model vikp/surya_layout2 on device cpu with dtype torch.float32\n",
      "Loading detection model vikp/surya_det2 on device cpu with dtype torch.float32\n"
     ]
    },
    {
     "name": "stderr",
     "output_type": "stream",
     "text": [
      "Detecting bboxes: 100%|██████████| 1/1 [00:27<00:00, 27.13s/it]\n",
      "Detecting bboxes: 100%|██████████| 1/1 [00:17<00:00, 17.46s/it]\n"
     ]
    },
    {
     "name": "stdout",
     "output_type": "stream",
     "text": [
      "Wrote results to /Users/fajrzafar/Documents/Semester 8 /FYP 1/JSON_Files/JSON_B3/page_12\n",
      "Loading detection model vikp/surya_layout2 on device cpu with dtype torch.float32\n",
      "Loading detection model vikp/surya_det2 on device cpu with dtype torch.float32\n"
     ]
    },
    {
     "name": "stderr",
     "output_type": "stream",
     "text": [
      "Detecting bboxes: 100%|██████████| 1/1 [00:27<00:00, 27.06s/it]\n",
      "Detecting bboxes: 100%|██████████| 1/1 [00:17<00:00, 17.24s/it]\n"
     ]
    },
    {
     "name": "stdout",
     "output_type": "stream",
     "text": [
      "Wrote results to /Users/fajrzafar/Documents/Semester 8 /FYP 1/JSON_Files/JSON_B3/page_16\n",
      "Loading detection model vikp/surya_layout2 on device cpu with dtype torch.float32\n",
      "Loading detection model vikp/surya_det2 on device cpu with dtype torch.float32\n"
     ]
    },
    {
     "name": "stderr",
     "output_type": "stream",
     "text": [
      "Detecting bboxes: 100%|██████████| 1/1 [00:27<00:00, 27.32s/it]\n",
      "Detecting bboxes: 100%|██████████| 1/1 [00:17<00:00, 17.31s/it]\n"
     ]
    },
    {
     "name": "stdout",
     "output_type": "stream",
     "text": [
      "Wrote results to /Users/fajrzafar/Documents/Semester 8 /FYP 1/JSON_Files/JSON_B3/page_17\n",
      "Loading detection model vikp/surya_layout2 on device cpu with dtype torch.float32\n",
      "Loading detection model vikp/surya_det2 on device cpu with dtype torch.float32\n"
     ]
    },
    {
     "name": "stderr",
     "output_type": "stream",
     "text": [
      "Detecting bboxes: 100%|██████████| 1/1 [00:27<00:00, 27.56s/it]\n",
      "Detecting bboxes: 100%|██████████| 1/1 [00:17<00:00, 17.49s/it]\n"
     ]
    },
    {
     "name": "stdout",
     "output_type": "stream",
     "text": [
      "Wrote results to /Users/fajrzafar/Documents/Semester 8 /FYP 1/JSON_Files/JSON_B3/page_15\n",
      "Loading detection model vikp/surya_layout2 on device cpu with dtype torch.float32\n",
      "Loading detection model vikp/surya_det2 on device cpu with dtype torch.float32\n"
     ]
    },
    {
     "name": "stderr",
     "output_type": "stream",
     "text": [
      "Detecting bboxes: 100%|██████████| 1/1 [00:27<00:00, 27.45s/it]\n",
      "Detecting bboxes: 100%|██████████| 1/1 [00:17<00:00, 17.41s/it]\n"
     ]
    },
    {
     "name": "stdout",
     "output_type": "stream",
     "text": [
      "Wrote results to /Users/fajrzafar/Documents/Semester 8 /FYP 1/JSON_Files/JSON_B3/page_14\n",
      "Loading detection model vikp/surya_layout2 on device cpu with dtype torch.float32\n",
      "Loading detection model vikp/surya_det2 on device cpu with dtype torch.float32\n"
     ]
    },
    {
     "name": "stderr",
     "output_type": "stream",
     "text": [
      "Detecting bboxes: 100%|██████████| 1/1 [00:27<00:00, 27.14s/it]\n",
      "Detecting bboxes: 100%|██████████| 1/1 [00:17<00:00, 17.64s/it]\n"
     ]
    },
    {
     "name": "stdout",
     "output_type": "stream",
     "text": [
      "Wrote results to /Users/fajrzafar/Documents/Semester 8 /FYP 1/JSON_Files/JSON_B3/page_8\n",
      "Loading detection model vikp/surya_layout2 on device cpu with dtype torch.float32\n",
      "Loading detection model vikp/surya_det2 on device cpu with dtype torch.float32\n"
     ]
    },
    {
     "name": "stderr",
     "output_type": "stream",
     "text": [
      "Detecting bboxes: 100%|██████████| 1/1 [00:27<00:00, 27.16s/it]\n",
      "Detecting bboxes: 100%|██████████| 1/1 [00:17<00:00, 17.65s/it]\n"
     ]
    },
    {
     "name": "stdout",
     "output_type": "stream",
     "text": [
      "Wrote results to /Users/fajrzafar/Documents/Semester 8 /FYP 1/JSON_Files/JSON_B3/page_9\n"
     ]
    }
   ],
   "source": [
    "import os\n",
    "import subprocess\n",
    "\n",
    "def process_folder(image_folder, results_dir):\n",
    "    # List all image files in the folder\n",
    "    image_files = [file for file in os.listdir(image_folder) if file.lower().endswith(('.png', '.jpg', '.jpeg'))]\n",
    "    \n",
    "    # Iterate over each image file\n",
    "    for image_file in image_files:\n",
    "        # Construct the full path of the image file\n",
    "        image_path = os.path.join(image_folder, image_file)\n",
    "        \n",
    "        # Run Surya command for the current image file\n",
    "        subprocess.run([\"surya_layout\", image_path, \"--images\", \"--results_dir\", results_dir])\n",
    "\n",
    "# Example usage\n",
    "image_folder = \"/Users/fajrzafar/Documents/Semester 8 /FYP 1/Books PNGS/B3\"  # Update with the path to your image folder\n",
    "results_dir = \"/Users/fajrzafar/Documents/Semester 8 /FYP 1/JSON_Files/JSON_B3\"  # Update with the path to the folder where you want to save the results\n",
    "\n",
    "process_folder(image_folder, results_dir)\n"
   ]
  },
  {
   "cell_type": "code",
   "execution_count": null,
   "id": "217711cc-8644-4b1b-b704-345e980c5ad8",
   "metadata": {},
   "outputs": [],
   "source": []
  },
  {
   "cell_type": "code",
   "execution_count": 1,
   "id": "bcae575e-b0f3-4e20-9671-35273b2b3e9b",
   "metadata": {},
   "outputs": [
    {
     "name": "stdout",
     "output_type": "stream",
     "text": [
      "Loading detection model vikp/surya_layout2 on device cpu with dtype torch.float32\n",
      "Loading detection model vikp/surya_det2 on device cpu with dtype torch.float32\n"
     ]
    },
    {
     "name": "stderr",
     "output_type": "stream",
     "text": [
      "Detecting bboxes: 100%|██████████| 1/1 [00:23<00:00, 23.90s/it]\n",
      "Detecting bboxes: 100%|██████████| 1/1 [00:19<00:00, 19.66s/it]\n"
     ]
    },
    {
     "name": "stdout",
     "output_type": "stream",
     "text": [
      "Wrote results to /Users/fajrzafar/Documents/Semester 8 /FYP 1/JSON_Files/JSON_PTB4/page_2\n",
      "Loading detection model vikp/surya_layout2 on device cpu with dtype torch.float32\n",
      "Loading detection model vikp/surya_det2 on device cpu with dtype torch.float32\n"
     ]
    },
    {
     "name": "stderr",
     "output_type": "stream",
     "text": [
      "Detecting bboxes: 100%|██████████| 1/1 [00:24<00:00, 24.27s/it]\n",
      "Detecting bboxes: 100%|██████████| 1/1 [00:20<00:00, 20.11s/it]\n"
     ]
    },
    {
     "name": "stdout",
     "output_type": "stream",
     "text": [
      "Wrote results to /Users/fajrzafar/Documents/Semester 8 /FYP 1/JSON_Files/JSON_PTB4/page_3\n",
      "Loading detection model vikp/surya_layout2 on device cpu with dtype torch.float32\n",
      "Loading detection model vikp/surya_det2 on device cpu with dtype torch.float32\n"
     ]
    },
    {
     "name": "stderr",
     "output_type": "stream",
     "text": [
      "Detecting bboxes: 100%|██████████| 1/1 [00:24<00:00, 24.90s/it]\n",
      "Detecting bboxes: 100%|██████████| 1/1 [00:20<00:00, 20.57s/it]\n"
     ]
    },
    {
     "name": "stdout",
     "output_type": "stream",
     "text": [
      "Wrote results to /Users/fajrzafar/Documents/Semester 8 /FYP 1/JSON_Files/JSON_PTB4/page_1\n",
      "Loading detection model vikp/surya_layout2 on device cpu with dtype torch.float32\n",
      "Loading detection model vikp/surya_det2 on device cpu with dtype torch.float32\n"
     ]
    },
    {
     "name": "stderr",
     "output_type": "stream",
     "text": [
      "Detecting bboxes: 100%|██████████| 1/1 [00:25<00:00, 25.04s/it]\n",
      "Detecting bboxes: 100%|██████████| 1/1 [00:20<00:00, 20.90s/it]\n"
     ]
    },
    {
     "name": "stdout",
     "output_type": "stream",
     "text": [
      "Wrote results to /Users/fajrzafar/Documents/Semester 8 /FYP 1/JSON_Files/JSON_PTB4/page_4\n",
      "Loading detection model vikp/surya_layout2 on device cpu with dtype torch.float32\n",
      "Loading detection model vikp/surya_det2 on device cpu with dtype torch.float32\n"
     ]
    },
    {
     "name": "stderr",
     "output_type": "stream",
     "text": [
      "Detecting bboxes: 100%|██████████| 1/1 [00:25<00:00, 25.64s/it]\n",
      "Detecting bboxes: 100%|██████████| 1/1 [00:21<00:00, 21.70s/it]\n"
     ]
    },
    {
     "name": "stdout",
     "output_type": "stream",
     "text": [
      "Wrote results to /Users/fajrzafar/Documents/Semester 8 /FYP 1/JSON_Files/JSON_PTB4/page_5\n",
      "Loading detection model vikp/surya_layout2 on device cpu with dtype torch.float32\n",
      "Loading detection model vikp/surya_det2 on device cpu with dtype torch.float32\n"
     ]
    },
    {
     "name": "stderr",
     "output_type": "stream",
     "text": [
      "Detecting bboxes: 100%|██████████| 1/1 [00:25<00:00, 25.52s/it]\n",
      "Detecting bboxes: 100%|██████████| 1/1 [00:21<00:00, 21.22s/it]\n"
     ]
    },
    {
     "name": "stdout",
     "output_type": "stream",
     "text": [
      "Wrote results to /Users/fajrzafar/Documents/Semester 8 /FYP 1/JSON_Files/JSON_PTB4/page_7\n",
      "Loading detection model vikp/surya_layout2 on device cpu with dtype torch.float32\n",
      "Loading detection model vikp/surya_det2 on device cpu with dtype torch.float32\n"
     ]
    },
    {
     "name": "stderr",
     "output_type": "stream",
     "text": [
      "Detecting bboxes: 100%|██████████| 1/1 [00:25<00:00, 25.55s/it]\n",
      "Detecting bboxes: 100%|██████████| 1/1 [00:21<00:00, 21.12s/it]\n"
     ]
    },
    {
     "name": "stdout",
     "output_type": "stream",
     "text": [
      "Wrote results to /Users/fajrzafar/Documents/Semester 8 /FYP 1/JSON_Files/JSON_PTB4/page_6\n",
      "Loading detection model vikp/surya_layout2 on device cpu with dtype torch.float32\n",
      "Loading detection model vikp/surya_det2 on device cpu with dtype torch.float32\n"
     ]
    },
    {
     "name": "stderr",
     "output_type": "stream",
     "text": [
      "Detecting bboxes: 100%|██████████| 1/1 [00:26<00:00, 26.22s/it]\n",
      "Detecting bboxes: 100%|██████████| 1/1 [00:21<00:00, 21.38s/it]\n"
     ]
    },
    {
     "name": "stdout",
     "output_type": "stream",
     "text": [
      "Wrote results to /Users/fajrzafar/Documents/Semester 8 /FYP 1/JSON_Files/JSON_PTB4/page_19\n",
      "Loading detection model vikp/surya_layout2 on device cpu with dtype torch.float32\n",
      "Loading detection model vikp/surya_det2 on device cpu with dtype torch.float32\n"
     ]
    },
    {
     "name": "stderr",
     "output_type": "stream",
     "text": [
      "Detecting bboxes: 100%|██████████| 1/1 [00:25<00:00, 25.74s/it]\n",
      "Detecting bboxes: 100%|██████████| 1/1 [00:21<00:00, 21.52s/it]\n"
     ]
    },
    {
     "name": "stdout",
     "output_type": "stream",
     "text": [
      "Wrote results to /Users/fajrzafar/Documents/Semester 8 /FYP 1/JSON_Files/JSON_PTB4/page_25\n",
      "Loading detection model vikp/surya_layout2 on device cpu with dtype torch.float32\n",
      "Loading detection model vikp/surya_det2 on device cpu with dtype torch.float32\n"
     ]
    },
    {
     "name": "stderr",
     "output_type": "stream",
     "text": [
      "Detecting bboxes: 100%|██████████| 1/1 [00:26<00:00, 26.07s/it]\n",
      "Detecting bboxes: 100%|██████████| 1/1 [00:21<00:00, 21.27s/it]\n"
     ]
    },
    {
     "name": "stdout",
     "output_type": "stream",
     "text": [
      "Wrote results to /Users/fajrzafar/Documents/Semester 8 /FYP 1/JSON_Files/JSON_PTB4/page_24\n",
      "Loading detection model vikp/surya_layout2 on device cpu with dtype torch.float32\n",
      "Loading detection model vikp/surya_det2 on device cpu with dtype torch.float32\n"
     ]
    },
    {
     "name": "stderr",
     "output_type": "stream",
     "text": [
      "Detecting bboxes: 100%|██████████| 1/1 [00:26<00:00, 26.12s/it]\n",
      "Detecting bboxes: 100%|██████████| 1/1 [00:21<00:00, 21.30s/it]\n"
     ]
    },
    {
     "name": "stdout",
     "output_type": "stream",
     "text": [
      "Wrote results to /Users/fajrzafar/Documents/Semester 8 /FYP 1/JSON_Files/JSON_PTB4/page_18\n",
      "Loading detection model vikp/surya_layout2 on device cpu with dtype torch.float32\n",
      "Loading detection model vikp/surya_det2 on device cpu with dtype torch.float32\n"
     ]
    },
    {
     "name": "stderr",
     "output_type": "stream",
     "text": [
      "Detecting bboxes: 100%|██████████| 1/1 [00:26<00:00, 26.24s/it]\n",
      "Detecting bboxes: 100%|██████████| 1/1 [00:21<00:00, 21.76s/it]\n"
     ]
    },
    {
     "name": "stdout",
     "output_type": "stream",
     "text": [
      "Wrote results to /Users/fajrzafar/Documents/Semester 8 /FYP 1/JSON_Files/JSON_PTB4/page_26\n",
      "Loading detection model vikp/surya_layout2 on device cpu with dtype torch.float32\n",
      "Loading detection model vikp/surya_det2 on device cpu with dtype torch.float32\n"
     ]
    },
    {
     "name": "stderr",
     "output_type": "stream",
     "text": [
      "Detecting bboxes: 100%|██████████| 1/1 [00:26<00:00, 26.28s/it]\n",
      "Detecting bboxes: 100%|██████████| 1/1 [00:21<00:00, 21.76s/it]\n"
     ]
    },
    {
     "name": "stdout",
     "output_type": "stream",
     "text": [
      "Wrote results to /Users/fajrzafar/Documents/Semester 8 /FYP 1/JSON_Files/JSON_PTB4/page_27\n",
      "Loading detection model vikp/surya_layout2 on device cpu with dtype torch.float32\n",
      "Loading detection model vikp/surya_det2 on device cpu with dtype torch.float32\n"
     ]
    },
    {
     "name": "stderr",
     "output_type": "stream",
     "text": [
      "Detecting bboxes: 100%|██████████| 1/1 [00:26<00:00, 26.61s/it]\n",
      "Detecting bboxes: 100%|██████████| 1/1 [00:21<00:00, 21.68s/it]\n"
     ]
    },
    {
     "name": "stdout",
     "output_type": "stream",
     "text": [
      "Wrote results to /Users/fajrzafar/Documents/Semester 8 /FYP 1/JSON_Files/JSON_PTB4/page_23\n",
      "Loading detection model vikp/surya_layout2 on device cpu with dtype torch.float32\n",
      "Loading detection model vikp/surya_det2 on device cpu with dtype torch.float32\n"
     ]
    },
    {
     "name": "stderr",
     "output_type": "stream",
     "text": [
      "Detecting bboxes: 100%|██████████| 1/1 [00:25<00:00, 25.97s/it]\n",
      "Detecting bboxes: 100%|██████████| 1/1 [00:21<00:00, 21.78s/it]\n"
     ]
    },
    {
     "name": "stdout",
     "output_type": "stream",
     "text": [
      "Wrote results to /Users/fajrzafar/Documents/Semester 8 /FYP 1/JSON_Files/JSON_PTB4/page_22\n",
      "Loading detection model vikp/surya_layout2 on device cpu with dtype torch.float32\n",
      "Loading detection model vikp/surya_det2 on device cpu with dtype torch.float32\n"
     ]
    },
    {
     "name": "stderr",
     "output_type": "stream",
     "text": [
      "Detecting bboxes: 100%|██████████| 1/1 [00:26<00:00, 26.41s/it]\n",
      "Detecting bboxes: 100%|██████████| 1/1 [00:21<00:00, 21.89s/it]\n"
     ]
    },
    {
     "name": "stdout",
     "output_type": "stream",
     "text": [
      "Wrote results to /Users/fajrzafar/Documents/Semester 8 /FYP 1/JSON_Files/JSON_PTB4/page_20\n",
      "Loading detection model vikp/surya_layout2 on device cpu with dtype torch.float32\n",
      "Loading detection model vikp/surya_det2 on device cpu with dtype torch.float32\n"
     ]
    },
    {
     "name": "stderr",
     "output_type": "stream",
     "text": [
      "Detecting bboxes: 100%|██████████| 1/1 [00:26<00:00, 26.34s/it]\n",
      "Detecting bboxes: 100%|██████████| 1/1 [00:21<00:00, 21.68s/it]\n"
     ]
    },
    {
     "name": "stdout",
     "output_type": "stream",
     "text": [
      "Wrote results to /Users/fajrzafar/Documents/Semester 8 /FYP 1/JSON_Files/JSON_PTB4/page_21\n",
      "Loading detection model vikp/surya_layout2 on device cpu with dtype torch.float32\n",
      "Loading detection model vikp/surya_det2 on device cpu with dtype torch.float32\n"
     ]
    },
    {
     "name": "stderr",
     "output_type": "stream",
     "text": [
      "Detecting bboxes: 100%|██████████| 1/1 [00:26<00:00, 26.02s/it]\n",
      "Detecting bboxes: 100%|██████████| 1/1 [00:22<00:00, 22.51s/it]\n"
     ]
    },
    {
     "name": "stdout",
     "output_type": "stream",
     "text": [
      "Wrote results to /Users/fajrzafar/Documents/Semester 8 /FYP 1/JSON_Files/JSON_PTB4/page_10\n",
      "Loading detection model vikp/surya_layout2 on device cpu with dtype torch.float32\n",
      "Loading detection model vikp/surya_det2 on device cpu with dtype torch.float32\n"
     ]
    },
    {
     "name": "stderr",
     "output_type": "stream",
     "text": [
      "Detecting bboxes: 100%|██████████| 1/1 [00:26<00:00, 26.46s/it]\n",
      "Detecting bboxes: 100%|██████████| 1/1 [00:22<00:00, 22.10s/it]\n"
     ]
    },
    {
     "name": "stdout",
     "output_type": "stream",
     "text": [
      "Wrote results to /Users/fajrzafar/Documents/Semester 8 /FYP 1/JSON_Files/JSON_PTB4/page_11\n",
      "Loading detection model vikp/surya_layout2 on device cpu with dtype torch.float32\n",
      "Loading detection model vikp/surya_det2 on device cpu with dtype torch.float32\n"
     ]
    },
    {
     "name": "stderr",
     "output_type": "stream",
     "text": [
      "Detecting bboxes: 100%|██████████| 1/1 [00:26<00:00, 26.71s/it]\n",
      "Detecting bboxes: 100%|██████████| 1/1 [00:22<00:00, 22.13s/it]\n"
     ]
    },
    {
     "name": "stdout",
     "output_type": "stream",
     "text": [
      "Wrote results to /Users/fajrzafar/Documents/Semester 8 /FYP 1/JSON_Files/JSON_PTB4/page_13\n",
      "Loading detection model vikp/surya_layout2 on device cpu with dtype torch.float32\n",
      "Loading detection model vikp/surya_det2 on device cpu with dtype torch.float32\n"
     ]
    },
    {
     "name": "stderr",
     "output_type": "stream",
     "text": [
      "Detecting bboxes: 100%|██████████| 1/1 [00:26<00:00, 26.28s/it]\n",
      "Detecting bboxes: 100%|██████████| 1/1 [00:21<00:00, 21.77s/it]\n"
     ]
    },
    {
     "name": "stdout",
     "output_type": "stream",
     "text": [
      "Wrote results to /Users/fajrzafar/Documents/Semester 8 /FYP 1/JSON_Files/JSON_PTB4/page_12\n",
      "Loading detection model vikp/surya_layout2 on device cpu with dtype torch.float32\n",
      "Loading detection model vikp/surya_det2 on device cpu with dtype torch.float32\n"
     ]
    },
    {
     "name": "stderr",
     "output_type": "stream",
     "text": [
      "Detecting bboxes: 100%|██████████| 1/1 [00:26<00:00, 26.72s/it]\n",
      "Detecting bboxes: 100%|██████████| 1/1 [00:22<00:00, 22.23s/it]\n"
     ]
    },
    {
     "name": "stdout",
     "output_type": "stream",
     "text": [
      "Wrote results to /Users/fajrzafar/Documents/Semester 8 /FYP 1/JSON_Files/JSON_PTB4/page_16\n",
      "Loading detection model vikp/surya_layout2 on device cpu with dtype torch.float32\n",
      "Loading detection model vikp/surya_det2 on device cpu with dtype torch.float32\n"
     ]
    },
    {
     "name": "stderr",
     "output_type": "stream",
     "text": [
      "Detecting bboxes: 100%|██████████| 1/1 [00:26<00:00, 26.20s/it]\n",
      "Detecting bboxes: 100%|██████████| 1/1 [00:21<00:00, 21.93s/it]\n"
     ]
    },
    {
     "name": "stdout",
     "output_type": "stream",
     "text": [
      "Wrote results to /Users/fajrzafar/Documents/Semester 8 /FYP 1/JSON_Files/JSON_PTB4/page_17\n",
      "Loading detection model vikp/surya_layout2 on device cpu with dtype torch.float32\n",
      "Loading detection model vikp/surya_det2 on device cpu with dtype torch.float32\n"
     ]
    },
    {
     "name": "stderr",
     "output_type": "stream",
     "text": [
      "Detecting bboxes: 100%|██████████| 1/1 [00:26<00:00, 26.55s/it]\n",
      "Detecting bboxes: 100%|██████████| 1/1 [00:21<00:00, 21.95s/it]\n"
     ]
    },
    {
     "name": "stdout",
     "output_type": "stream",
     "text": [
      "Wrote results to /Users/fajrzafar/Documents/Semester 8 /FYP 1/JSON_Files/JSON_PTB4/page_15\n",
      "Loading detection model vikp/surya_layout2 on device cpu with dtype torch.float32\n",
      "Loading detection model vikp/surya_det2 on device cpu with dtype torch.float32\n"
     ]
    },
    {
     "name": "stderr",
     "output_type": "stream",
     "text": [
      "Detecting bboxes: 100%|██████████| 1/1 [00:26<00:00, 26.90s/it]\n",
      "Detecting bboxes: 100%|██████████| 1/1 [00:22<00:00, 22.47s/it]\n"
     ]
    },
    {
     "name": "stdout",
     "output_type": "stream",
     "text": [
      "Wrote results to /Users/fajrzafar/Documents/Semester 8 /FYP 1/JSON_Files/JSON_PTB4/page_28\n",
      "Loading detection model vikp/surya_layout2 on device cpu with dtype torch.float32\n",
      "Loading detection model vikp/surya_det2 on device cpu with dtype torch.float32\n"
     ]
    },
    {
     "name": "stderr",
     "output_type": "stream",
     "text": [
      "Detecting bboxes: 100%|██████████| 1/1 [00:26<00:00, 26.37s/it]\n",
      "Detecting bboxes: 100%|██████████| 1/1 [00:21<00:00, 21.85s/it]\n"
     ]
    },
    {
     "name": "stdout",
     "output_type": "stream",
     "text": [
      "Wrote results to /Users/fajrzafar/Documents/Semester 8 /FYP 1/JSON_Files/JSON_PTB4/page_14\n",
      "Loading detection model vikp/surya_layout2 on device cpu with dtype torch.float32\n",
      "Loading detection model vikp/surya_det2 on device cpu with dtype torch.float32\n"
     ]
    },
    {
     "name": "stderr",
     "output_type": "stream",
     "text": [
      "Detecting bboxes: 100%|██████████| 1/1 [00:26<00:00, 26.68s/it]\n",
      "Detecting bboxes: 100%|██████████| 1/1 [00:22<00:00, 22.90s/it]\n"
     ]
    },
    {
     "name": "stdout",
     "output_type": "stream",
     "text": [
      "Wrote results to /Users/fajrzafar/Documents/Semester 8 /FYP 1/JSON_Files/JSON_PTB4/page_8\n",
      "Loading detection model vikp/surya_layout2 on device cpu with dtype torch.float32\n",
      "Loading detection model vikp/surya_det2 on device cpu with dtype torch.float32\n"
     ]
    },
    {
     "name": "stderr",
     "output_type": "stream",
     "text": [
      "Detecting bboxes: 100%|██████████| 1/1 [00:27<00:00, 27.32s/it]\n",
      "Detecting bboxes: 100%|██████████| 1/1 [00:22<00:00, 22.72s/it]\n"
     ]
    },
    {
     "name": "stdout",
     "output_type": "stream",
     "text": [
      "Wrote results to /Users/fajrzafar/Documents/Semester 8 /FYP 1/JSON_Files/JSON_PTB4/page_9\n"
     ]
    }
   ],
   "source": [
    "import os\n",
    "import subprocess\n",
    "\n",
    "def process_folder(image_folder, results_dir):\n",
    "    # List all image files in the folder\n",
    "    image_files = [file for file in os.listdir(image_folder) if file.lower().endswith(('.png', '.jpg', '.jpeg'))]\n",
    "    \n",
    "    # Iterate over each image file\n",
    "    for image_file in image_files:\n",
    "        # Construct the full path of the image file\n",
    "        image_path = os.path.join(image_folder, image_file)\n",
    "        \n",
    "        # Run Surya command for the current image file\n",
    "        subprocess.run([\"surya_layout\", image_path, \"--images\", \"--results_dir\", results_dir])\n",
    "\n",
    "# Example usage\n",
    "image_folder = \"/Users/fajrzafar/Documents/Semester 8 /FYP 1/Books PNGS/PTB4\"  # Update with the path to your image folder\n",
    "results_dir = \"/Users/fajrzafar/Documents/Semester 8 /FYP 1/JSON_Files/JSON_PTB4\"  # Update with the path to the folder where you want to save the results\n",
    "\n",
    "process_folder(image_folder, results_dir)\n"
   ]
  },
  {
   "cell_type": "code",
   "execution_count": null,
   "id": "d8ea8026-c79b-453e-a757-9cb567809375",
   "metadata": {},
   "outputs": [],
   "source": []
  },
  {
   "cell_type": "code",
   "execution_count": 3,
   "id": "9b325278-9130-4a8e-a842-78c143c0e57c",
   "metadata": {},
   "outputs": [
    {
     "name": "stdout",
     "output_type": "stream",
     "text": [
      "Loading detection model vikp/surya_layout2 on device cpu with dtype torch.float32\n",
      "Loading detection model vikp/surya_det2 on device cpu with dtype torch.float32\n"
     ]
    },
    {
     "name": "stderr",
     "output_type": "stream",
     "text": [
      "Detecting bboxes: 100%|██████████| 1/1 [00:25<00:00, 25.29s/it]\n",
      "Detecting bboxes: 100%|██████████| 1/1 [00:19<00:00, 19.86s/it]\n"
     ]
    },
    {
     "name": "stdout",
     "output_type": "stream",
     "text": [
      "Wrote results to /Users/fajrzafar/Documents/Semester 8 /FYP 1/JSON_Files/JSON_PTB5/page_2\n",
      "Loading detection model vikp/surya_layout2 on device cpu with dtype torch.float32\n",
      "Loading detection model vikp/surya_det2 on device cpu with dtype torch.float32\n"
     ]
    },
    {
     "name": "stderr",
     "output_type": "stream",
     "text": [
      "Detecting bboxes: 100%|██████████| 1/1 [00:24<00:00, 24.34s/it]\n",
      "Detecting bboxes: 100%|██████████| 1/1 [00:20<00:00, 20.20s/it]\n"
     ]
    },
    {
     "name": "stdout",
     "output_type": "stream",
     "text": [
      "Wrote results to /Users/fajrzafar/Documents/Semester 8 /FYP 1/JSON_Files/JSON_PTB5/page_3\n",
      "Loading detection model vikp/surya_layout2 on device cpu with dtype torch.float32\n",
      "Loading detection model vikp/surya_det2 on device cpu with dtype torch.float32\n"
     ]
    },
    {
     "name": "stderr",
     "output_type": "stream",
     "text": [
      "Detecting bboxes: 100%|██████████| 1/1 [00:25<00:00, 25.52s/it]\n",
      "Detecting bboxes: 100%|██████████| 1/1 [00:20<00:00, 20.60s/it]\n"
     ]
    },
    {
     "name": "stdout",
     "output_type": "stream",
     "text": [
      "Wrote results to /Users/fajrzafar/Documents/Semester 8 /FYP 1/JSON_Files/JSON_PTB5/page_1\n",
      "Loading detection model vikp/surya_layout2 on device cpu with dtype torch.float32\n",
      "Loading detection model vikp/surya_det2 on device cpu with dtype torch.float32\n"
     ]
    },
    {
     "name": "stderr",
     "output_type": "stream",
     "text": [
      "Detecting bboxes: 100%|██████████| 1/1 [00:25<00:00, 25.15s/it]\n",
      "Detecting bboxes: 100%|██████████| 1/1 [00:20<00:00, 20.81s/it]\n"
     ]
    },
    {
     "name": "stdout",
     "output_type": "stream",
     "text": [
      "Wrote results to /Users/fajrzafar/Documents/Semester 8 /FYP 1/JSON_Files/JSON_PTB5/page_4\n",
      "Loading detection model vikp/surya_layout2 on device cpu with dtype torch.float32\n",
      "Loading detection model vikp/surya_det2 on device cpu with dtype torch.float32\n"
     ]
    },
    {
     "name": "stderr",
     "output_type": "stream",
     "text": [
      "Detecting bboxes: 100%|██████████| 1/1 [00:25<00:00, 25.55s/it]\n",
      "Detecting bboxes: 100%|██████████| 1/1 [00:21<00:00, 21.24s/it]\n"
     ]
    },
    {
     "name": "stdout",
     "output_type": "stream",
     "text": [
      "Wrote results to /Users/fajrzafar/Documents/Semester 8 /FYP 1/JSON_Files/JSON_PTB5/page_5\n",
      "Loading detection model vikp/surya_layout2 on device cpu with dtype torch.float32\n",
      "Loading detection model vikp/surya_det2 on device cpu with dtype torch.float32\n"
     ]
    },
    {
     "name": "stderr",
     "output_type": "stream",
     "text": [
      "Detecting bboxes: 100%|██████████| 1/1 [00:25<00:00, 25.43s/it]\n",
      "Detecting bboxes: 100%|██████████| 1/1 [00:21<00:00, 21.24s/it]\n"
     ]
    },
    {
     "name": "stdout",
     "output_type": "stream",
     "text": [
      "Wrote results to /Users/fajrzafar/Documents/Semester 8 /FYP 1/JSON_Files/JSON_PTB5/page_7\n",
      "Loading detection model vikp/surya_layout2 on device cpu with dtype torch.float32\n",
      "Loading detection model vikp/surya_det2 on device cpu with dtype torch.float32\n"
     ]
    },
    {
     "name": "stderr",
     "output_type": "stream",
     "text": [
      "Detecting bboxes: 100%|██████████| 1/1 [00:25<00:00, 25.89s/it]\n",
      "Detecting bboxes: 100%|██████████| 1/1 [00:21<00:00, 21.93s/it]\n"
     ]
    },
    {
     "name": "stdout",
     "output_type": "stream",
     "text": [
      "Wrote results to /Users/fajrzafar/Documents/Semester 8 /FYP 1/JSON_Files/JSON_PTB5/page_6\n",
      "Loading detection model vikp/surya_layout2 on device cpu with dtype torch.float32\n",
      "Loading detection model vikp/surya_det2 on device cpu with dtype torch.float32\n"
     ]
    },
    {
     "name": "stderr",
     "output_type": "stream",
     "text": [
      "Detecting bboxes: 100%|██████████| 1/1 [00:29<00:00, 29.32s/it]\n",
      "Detecting bboxes: 100%|██████████| 1/1 [00:22<00:00, 22.98s/it]\n"
     ]
    },
    {
     "name": "stdout",
     "output_type": "stream",
     "text": [
      "Wrote results to /Users/fajrzafar/Documents/Semester 8 /FYP 1/JSON_Files/JSON_PTB5/page_19\n",
      "Loading detection model vikp/surya_layout2 on device cpu with dtype torch.float32\n",
      "Loading detection model vikp/surya_det2 on device cpu with dtype torch.float32\n"
     ]
    },
    {
     "name": "stderr",
     "output_type": "stream",
     "text": [
      "Detecting bboxes: 100%|██████████| 1/1 [00:26<00:00, 26.71s/it]\n",
      "Detecting bboxes: 100%|██████████| 1/1 [00:22<00:00, 22.13s/it]\n"
     ]
    },
    {
     "name": "stdout",
     "output_type": "stream",
     "text": [
      "Wrote results to /Users/fajrzafar/Documents/Semester 8 /FYP 1/JSON_Files/JSON_PTB5/page_25\n",
      "Loading detection model vikp/surya_layout2 on device cpu with dtype torch.float32\n",
      "Loading detection model vikp/surya_det2 on device cpu with dtype torch.float32\n"
     ]
    },
    {
     "name": "stderr",
     "output_type": "stream",
     "text": [
      "Detecting bboxes: 100%|██████████| 1/1 [00:27<00:00, 27.63s/it]\n",
      "Detecting bboxes: 100%|██████████| 1/1 [00:22<00:00, 22.22s/it]\n"
     ]
    },
    {
     "name": "stdout",
     "output_type": "stream",
     "text": [
      "Wrote results to /Users/fajrzafar/Documents/Semester 8 /FYP 1/JSON_Files/JSON_PTB5/page_31\n",
      "Loading detection model vikp/surya_layout2 on device cpu with dtype torch.float32\n",
      "Loading detection model vikp/surya_det2 on device cpu with dtype torch.float32\n"
     ]
    },
    {
     "name": "stderr",
     "output_type": "stream",
     "text": [
      "Detecting bboxes: 100%|██████████| 1/1 [00:27<00:00, 27.48s/it]\n",
      "Detecting bboxes: 100%|██████████| 1/1 [00:24<00:00, 24.80s/it]\n"
     ]
    },
    {
     "name": "stdout",
     "output_type": "stream",
     "text": [
      "Wrote results to /Users/fajrzafar/Documents/Semester 8 /FYP 1/JSON_Files/JSON_PTB5/page_30\n",
      "Loading detection model vikp/surya_layout2 on device cpu with dtype torch.float32\n",
      "Loading detection model vikp/surya_det2 on device cpu with dtype torch.float32\n"
     ]
    },
    {
     "name": "stderr",
     "output_type": "stream",
     "text": [
      "Detecting bboxes: 100%|██████████| 1/1 [00:27<00:00, 27.40s/it]\n",
      "Detecting bboxes: 100%|██████████| 1/1 [00:22<00:00, 22.22s/it]\n"
     ]
    },
    {
     "name": "stdout",
     "output_type": "stream",
     "text": [
      "Wrote results to /Users/fajrzafar/Documents/Semester 8 /FYP 1/JSON_Files/JSON_PTB5/page_24\n",
      "Loading detection model vikp/surya_layout2 on device cpu with dtype torch.float32\n",
      "Loading detection model vikp/surya_det2 on device cpu with dtype torch.float32\n"
     ]
    },
    {
     "name": "stderr",
     "output_type": "stream",
     "text": [
      "Detecting bboxes: 100%|██████████| 1/1 [00:27<00:00, 27.03s/it]\n",
      "Detecting bboxes: 100%|██████████| 1/1 [00:22<00:00, 22.03s/it]\n"
     ]
    },
    {
     "name": "stdout",
     "output_type": "stream",
     "text": [
      "Wrote results to /Users/fajrzafar/Documents/Semester 8 /FYP 1/JSON_Files/JSON_PTB5/page_18\n",
      "Loading detection model vikp/surya_layout2 on device cpu with dtype torch.float32\n",
      "Loading detection model vikp/surya_det2 on device cpu with dtype torch.float32\n"
     ]
    },
    {
     "name": "stderr",
     "output_type": "stream",
     "text": [
      "Detecting bboxes: 100%|██████████| 1/1 [00:26<00:00, 26.66s/it]\n",
      "Detecting bboxes: 100%|██████████| 1/1 [00:21<00:00, 21.80s/it]\n"
     ]
    },
    {
     "name": "stdout",
     "output_type": "stream",
     "text": [
      "Wrote results to /Users/fajrzafar/Documents/Semester 8 /FYP 1/JSON_Files/JSON_PTB5/page_32\n",
      "Loading detection model vikp/surya_layout2 on device cpu with dtype torch.float32\n",
      "Loading detection model vikp/surya_det2 on device cpu with dtype torch.float32\n"
     ]
    },
    {
     "name": "stderr",
     "output_type": "stream",
     "text": [
      "Detecting bboxes: 100%|██████████| 1/1 [00:27<00:00, 27.24s/it]\n",
      "Detecting bboxes: 100%|██████████| 1/1 [00:21<00:00, 21.98s/it]\n"
     ]
    },
    {
     "name": "stdout",
     "output_type": "stream",
     "text": [
      "Wrote results to /Users/fajrzafar/Documents/Semester 8 /FYP 1/JSON_Files/JSON_PTB5/page_26\n",
      "Loading detection model vikp/surya_layout2 on device cpu with dtype torch.float32\n",
      "Loading detection model vikp/surya_det2 on device cpu with dtype torch.float32\n"
     ]
    },
    {
     "name": "stderr",
     "output_type": "stream",
     "text": [
      "Detecting bboxes: 100%|██████████| 1/1 [00:28<00:00, 28.32s/it]\n",
      "Detecting bboxes: 100%|██████████| 1/1 [00:22<00:00, 22.13s/it]\n"
     ]
    },
    {
     "name": "stdout",
     "output_type": "stream",
     "text": [
      "Wrote results to /Users/fajrzafar/Documents/Semester 8 /FYP 1/JSON_Files/JSON_PTB5/page_27\n",
      "Loading detection model vikp/surya_layout2 on device cpu with dtype torch.float32\n",
      "Loading detection model vikp/surya_det2 on device cpu with dtype torch.float32\n"
     ]
    },
    {
     "name": "stderr",
     "output_type": "stream",
     "text": [
      "Detecting bboxes: 100%|██████████| 1/1 [00:27<00:00, 27.21s/it]\n",
      "Detecting bboxes: 100%|██████████| 1/1 [00:21<00:00, 21.96s/it]\n"
     ]
    },
    {
     "name": "stdout",
     "output_type": "stream",
     "text": [
      "Wrote results to /Users/fajrzafar/Documents/Semester 8 /FYP 1/JSON_Files/JSON_PTB5/page_33\n",
      "Loading detection model vikp/surya_layout2 on device cpu with dtype torch.float32\n",
      "Loading detection model vikp/surya_det2 on device cpu with dtype torch.float32\n"
     ]
    },
    {
     "name": "stderr",
     "output_type": "stream",
     "text": [
      "Detecting bboxes: 100%|██████████| 1/1 [00:26<00:00, 26.87s/it]\n",
      "Detecting bboxes: 100%|██████████| 1/1 [00:21<00:00, 21.71s/it]\n"
     ]
    },
    {
     "name": "stdout",
     "output_type": "stream",
     "text": [
      "Wrote results to /Users/fajrzafar/Documents/Semester 8 /FYP 1/JSON_Files/JSON_PTB5/page_23\n",
      "Loading detection model vikp/surya_layout2 on device cpu with dtype torch.float32\n",
      "Loading detection model vikp/surya_det2 on device cpu with dtype torch.float32\n"
     ]
    },
    {
     "name": "stderr",
     "output_type": "stream",
     "text": [
      "Detecting bboxes: 100%|██████████| 1/1 [00:26<00:00, 26.24s/it]\n",
      "Detecting bboxes: 100%|██████████| 1/1 [00:21<00:00, 21.73s/it]\n"
     ]
    },
    {
     "name": "stdout",
     "output_type": "stream",
     "text": [
      "Wrote results to /Users/fajrzafar/Documents/Semester 8 /FYP 1/JSON_Files/JSON_PTB5/page_22\n",
      "Loading detection model vikp/surya_layout2 on device cpu with dtype torch.float32\n",
      "Loading detection model vikp/surya_det2 on device cpu with dtype torch.float32\n"
     ]
    },
    {
     "name": "stderr",
     "output_type": "stream",
     "text": [
      "Detecting bboxes: 100%|██████████| 1/1 [00:26<00:00, 26.49s/it]\n",
      "Detecting bboxes: 100%|██████████| 1/1 [00:21<00:00, 21.67s/it]\n"
     ]
    },
    {
     "name": "stdout",
     "output_type": "stream",
     "text": [
      "Wrote results to /Users/fajrzafar/Documents/Semester 8 /FYP 1/JSON_Files/JSON_PTB5/page_20\n",
      "Loading detection model vikp/surya_layout2 on device cpu with dtype torch.float32\n",
      "Loading detection model vikp/surya_det2 on device cpu with dtype torch.float32\n"
     ]
    },
    {
     "name": "stderr",
     "output_type": "stream",
     "text": [
      "Detecting bboxes: 100%|██████████| 1/1 [00:27<00:00, 27.60s/it]\n",
      "Detecting bboxes: 100%|██████████| 1/1 [00:22<00:00, 22.18s/it]\n"
     ]
    },
    {
     "name": "stdout",
     "output_type": "stream",
     "text": [
      "Wrote results to /Users/fajrzafar/Documents/Semester 8 /FYP 1/JSON_Files/JSON_PTB5/page_34\n",
      "Loading detection model vikp/surya_layout2 on device cpu with dtype torch.float32\n",
      "Loading detection model vikp/surya_det2 on device cpu with dtype torch.float32\n"
     ]
    },
    {
     "name": "stderr",
     "output_type": "stream",
     "text": [
      "Detecting bboxes: 100%|██████████| 1/1 [00:29<00:00, 29.21s/it]\n",
      "Detecting bboxes: 100%|██████████| 1/1 [00:22<00:00, 22.39s/it]\n"
     ]
    },
    {
     "name": "stdout",
     "output_type": "stream",
     "text": [
      "Wrote results to /Users/fajrzafar/Documents/Semester 8 /FYP 1/JSON_Files/JSON_PTB5/page_21\n",
      "Loading detection model vikp/surya_layout2 on device cpu with dtype torch.float32\n",
      "Loading detection model vikp/surya_det2 on device cpu with dtype torch.float32\n"
     ]
    },
    {
     "name": "stderr",
     "output_type": "stream",
     "text": [
      "Detecting bboxes: 100%|██████████| 1/1 [00:27<00:00, 27.36s/it]\n",
      "Detecting bboxes: 100%|██████████| 1/1 [00:22<00:00, 22.19s/it]\n"
     ]
    },
    {
     "name": "stdout",
     "output_type": "stream",
     "text": [
      "Wrote results to /Users/fajrzafar/Documents/Semester 8 /FYP 1/JSON_Files/JSON_PTB5/page_10\n",
      "Loading detection model vikp/surya_layout2 on device cpu with dtype torch.float32\n",
      "Loading detection model vikp/surya_det2 on device cpu with dtype torch.float32\n"
     ]
    },
    {
     "name": "stderr",
     "output_type": "stream",
     "text": [
      "Detecting bboxes: 100%|██████████| 1/1 [00:26<00:00, 26.99s/it]\n",
      "Detecting bboxes: 100%|██████████| 1/1 [00:22<00:00, 22.40s/it]\n"
     ]
    },
    {
     "name": "stdout",
     "output_type": "stream",
     "text": [
      "Wrote results to /Users/fajrzafar/Documents/Semester 8 /FYP 1/JSON_Files/JSON_PTB5/page_11\n",
      "Loading detection model vikp/surya_layout2 on device cpu with dtype torch.float32\n",
      "Loading detection model vikp/surya_det2 on device cpu with dtype torch.float32\n"
     ]
    },
    {
     "name": "stderr",
     "output_type": "stream",
     "text": [
      "Detecting bboxes: 100%|██████████| 1/1 [00:28<00:00, 28.39s/it]\n",
      "Detecting bboxes: 100%|██████████| 1/1 [00:22<00:00, 22.72s/it]\n"
     ]
    },
    {
     "name": "stdout",
     "output_type": "stream",
     "text": [
      "Wrote results to /Users/fajrzafar/Documents/Semester 8 /FYP 1/JSON_Files/JSON_PTB5/page_13\n",
      "Loading detection model vikp/surya_layout2 on device cpu with dtype torch.float32\n",
      "Loading detection model vikp/surya_det2 on device cpu with dtype torch.float32\n"
     ]
    },
    {
     "name": "stderr",
     "output_type": "stream",
     "text": [
      "Detecting bboxes: 100%|██████████| 1/1 [00:27<00:00, 27.81s/it]\n",
      "Detecting bboxes: 100%|██████████| 1/1 [00:22<00:00, 22.60s/it]\n"
     ]
    },
    {
     "name": "stdout",
     "output_type": "stream",
     "text": [
      "Wrote results to /Users/fajrzafar/Documents/Semester 8 /FYP 1/JSON_Files/JSON_PTB5/page_12\n",
      "Loading detection model vikp/surya_layout2 on device cpu with dtype torch.float32\n",
      "Loading detection model vikp/surya_det2 on device cpu with dtype torch.float32\n"
     ]
    },
    {
     "name": "stderr",
     "output_type": "stream",
     "text": [
      "Detecting bboxes: 100%|██████████| 1/1 [00:27<00:00, 27.41s/it]\n",
      "Detecting bboxes: 100%|██████████| 1/1 [00:22<00:00, 22.78s/it]\n"
     ]
    },
    {
     "name": "stdout",
     "output_type": "stream",
     "text": [
      "Wrote results to /Users/fajrzafar/Documents/Semester 8 /FYP 1/JSON_Files/JSON_PTB5/page_16\n",
      "Loading detection model vikp/surya_layout2 on device cpu with dtype torch.float32\n",
      "Loading detection model vikp/surya_det2 on device cpu with dtype torch.float32\n"
     ]
    },
    {
     "name": "stderr",
     "output_type": "stream",
     "text": [
      "Detecting bboxes: 100%|██████████| 1/1 [00:28<00:00, 28.58s/it]\n",
      "Detecting bboxes: 100%|██████████| 1/1 [00:25<00:00, 25.40s/it]\n"
     ]
    },
    {
     "name": "stdout",
     "output_type": "stream",
     "text": [
      "Wrote results to /Users/fajrzafar/Documents/Semester 8 /FYP 1/JSON_Files/JSON_PTB5/page_17\n",
      "Loading detection model vikp/surya_layout2 on device cpu with dtype torch.float32\n",
      "Loading detection model vikp/surya_det2 on device cpu with dtype torch.float32\n"
     ]
    },
    {
     "name": "stderr",
     "output_type": "stream",
     "text": [
      "Detecting bboxes: 100%|██████████| 1/1 [00:32<00:00, 32.54s/it]\n",
      "Detecting bboxes: 100%|██████████| 1/1 [00:26<00:00, 26.81s/it]\n"
     ]
    },
    {
     "name": "stdout",
     "output_type": "stream",
     "text": [
      "Wrote results to /Users/fajrzafar/Documents/Semester 8 /FYP 1/JSON_Files/JSON_PTB5/page_15\n",
      "Loading detection model vikp/surya_layout2 on device cpu with dtype torch.float32\n",
      "Loading detection model vikp/surya_det2 on device cpu with dtype torch.float32\n"
     ]
    },
    {
     "name": "stderr",
     "output_type": "stream",
     "text": [
      "Detecting bboxes: 100%|██████████| 1/1 [00:31<00:00, 31.62s/it]\n",
      "Detecting bboxes: 100%|██████████| 1/1 [00:26<00:00, 26.87s/it]\n"
     ]
    },
    {
     "name": "stdout",
     "output_type": "stream",
     "text": [
      "Wrote results to /Users/fajrzafar/Documents/Semester 8 /FYP 1/JSON_Files/JSON_PTB5/page_29\n",
      "Loading detection model vikp/surya_layout2 on device cpu with dtype torch.float32\n",
      "Loading detection model vikp/surya_det2 on device cpu with dtype torch.float32\n"
     ]
    },
    {
     "name": "stderr",
     "output_type": "stream",
     "text": [
      "Detecting bboxes: 100%|██████████| 1/1 [00:30<00:00, 30.97s/it]\n",
      "Detecting bboxes: 100%|██████████| 1/1 [00:26<00:00, 26.72s/it]\n"
     ]
    },
    {
     "name": "stdout",
     "output_type": "stream",
     "text": [
      "Wrote results to /Users/fajrzafar/Documents/Semester 8 /FYP 1/JSON_Files/JSON_PTB5/page_28\n",
      "Loading detection model vikp/surya_layout2 on device cpu with dtype torch.float32\n",
      "Loading detection model vikp/surya_det2 on device cpu with dtype torch.float32\n"
     ]
    },
    {
     "name": "stderr",
     "output_type": "stream",
     "text": [
      "Detecting bboxes: 100%|██████████| 1/1 [00:32<00:00, 32.88s/it]\n",
      "Detecting bboxes: 100%|██████████| 1/1 [00:27<00:00, 27.88s/it]\n"
     ]
    },
    {
     "name": "stdout",
     "output_type": "stream",
     "text": [
      "Wrote results to /Users/fajrzafar/Documents/Semester 8 /FYP 1/JSON_Files/JSON_PTB5/page_14\n",
      "Loading detection model vikp/surya_layout2 on device cpu with dtype torch.float32\n",
      "Loading detection model vikp/surya_det2 on device cpu with dtype torch.float32\n"
     ]
    },
    {
     "name": "stderr",
     "output_type": "stream",
     "text": [
      "Detecting bboxes: 100%|██████████| 1/1 [00:32<00:00, 32.36s/it]\n",
      "Detecting bboxes: 100%|██████████| 1/1 [00:27<00:00, 27.41s/it]\n"
     ]
    },
    {
     "name": "stdout",
     "output_type": "stream",
     "text": [
      "Wrote results to /Users/fajrzafar/Documents/Semester 8 /FYP 1/JSON_Files/JSON_PTB5/page_8\n",
      "Loading detection model vikp/surya_layout2 on device cpu with dtype torch.float32\n",
      "Loading detection model vikp/surya_det2 on device cpu with dtype torch.float32\n"
     ]
    },
    {
     "name": "stderr",
     "output_type": "stream",
     "text": [
      "Detecting bboxes: 100%|██████████| 1/1 [00:32<00:00, 32.62s/it]\n",
      "Detecting bboxes: 100%|██████████| 1/1 [00:27<00:00, 27.59s/it]\n"
     ]
    },
    {
     "name": "stdout",
     "output_type": "stream",
     "text": [
      "Wrote results to /Users/fajrzafar/Documents/Semester 8 /FYP 1/JSON_Files/JSON_PTB5/page_9\n"
     ]
    }
   ],
   "source": [
    "import os\n",
    "import subprocess\n",
    "\n",
    "def process_folder(image_folder, results_dir):\n",
    "    # List all image files in the folder\n",
    "    image_files = [file for file in os.listdir(image_folder) if file.lower().endswith(('.png', '.jpg', '.jpeg'))]\n",
    "    \n",
    "    # Iterate over each image file\n",
    "    for image_file in image_files:\n",
    "        # Construct the full path of the image file\n",
    "        image_path = os.path.join(image_folder, image_file)\n",
    "        \n",
    "        # Run Surya command for the current image file\n",
    "        subprocess.run([\"surya_layout\", image_path, \"--images\", \"--results_dir\", results_dir])\n",
    "\n",
    "# Example usage\n",
    "image_folder = \"/Users/fajrzafar/Documents/Semester 8 /FYP 1/Books PNGS/PTB5\"  # Update with the path to your image folder\n",
    "results_dir = \"/Users/fajrzafar/Documents/Semester 8 /FYP 1/JSON_Files/JSON_PTB5\"  # Update with the path to the folder where you want to save the results\n",
    "\n",
    "process_folder(image_folder, results_dir)\n"
   ]
  },
  {
   "cell_type": "code",
   "execution_count": null,
   "id": "d8ba9c7d-6d81-4232-bf1a-877fe5cc1d46",
   "metadata": {},
   "outputs": [],
   "source": []
  },
  {
   "cell_type": "code",
   "execution_count": 5,
   "id": "a7f4bf0a-bd3e-47fa-94c7-12c35177db43",
   "metadata": {},
   "outputs": [
    {
     "name": "stdout",
     "output_type": "stream",
     "text": [
      "Loading detection model vikp/surya_layout2 on device cpu with dtype torch.float32\n",
      "Loading detection model vikp/surya_det2 on device cpu with dtype torch.float32\n"
     ]
    },
    {
     "name": "stderr",
     "output_type": "stream",
     "text": [
      "Detecting bboxes: 100%|██████████| 1/1 [00:24<00:00, 24.77s/it]\n",
      "Detecting bboxes: 100%|██████████| 1/1 [00:20<00:00, 20.01s/it]\n"
     ]
    },
    {
     "name": "stdout",
     "output_type": "stream",
     "text": [
      "Wrote results to /Users/fajrzafar/Documents/Semester 8 /FYP 1/JSON_Files/JSON_PRIMERBOOK/page_2\n",
      "Loading detection model vikp/surya_layout2 on device cpu with dtype torch.float32\n",
      "Loading detection model vikp/surya_det2 on device cpu with dtype torch.float32\n"
     ]
    },
    {
     "name": "stderr",
     "output_type": "stream",
     "text": [
      "Detecting bboxes: 100%|██████████| 1/1 [00:24<00:00, 24.74s/it]\n",
      "Detecting bboxes: 100%|██████████| 1/1 [00:20<00:00, 20.78s/it]\n"
     ]
    },
    {
     "name": "stdout",
     "output_type": "stream",
     "text": [
      "Wrote results to /Users/fajrzafar/Documents/Semester 8 /FYP 1/JSON_Files/JSON_PRIMERBOOK/page_3\n",
      "Loading detection model vikp/surya_layout2 on device cpu with dtype torch.float32\n",
      "Loading detection model vikp/surya_det2 on device cpu with dtype torch.float32\n"
     ]
    },
    {
     "name": "stderr",
     "output_type": "stream",
     "text": [
      "Detecting bboxes: 100%|██████████| 1/1 [00:25<00:00, 25.47s/it]\n",
      "Detecting bboxes: 100%|██████████| 1/1 [00:20<00:00, 20.83s/it]\n"
     ]
    },
    {
     "name": "stdout",
     "output_type": "stream",
     "text": [
      "Wrote results to /Users/fajrzafar/Documents/Semester 8 /FYP 1/JSON_Files/JSON_PRIMERBOOK/page_1\n",
      "Loading detection model vikp/surya_layout2 on device cpu with dtype torch.float32\n",
      "Loading detection model vikp/surya_det2 on device cpu with dtype torch.float32\n"
     ]
    },
    {
     "name": "stderr",
     "output_type": "stream",
     "text": [
      "Detecting bboxes: 100%|██████████| 1/1 [00:25<00:00, 25.93s/it]\n",
      "Detecting bboxes: 100%|██████████| 1/1 [00:21<00:00, 21.30s/it]\n"
     ]
    },
    {
     "name": "stdout",
     "output_type": "stream",
     "text": [
      "Wrote results to /Users/fajrzafar/Documents/Semester 8 /FYP 1/JSON_Files/JSON_PRIMERBOOK/page_4\n",
      "Loading detection model vikp/surya_layout2 on device cpu with dtype torch.float32\n",
      "Loading detection model vikp/surya_det2 on device cpu with dtype torch.float32\n"
     ]
    },
    {
     "name": "stderr",
     "output_type": "stream",
     "text": [
      "Detecting bboxes: 100%|██████████| 1/1 [00:26<00:00, 26.26s/it]\n",
      "Detecting bboxes: 100%|██████████| 1/1 [00:21<00:00, 21.61s/it]\n"
     ]
    },
    {
     "name": "stdout",
     "output_type": "stream",
     "text": [
      "Wrote results to /Users/fajrzafar/Documents/Semester 8 /FYP 1/JSON_Files/JSON_PRIMERBOOK/page_5\n",
      "Loading detection model vikp/surya_layout2 on device cpu with dtype torch.float32\n",
      "Loading detection model vikp/surya_det2 on device cpu with dtype torch.float32\n"
     ]
    },
    {
     "name": "stderr",
     "output_type": "stream",
     "text": [
      "Detecting bboxes: 100%|██████████| 1/1 [00:26<00:00, 26.30s/it]\n",
      "Detecting bboxes: 100%|██████████| 1/1 [00:21<00:00, 21.89s/it]\n"
     ]
    },
    {
     "name": "stdout",
     "output_type": "stream",
     "text": [
      "Wrote results to /Users/fajrzafar/Documents/Semester 8 /FYP 1/JSON_Files/JSON_PRIMERBOOK/page_7\n",
      "Loading detection model vikp/surya_layout2 on device cpu with dtype torch.float32\n",
      "Loading detection model vikp/surya_det2 on device cpu with dtype torch.float32\n"
     ]
    },
    {
     "name": "stderr",
     "output_type": "stream",
     "text": [
      "Detecting bboxes: 100%|██████████| 1/1 [00:26<00:00, 26.43s/it]\n",
      "Detecting bboxes: 100%|██████████| 1/1 [00:22<00:00, 22.06s/it]\n"
     ]
    },
    {
     "name": "stdout",
     "output_type": "stream",
     "text": [
      "Wrote results to /Users/fajrzafar/Documents/Semester 8 /FYP 1/JSON_Files/JSON_PRIMERBOOK/page_6\n",
      "Loading detection model vikp/surya_layout2 on device cpu with dtype torch.float32\n",
      "Loading detection model vikp/surya_det2 on device cpu with dtype torch.float32\n"
     ]
    },
    {
     "name": "stderr",
     "output_type": "stream",
     "text": [
      "Detecting bboxes: 100%|██████████| 1/1 [00:27<00:00, 27.39s/it]\n",
      "Detecting bboxes: 100%|██████████| 1/1 [00:22<00:00, 22.05s/it]\n"
     ]
    },
    {
     "name": "stdout",
     "output_type": "stream",
     "text": [
      "Wrote results to /Users/fajrzafar/Documents/Semester 8 /FYP 1/JSON_Files/JSON_PRIMERBOOK/page_19\n",
      "Loading detection model vikp/surya_layout2 on device cpu with dtype torch.float32\n",
      "Loading detection model vikp/surya_det2 on device cpu with dtype torch.float32\n"
     ]
    },
    {
     "name": "stderr",
     "output_type": "stream",
     "text": [
      "Detecting bboxes: 100%|██████████| 1/1 [00:26<00:00, 26.69s/it]\n",
      "Detecting bboxes: 100%|██████████| 1/1 [00:21<00:00, 21.96s/it]\n"
     ]
    },
    {
     "name": "stdout",
     "output_type": "stream",
     "text": [
      "Wrote results to /Users/fajrzafar/Documents/Semester 8 /FYP 1/JSON_Files/JSON_PRIMERBOOK/page_18\n",
      "Loading detection model vikp/surya_layout2 on device cpu with dtype torch.float32\n",
      "Loading detection model vikp/surya_det2 on device cpu with dtype torch.float32\n"
     ]
    },
    {
     "name": "stderr",
     "output_type": "stream",
     "text": [
      "Detecting bboxes: 100%|██████████| 1/1 [00:26<00:00, 26.70s/it]\n",
      "Detecting bboxes: 100%|██████████| 1/1 [00:22<00:00, 22.22s/it]\n"
     ]
    },
    {
     "name": "stdout",
     "output_type": "stream",
     "text": [
      "Wrote results to /Users/fajrzafar/Documents/Semester 8 /FYP 1/JSON_Files/JSON_PRIMERBOOK/page_23\n",
      "Loading detection model vikp/surya_layout2 on device cpu with dtype torch.float32\n",
      "Loading detection model vikp/surya_det2 on device cpu with dtype torch.float32\n"
     ]
    },
    {
     "name": "stderr",
     "output_type": "stream",
     "text": [
      "Detecting bboxes: 100%|██████████| 1/1 [00:26<00:00, 26.91s/it]\n",
      "Detecting bboxes: 100%|██████████| 1/1 [00:21<00:00, 21.92s/it]\n"
     ]
    },
    {
     "name": "stdout",
     "output_type": "stream",
     "text": [
      "Wrote results to /Users/fajrzafar/Documents/Semester 8 /FYP 1/JSON_Files/JSON_PRIMERBOOK/page_22\n",
      "Loading detection model vikp/surya_layout2 on device cpu with dtype torch.float32\n",
      "Loading detection model vikp/surya_det2 on device cpu with dtype torch.float32\n"
     ]
    },
    {
     "name": "stderr",
     "output_type": "stream",
     "text": [
      "Detecting bboxes: 100%|██████████| 1/1 [00:26<00:00, 26.89s/it]\n",
      "Detecting bboxes: 100%|██████████| 1/1 [00:22<00:00, 22.35s/it]\n"
     ]
    },
    {
     "name": "stdout",
     "output_type": "stream",
     "text": [
      "Wrote results to /Users/fajrzafar/Documents/Semester 8 /FYP 1/JSON_Files/JSON_PRIMERBOOK/page_20\n",
      "Loading detection model vikp/surya_layout2 on device cpu with dtype torch.float32\n",
      "Loading detection model vikp/surya_det2 on device cpu with dtype torch.float32\n"
     ]
    },
    {
     "name": "stderr",
     "output_type": "stream",
     "text": [
      "Detecting bboxes: 100%|██████████| 1/1 [00:27<00:00, 27.20s/it]\n",
      "Detecting bboxes: 100%|██████████| 1/1 [00:22<00:00, 22.24s/it]\n"
     ]
    },
    {
     "name": "stdout",
     "output_type": "stream",
     "text": [
      "Wrote results to /Users/fajrzafar/Documents/Semester 8 /FYP 1/JSON_Files/JSON_PRIMERBOOK/page_21\n",
      "Loading detection model vikp/surya_layout2 on device cpu with dtype torch.float32\n",
      "Loading detection model vikp/surya_det2 on device cpu with dtype torch.float32\n"
     ]
    },
    {
     "name": "stderr",
     "output_type": "stream",
     "text": [
      "Detecting bboxes: 100%|██████████| 1/1 [00:27<00:00, 27.14s/it]\n",
      "Detecting bboxes: 100%|██████████| 1/1 [00:22<00:00, 22.38s/it]\n"
     ]
    },
    {
     "name": "stdout",
     "output_type": "stream",
     "text": [
      "Wrote results to /Users/fajrzafar/Documents/Semester 8 /FYP 1/JSON_Files/JSON_PRIMERBOOK/page_10\n",
      "Loading detection model vikp/surya_layout2 on device cpu with dtype torch.float32\n",
      "Loading detection model vikp/surya_det2 on device cpu with dtype torch.float32\n"
     ]
    },
    {
     "name": "stderr",
     "output_type": "stream",
     "text": [
      "Detecting bboxes: 100%|██████████| 1/1 [00:27<00:00, 27.74s/it]\n",
      "Detecting bboxes: 100%|██████████| 1/1 [00:22<00:00, 22.85s/it]\n"
     ]
    },
    {
     "name": "stdout",
     "output_type": "stream",
     "text": [
      "Wrote results to /Users/fajrzafar/Documents/Semester 8 /FYP 1/JSON_Files/JSON_PRIMERBOOK/page_11\n",
      "Loading detection model vikp/surya_layout2 on device cpu with dtype torch.float32\n",
      "Loading detection model vikp/surya_det2 on device cpu with dtype torch.float32\n"
     ]
    },
    {
     "name": "stderr",
     "output_type": "stream",
     "text": [
      "Detecting bboxes: 100%|██████████| 1/1 [00:27<00:00, 27.25s/it]\n",
      "Detecting bboxes: 100%|██████████| 1/1 [00:22<00:00, 22.77s/it]\n"
     ]
    },
    {
     "name": "stdout",
     "output_type": "stream",
     "text": [
      "Wrote results to /Users/fajrzafar/Documents/Semester 8 /FYP 1/JSON_Files/JSON_PRIMERBOOK/page_13\n",
      "Loading detection model vikp/surya_layout2 on device cpu with dtype torch.float32\n",
      "Loading detection model vikp/surya_det2 on device cpu with dtype torch.float32\n"
     ]
    },
    {
     "name": "stderr",
     "output_type": "stream",
     "text": [
      "Detecting bboxes: 100%|██████████| 1/1 [00:27<00:00, 27.19s/it]\n",
      "Detecting bboxes: 100%|██████████| 1/1 [00:22<00:00, 22.86s/it]\n"
     ]
    },
    {
     "name": "stdout",
     "output_type": "stream",
     "text": [
      "Wrote results to /Users/fajrzafar/Documents/Semester 8 /FYP 1/JSON_Files/JSON_PRIMERBOOK/page_12\n",
      "Loading detection model vikp/surya_layout2 on device cpu with dtype torch.float32\n",
      "Loading detection model vikp/surya_det2 on device cpu with dtype torch.float32\n"
     ]
    },
    {
     "name": "stderr",
     "output_type": "stream",
     "text": [
      "Detecting bboxes: 100%|██████████| 1/1 [00:27<00:00, 27.63s/it]\n",
      "Detecting bboxes: 100%|██████████| 1/1 [00:22<00:00, 22.82s/it]\n"
     ]
    },
    {
     "name": "stdout",
     "output_type": "stream",
     "text": [
      "Wrote results to /Users/fajrzafar/Documents/Semester 8 /FYP 1/JSON_Files/JSON_PRIMERBOOK/page_16\n",
      "Loading detection model vikp/surya_layout2 on device cpu with dtype torch.float32\n",
      "Loading detection model vikp/surya_det2 on device cpu with dtype torch.float32\n"
     ]
    },
    {
     "name": "stderr",
     "output_type": "stream",
     "text": [
      "Detecting bboxes: 100%|██████████| 1/1 [00:27<00:00, 27.86s/it]\n",
      "Detecting bboxes: 100%|██████████| 1/1 [00:24<00:00, 24.01s/it]\n"
     ]
    },
    {
     "name": "stdout",
     "output_type": "stream",
     "text": [
      "Wrote results to /Users/fajrzafar/Documents/Semester 8 /FYP 1/JSON_Files/JSON_PRIMERBOOK/page_17\n",
      "Loading detection model vikp/surya_layout2 on device cpu with dtype torch.float32\n",
      "Loading detection model vikp/surya_det2 on device cpu with dtype torch.float32\n"
     ]
    },
    {
     "name": "stderr",
     "output_type": "stream",
     "text": [
      "Detecting bboxes: 100%|██████████| 1/1 [00:28<00:00, 28.61s/it]\n",
      "Detecting bboxes: 100%|██████████| 1/1 [00:23<00:00, 23.41s/it]\n"
     ]
    },
    {
     "name": "stdout",
     "output_type": "stream",
     "text": [
      "Wrote results to /Users/fajrzafar/Documents/Semester 8 /FYP 1/JSON_Files/JSON_PRIMERBOOK/page_15\n",
      "Loading detection model vikp/surya_layout2 on device cpu with dtype torch.float32\n",
      "Loading detection model vikp/surya_det2 on device cpu with dtype torch.float32\n"
     ]
    },
    {
     "name": "stderr",
     "output_type": "stream",
     "text": [
      "Detecting bboxes: 100%|██████████| 1/1 [00:27<00:00, 27.96s/it]\n",
      "Detecting bboxes: 100%|██████████| 1/1 [00:24<00:00, 24.31s/it]\n"
     ]
    },
    {
     "name": "stdout",
     "output_type": "stream",
     "text": [
      "Wrote results to /Users/fajrzafar/Documents/Semester 8 /FYP 1/JSON_Files/JSON_PRIMERBOOK/page_14\n",
      "Loading detection model vikp/surya_layout2 on device cpu with dtype torch.float32\n",
      "Loading detection model vikp/surya_det2 on device cpu with dtype torch.float32\n"
     ]
    },
    {
     "name": "stderr",
     "output_type": "stream",
     "text": [
      "Detecting bboxes: 100%|██████████| 1/1 [00:30<00:00, 30.84s/it]\n",
      "Detecting bboxes: 100%|██████████| 1/1 [00:26<00:00, 26.02s/it]\n"
     ]
    },
    {
     "name": "stdout",
     "output_type": "stream",
     "text": [
      "Wrote results to /Users/fajrzafar/Documents/Semester 8 /FYP 1/JSON_Files/JSON_PRIMERBOOK/page_8\n",
      "Loading detection model vikp/surya_layout2 on device cpu with dtype torch.float32\n",
      "Loading detection model vikp/surya_det2 on device cpu with dtype torch.float32\n"
     ]
    },
    {
     "name": "stderr",
     "output_type": "stream",
     "text": [
      "Detecting bboxes: 100%|██████████| 1/1 [00:30<00:00, 30.51s/it]\n",
      "Detecting bboxes: 100%|██████████| 1/1 [00:26<00:00, 26.46s/it]\n"
     ]
    },
    {
     "name": "stdout",
     "output_type": "stream",
     "text": [
      "Wrote results to /Users/fajrzafar/Documents/Semester 8 /FYP 1/JSON_Files/JSON_PRIMERBOOK/page_9\n"
     ]
    }
   ],
   "source": [
    "import os\n",
    "import subprocess\n",
    "\n",
    "def process_folder(image_folder, results_dir):\n",
    "    # List all image files in the folder\n",
    "    image_files = [file for file in os.listdir(image_folder) if file.lower().endswith(('.png', '.jpg', '.jpeg'))]\n",
    "    \n",
    "    # Iterate over each image file\n",
    "    for image_file in image_files:\n",
    "        # Construct the full path of the image file\n",
    "        image_path = os.path.join(image_folder, image_file)\n",
    "        \n",
    "        # Run Surya command for the current image file\n",
    "        subprocess.run([\"surya_layout\", image_path, \"--images\", \"--results_dir\", results_dir])\n",
    "\n",
    "# Example usage\n",
    "image_folder = \"/Users/fajrzafar/Documents/Semester 8 /FYP 1/Books PNGS/PrimerBook\"  # Update with the path to your image folder\n",
    "results_dir = \"/Users/fajrzafar/Documents/Semester 8 /FYP 1/JSON_Files/JSON_PRIMERBOOK\"  # Update with the path to the folder where you want to save the results\n",
    "\n",
    "process_folder(image_folder, results_dir)\n"
   ]
  },
  {
   "cell_type": "markdown",
   "id": "ec92fcc3-51a8-4737-81c9-c6810893d101",
   "metadata": {},
   "source": [
    "### Image extraction code for Grade 2 federal board book"
   ]
  },
  {
   "cell_type": "code",
   "execution_count": 7,
   "id": "28dc5f7e-4da7-4df0-bf77-0b9035c167d8",
   "metadata": {},
   "outputs": [],
   "source": [
    "import os\n",
    "import cv2\n",
    "import json\n",
    "\n",
    "def extract_images_from_json(json_file_path, image_path, output_folder):\n",
    "    # Load JSON file\n",
    "    with open(json_file_path, 'r') as f:\n",
    "        data = json.load(f)\n",
    "    \n",
    "    # Load the textbook page image\n",
    "    page_image = cv2.imread(image_path)\n",
    "    \n",
    "    # Get the page number from the image file name\n",
    "    page_number = os.path.splitext(os.path.basename(image_path))[0].split('_')[1]\n",
    "    \n",
    "    # Initialize counter for distinguishing between different figures or pictures\n",
    "    counter = 1\n",
    "    \n",
    "    # Extract bounding boxes of pictures and figures\n",
    "    for entry in data[\"page_\" + page_number]:\n",
    "        for bbox in entry['bboxes']:\n",
    "            label = bbox['label']\n",
    "            if label == 'Figure' or label == 'Picture':\n",
    "                x1, y1, x2, y2 = bbox['bbox']\n",
    "                # Extract the image region\n",
    "                image_region = page_image[y1:y2, x1:x2]\n",
    "                # Save the extracted image with a unique filename\n",
    "                output_path = os.path.join(output_folder, f\"{page_number}_{label}_{counter}.jpg\")\n",
    "                cv2.imwrite(output_path, image_region)\n",
    "                # Increment counter for the next image\n",
    "                counter += 1\n",
    "\n",
    "def process_folder(png_folder, json_folder, output_folder):\n",
    "    # List all PNG files in the folder\n",
    "    png_files = [file for file in os.listdir(png_folder) if file.lower().endswith('.png')]\n",
    "    \n",
    "    # Iterate over each PNG file\n",
    "    for png_file in png_files:\n",
    "        # Construct the path to the corresponding JSON file\n",
    "        page_number = os.path.splitext(png_file)[0].split('_')[1]  # Assuming the filename format is \"page_<number>.png\"\n",
    "        json_file_path = os.path.join(json_folder, f\"page_{page_number}\", \"results.json\")\n",
    "        \n",
    "        # Construct the path to the PNG file\n",
    "        image_path = os.path.join(png_folder, png_file)\n",
    "        \n",
    "        # Call function to extract images from JSON\n",
    "        extract_images_from_json(json_file_path, image_path, output_folder)\n",
    "\n",
    "# Example usage\n",
    "png_folder = \"/Users/fajrzafar/Documents/Semester 8 /FYP 1/Books PNGS/FED2\"  # Update with the path to your folder containing PNG files\n",
    "json_folder = \"/Users/fajrzafar/Documents/Semester 8 /FYP 1/JSON_Files/JSON_FED2\"  # Update with the path to the folder containing JSON files\n",
    "output_folder = \"/Users/fajrzafar/Documents/Semester 8 /FYP 1/Extracted_Images/Images_FED2\"  # Update with the path to the output folder\n",
    "process_folder(png_folder, json_folder, output_folder)\n"
   ]
  },
  {
   "cell_type": "markdown",
   "id": "8722e59e-4c2e-4eaa-9119-988cd381c55f",
   "metadata": {},
   "source": [
    "### Image extraction code for Grade 3 federal board book"
   ]
  },
  {
   "cell_type": "code",
   "execution_count": 9,
   "id": "971daca4-d5f2-45d5-9818-4fd1bef50c65",
   "metadata": {},
   "outputs": [],
   "source": [
    "import os\n",
    "import cv2\n",
    "import json\n",
    "\n",
    "def extract_images_from_json(json_file_path, image_path, output_folder):\n",
    "    # Load JSON file\n",
    "    with open(json_file_path, 'r') as f:\n",
    "        data = json.load(f)\n",
    "    \n",
    "    # Load the textbook page image\n",
    "    page_image = cv2.imread(image_path)\n",
    "    \n",
    "    # Get the page number from the image file name\n",
    "    page_number = os.path.splitext(os.path.basename(image_path))[0].split('_')[1]\n",
    "    \n",
    "    # Initialize counter for distinguishing between different figures or pictures\n",
    "    counter = 1\n",
    "    \n",
    "    # Extract bounding boxes of pictures and figures\n",
    "    for entry in data[\"page_\" + page_number]:\n",
    "        for bbox in entry['bboxes']:\n",
    "            label = bbox['label']\n",
    "            if label == 'Figure' or label == 'Picture':\n",
    "                x1, y1, x2, y2 = bbox['bbox']\n",
    "                # Extract the image region\n",
    "                image_region = page_image[y1:y2, x1:x2]\n",
    "                # Save the extracted image with a unique filename\n",
    "                output_path = os.path.join(output_folder, f\"{page_number}_{label}_{counter}.jpg\")\n",
    "                cv2.imwrite(output_path, image_region)\n",
    "                # Increment counter for the next image\n",
    "                counter += 1\n",
    "\n",
    "def process_folder(png_folder, json_folder, output_folder):\n",
    "    # List all PNG files in the folder\n",
    "    png_files = [file for file in os.listdir(png_folder) if file.lower().endswith('.png')]\n",
    "    \n",
    "    # Iterate over each PNG file\n",
    "    for png_file in png_files:\n",
    "        # Construct the path to the corresponding JSON file\n",
    "        page_number = os.path.splitext(png_file)[0].split('_')[1]  # Assuming the filename format is \"page_<number>.png\"\n",
    "        json_file_path = os.path.join(json_folder, f\"page_{page_number}\", \"results.json\")\n",
    "        \n",
    "        # Construct the path to the PNG file\n",
    "        image_path = os.path.join(png_folder, png_file)\n",
    "        \n",
    "        # Call function to extract images from JSON\n",
    "        extract_images_from_json(json_file_path, image_path, output_folder)\n",
    "\n",
    "# Example usage\n",
    "png_folder = \"/Users/fajrzafar/Documents/Semester 8 /FYP 1/Books PNGS/FED3\"  # Update with the path to your folder containing PNG files\n",
    "json_folder = \"/Users/fajrzafar/Documents/Semester 8 /FYP 1/JSON_Files/JSON_FED3\"  # Update with the path to the folder containing JSON files\n",
    "output_folder = \"/Users/fajrzafar/Documents/Semester 8 /FYP 1/Extracted_Images/Images_FED3\"  # Update with the path to the output folder\n",
    "process_folder(png_folder, json_folder, output_folder)\n"
   ]
  },
  {
   "cell_type": "markdown",
   "id": "97c6772c-f09b-4369-9da9-2f94e068bc20",
   "metadata": {},
   "source": [
    "### Image extraction code for Grade 1 federal board book"
   ]
  },
  {
   "cell_type": "code",
   "execution_count": 12,
   "id": "6fcd1483-1aa0-4db6-ac06-0fa48278d15f",
   "metadata": {},
   "outputs": [],
   "source": [
    "import os\n",
    "import cv2\n",
    "import json\n",
    "\n",
    "def extract_images_from_json(json_file_path, image_path, output_folder):\n",
    "    # Load JSON file\n",
    "    with open(json_file_path, 'r') as f:\n",
    "        data = json.load(f)\n",
    "    \n",
    "    # Load the textbook page image\n",
    "    page_image = cv2.imread(image_path)\n",
    "    \n",
    "    # Get the page number from the image file name\n",
    "    page_number = os.path.splitext(os.path.basename(image_path))[0].split('_')[1]\n",
    "    \n",
    "    # Initialize counter for distinguishing between different figures or pictures\n",
    "    counter = 1\n",
    "    \n",
    "    # Extract bounding boxes of pictures and figures\n",
    "    for entry in data[\"page_\" + page_number]:\n",
    "        for bbox in entry['bboxes']:\n",
    "            label = bbox['label']\n",
    "            if label == 'Figure' or label == 'Picture':\n",
    "                x1, y1, x2, y2 = bbox['bbox']\n",
    "                # Extract the image region\n",
    "                image_region = page_image[y1:y2, x1:x2]\n",
    "                # Save the extracted image with a unique filename\n",
    "                output_path = os.path.join(output_folder, f\"{page_number}_{label}_{counter}.jpg\")\n",
    "                cv2.imwrite(output_path, image_region)\n",
    "                # Increment counter for the next image\n",
    "                counter += 1\n",
    "\n",
    "def process_folder(png_folder, json_folder, output_folder):\n",
    "    # List all PNG files in the folder\n",
    "    png_files = [file for file in os.listdir(png_folder) if file.lower().endswith('.png')]\n",
    "    \n",
    "    # Iterate over each PNG file\n",
    "    for png_file in png_files:\n",
    "        # Construct the path to the corresponding JSON file\n",
    "        page_number = os.path.splitext(png_file)[0].split('_')[1]  # Assuming the filename format is \"page_<number>.png\"\n",
    "        json_file_path = os.path.join(json_folder, f\"page_{page_number}\", \"results.json\")\n",
    "        \n",
    "        # Construct the path to the PNG file\n",
    "        image_path = os.path.join(png_folder, png_file)\n",
    "        \n",
    "        # Call function to extract images from JSON\n",
    "        extract_images_from_json(json_file_path, image_path, output_folder)\n",
    "\n",
    "# Example usage\n",
    "png_folder = \"/Users/fajrzafar/Documents/Semester 8 /FYP 1/Books PNGS/FED1\"  # Update with the path to your folder containing PNG files\n",
    "json_folder = \"/Users/fajrzafar/Documents/Semester 8 /FYP 1/JSON_Files/JSON_FED1\"  # Update with the path to the folder containing JSON files\n",
    "output_folder = \"/Users/fajrzafar/Documents/Semester 8 /FYP 1/Extracted_Images/Images_FED1\"  # Update with the path to the output folder\n",
    "process_folder(png_folder, json_folder, output_folder)\n"
   ]
  },
  {
   "cell_type": "markdown",
   "id": "6d47ff26-8bed-462e-8cb0-a9b534bac5eb",
   "metadata": {},
   "source": [
    "### Image extraction code for Grade 1 PTB board book"
   ]
  },
  {
   "cell_type": "code",
   "execution_count": 15,
   "id": "b22790c6-e228-4430-9e4c-1a21fedbb96b",
   "metadata": {},
   "outputs": [],
   "source": [
    "import os\n",
    "import cv2\n",
    "import json\n",
    "\n",
    "def extract_images_from_json(json_file_path, image_path, output_folder):\n",
    "    # Load JSON file\n",
    "    with open(json_file_path, 'r') as f:\n",
    "        data = json.load(f)\n",
    "    \n",
    "    # Load the textbook page image\n",
    "    page_image = cv2.imread(image_path)\n",
    "    \n",
    "    # Get the page number from the image file name\n",
    "    page_number = os.path.splitext(os.path.basename(image_path))[0].split('_')[1]\n",
    "    \n",
    "    # Initialize counter for distinguishing between different figures or pictures\n",
    "    counter = 1\n",
    "    \n",
    "    # Extract bounding boxes of pictures and figures\n",
    "    for entry in data[\"page_\" + page_number]:\n",
    "        for bbox in entry['bboxes']:\n",
    "            label = bbox['label']\n",
    "            if label == 'Figure' or label == 'Picture':\n",
    "                x1, y1, x2, y2 = bbox['bbox']\n",
    "                # Extract the image region\n",
    "                image_region = page_image[y1:y2, x1:x2]\n",
    "                # Save the extracted image with a unique filename\n",
    "                output_path = os.path.join(output_folder, f\"{page_number}_{label}_{counter}.jpg\")\n",
    "                cv2.imwrite(output_path, image_region)\n",
    "                # Increment counter for the next image\n",
    "                counter += 1\n",
    "\n",
    "def process_folder(png_folder, json_folder, output_folder):\n",
    "    # List all PNG files in the folder\n",
    "    png_files = [file for file in os.listdir(png_folder) if file.lower().endswith('.png')]\n",
    "    \n",
    "    # Iterate over each PNG file\n",
    "    for png_file in png_files:\n",
    "        # Construct the path to the corresponding JSON file\n",
    "        page_number = os.path.splitext(png_file)[0].split('_')[1]  # Assuming the filename format is \"page_<number>.png\"\n",
    "        json_file_path = os.path.join(json_folder, f\"page_{page_number}\", \"results.json\")\n",
    "        \n",
    "        # Construct the path to the PNG file\n",
    "        image_path = os.path.join(png_folder, png_file)\n",
    "        \n",
    "        # Call function to extract images from JSON\n",
    "        extract_images_from_json(json_file_path, image_path, output_folder)\n",
    "\n",
    "# Example usage\n",
    "png_folder = \"/Users/fajrzafar/Documents/Semester 8 /FYP 1/Books PNGS/PTB1\"  # Update with the path to your folder containing PNG files\n",
    "json_folder = \"/Users/fajrzafar/Documents/Semester 8 /FYP 1/JSON_Files/JSON_PTB1\"  # Update with the path to the folder containing JSON files\n",
    "output_folder = \"/Users/fajrzafar/Documents/Semester 8 /FYP 1/Extracted_Images/Images_PTB1\"  # Update with the path to the output folder\n",
    "process_folder(png_folder, json_folder, output_folder)\n"
   ]
  },
  {
   "cell_type": "markdown",
   "id": "17dd1078-2c90-414f-a00d-4de31eec5be0",
   "metadata": {},
   "source": [
    "### Image extraction code for Grade 2 PTB board book"
   ]
  },
  {
   "cell_type": "code",
   "execution_count": 17,
   "id": "21597b1a-168a-484d-bab1-4f1cc1c08f5f",
   "metadata": {},
   "outputs": [],
   "source": [
    "import os\n",
    "import cv2\n",
    "import json\n",
    "\n",
    "def extract_images_from_json(json_file_path, image_path, output_folder):\n",
    "    # Load JSON file\n",
    "    with open(json_file_path, 'r') as f:\n",
    "        data = json.load(f)\n",
    "    \n",
    "    # Load the textbook page image\n",
    "    page_image = cv2.imread(image_path)\n",
    "    \n",
    "    # Get the page number from the image file name\n",
    "    page_number = os.path.splitext(os.path.basename(image_path))[0].split('_')[1]\n",
    "    \n",
    "    # Initialize counter for distinguishing between different figures or pictures\n",
    "    counter = 1\n",
    "    \n",
    "    # Extract bounding boxes of pictures and figures\n",
    "    for entry in data[\"page_\" + page_number]:\n",
    "        for bbox in entry['bboxes']:\n",
    "            label = bbox['label']\n",
    "            if label == 'Figure' or label == 'Picture':\n",
    "                x1, y1, x2, y2 = bbox['bbox']\n",
    "                # Extract the image region\n",
    "                image_region = page_image[y1:y2, x1:x2]\n",
    "                # Save the extracted image with a unique filename\n",
    "                output_path = os.path.join(output_folder, f\"{page_number}_{label}_{counter}.jpg\")\n",
    "                cv2.imwrite(output_path, image_region)\n",
    "                # Increment counter for the next image\n",
    "                counter += 1\n",
    "\n",
    "def process_folder(png_folder, json_folder, output_folder):\n",
    "    # List all PNG files in the folder\n",
    "    png_files = [file for file in os.listdir(png_folder) if file.lower().endswith('.png')]\n",
    "    \n",
    "    # Iterate over each PNG file\n",
    "    for png_file in png_files:\n",
    "        # Construct the path to the corresponding JSON file\n",
    "        page_number = os.path.splitext(png_file)[0].split('_')[1]  # Assuming the filename format is \"page_<number>.png\"\n",
    "        json_file_path = os.path.join(json_folder, f\"page_{page_number}\", \"results.json\")\n",
    "        \n",
    "        # Construct the path to the PNG file\n",
    "        image_path = os.path.join(png_folder, png_file)\n",
    "        \n",
    "        # Call function to extract images from JSON\n",
    "        extract_images_from_json(json_file_path, image_path, output_folder)\n",
    "\n",
    "# Example usage\n",
    "png_folder = \"/Users/fajrzafar/Documents/Semester 8 /FYP 1/Books PNGS/PTB2\"  # Update with the path to your folder containing PNG files\n",
    "json_folder = \"/Users/fajrzafar/Documents/Semester 8 /FYP 1/JSON_Files/JSON_PTB2\"  # Update with the path to the folder containing JSON files\n",
    "output_folder = \"/Users/fajrzafar/Documents/Semester 8 /FYP 1/Extracted_Images/Images_PTB2\"  # Update with the path to the output folder\n",
    "process_folder(png_folder, json_folder, output_folder)\n"
   ]
  },
  {
   "cell_type": "markdown",
   "id": "a8b1128f-751f-40cb-b3cb-d26ffe646e40",
   "metadata": {},
   "source": [
    "### Image extraction code for Grade 3 PTB board book"
   ]
  },
  {
   "cell_type": "code",
   "execution_count": 19,
   "id": "b8eb9f51-6c3d-4acc-88d3-cd96c7cfa509",
   "metadata": {},
   "outputs": [],
   "source": [
    "import os\n",
    "import cv2\n",
    "import json\n",
    "\n",
    "def extract_images_from_json(json_file_path, image_path, output_folder):\n",
    "    # Load JSON file\n",
    "    with open(json_file_path, 'r') as f:\n",
    "        data = json.load(f)\n",
    "    \n",
    "    # Load the textbook page image\n",
    "    page_image = cv2.imread(image_path)\n",
    "    \n",
    "    # Get the page number from the image file name\n",
    "    page_number = os.path.splitext(os.path.basename(image_path))[0].split('_')[1]\n",
    "    \n",
    "    # Initialize counter for distinguishing between different figures or pictures\n",
    "    counter = 1\n",
    "    \n",
    "    # Extract bounding boxes of pictures and figures\n",
    "    for entry in data[\"page_\" + page_number]:\n",
    "        for bbox in entry['bboxes']:\n",
    "            label = bbox['label']\n",
    "            if label == 'Figure' or label == 'Picture':\n",
    "                x1, y1, x2, y2 = bbox['bbox']\n",
    "                # Extract the image region\n",
    "                image_region = page_image[y1:y2, x1:x2]\n",
    "                # Save the extracted image with a unique filename\n",
    "                output_path = os.path.join(output_folder, f\"{page_number}_{label}_{counter}.jpg\")\n",
    "                cv2.imwrite(output_path, image_region)\n",
    "                # Increment counter for the next image\n",
    "                counter += 1\n",
    "\n",
    "def process_folder(png_folder, json_folder, output_folder):\n",
    "    # List all PNG files in the folder\n",
    "    png_files = [file for file in os.listdir(png_folder) if file.lower().endswith('.png')]\n",
    "    \n",
    "    # Iterate over each PNG file\n",
    "    for png_file in png_files:\n",
    "        # Construct the path to the corresponding JSON file\n",
    "        page_number = os.path.splitext(png_file)[0].split('_')[1]  # Assuming the filename format is \"page_<number>.png\"\n",
    "        json_file_path = os.path.join(json_folder, f\"page_{page_number}\", \"results.json\")\n",
    "        \n",
    "        # Construct the path to the PNG file\n",
    "        image_path = os.path.join(png_folder, png_file)\n",
    "        \n",
    "        # Call function to extract images from JSON\n",
    "        extract_images_from_json(json_file_path, image_path, output_folder)\n",
    "\n",
    "# Example usage\n",
    "png_folder = \"/Users/fajrzafar/Documents/Semester 8 /FYP 1/Books PNGS/PTB3\"  # Update with the path to your folder containing PNG files\n",
    "json_folder = \"/Users/fajrzafar/Documents/Semester 8 /FYP 1/JSON_Files/JSON_PTB3\"  # Update with the path to the folder containing JSON files\n",
    "output_folder = \"/Users/fajrzafar/Documents/Semester 8 /FYP 1/Extracted_Images/Images_PTB3\"  # Update with the path to the output folder\n",
    "process_folder(png_folder, json_folder, output_folder)\n"
   ]
  },
  {
   "cell_type": "markdown",
   "id": "54604b9a-b23b-4712-9d87-c9f31380f0d5",
   "metadata": {},
   "source": [
    "### Image extraction code for Grade 1 SINDH book"
   ]
  },
  {
   "cell_type": "code",
   "execution_count": 21,
   "id": "37a9ee52-72ff-4f72-b8f4-1c9eaf162c7c",
   "metadata": {},
   "outputs": [],
   "source": [
    "import os\n",
    "import cv2\n",
    "import json\n",
    "\n",
    "def extract_images_from_json(json_file_path, image_path, output_folder):\n",
    "    # Load JSON file\n",
    "    with open(json_file_path, 'r') as f:\n",
    "        data = json.load(f)\n",
    "    \n",
    "    # Load the textbook page image\n",
    "    page_image = cv2.imread(image_path)\n",
    "    \n",
    "    # Get the page number from the image file name\n",
    "    page_number = os.path.splitext(os.path.basename(image_path))[0].split('_')[1]\n",
    "    \n",
    "    # Initialize counter for distinguishing between different figures or pictures\n",
    "    counter = 1\n",
    "    \n",
    "    # Extract bounding boxes of pictures and figures\n",
    "    for entry in data[\"page_\" + page_number]:\n",
    "        for bbox in entry['bboxes']:\n",
    "            label = bbox['label']\n",
    "            if label == 'Figure' or label == 'Picture':\n",
    "                x1, y1, x2, y2 = bbox['bbox']\n",
    "                # Extract the image region\n",
    "                image_region = page_image[y1:y2, x1:x2]\n",
    "                # Save the extracted image with a unique filename\n",
    "                output_path = os.path.join(output_folder, f\"{page_number}_{label}_{counter}.jpg\")\n",
    "                cv2.imwrite(output_path, image_region)\n",
    "                # Increment counter for the next image\n",
    "                counter += 1\n",
    "\n",
    "def process_folder(png_folder, json_folder, output_folder):\n",
    "    # List all PNG files in the folder\n",
    "    png_files = [file for file in os.listdir(png_folder) if file.lower().endswith('.png')]\n",
    "    \n",
    "    # Iterate over each PNG file\n",
    "    for png_file in png_files:\n",
    "        # Construct the path to the corresponding JSON file\n",
    "        page_number = os.path.splitext(png_file)[0].split('_')[1]  # Assuming the filename format is \"page_<number>.png\"\n",
    "        json_file_path = os.path.join(json_folder, f\"page_{page_number}\", \"results.json\")\n",
    "        \n",
    "        # Construct the path to the PNG file\n",
    "        image_path = os.path.join(png_folder, png_file)\n",
    "        \n",
    "        # Call function to extract images from JSON\n",
    "        extract_images_from_json(json_file_path, image_path, output_folder)\n",
    "\n",
    "# Example usage\n",
    "png_folder = \"/Users/fajrzafar/Documents/Semester 8 /FYP 1/Books PNGS/SINDH1\"  # Update with the path to your folder containing PNG files\n",
    "json_folder = \"/Users/fajrzafar/Documents/Semester 8 /FYP 1/JSON_Files/JSON_SINDH1\"  # Update with the path to the folder containing JSON files\n",
    "output_folder = \"/Users/fajrzafar/Documents/Semester 8 /FYP 1/Extracted_Images/Images_SINDH1\"  # Update with the path to the output folder\n",
    "process_folder(png_folder, json_folder, output_folder)\n"
   ]
  },
  {
   "cell_type": "markdown",
   "id": "d3b89cb4-0056-4e63-9a93-426ab588aa2d",
   "metadata": {},
   "source": [
    "### Image extraction code for Grade 2 SINDH board book"
   ]
  },
  {
   "cell_type": "code",
   "execution_count": 23,
   "id": "2b1abc10-3222-45a4-93ef-a9890dfbf9e1",
   "metadata": {},
   "outputs": [],
   "source": [
    "import os\n",
    "import cv2\n",
    "import json\n",
    "\n",
    "def extract_images_from_json(json_file_path, image_path, output_folder):\n",
    "    # Load JSON file\n",
    "    with open(json_file_path, 'r') as f:\n",
    "        data = json.load(f)\n",
    "    \n",
    "    # Load the textbook page image\n",
    "    page_image = cv2.imread(image_path)\n",
    "    \n",
    "    # Get the page number from the image file name\n",
    "    page_number = os.path.splitext(os.path.basename(image_path))[0].split('_')[1]\n",
    "    \n",
    "    # Initialize counter for distinguishing between different figures or pictures\n",
    "    counter = 1\n",
    "    \n",
    "    # Extract bounding boxes of pictures and figures\n",
    "    for entry in data[\"page_\" + page_number]:\n",
    "        for bbox in entry['bboxes']:\n",
    "            label = bbox['label']\n",
    "            if label == 'Figure' or label == 'Picture':\n",
    "                x1, y1, x2, y2 = bbox['bbox']\n",
    "                # Extract the image region\n",
    "                image_region = page_image[y1:y2, x1:x2]\n",
    "                # Save the extracted image with a unique filename\n",
    "                output_path = os.path.join(output_folder, f\"{page_number}_{label}_{counter}.jpg\")\n",
    "                cv2.imwrite(output_path, image_region)\n",
    "                # Increment counter for the next image\n",
    "                counter += 1\n",
    "\n",
    "def process_folder(png_folder, json_folder, output_folder):\n",
    "    # List all PNG files in the folder\n",
    "    png_files = [file for file in os.listdir(png_folder) if file.lower().endswith('.png')]\n",
    "    \n",
    "    # Iterate over each PNG file\n",
    "    for png_file in png_files:\n",
    "        # Construct the path to the corresponding JSON file\n",
    "        page_number = os.path.splitext(png_file)[0].split('_')[1]  # Assuming the filename format is \"page_<number>.png\"\n",
    "        json_file_path = os.path.join(json_folder, f\"page_{page_number}\", \"results.json\")\n",
    "        \n",
    "        # Construct the path to the PNG file\n",
    "        image_path = os.path.join(png_folder, png_file)\n",
    "        \n",
    "        # Call function to extract images from JSON\n",
    "        extract_images_from_json(json_file_path, image_path, output_folder)\n",
    "\n",
    "# Example usage\n",
    "png_folder = \"/Users/fajrzafar/Documents/Semester 8 /FYP 1/Books PNGS/SINDH2\"  # Update with the path to your folder containing PNG files\n",
    "json_folder = \"/Users/fajrzafar/Documents/Semester 8 /FYP 1/JSON_Files/JSON_SINDH2\"  # Update with the path to the folder containing JSON files\n",
    "output_folder = \"/Users/fajrzafar/Documents/Semester 8 /FYP 1/Extracted_Images/Images_SINDH2\"  # Update with the path to the output folder\n",
    "process_folder(png_folder, json_folder, output_folder)\n"
   ]
  },
  {
   "cell_type": "markdown",
   "id": "1a171a7f-434e-4229-bbd0-150fa64a653a",
   "metadata": {},
   "source": [
    "### Image extraction code for Grade 3 SINDH board book"
   ]
  },
  {
   "cell_type": "code",
   "execution_count": 25,
   "id": "1d1625cd-9883-4ee8-afcc-484213978a94",
   "metadata": {},
   "outputs": [],
   "source": [
    "import os\n",
    "import cv2\n",
    "import json\n",
    "\n",
    "def extract_images_from_json(json_file_path, image_path, output_folder):\n",
    "    # Load JSON file\n",
    "    with open(json_file_path, 'r') as f:\n",
    "        data = json.load(f)\n",
    "    \n",
    "    # Load the textbook page image\n",
    "    page_image = cv2.imread(image_path)\n",
    "    \n",
    "    # Get the page number from the image file name\n",
    "    page_number = os.path.splitext(os.path.basename(image_path))[0].split('_')[1]\n",
    "    \n",
    "    # Initialize counter for distinguishing between different figures or pictures\n",
    "    counter = 1\n",
    "    \n",
    "    # Extract bounding boxes of pictures and figures\n",
    "    for entry in data[\"page_\" + page_number]:\n",
    "        for bbox in entry['bboxes']:\n",
    "            label = bbox['label']\n",
    "            if label == 'Figure' or label == 'Picture':\n",
    "                x1, y1, x2, y2 = bbox['bbox']\n",
    "                # Extract the image region\n",
    "                image_region = page_image[y1:y2, x1:x2]\n",
    "                # Save the extracted image with a unique filename\n",
    "                output_path = os.path.join(output_folder, f\"{page_number}_{label}_{counter}.jpg\")\n",
    "                cv2.imwrite(output_path, image_region)\n",
    "                # Increment counter for the next image\n",
    "                counter += 1\n",
    "\n",
    "def process_folder(png_folder, json_folder, output_folder):\n",
    "    # List all PNG files in the folder\n",
    "    png_files = [file for file in os.listdir(png_folder) if file.lower().endswith('.png')]\n",
    "    \n",
    "    # Iterate over each PNG file\n",
    "    for png_file in png_files:\n",
    "        # Construct the path to the corresponding JSON file\n",
    "        page_number = os.path.splitext(png_file)[0].split('_')[1]  # Assuming the filename format is \"page_<number>.png\"\n",
    "        json_file_path = os.path.join(json_folder, f\"page_{page_number}\", \"results.json\")\n",
    "        \n",
    "        # Construct the path to the PNG file\n",
    "        image_path = os.path.join(png_folder, png_file)\n",
    "        \n",
    "        # Call function to extract images from JSON\n",
    "        extract_images_from_json(json_file_path, image_path, output_folder)\n",
    "\n",
    "# Example usage\n",
    "png_folder = \"/Users/fajrzafar/Documents/Semester 8 /FYP 1/Books PNGS/SINDH3\"  # Update with the path to your folder containing PNG files\n",
    "json_folder = \"/Users/fajrzafar/Documents/Semester 8 /FYP 1/JSON_Files/JSON_SINDH3\"  # Update with the path to the folder containing JSON files\n",
    "output_folder = \"/Users/fajrzafar/Documents/Semester 8 /FYP 1/Extracted_Images/Images_SINDH3\"  # Update with the path to the output folder\n",
    "process_folder(png_folder, json_folder, output_folder)\n"
   ]
  },
  {
   "cell_type": "code",
   "execution_count": null,
   "id": "b9e0017d-8819-4eaa-9c40-d7a3ae318d4f",
   "metadata": {},
   "outputs": [],
   "source": []
  },
  {
   "cell_type": "code",
   "execution_count": 2,
   "id": "4f97ca57-37da-4f68-b228-132c037ed0a5",
   "metadata": {},
   "outputs": [],
   "source": [
    "import os\n",
    "import cv2\n",
    "import json\n",
    "\n",
    "def extract_images_from_json(json_file_path, image_path, output_folder):\n",
    "    # Load JSON file\n",
    "    with open(json_file_path, 'r') as f:\n",
    "        data = json.load(f)\n",
    "    \n",
    "    # Load the textbook page image\n",
    "    page_image = cv2.imread(image_path)\n",
    "    \n",
    "    # Get the page number from the image file name\n",
    "    page_number = os.path.splitext(os.path.basename(image_path))[0].split('_')[1]\n",
    "    \n",
    "    # Initialize counter for distinguishing between different figures or pictures\n",
    "    counter = 1\n",
    "    \n",
    "    # Extract bounding boxes of pictures and figures\n",
    "    for entry in data[\"page_\" + page_number]:\n",
    "        for bbox in entry['bboxes']:\n",
    "            label = bbox['label']\n",
    "            if label == 'Figure' or label == 'Picture':\n",
    "                x1, y1, x2, y2 = bbox['bbox']\n",
    "                # Extract the image region\n",
    "                image_region = page_image[y1:y2, x1:x2]\n",
    "                # Save the extracted image with a unique filename\n",
    "                output_path = os.path.join(output_folder, f\"{page_number}_{label}_{counter}.jpg\")\n",
    "                cv2.imwrite(output_path, image_region)\n",
    "                # Increment counter for the next image\n",
    "                counter += 1\n",
    "\n",
    "def process_folder(png_folder, json_folder, output_folder):\n",
    "    # List all PNG files in the folder\n",
    "    png_files = [file for file in os.listdir(png_folder) if file.lower().endswith('.png')]\n",
    "    \n",
    "    # Iterate over each PNG file\n",
    "    for png_file in png_files:\n",
    "        # Construct the path to the corresponding JSON file\n",
    "        page_number = os.path.splitext(png_file)[0].split('_')[1]  # Assuming the filename format is \"page_<number>.png\"\n",
    "        json_file_path = os.path.join(json_folder, f\"page_{page_number}\", \"results.json\")\n",
    "        \n",
    "        # Construct the path to the PNG file\n",
    "        image_path = os.path.join(png_folder, png_file)\n",
    "        \n",
    "        # Call function to extract images from JSON\n",
    "        extract_images_from_json(json_file_path, image_path, output_folder)\n",
    "\n",
    "# Example usage\n",
    "png_folder = \"/Users/fajrzafar/Documents/Semester 8 /FYP 1/Books PNGS/B1\"  # Update with the path to your folder containing PNG files\n",
    "json_folder = \"/Users/fajrzafar/Documents/Semester 8 /FYP 1/JSON_Files/JSON_B1\"  # Update with the path to the folder containing JSON files\n",
    "output_folder = \"/Users/fajrzafar/Documents/Semester 8 /FYP 1/Extracted_Images/Images_B1\"  # Update with the path to the output folder\n",
    "process_folder(png_folder, json_folder, output_folder)\n"
   ]
  },
  {
   "cell_type": "code",
   "execution_count": 4,
   "id": "2a204b9d-c332-4d5c-93cc-6a3600dc39d3",
   "metadata": {},
   "outputs": [],
   "source": [
    "import os\n",
    "import cv2\n",
    "import json\n",
    "\n",
    "def extract_images_from_json(json_file_path, image_path, output_folder):\n",
    "    # Load JSON file\n",
    "    with open(json_file_path, 'r') as f:\n",
    "        data = json.load(f)\n",
    "    \n",
    "    # Load the textbook page image\n",
    "    page_image = cv2.imread(image_path)\n",
    "    \n",
    "    # Get the page number from the image file name\n",
    "    page_number = os.path.splitext(os.path.basename(image_path))[0].split('_')[1]\n",
    "    \n",
    "    # Initialize counter for distinguishing between different figures or pictures\n",
    "    counter = 1\n",
    "    \n",
    "    # Extract bounding boxes of pictures and figures\n",
    "    for entry in data[\"page_\" + page_number]:\n",
    "        for bbox in entry['bboxes']:\n",
    "            label = bbox['label']\n",
    "            if label == 'Figure' or label == 'Picture':\n",
    "                x1, y1, x2, y2 = bbox['bbox']\n",
    "                # Extract the image region\n",
    "                image_region = page_image[y1:y2, x1:x2]\n",
    "                # Save the extracted image with a unique filename\n",
    "                output_path = os.path.join(output_folder, f\"{page_number}_{label}_{counter}.jpg\")\n",
    "                cv2.imwrite(output_path, image_region)\n",
    "                # Increment counter for the next image\n",
    "                counter += 1\n",
    "\n",
    "def process_folder(png_folder, json_folder, output_folder):\n",
    "    # List all PNG files in the folder\n",
    "    png_files = [file for file in os.listdir(png_folder) if file.lower().endswith('.png')]\n",
    "    \n",
    "    # Iterate over each PNG file\n",
    "    for png_file in png_files:\n",
    "        # Construct the path to the corresponding JSON file\n",
    "        page_number = os.path.splitext(png_file)[0].split('_')[1]  # Assuming the filename format is \"page_<number>.png\"\n",
    "        json_file_path = os.path.join(json_folder, f\"page_{page_number}\", \"results.json\")\n",
    "        \n",
    "        # Construct the path to the PNG file\n",
    "        image_path = os.path.join(png_folder, png_file)\n",
    "        \n",
    "        # Call function to extract images from JSON\n",
    "        extract_images_from_json(json_file_path, image_path, output_folder)\n",
    "\n",
    "# Example usage\n",
    "png_folder = \"/Users/fajrzafar/Documents/Semester 8 /FYP 1/Books PNGS/B3\"  # Update with the path to your folder containing PNG files\n",
    "json_folder = \"/Users/fajrzafar/Documents/Semester 8 /FYP 1/JSON_Files/JSON_B3\"  # Update with the path to the folder containing JSON files\n",
    "output_folder = \"/Users/fajrzafar/Documents/Semester 8 /FYP 1/Extracted_Images/Images_B3\"  # Update with the path to the output folder\n",
    "process_folder(png_folder, json_folder, output_folder)\n"
   ]
  },
  {
   "cell_type": "code",
   "execution_count": null,
   "id": "7b00d49f-7d4b-4a85-a663-583a60694134",
   "metadata": {},
   "outputs": [],
   "source": []
  },
  {
   "cell_type": "code",
   "execution_count": 2,
   "id": "0d7fe1e9-0de7-4fc1-ac7c-a3ac0ea3cee6",
   "metadata": {},
   "outputs": [],
   "source": [
    "import os\n",
    "import cv2\n",
    "import json\n",
    "\n",
    "def extract_images_from_json(json_file_path, image_path, output_folder):\n",
    "    # Load JSON file\n",
    "    with open(json_file_path, 'r') as f:\n",
    "        data = json.load(f)\n",
    "    \n",
    "    # Load the textbook page image\n",
    "    page_image = cv2.imread(image_path)\n",
    "    \n",
    "    # Get the page number from the image file name\n",
    "    page_number = os.path.splitext(os.path.basename(image_path))[0].split('_')[1]\n",
    "    \n",
    "    # Initialize counter for distinguishing between different figures or pictures\n",
    "    counter = 1\n",
    "    \n",
    "    # Extract bounding boxes of pictures and figures\n",
    "    for entry in data[\"page_\" + page_number]:\n",
    "        for bbox in entry['bboxes']:\n",
    "            label = bbox['label']\n",
    "            if label == 'Figure' or label == 'Picture':\n",
    "                x1, y1, x2, y2 = bbox['bbox']\n",
    "                # Extract the image region\n",
    "                image_region = page_image[y1:y2, x1:x2]\n",
    "                # Save the extracted image with a unique filename\n",
    "                output_path = os.path.join(output_folder, f\"{page_number}_{label}_{counter}.jpg\")\n",
    "                cv2.imwrite(output_path, image_region)\n",
    "                # Increment counter for the next image\n",
    "                counter += 1\n",
    "\n",
    "def process_folder(png_folder, json_folder, output_folder):\n",
    "    # List all PNG files in the folder\n",
    "    png_files = [file for file in os.listdir(png_folder) if file.lower().endswith('.png')]\n",
    "    \n",
    "    # Iterate over each PNG file\n",
    "    for png_file in png_files:\n",
    "        # Construct the path to the corresponding JSON file\n",
    "        page_number = os.path.splitext(png_file)[0].split('_')[1]  # Assuming the filename format is \"page_<number>.png\"\n",
    "        json_file_path = os.path.join(json_folder, f\"page_{page_number}\", \"results.json\")\n",
    "        \n",
    "        # Construct the path to the PNG file\n",
    "        image_path = os.path.join(png_folder, png_file)\n",
    "        \n",
    "        # Call function to extract images from JSON\n",
    "        extract_images_from_json(json_file_path, image_path, output_folder)\n",
    "\n",
    "# Example usage\n",
    "png_folder = \"/Users/fajrzafar/Documents/Semester 8 /FYP 1/Books PNGS/PTB4\"  # Update with the path to your folder containing PNG files\n",
    "json_folder = \"/Users/fajrzafar/Documents/Semester 8 /FYP 1/JSON_Files/JSON_PTB4\"  # Update with the path to the folder containing JSON files\n",
    "output_folder = \"/Users/fajrzafar/Documents/Semester 8 /FYP 1/Extracted_Images/Images_PTB4\"  # Update with the path to the output folder\n",
    "process_folder(png_folder, json_folder, output_folder)\n"
   ]
  },
  {
   "cell_type": "code",
   "execution_count": 4,
   "id": "3b44a376-a929-40cf-b947-02284442c609",
   "metadata": {},
   "outputs": [],
   "source": [
    "import os\n",
    "import cv2\n",
    "import json\n",
    "\n",
    "def extract_images_from_json(json_file_path, image_path, output_folder):\n",
    "    # Load JSON file\n",
    "    with open(json_file_path, 'r') as f:\n",
    "        data = json.load(f)\n",
    "    \n",
    "    # Load the textbook page image\n",
    "    page_image = cv2.imread(image_path)\n",
    "    \n",
    "    # Get the page number from the image file name\n",
    "    page_number = os.path.splitext(os.path.basename(image_path))[0].split('_')[1]\n",
    "    \n",
    "    # Initialize counter for distinguishing between different figures or pictures\n",
    "    counter = 1\n",
    "    \n",
    "    # Extract bounding boxes of pictures and figures\n",
    "    for entry in data[\"page_\" + page_number]:\n",
    "        for bbox in entry['bboxes']:\n",
    "            label = bbox['label']\n",
    "            if label == 'Figure' or label == 'Picture':\n",
    "                x1, y1, x2, y2 = bbox['bbox']\n",
    "                # Extract the image region\n",
    "                image_region = page_image[y1:y2, x1:x2]\n",
    "                # Save the extracted image with a unique filename\n",
    "                output_path = os.path.join(output_folder, f\"{page_number}_{label}_{counter}.jpg\")\n",
    "                cv2.imwrite(output_path, image_region)\n",
    "                # Increment counter for the next image\n",
    "                counter += 1\n",
    "\n",
    "def process_folder(png_folder, json_folder, output_folder):\n",
    "    # List all PNG files in the folder\n",
    "    png_files = [file for file in os.listdir(png_folder) if file.lower().endswith('.png')]\n",
    "    \n",
    "    # Iterate over each PNG file\n",
    "    for png_file in png_files:\n",
    "        # Construct the path to the corresponding JSON file\n",
    "        page_number = os.path.splitext(png_file)[0].split('_')[1]  # Assuming the filename format is \"page_<number>.png\"\n",
    "        json_file_path = os.path.join(json_folder, f\"page_{page_number}\", \"results.json\")\n",
    "        \n",
    "        # Construct the path to the PNG file\n",
    "        image_path = os.path.join(png_folder, png_file)\n",
    "        \n",
    "        # Call function to extract images from JSON\n",
    "        extract_images_from_json(json_file_path, image_path, output_folder)\n",
    "\n",
    "# Example usage\n",
    "png_folder = \"/Users/fajrzafar/Documents/Semester 8 /FYP 1/Books PNGS/PTB5\"  # Update with the path to your folder containing PNG files\n",
    "json_folder = \"/Users/fajrzafar/Documents/Semester 8 /FYP 1/JSON_Files/JSON_PTB5\"  # Update with the path to the folder containing JSON files\n",
    "output_folder = \"/Users/fajrzafar/Documents/Semester 8 /FYP 1/Extracted_Images/Images_PTB5\"  # Update with the path to the output folder\n",
    "process_folder(png_folder, json_folder, output_folder)\n"
   ]
  },
  {
   "cell_type": "code",
   "execution_count": null,
   "id": "18e53aa7-de0b-4dc8-b2b9-5b967a14262b",
   "metadata": {},
   "outputs": [],
   "source": []
  },
  {
   "cell_type": "code",
   "execution_count": 6,
   "id": "9999aff5-fd22-4a5d-ba3d-da5c7e15836c",
   "metadata": {},
   "outputs": [],
   "source": [
    "import os\n",
    "import cv2\n",
    "import json\n",
    "\n",
    "def extract_images_from_json(json_file_path, image_path, output_folder):\n",
    "    # Load JSON file\n",
    "    with open(json_file_path, 'r') as f:\n",
    "        data = json.load(f)\n",
    "    \n",
    "    # Load the textbook page image\n",
    "    page_image = cv2.imread(image_path)\n",
    "    \n",
    "    # Get the page number from the image file name\n",
    "    page_number = os.path.splitext(os.path.basename(image_path))[0].split('_')[1]\n",
    "    \n",
    "    # Initialize counter for distinguishing between different figures or pictures\n",
    "    counter = 1\n",
    "    \n",
    "    # Extract bounding boxes of pictures and figures\n",
    "    for entry in data[\"page_\" + page_number]:\n",
    "        for bbox in entry['bboxes']:\n",
    "            label = bbox['label']\n",
    "            if label == 'Figure' or label == 'Picture':\n",
    "                x1, y1, x2, y2 = bbox['bbox']\n",
    "                # Extract the image region\n",
    "                image_region = page_image[y1:y2, x1:x2]\n",
    "                # Save the extracted image with a unique filename\n",
    "                output_path = os.path.join(output_folder, f\"{page_number}_{label}_{counter}.jpg\")\n",
    "                cv2.imwrite(output_path, image_region)\n",
    "                # Increment counter for the next image\n",
    "                counter += 1\n",
    "\n",
    "def process_folder(png_folder, json_folder, output_folder):\n",
    "    # List all PNG files in the folder\n",
    "    png_files = [file for file in os.listdir(png_folder) if file.lower().endswith('.png')]\n",
    "    \n",
    "    # Iterate over each PNG file\n",
    "    for png_file in png_files:\n",
    "        # Construct the path to the corresponding JSON file\n",
    "        page_number = os.path.splitext(png_file)[0].split('_')[1]  # Assuming the filename format is \"page_<number>.png\"\n",
    "        json_file_path = os.path.join(json_folder, f\"page_{page_number}\", \"results.json\")\n",
    "        \n",
    "        # Construct the path to the PNG file\n",
    "        image_path = os.path.join(png_folder, png_file)\n",
    "        \n",
    "        # Call function to extract images from JSON\n",
    "        extract_images_from_json(json_file_path, image_path, output_folder)\n",
    "\n",
    "# Example usage\n",
    "png_folder = \"/Users/fajrzafar/Documents/Semester 8 /FYP 1/Books PNGS/PrimerBook\"  # Update with the path to your folder containing PNG files\n",
    "json_folder = \"/Users/fajrzafar/Documents/Semester 8 /FYP 1/JSON_Files/JSON_PRIMERBOOK\"  # Update with the path to the folder containing JSON files\n",
    "output_folder = \"/Users/fajrzafar/Documents/Semester 8 /FYP 1/Extracted_Images/Images_PRIMERBOOK\"  # Update with the path to the output folder\n",
    "process_folder(png_folder, json_folder, output_folder)\n"
   ]
  },
  {
   "cell_type": "code",
   "execution_count": null,
   "id": "799ffc53-7ff0-4cff-a4b5-6ae17a0b0e58",
   "metadata": {},
   "outputs": [],
   "source": []
  }
 ],
 "metadata": {
  "kernelspec": {
   "display_name": "Python 3 (ipykernel)",
   "language": "python",
   "name": "python3"
  },
  "language_info": {
   "codemirror_mode": {
    "name": "ipython",
    "version": 3
   },
   "file_extension": ".py",
   "mimetype": "text/x-python",
   "name": "python",
   "nbconvert_exporter": "python",
   "pygments_lexer": "ipython3",
   "version": "3.11.6"
  }
 },
 "nbformat": 4,
 "nbformat_minor": 5
}
